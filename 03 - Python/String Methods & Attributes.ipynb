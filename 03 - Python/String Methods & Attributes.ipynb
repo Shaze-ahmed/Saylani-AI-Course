{
 "cells": [
  {
   "cell_type": "code",
   "execution_count": 1,
   "id": "3226012f",
   "metadata": {},
   "outputs": [
    {
     "name": "stdout",
     "output_type": "stream",
     "text": [
      "Help on built-in function count:\n",
      "\n",
      "count(...) method of builtins.str instance\n",
      "    S.count(sub[, start[, end]]) -> int\n",
      "    \n",
      "    Return the number of non-overlapping occurrences of substring sub in\n",
      "    string S[start:end].  Optional arguments start and end are\n",
      "    interpreted as in slice notation.\n",
      "\n"
     ]
    }
   ],
   "source": [
    "name = \"Shahzad Ahmed\"\n",
    "help(name.count)"
   ]
  },
  {
   "cell_type": "code",
   "execution_count": 14,
   "id": "fd2c1f31",
   "metadata": {},
   "outputs": [
    {
     "name": "stdout",
     "output_type": "stream",
     "text": [
      "\n",
      "Saylani mass IT traing program\n",
      "Course : Saylani Ai batch-2\n",
      "Name : JohnDoe \n",
      "FatherName : Obama\n",
      "RollNumber : 45678 batch : 2\n",
      "\n"
     ]
    }
   ],
   "source": [
    "name = 'JohnDoe' \n",
    "father_name = 'Obama'\n",
    "roll_number = 45678\n",
    "\n",
    "detail = f\"\"\"\n",
    "Saylani mass IT traing program\n",
    "Course : Saylani Ai batch-2\n",
    "Name : {name} \n",
    "FatherName : {father_name}\n",
    "RollNumber : {roll_number} batch : 2\n",
    "\"\"\"\n",
    "print(detail)"
   ]
  },
  {
   "cell_type": "code",
   "execution_count": 39,
   "id": "ce215b90",
   "metadata": {},
   "outputs": [
    {
     "name": "stdout",
     "output_type": "stream",
     "text": [
      "SHAHZAD AHMED   \n",
      "shahzad ahmed   \n",
      "Shahzad Ahmed   \n",
      "shahzad ahmed   \n",
      "Shahzad ahmed   \n",
      "16\n",
      "13\n"
     ]
    }
   ],
   "source": [
    "#changing String Cases\n",
    "ename = \"Shahzad Ahmed   \"\n",
    "print(ename.upper())\n",
    "print(ename.lower())\n",
    "print(ename.title()\n",
    "print(ename.casefold())\n",
    "print(ename.capitalize())\n",
    "\n",
    "#Avioding Extra Spaces\n",
    "print(len(ename))\n",
    "print(len(ename.rstrip()))\n"
   ]
  },
  {
   "cell_type": "code",
   "execution_count": 61,
   "id": "5e62c084",
   "metadata": {},
   "outputs": [
    {
     "data": {
      "text/plain": [
       "2"
      ]
     },
     "execution_count": 61,
     "metadata": {},
     "output_type": "execute_result"
    }
   ],
   "source": [
    "ename.casefold().count('ah')  # Count words in String\n"
   ]
  },
  {
   "cell_type": "code",
   "execution_count": 27,
   "id": "60c4b59e",
   "metadata": {},
   "outputs": [
    {
     "name": "stdout",
     "output_type": "stream",
     "text": [
      " Aasalam O Alakum and welcome to AI Course.\n"
     ]
    }
   ],
   "source": [
    "txt = \" hello and welcome to AI Course.\"\n",
    "x = txt.capitalize() # Converts the first character to upper case\n",
    "x = txt.casefold() # Coverts string into lower case\n",
    "x = txt.center(50) # Returns a centered string\n",
    "x = txt.count(\"l\") # Returns the number of times a specified value occurs in a string\n",
    "x = txt.startswith(\"Hello\") # Returns true if the string starts with the specified value\n",
    "x = txt.encode() # Returns an encoded version of the string\n",
    "x = txt.endswith(\".\") # Returns true if the string ends with the specified value\n",
    "x = txt.expandtabs(10) # Sets the tab size of the string \\t is mandatory on text\n",
    "x = txt.find(\"welcome\") # Searches the string for a specified value and returns the position of where it was found\n",
    "# ftxt = \"For only {price:.2f} dollars!\" print(ftxt.format(price = 49)) # Formats specified values in a string\n",
    "x = txt.index(\"me\") #Searches the string for a specified value and returns the position of where it was found\n",
    "x = txt.isalnum() # Returns True if all characters in the string are alphanumeric checking (space)!#%&? etc.\n",
    "x = txt.isalpha() # Returns True if all characters in the string are in the alphabet\n",
    "x = txt.isascii() # Returns True if all characters in the string are ascii characters\n",
    "x = txt.isdecimal() # Returns True if all characters in the string are decimals\n",
    "x = txt.isdigit() #Returns True if all characters in the string are digits\n",
    "x = txt.isidentifier() # Returns True if the string is an identifier\n",
    "x = txt.islower() # Returns True if all characters in the string are lower case\n",
    "x = txt.isnumeric() # Returns True if all characters in the string are numeric - or . is not numeric\n",
    "x = txt.isprintable() # Returns True if all characters in the string are printable \\t or \\n is not a printable\n",
    "x = txt.isspace() # Returns True if all characters in the string are whitespaces \n",
    "x = txt.istitle() # Returns True if all words in a text start with a upper case letter, AND the rest of the word are lower case letters\n",
    "x = txt.isupper() # Returns True if all characters in the string are upper case Numbers, symbols and spaces are not checked, only alphabet characters.\n",
    "myTuple = (\"John\", \"Peter\", \"Vicky\")\n",
    "y = \" # \".join(myTuple) # method takes all items in an iterable and joins them into one string.\n",
    "z = \"Mango and Orange\"\n",
    "z = z.ljust(20) # Returns a left justified version of the string\n",
    "z = z.rjust(20, \"O\") #Returns a right justified version of the string\n",
    "# print(z, \"is my favorite fruit.\")\n",
    "x = txt.lower() # Converts a string into lower case\n",
    "x = txt.lstrip() # Returns a left trim version of the string method removes any leading characters (space is the default leading character to remove)\n",
    "x = txt.strip(\",.grta\") # Returns a trimmed version of the string\n",
    "x = txt.partition(\"bananas\") # Returns a tuple where the string is parted into three parts method searches for a specified string, and splits the string into a tuple containing three elements.\n",
    "x = txt.rpartition(\"apples\") # Returns a tuple where the string is parted into three parts method searches for a specified string, and splits the string into a tuple containing three elements.\n",
    "x = txt.replace(\"hello\", \"Aasalam O Alakum\", 1) # Returns a string where a specified value is replaced with a specified value\n",
    "x = txt.rfind(\"e\", 5, 10) # Searches the string for a specified value and returns the last position of where it was found! method returns -1 if the value is not found.\n",
    "x = txt.rindex(\"casa\") # Searches the string for a specified value and returns the last position of where it was found! method raises an exception if the value is not found\n",
    "x = txt.rsplit(\", \", 1) # Splits the string at the specified separator, and returns a list\n",
    "x = txt.split(\", \", 1) # Splits the string at the specified separator, and returns a list\n",
    "x = txt.splitlines() # Splits the string at line breaks and returns a list \\n\n",
    "x = txt.swapcase() # Swaps cases, lower case becomes upper case and vice versa\n",
    "x = txt.title() # Converts the first character of each word to upper case txt = \"hello b2b2b2 and 3g3g3g\" Hello B2B2B2 And 3G3G3G\n",
    "x = txt.upper() # Converts a string into upper case\n",
    "x = txt.zfill(10) # Fills the string with a specified number of 0 values at the beginning If the value of the len parameter is less than the length of the string, no filling is done.\n",
    "\n",
    "txt = \"Hello Sam!\"\n",
    "mytable = txt.maketrans(\"S\", \"P\")\n",
    "print(txt.translate(mytable))  # Returns a translated string\n",
    "\n",
    "txt = \"Good night Sam!\"\n",
    "x = \"mSa\"\n",
    "y = \"eJo\"\n",
    "z = \"odnght\"\n",
    "mytable = txt.maketrans(x, y, z) # Returns a translation table to be used in translations\n",
    "print(txt.translate(mytable))\n",
    "print (x)"
   ]
  }
 ],
 "metadata": {
  "kernelspec": {
   "display_name": "Python 3 (ipykernel)",
   "language": "python",
   "name": "python3"
  },
  "language_info": {
   "codemirror_mode": {
    "name": "ipython",
    "version": 3
   },
   "file_extension": ".py",
   "mimetype": "text/x-python",
   "name": "python",
   "nbconvert_exporter": "python",
   "pygments_lexer": "ipython3",
   "version": "3.9.12"
  }
 },
 "nbformat": 4,
 "nbformat_minor": 5
}
