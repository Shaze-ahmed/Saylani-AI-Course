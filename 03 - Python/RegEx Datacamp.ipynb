{
 "cells": [
  {
   "cell_type": "code",
   "execution_count": 5,
   "id": "0e978a2e",
   "metadata": {},
   "outputs": [
    {
     "name": "stdout",
     "output_type": "stream",
     "text": [
      "Number of characters in this review: 135\n"
     ]
    }
   ],
   "source": [
    "# First Day -- Chapter 1\n",
    "movie = \"fox and kelley soon become bitter rivals because the new fox books store is opening up right across the block from the small business .\"\n",
    "# Find characters in movie variable\n",
    "length_string = len(movie)\n",
    "\n",
    "# Convert to string\n",
    "to_string = str(length_string)\n",
    "\n",
    "# Predefined variable\n",
    "statement = \"Number of characters in this review:\"\n",
    "\n",
    "# Concatenate strings and print result\n",
    "print(statement+ \" \" +to_string)"
   ]
  },
  {
   "cell_type": "code",
   "execution_count": 7,
   "id": "6091ad10",
   "metadata": {},
   "outputs": [
    {
     "name": "stdout",
     "output_type": "stream",
     "text": [
      "the most significant tension of _rushmore_ is the potential relationship between a teacher and his student .\n"
     ]
    }
   ],
   "source": [
    "# Artificial reviews  -- Chapter 1\n",
    "movie1=\"the most significant tension of _election_ is the potential relationship between a teacher and his student .\"\n",
    "movie2=\"the most significant tension of _rushmore_ is the potential relationship between a teacher and his student .\"\n",
    "\n",
    "# Select the first 32 characters of movie1\n",
    "first_part = movie1[:32]\n",
    "\n",
    "# Select from 43rd character to the end of movie1\n",
    "last_part = movie1[42:]\n",
    "\n",
    "# Select from 33rd to the 42nd character\n",
    "middle_part = movie2[32:42]\n",
    "\n",
    "# Print concatenation and movie2 variable\n",
    "print(first_part+middle_part+last_part) "
   ]
  },
  {
   "cell_type": "code",
   "execution_count": 12,
   "id": "ad431e47",
   "metadata": {},
   "outputs": [
    {
     "name": "stdout",
     "output_type": "stream",
     "text": [
      "desserts I stressed\n"
     ]
    }
   ],
   "source": [
    "# Palindromes  -- Chapter 1\n",
    "movie = \"oh my God! desserts I stressed was an ugly movie\"\n",
    "\n",
    "# Get the word\n",
    "movie_title = movie[11:30]\n",
    "\n",
    "# Obtain the palindrome\n",
    "palindrome = movie_title[::-1]\n",
    "\n",
    "# Print the word if it's a palindrome\n",
    "if movie_title == palindrome:\n",
    "\tprint(movie_title)"
   ]
  },
  {
   "cell_type": "code",
   "execution_count": 10,
   "id": "6a4aa6c1",
   "metadata": {},
   "outputs": [
    {
     "name": "stdout",
     "output_type": "stream",
     "text": [
      "$i supposed that coming from mtv films i should expect no less$\n",
      "i supposed that coming from mtv films i should expect no less\n",
      "['i', 'supposed', 'that', 'coming', 'from', 'mtv', 'films', 'i', 'should', 'expect', 'no', 'less']\n",
      "p\n"
     ]
    }
   ],
   "source": [
    "# Normalizing reviews  -- Chapter 1\n",
    "movie=\"$I supposed that coming from MTV Films I should expect no less$\"\n",
    "\n",
    "# Convert to lowercase and print the result\n",
    "movie_lower = movie.lower()\n",
    "print(movie_lower)\n",
    "\n",
    "# Remove specified character and print the result\n",
    "movie_no_sign = movie_lower.strip(\"$\")\n",
    "print(movie_no_sign)\n",
    "\n",
    "# Split the string into substrings and print the result\n",
    "movie_split = movie_no_sign.split()\n",
    "print(movie_split)\n",
    "\n",
    "# Select root word and print the result\n",
    "word_root = movie_split[1][2]\n",
    "print(word_root)"
   ]
  },
  {
   "cell_type": "code",
   "execution_count": 14,
   "id": "13b3647b",
   "metadata": {},
   "outputs": [
    {
     "name": "stdout",
     "output_type": "stream",
     "text": [
      "the film,however,is all good\n",
      "['the film', 'however', 'is all good']\n",
      "the film however is all good\n"
     ]
    }
   ],
   "source": [
    "# Time to Join -- Chapter 1\n",
    "movie=\"the film,however,is all good<\\i>\"\n",
    "\n",
    "# Remove tags happening at the end and print results\n",
    "movie_tag = movie.rstrip(\"<\\i>\")\n",
    "print(movie_tag)\n",
    "\n",
    "# Split the string using commas and print results\n",
    "movie_no_comma = movie_tag.split(\",\")\n",
    "print(movie_no_comma)\n",
    "\n",
    "# Join back together and print results\n",
    "movie_join = ' '.join(movie_no_comma)\n",
    "print(movie_join)"
   ]
  },
  {
   "cell_type": "code",
   "execution_count": 17,
   "id": "a6071872",
   "metadata": {},
   "outputs": [
    {
     "name": "stdout",
     "output_type": "stream",
     "text": [
      "['mtv films election, a high school comedy, is a current example from there, director steven spielberg wastes no time, taking us into the water on a midnight swim']\n",
      "['mtv films election', ' a high school comedy', ' is a current example from there', ' director steven spielberg wastes no time', ' taking us into the water on a midnight swim']\n"
     ]
    }
   ],
   "source": [
    "# Split lines or split the line? -- Chapter 1\n",
    "file = '''mtv films election, a high school comedy, is a current example from there, director steven spielberg wastes no time, taking us into the water on a midnight swim'''\n",
    "\n",
    "# Split string at line boundaries\n",
    "file_split = file.splitlines()\n",
    "\n",
    "# Print file_split\n",
    "print(file_split)\n",
    "\n",
    "# Complete for-loop to split by commas\n",
    "for substring in file_split:\n",
    "    substring_split = substring.split(',')\n",
    "    print(substring_split)"
   ]
  },
  {
   "cell_type": "code",
   "execution_count": 20,
   "id": "8f27fe57",
   "metadata": {},
   "outputs": [
    {
     "name": "stdout",
     "output_type": "stream",
     "text": [
      "The tool computer science is used in artificial intelligence\n",
      "The tool artificial intelligence is used in computer science\n"
     ]
    }
   ],
   "source": [
    "# Put it in order! -- Chapter 2\n",
    "wikipedia_article = \"In computer science, artificial intelligence (AI), sometimes called machine intelligence, is intelligence demonstrated by machines, in contrast to the natural intelligence displayed by humans and animals.\"\n",
    "my_list = []\n",
    "# Assign the substrings to the variables\n",
    "first_pos = wikipedia_article[3:19].lower()\n",
    "second_pos = wikipedia_article[21:44].lower()\n",
    "\n",
    "# Define string with placeholders \n",
    "my_list.append(\"The tool {} is used in {}\")\n",
    "\n",
    "# Define string with rearranged placeholders\n",
    "my_list.append(\"The tool {1} is used in {0}\")\n",
    "\n",
    "# Use format to print strings\n",
    "for my_string in my_list:\n",
    "  \tprint(my_string.format(first_pos, second_pos))"
   ]
  },
  {
   "cell_type": "code",
   "execution_count": 22,
   "id": "1672b43a",
   "metadata": {},
   "outputs": [
    {
     "name": "stdout",
     "output_type": "stream",
     "text": [
      "If you are interested in artificial intelligence, you can take the course related to neural networks\n"
     ]
    }
   ],
   "source": [
    "# Calling by its name\n",
    "courses = ['artificial intelligence', 'neural networks']\n",
    "# Create a dictionary\n",
    "plan = {\n",
    "        \"field\": courses[0],\n",
    "        \"tool\": courses[1]\n",
    "        }\n",
    "\n",
    "# Complete the placeholders accessing elements of field and tool keys in the data dictionary\n",
    "my_message = \"If you are interested in {data[field]}, you can take the course related to {data[tool]}\"\n",
    "\n",
    "# Use the plan dictionary to replace placeholders\n",
    "print(my_message.format(data=plan))"
   ]
  },
  {
   "cell_type": "code",
   "execution_count": 23,
   "id": "c1356387",
   "metadata": {},
   "outputs": [
    {
     "name": "stdout",
     "output_type": "stream",
     "text": [
      "Good morning. Today is July 29, 2022. It's 00:30 ... time to work!\n"
     ]
    }
   ],
   "source": [
    "# Import datetime \n",
    "from datetime import datetime \n",
    "\n",
    "# Assign date to get_date\n",
    "get_date = datetime.now()\n",
    "\n",
    "# Add named placeholders with format specifiers\n",
    "message = \"Good morning. Today is {today:%B %d, %Y}. It's {today:%H:%M} ... time to work!\"\n",
    "\n",
    "# Use the format method replacing the placeholder with get_date\n",
    "print(message.format(today=get_date))"
   ]
  },
  {
   "cell_type": "code",
   "execution_count": 24,
   "id": "86b6ffc9",
   "metadata": {},
   "outputs": [
    {
     "ename": "NameError",
     "evalue": "name 'field1' is not defined",
     "output_type": "error",
     "traceback": [
      "\u001b[1;31m---------------------------------------------------------------------------\u001b[0m",
      "\u001b[1;31mNameError\u001b[0m                                 Traceback (most recent call last)",
      "Input \u001b[1;32mIn [24]\u001b[0m, in \u001b[0;36m<cell line: 2>\u001b[1;34m()\u001b[0m\n\u001b[0;32m      1\u001b[0m \u001b[38;5;66;03m#Literally formatting\u001b[39;00m\n\u001b[1;32m----> 2\u001b[0m \u001b[38;5;28mprint\u001b[39m(\u001b[38;5;124mf\u001b[39m\u001b[38;5;124m\"\u001b[39m\u001b[38;5;124mData science is considered \u001b[39m\u001b[38;5;132;01m{\u001b[39;00mfield1\u001b[38;5;132;01m!r}\u001b[39;00m\u001b[38;5;124m in the \u001b[39m\u001b[38;5;132;01m{\u001b[39;00mfact1\u001b[38;5;132;01m}\u001b[39;00m\u001b[38;5;124mst century\u001b[39m\u001b[38;5;124m\"\u001b[39m)\n\u001b[0;32m      3\u001b[0m \u001b[38;5;66;03m# Complete the f-string\u001b[39;00m\n\u001b[0;32m      4\u001b[0m \u001b[38;5;28mprint\u001b[39m(\u001b[38;5;124mf\u001b[39m\u001b[38;5;124m\"\u001b[39m\u001b[38;5;124mAbout \u001b[39m\u001b[38;5;132;01m{\u001b[39;00mfact2\u001b[38;5;132;01m:\u001b[39;00m\u001b[38;5;124me\u001b[39m\u001b[38;5;132;01m}\u001b[39;00m\u001b[38;5;124m of \u001b[39m\u001b[38;5;132;01m{\u001b[39;00mfield2\u001b[38;5;132;01m}\u001b[39;00m\u001b[38;5;124m in the world\u001b[39m\u001b[38;5;124m\"\u001b[39m)\n",
      "\u001b[1;31mNameError\u001b[0m: name 'field1' is not defined"
     ]
    }
   ],
   "source": [
    "#Literally formatting\n",
    "print(f\"Data science is considered {field1!r} in the {fact1}st century\")\n",
    "# Complete the f-string\n",
    "print(f\"About {fact2:e} of {field2} in the world\")\n",
    "print(f\"{field3} create around {fact3:.2f}% of the data but only {fact4:.1f}% is analyzed\")"
   ]
  },
  {
   "cell_type": "code",
   "execution_count": 27,
   "id": "aacc6821",
   "metadata": {},
   "outputs": [
    {
     "name": "stdout",
     "output_type": "stream",
     "text": [
      "Natural Language Toolkit is a description1\n",
      "TextBlob is a description2\n",
      "Gensim is a description3\n"
     ]
    }
   ],
   "source": [
    "# Preparing a report\n",
    "tool1, tool2, tool3 = (\"Natural Language Toolkit\",\"TextBlob\",\"Gensim\")\n",
    "desc1, desc2, desc3 = (\"description1\",\"description2\",\"description3\")\n",
    "# Import Template\n",
    "from string import Template\n",
    "\n",
    "# Create a template\n",
    "wikipedia = Template(\"$tool is a $description\")\n",
    "\n",
    "# Substitute variables in template\n",
    "print(wikipedia.substitute(tool=tool1, description=desc1))\n",
    "print(wikipedia.substitute(tool=tool2, description=desc2))\n",
    "print(wikipedia.substitute(tool=tool3, description=desc3))"
   ]
  },
  {
   "cell_type": "code",
   "execution_count": 29,
   "id": "2109215a",
   "metadata": {},
   "outputs": [
    {
     "name": "stdout",
     "output_type": "stream",
     "text": [
      "['@robot9!', '@robot4&', '@robot9$', '@robot7%']\n",
      "@robot9! @robot4& I have a good feeling that the show isgoing to be amazing! @robot9$ @robot7%\n"
     ]
    }
   ],
   "source": [
    "# \\d: digit\n",
    "# \\w: word character\n",
    "# \\W: non-word character\n",
    "# \\s: whitespace\n",
    "sentiment_analysis = \"@robot9! @robot4& I have a good feeling that the show isgoing to be amazing! @robot9$ @robot7%\"\n",
    "# Import the re module\n",
    "import re\n",
    "\n",
    "# Write the regex\n",
    "regex = r\"@robot\\d\\W\"\n",
    "\n",
    "# Find all matches of regex\n",
    "print(re.findall(regex, sentiment_analysis))\n",
    "\n",
    "print(sentiment_analysis)"
   ]
  },
  {
   "cell_type": "code",
   "execution_count": 31,
   "id": "be9488bb",
   "metadata": {},
   "outputs": [
    {
     "name": "stdout",
     "output_type": "stream",
     "text": [
      "['User_mentions:2']\n",
      "['likes: 9']\n",
      "['number of retweets: 7']\n"
     ]
    }
   ],
   "source": [
    "sentiment_analysis=\"Unfortunately one of those moments wasn't a giant squid monster. User_mentions:2, likes: 9, number of retweets: 7\"\n",
    "# Write a regex to obtain user mentions\n",
    "print(re.findall(r\"User_mentions:\\d\", sentiment_analysis))\n",
    "print(re.findall(r\"likes:\\s\\d\", sentiment_analysis))\n",
    "print(re.findall(r\"number\\sof\\sretweets:\\s\\d\", sentiment_analysis))"
   ]
  },
  {
   "cell_type": "code",
   "execution_count": 34,
   "id": "c338c1e3",
   "metadata": {},
   "outputs": [
    {
     "name": "stdout",
     "output_type": "stream",
     "text": [
      "He#newHis%newTin love with$newPscrappy. #8break%He is&newYmissing him@newLalready\n",
      "He#newHis%newTin love with$newPscrappy.  He is&newYmissing him@newLalready\n",
      "He is in love with scrappy.  He is missing him already\n"
     ]
    }
   ],
   "source": [
    "sentiment_analysis = \"He#newHis%newTin love with$newPscrappy. #8break%He is&newYmissing him@newLalready\"\n",
    "# Write a regex to match pattern separating sentences\n",
    "regex_sentence = r\"\\W\\dbreak\\W\"\n",
    "print(sentiment_analysis)\n",
    "# Replace the regex_sentence with a space\n",
    "sentiment_sub = re.sub(regex_sentence, \" \", sentiment_analysis)\n",
    "print(sentiment_sub)\n",
    "# Write a regex to match pattern separating words\n",
    "regex_words = r\"\\Wnew\\w\"\n",
    "\n",
    "# Replace the regex_words and print the result\n",
    "sentiment_final = re.sub(regex_words, \" \", sentiment_sub)\n",
    "print(sentiment_final)"
   ]
  },
  {
   "cell_type": "code",
   "execution_count": null,
   "id": "ce81b9ec",
   "metadata": {},
   "outputs": [],
   "source": [
    "# Complete the for loop with a regex to find dates\n",
    "for date in sentiment_analysis:\n",
    "    print(re.findall(r\"\\d{1,2}\\w+\\s\\w+\\s\\d{4}\\s\\d{1,2}:\\d{2}\", date))"
   ]
  },
  {
   "cell_type": "code",
   "execution_count": 36,
   "id": "1757a085",
   "metadata": {},
   "outputs": [
    {
     "name": "stdout",
     "output_type": "stream",
     "text": [
      "ITS NOT ENOUGH TO SAY THAT IMISS U    \n",
      "['ITS', 'NOT', 'ENOUGH', 'TO', 'SAY', 'THAT', 'IMISS', 'U', '']\n"
     ]
    }
   ],
   "source": [
    "sentiment_analysis= \"ITS NOT ENOUGH TO SAY THAT IMISS U #MissYou #SoMuch #Friendship #Forever\"\n",
    "# Write a regex matching the hashtag pattern\n",
    "regex = r\"#\\w+\"\n",
    "\n",
    "# Replace the regex by an empty string\n",
    "no_hashtag = re.sub(regex, \"\", sentiment_analysis)\n",
    "print(no_hashtag)\n",
    "# Get tokens by splitting text\n",
    "print(re.split(r\"\\s+\", no_hashtag))"
   ]
  },
  {
   "cell_type": "code",
   "execution_count": 38,
   "id": "ea4ee29f",
   "metadata": {},
   "outputs": [
    {
     "name": "stdout",
     "output_type": "stream",
     "text": [
      "The email n.john.smith@gmail.com is a valid email\n",
      "The email 87victory@hotmail.com is a valid email\n",
      "The email !#mary-=@msca.net is invalid\n"
     ]
    }
   ],
   "source": [
    "emails = ['n.john.smith@gmail.com', '87victory@hotmail.com', '!#mary-=@msca.net']\n",
    "# Write a regex to match a valid email address\n",
    "regex = r\"^[a-zA-Z0-9!#%&*$.]+@\\w+\\.com\"\n",
    "\n",
    "for example in emails:\n",
    "      # Match the regex to the string\n",
    "    if re.match(regex, example):\n",
    "        # Complete the format method to print out the result\n",
    "        print(\"The email {email_example} is a valid email\".format(email_example=example))\n",
    "    else:\n",
    "       print(\"The email {email_example} is invalid\".format(email_example=example)) "
   ]
  },
  {
   "cell_type": "code",
   "execution_count": 41,
   "id": "0dc92c8a",
   "metadata": {},
   "outputs": [
    {
     "name": "stdout",
     "output_type": "stream",
     "text": [
      "The password Apple34!rose is a valid password\n",
      "The password My87hou#4$ is a valid password\n",
      "The password abc123 is invalid\n"
     ]
    }
   ],
   "source": [
    "passwords = ['Apple34!rose', 'My87hou#4$', 'abc123']\n",
    "# Write a regex to check if the password is valid\n",
    "regex = r\"[a-zA-Z0-9*#$%!&.]{8,20}\"\n",
    "\n",
    "for example in passwords:\n",
    "    # Scan the strings to find a match\n",
    "    if re.match(regex, example):\n",
    "        # Complete the format method to print out the result\n",
    "        print(\"The password {pass_example} is a valid password\".format(pass_example=example))\n",
    "    else:\n",
    "        print(\"The password {pass_example} is invalid\".format(pass_example=example))"
   ]
  },
  {
   "cell_type": "code",
   "execution_count": 42,
   "id": "2c194fe0",
   "metadata": {},
   "outputs": [
    {
     "name": "stdout",
     "output_type": "stream",
     "text": [
      "I want to see that amazing show again!\n",
      "I want to see that amazing show again!\n"
     ]
    }
   ],
   "source": [
    "string = '''I want to see that amazing show again!\n",
    "I want to see that <strong>amazing show</strong> again!'''\n",
    "# Import re\n",
    "import re\n",
    "\n",
    "# Write a regex to eliminate tags\n",
    "string_notags = re.sub(r\"<.+?>\", \"\", string)\n",
    "\n",
    "# Print out the result\n",
    "print(string_notags)"
   ]
  },
  {
   "cell_type": "code",
   "execution_count": 45,
   "id": "1cae6ed5",
   "metadata": {},
   "outputs": [
    {
     "name": "stdout",
     "output_type": "stream",
     "text": [
      "Was intending to finish editing my 536-page novel manuscript tonight, but that will probably not happen. And only 12 pages are left \n",
      "['5', '3', '6', '1', '2']\n",
      "['536', '12']\n"
     ]
    }
   ],
   "source": [
    "Greedy= \"Was intending to finish editing my 536-page novel manuscript tonight, but that will probably not happen. And only 12 pages are left \"\n",
    "print(Greedy)\n",
    "# Write a lazy regex expression \n",
    "Greedy_match = re.findall(r\"[0-9]+?\", Greedy)\n",
    "\n",
    "# Print out the result\n",
    "print(Greedy_match)\n",
    "\n",
    "# Write a greedy regex expression \n",
    "numbers_found_greedy = re.findall(r\"[0-9]+\", Greedy)\n",
    "\n",
    "# Print out the result\n",
    "print(numbers_found_greedy)"
   ]
  },
  {
   "cell_type": "code",
   "execution_count": 47,
   "id": "4d94c05a",
   "metadata": {},
   "outputs": [
    {
     "name": "stdout",
     "output_type": "stream",
     "text": [
      "[('IB', '3723', 'AMS', 'MAD', '06OCT')]\n",
      "Airline: IB Flight number: 3723\n",
      "Departure: AMS Destination: MAD\n",
      "Date: 06OCT\n"
     ]
    }
   ],
   "source": [
    "flight=\"Subject: You are now ready to fly. Here you have your boarding pass IB3723 AMS-MAD 06OCT\"\n",
    "# Import re\n",
    "import re\n",
    "\n",
    "# Write regex to capture information of the flight\n",
    "regex = r\"([A-Z]{2})(\\d{4})\\s([A-Z]{3})-([A-Z]{3})\\s(\\d{2}[A-Z]{3})\"\n",
    "\n",
    "# Find all matches of the flight information\n",
    "flight_matches = re.findall(regex, flight)\n",
    "print(flight_matches)\n",
    "\n",
    "#Print the matches\n",
    "print(\"Airline: {} Flight number: {}\".format(flight_matches[0][0], flight_matches[0][1]))\n",
    "print(\"Departure: {} Destination: {}\".format(flight_matches[0][2], flight_matches[0][3]))\n",
    "print(\"Date: {}\".format(flight_matches[0][4]))"
   ]
  },
  {
   "cell_type": "code",
   "execution_count": null,
   "id": "9b6b51fa",
   "metadata": {},
   "outputs": [],
   "source": [
    "    "
   ]
  }
 ],
 "metadata": {
  "kernelspec": {
   "display_name": "Python 3 (ipykernel)",
   "language": "python",
   "name": "python3"
  },
  "language_info": {
   "codemirror_mode": {
    "name": "ipython",
    "version": 3
   },
   "file_extension": ".py",
   "mimetype": "text/x-python",
   "name": "python",
   "nbconvert_exporter": "python",
   "pygments_lexer": "ipython3",
   "version": "3.9.12"
  }
 },
 "nbformat": 4,
 "nbformat_minor": 5
}
