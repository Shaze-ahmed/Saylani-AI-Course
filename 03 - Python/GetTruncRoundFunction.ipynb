{
 "cells": [
  {
   "cell_type": "code",
   "execution_count": 16,
   "id": "89473178",
   "metadata": {},
   "outputs": [
    {
     "name": "stdout",
     "output_type": "stream",
     "text": [
      "-8\n"
     ]
    }
   ],
   "source": [
    "def gettrunc(x):\n",
    "    y = round(x)\n",
    "    if x>0:\n",
    "        if y>x:\n",
    "            z = y-1\n",
    "        else:\n",
    "            z = y\n",
    "    else:\n",
    "        if x>y:\n",
    "            z = y+1\n",
    "        else:\n",
    "            z = y\n",
    "    return z\n",
    "        \n",
    "print(gettrunc(-8.99))"
   ]
  },
  {
   "cell_type": "code",
   "execution_count": 27,
   "id": "bc20db8d",
   "metadata": {},
   "outputs": [
    {
     "name": "stdout",
     "output_type": "stream",
     "text": [
      "1\n",
      "1\n"
     ]
    }
   ],
   "source": [
    "print(pow(2, 4, 3))\n",
    "print((2**4)%3)"
   ]
  },
  {
   "cell_type": "code",
   "execution_count": 25,
   "id": "91f39e65",
   "metadata": {},
   "outputs": [
    {
     "data": {
      "text/plain": [
       "False"
      ]
     },
     "execution_count": 25,
     "metadata": {},
     "output_type": "execute_result"
    }
   ],
   "source": [
    "isinstance(2, str)"
   ]
  },
  {
   "cell_type": "code",
   "execution_count": 34,
   "id": "131f3b64",
   "metadata": {},
   "outputs": [
    {
     "name": "stdout",
     "output_type": "stream",
     "text": [
      "(9, 1)\n",
      "9 1\n"
     ]
    }
   ],
   "source": [
    "print(divmod(28,3))\n",
    "print((28//3), (28%3))"
   ]
  },
  {
   "cell_type": "code",
   "execution_count": null,
   "id": "41c1d9fc",
   "metadata": {},
   "outputs": [],
   "source": []
  }
 ],
 "metadata": {
  "kernelspec": {
   "display_name": "Python 3 (ipykernel)",
   "language": "python",
   "name": "python3"
  },
  "language_info": {
   "codemirror_mode": {
    "name": "ipython",
    "version": 3
   },
   "file_extension": ".py",
   "mimetype": "text/x-python",
   "name": "python",
   "nbconvert_exporter": "python",
   "pygments_lexer": "ipython3",
   "version": "3.9.12"
  }
 },
 "nbformat": 4,
 "nbformat_minor": 5
}
