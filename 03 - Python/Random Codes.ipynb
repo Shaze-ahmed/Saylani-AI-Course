{
 "cells": [
  {
   "cell_type": "code",
   "execution_count": 3,
   "id": "76674440",
   "metadata": {},
   "outputs": [
    {
     "name": "stdout",
     "output_type": "stream",
     "text": [
      "   name  age\n",
      "0  Hill   32\n",
      "1  Onio   43\n"
     ]
    }
   ],
   "source": [
    "import pandas as pd\n",
    "dict_of_lists = {\"name\": [\"Hill\", \"Onio\"], \"age\": [32, 43]} \n",
    "new_df = pd.DataFrame(dict_of_lists) \n",
    "print(new_df)"
   ]
  },
  {
   "cell_type": "code",
   "execution_count": 1,
   "id": "a3a4865e",
   "metadata": {},
   "outputs": [
    {
     "name": "stdout",
     "output_type": "stream",
     "text": [
      "dataanalysisvisualization\n",
      "3\n",
      "111\n"
     ]
    }
   ],
   "source": [
    "object1 = \"data\" + \"analysis\" + \"visualization\"\n",
    "object2 = 1 * 3\n",
    "object3 = \"1\" * 3\n",
    "print(object1)\n",
    "print(object2)\n",
    "print(object3)"
   ]
  },
  {
   "cell_type": "code",
   "execution_count": 2,
   "id": "2f8350f6",
   "metadata": {},
   "outputs": [],
   "source": [
    "num = 5\n",
    "def func1():\n",
    "    num = 3\n",
    "    print(num)\n",
    "\n",
    "def func2():\n",
    "    global num\n",
    "    double_num = num * 2\n",
    "    num = 6\n",
    "    print(double_num)"
   ]
  },
  {
   "cell_type": "code",
   "execution_count": 5,
   "id": "37a20d79",
   "metadata": {},
   "outputs": [
    {
     "name": "stdout",
     "output_type": "stream",
     "text": [
      "50\n",
      "60\n"
     ]
    }
   ],
   "source": [
    "num = 10\n",
    "\n",
    "def func1(value):\n",
    "    xnum = num * value\n",
    "    print(xnum)\n",
    "    \n",
    "    \n",
    "def func2(value): \n",
    "    global num\n",
    "    num = num * value\n",
    "    print(num)\n",
    "    \n",
    "func1(5)\n",
    "func2(6)"
   ]
  },
  {
   "cell_type": "code",
   "execution_count": null,
   "id": "b855a767",
   "metadata": {},
   "outputs": [],
   "source": []
  }
 ],
 "metadata": {
  "kernelspec": {
   "display_name": "Python 3 (ipykernel)",
   "language": "python",
   "name": "python3"
  },
  "language_info": {
   "codemirror_mode": {
    "name": "ipython",
    "version": 3
   },
   "file_extension": ".py",
   "mimetype": "text/x-python",
   "name": "python",
   "nbconvert_exporter": "python",
   "pygments_lexer": "ipython3",
   "version": "3.9.12"
  }
 },
 "nbformat": 4,
 "nbformat_minor": 5
}
