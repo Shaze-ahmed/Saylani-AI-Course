{
 "cells": [
  {
   "cell_type": "code",
   "execution_count": 6,
   "id": "bf65a769",
   "metadata": {},
   "outputs": [],
   "source": [
    "class Student(): \n",
    "    totStudents = 0\n",
    "    \n",
    "    def __init__(self):\n",
    "        self.studentID = 0 \n",
    "        self.studentName = \"\"\n",
    "        self.BatchName = \"\"\n",
    "        self.RollNum = \"\"\n",
    "        self.Course = \"\"\n",
    "        self._StudentList = []\n",
    "        \n",
    "    \n",
    "    def AddNewStudent(self, StudentName, BatchName, RollNum, Course):\n",
    "        x = (Student.__CheckStudentExists(self, StudentName)[0])\n",
    "        if x == False:\n",
    "            self.totStudents += 1\n",
    "            self.studentName = StudentName\n",
    "            self.BatchName = BatchName\n",
    "            self.RollNum = RollNum\n",
    "            self.Course = Course\n",
    "            tempList = [self.totStudents, StudentName, BatchName, RollNum, Course]\n",
    "            self._StudentList.extend([tempList])\n",
    "        else:\n",
    "            print(\"Student Name is already Exists!!!!\")\n",
    "        \n",
    "    def UpdateStudentInfo(self, StudentID, StudentName, BatchName, RollNum, Course):\n",
    "        if StudentID > self.totStudents:\n",
    "            print(\"Student ID {} is not Exists !!!\".format(StudentID))\n",
    "        else:\n",
    "            myIndex = [(idx) for idx, x in enumerate(self._StudentList) for y in x if y == StudentID]\n",
    "            self.studentID = StudentID\n",
    "            self.studentName = StudentName\n",
    "            self.BatchName = BatchName\n",
    "            self.RollNum = RollNum\n",
    "            self.Course = Course\n",
    "            print(myIndex)\n",
    "            self._StudentList[myIndex[0]] = [StudentID, StudentName, BatchName, RollNum, Course]\n",
    "            Student.__PrintStudentInfo(self, 'S')\n",
    "        \n",
    "        \n",
    "    def __CheckStudentExists(self, StudentName):\n",
    "        isExists = False\n",
    "        IndexL = 0\n",
    "        rList = []\n",
    "        for idx, x in enumerate(self._StudentList):\n",
    "            for y in x:                \n",
    "                if y == StudentName:\n",
    "                    isExists = True\n",
    "                    IndexL = idx\n",
    "                    break\n",
    "              \n",
    "        rList.append(isExists)  \n",
    "        rList.append(IndexL)\n",
    "        return rList\n",
    "    \n",
    "    def GetStudentDetails(self, StudentID):\n",
    "        \n",
    "        try:\n",
    "            tList = [(x) for idx, x in enumerate(self._StudentList) for y in x if y == StudentID]\n",
    "            self._Attribute1 = tList[0][0]\n",
    "            self._Attribute2 = tList[0][1]\n",
    "            self._Attribute3 = tList[0][2]\n",
    "            self._Attribute4 = tList[0][3]\n",
    "            self._Attribute5 = tList[0][4]\n",
    "            self.Header = (f\"\"\"Student ID\\tStudent Name\\t\\tBatch Name\\t\\tRoll Num\\t\\tCourses\\n{'-'*120}\\n\"\"\")\n",
    "            self.IsTrue = True    \n",
    "            \n",
    "        except IndexError:  \n",
    "            self.IsTrue = False      \n",
    "       \n",
    "            \n",
    "    def GetStudentList(self):\n",
    "        Student.__PrintStudentInfo(self, 'A')\n",
    "        \n",
    "    def LastStudentAdd(self):\n",
    "        Student.__PrintStudentInfo(self)\n",
    "        \n",
    "    def __PrintStudentInfo(self, show='S'):\n",
    "        StudentTemp = (f\"\"\"Student ID\\tStudent Name\\t\\tBatch Name\\t\\tRoll Num\\t\\tCourses\\n{'-'*120}\\n\"\"\")\n",
    "        if show == 'S':\n",
    "            StudentTemp += (f\"\"\"{self.studentID}\\t\\t{self.studentName}\\t\\t\\t{self.BatchName}\\t\\t\\t{self.RollNum}\\t\\t\\t{self.Course}\"\"\")\n",
    "        else:\n",
    "            for names in self._StudentList:\n",
    "                StudentTemp +=(f\"\"\"{names[0]}\\t\\t{names[1]}\\t\\t\\t{names[2]}\\t\\t{names[3]}\\t\\t{names[4]}\\n\"\"\")\n",
    "            \n",
    "        print(StudentTemp.expandtabs(10))\n",
    "    \n",
    "    \n",
    "class Saylani(Student):\n",
    "    def __init__(self):\n",
    "        self.InstituteName = \"Salyani Welfare Trust\"\n",
    "        self.HO_Address = \"A-25, Bahadurabad Chowrangi Karachi, Pakistan،\"\n",
    "        self._Attribute1 = 0\n",
    "        self._Attribute2 = 0\n",
    "        self._Attribute3 = 0\n",
    "        self._Attribute4 = 0\n",
    "        self._Attribute5 = 0\n",
    "        self.Header = \"\"\n",
    "        self.IsTrue = True\n",
    "        Student._StudentList = []\n",
    "#         Teacher._TeacherList = []\n",
    "#         Courses._CourseList = []\n",
    "        \n",
    "    def __PrintInfo(self):\n",
    "        \n",
    "        if self.IsTrue:\n",
    "            CourseTemp = (f\"\"\"{self._Attribute1}\\t\\t{self._Attribute1}\\t\\t{self._Attribute2}\\t\\t\\t{self._Attribute3}\\t\\t\\t{self._Attribute4}\"\"\")\n",
    "        else:\n",
    "            CourseTemp = \"Course is not Exists !!\"\n",
    "            \n",
    "        print(CourseTemp.expandtabs(10))        \n",
    "        \n",
    "\n",
    "sayl = Saylani()"
   ]
  },
  {
   "cell_type": "code",
   "execution_count": 7,
   "id": "ff62d414",
   "metadata": {},
   "outputs": [],
   "source": [
    "sayl.AddNewStudent(StudentName=\"Ahmed\", BatchName = \"AI Batch - 3\", RollNum = \"AI-2455\", Course = \"AI\")\n"
   ]
  },
  {
   "cell_type": "code",
   "execution_count": 8,
   "id": "40f6745e",
   "metadata": {},
   "outputs": [
    {
     "name": "stdout",
     "output_type": "stream",
     "text": [
      "Student ID          Student Name                  Batch Name                    Roll Num            Courses\n",
      "------------------------------------------------------------------------------------------------------------------------\n",
      "1                   Ahmed                         AI Batch - 3                  AI-2455             AI\n",
      "\n"
     ]
    }
   ],
   "source": [
    "sayl.GetStudentList()"
   ]
  },
  {
   "cell_type": "code",
   "execution_count": 9,
   "id": "c943f837",
   "metadata": {},
   "outputs": [],
   "source": [
    "sayl.GetStudentDetails(1)"
   ]
  },
  {
   "cell_type": "code",
   "execution_count": 11,
   "id": "9d4ea2c7",
   "metadata": {},
   "outputs": [
    {
     "data": {
      "text/plain": [
       "'Student ID\\tStudent Name\\t\\tBatch Name\\t\\tRoll Num\\t\\tCourses\\n------------------------------------------------------------------------------------------------------------------------\\n'"
      ]
     },
     "execution_count": 11,
     "metadata": {},
     "output_type": "execute_result"
    }
   ],
   "source": [
    "sayl.Header"
   ]
  },
  {
   "cell_type": "code",
   "execution_count": 84,
   "id": "0d454120",
   "metadata": {},
   "outputs": [
    {
     "name": "stdout",
     "output_type": "stream",
     "text": [
      "1\n",
      "2\n"
     ]
    }
   ],
   "source": [
    "sd = 'Shahzad'\n",
    "sList = [[1,'Shahzad','DS'],[2,'Saad','AI']]\n",
    "cList = [[1, \"DS\", \"Data Science\", \"2 Months\", 50000],[2, \"AI\", \"Artificial Int\", \"2 Months\", 25000]]\n",
    "tList = [[1,'Qasim','DS'],[2,'Hasan','AI']]\n",
    "totList = []\n",
    "# print(sList, cList,tList)\n",
    "# myIndex = [(x) for idx, x in enumerate(sList) for y in x if y == sd]\n",
    "for i in range(1, len(sList)+1):\n",
    "    sinfo = [(x) for x in sList for y in x if y == i]\n",
    "    cinfo = [(x) for x in cList for y in x if y == sinfo[0][2]]\n",
    "    tinfo = [(x) for x in tList for y in x if y == sinfo[0][2]]\n",
    "    totList = []\n",
    "    totList.extend(sinfo[0])\n",
    "    totList.extend(cinfo[0])\n",
    "    totList.extend(tinfo[0])\n",
    "\n",
    "# + cinfo + tinfo\n",
    "#     print(sinfo)\n",
    "#     print(cinfo)\n",
    "#     print(tinfo)\n",
    "    print(totList[0])\n",
    "# print(myIndex[0][2])"
   ]
  },
  {
   "cell_type": "code",
   "execution_count": null,
   "id": "c9068e4a",
   "metadata": {},
   "outputs": [],
   "source": []
  },
  {
   "cell_type": "code",
   "execution_count": null,
   "id": "719b5f94",
   "metadata": {},
   "outputs": [],
   "source": []
  }
 ],
 "metadata": {
  "kernelspec": {
   "display_name": "Python 3 (ipykernel)",
   "language": "python",
   "name": "python3"
  },
  "language_info": {
   "codemirror_mode": {
    "name": "ipython",
    "version": 3
   },
   "file_extension": ".py",
   "mimetype": "text/x-python",
   "name": "python",
   "nbconvert_exporter": "python",
   "pygments_lexer": "ipython3",
   "version": "3.9.12"
  }
 },
 "nbformat": 4,
 "nbformat_minor": 5
}
