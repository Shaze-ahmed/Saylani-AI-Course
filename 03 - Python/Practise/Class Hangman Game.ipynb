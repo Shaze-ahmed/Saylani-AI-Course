{
 "cells": [
  {
   "cell_type": "code",
   "execution_count": 84,
   "id": "a8afddee",
   "metadata": {},
   "outputs": [],
   "source": [
    "import string\n",
    "import random\n",
    "\n",
    "class HangmanGame():\n",
    "    def __init__(self):\n",
    "        self.wordList = dict()\n",
    "        self.lives = 0\n",
    "        self.AddCategory('Countries',['Pakistan','India','Turkey','Russia'])\n",
    "        self.AddCategory('Cities',['Karachi','Lahore','Islamabad','Quetta','Peshawar'])\n",
    "        self.AddCategory('Sports',['Cricket','Hockey','Football','Tennis'])\n",
    "\n",
    "\n",
    "    def AddCategory(self, key, value):\n",
    "        self.wordList[key] = value\n",
    "        \n",
    "    def printCategories(self, id=-1):\n",
    "        if id == -1:\n",
    "            temp = (f\"\"\"Select\\tCategory Name\\n{'-'*30}\\n\"\"\")\n",
    "            for idx, keys in enumerate(self.wordList):\n",
    "                  temp += (f\"\"\"{idx}\\t{keys}\\n\"\"\")\n",
    "            print(temp)\n",
    "        else:\n",
    "            for idx, keys in enumerate(self.wordList):\n",
    "                if idx == id:\n",
    "                    return keys\n",
    "            \n",
    "    def selectCategory(self, val):\n",
    "        for idx, value in enumerate(self.wordList.values()):\n",
    "            if idx == val:\n",
    "                return value\n",
    "        \n",
    "    def getLives(self, val):\n",
    "        self.lives = val\n",
    "        \n",
    "    def HangMan(self):\n",
    "        alphabet = set(string.ascii_uppercase)\n",
    "        obj.printCategories()\n",
    "        xval = int(input('Select the Category for the Word !!'))\n",
    "        xcat = obj.printCategories(xval)\n",
    "        tempList = self.selectCategory(xval)\n",
    "        if tempList == None:\n",
    "            print(\"Invalid selection of Categories !!!!\")\n",
    "            return\n",
    "        word = random.choice(tempList).upper()\n",
    "        wordL = set(word)\n",
    "        try:\n",
    "            self.getLives(int(input(\"Enter the Lives you want !!! \")))\n",
    "        except ValueError:  \n",
    "            print(\"Please select 1 to 9, Invalid Selection!\") \n",
    "            return\n",
    "        usedL = set()\n",
    "\n",
    "\n",
    "        while len(wordL) > 0 and self.lives > 0:\n",
    "            tList = [l if l in usedL else '_' for l in word]\n",
    "            print()\n",
    "            print(\"Current Word is : \",'  '.join(tList), \"(Cateogyr Hint): \", (xcat))\n",
    "\n",
    "            gLetter = input(\"Guess the Next Letter : \").upper()\n",
    "\n",
    "            if gLetter in (alphabet - usedL):\n",
    "                usedL.add(gLetter)\n",
    "                if gLetter in wordL:\n",
    "                    wordL.remove(gLetter)\n",
    "                else:\n",
    "                    self.lives -= 1\n",
    "                    print('{} is not exists, you left {} live remain !!!'.format(gLetter, self.lives))\n",
    "            elif gLetter in usedL:\n",
    "                print('{} word is already Used !!!'.format(gLetter))\n",
    "            else:\n",
    "                print('Invalid Character !!!!')\n",
    "\n",
    "        print()\n",
    "        if self.lives ==0:\n",
    "            print()\n",
    "            print('You Lost the Game, the Word is {}'.format(word))\n",
    "        else:\n",
    "            print('Congratulation! You Guess the word {} !!!!'.format(word))"
   ]
  },
  {
   "cell_type": "code",
   "execution_count": 85,
   "id": "87eaf6a8",
   "metadata": {},
   "outputs": [
    {
     "name": "stdout",
     "output_type": "stream",
     "text": [
      "Select\tCategory Name\n",
      "------------------------------\n",
      "0\tCountries\n",
      "1\tCities\n",
      "2\tSports\n",
      "\n"
     ]
    }
   ],
   "source": [
    "obj = HangmanGame()\n",
    "# obj.AddCategory('Countries',['Pakistan','India','Turkey','Russia'])\n",
    "# obj.AddCategory('Cities',['Karachi','Lahore','Islamabad','Quetta','Peshawar'])\n",
    "# obj.AddCategory('Sports',['Cricket','Hockey','Football','Tennis'])\n",
    "obj.printCategories()"
   ]
  },
  {
   "cell_type": "code",
   "execution_count": 86,
   "id": "09eace84",
   "metadata": {},
   "outputs": [
    {
     "name": "stdout",
     "output_type": "stream",
     "text": [
      "['Pakistan', 'India', 'Turkey', 'Russia']\n"
     ]
    }
   ],
   "source": [
    "mylist = obj.selectCategory(0)\n",
    "print(mylist)"
   ]
  },
  {
   "cell_type": "code",
   "execution_count": 87,
   "id": "cf6414be",
   "metadata": {},
   "outputs": [
    {
     "name": "stdout",
     "output_type": "stream",
     "text": [
      "Select\tCategory Name\n",
      "------------------------------\n",
      "0\tCountries\n",
      "1\tCities\n",
      "2\tSports\n",
      "\n",
      "Select the Category for the Word !!2\n",
      "Enter the Lives you want !!!a\n",
      "Please select 1 to 9, Invalid Selection!\n"
     ]
    }
   ],
   "source": [
    "obj.HangMan()"
   ]
  },
  {
   "cell_type": "code",
   "execution_count": 12,
   "id": "55f6c618",
   "metadata": {},
   "outputs": [],
   "source": [
    "myList = dict()\n",
    "def AddCategorys(**kwargs):\n",
    "    for x, y in kwargs.items:\n",
    "        myList[x] = y\n",
    "        "
   ]
  },
  {
   "cell_type": "code",
   "execution_count": 14,
   "id": "ca9d1d78",
   "metadata": {},
   "outputs": [
    {
     "ename": "TypeError",
     "evalue": "AddCategorys() takes 0 positional arguments but 2 were given",
     "output_type": "error",
     "traceback": [
      "\u001b[1;31m---------------------------------------------------------------------------\u001b[0m",
      "\u001b[1;31mTypeError\u001b[0m                                 Traceback (most recent call last)",
      "Input \u001b[1;32mIn [14]\u001b[0m, in \u001b[0;36m<cell line: 1>\u001b[1;34m()\u001b[0m\n\u001b[1;32m----> 1\u001b[0m \u001b[43mAddCategorys\u001b[49m\u001b[43m(\u001b[49m\u001b[38;5;124;43m'\u001b[39;49m\u001b[38;5;124;43mSports\u001b[39;49m\u001b[38;5;124;43m'\u001b[39;49m\u001b[43m,\u001b[49m\u001b[38;5;124;43m'\u001b[39;49m\u001b[38;5;124;43mCricket\u001b[39;49m\u001b[38;5;124;43m'\u001b[39;49m\u001b[43m)\u001b[49m\n",
      "\u001b[1;31mTypeError\u001b[0m: AddCategorys() takes 0 positional arguments but 2 were given"
     ]
    }
   ],
   "source": [
    "AddCategorys('Sports','Cricket')"
   ]
  },
  {
   "cell_type": "code",
   "execution_count": null,
   "id": "30269cfe",
   "metadata": {},
   "outputs": [],
   "source": []
  }
 ],
 "metadata": {
  "kernelspec": {
   "display_name": "Python 3 (ipykernel)",
   "language": "python",
   "name": "python3"
  },
  "language_info": {
   "codemirror_mode": {
    "name": "ipython",
    "version": 3
   },
   "file_extension": ".py",
   "mimetype": "text/x-python",
   "name": "python",
   "nbconvert_exporter": "python",
   "pygments_lexer": "ipython3",
   "version": "3.9.12"
  }
 },
 "nbformat": 4,
 "nbformat_minor": 5
}
