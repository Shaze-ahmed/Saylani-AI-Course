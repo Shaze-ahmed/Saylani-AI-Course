{
 "cells": [
  {
   "cell_type": "code",
   "execution_count": 1,
   "id": "2fdb3233",
   "metadata": {},
   "outputs": [
    {
     "name": "stdout",
     "output_type": "stream",
     "text": [
      "2401\n"
     ]
    }
   ],
   "source": [
    "print(7**4)"
   ]
  },
  {
   "cell_type": "code",
   "execution_count": 2,
   "id": "268e64fb",
   "metadata": {},
   "outputs": [
    {
     "name": "stdout",
     "output_type": "stream",
     "text": [
      "['Hi', 'There', 'Sam!']\n"
     ]
    }
   ],
   "source": [
    "s = 'Hi There Sam!'\n",
    "print(s.split())"
   ]
  },
  {
   "cell_type": "code",
   "execution_count": 25,
   "id": "7791c588",
   "metadata": {},
   "outputs": [
    {
     "name": "stdout",
     "output_type": "stream",
     "text": [
      "hello\n"
     ]
    }
   ],
   "source": [
    "d = {'k1':[1,2,3, {'tricky':['oh','main','inception',{'target':[1,2,3,'hello']}]}]}\n",
    "print(d['k1'][3]['tricky'][3]['target'][3])"
   ]
  },
  {
   "cell_type": "code",
   "execution_count": 32,
   "id": "41964b87",
   "metadata": {},
   "outputs": [
    {
     "name": "stdout",
     "output_type": "stream",
     "text": [
      "domain.com\n"
     ]
    }
   ],
   "source": [
    "x = 'user@domain.com'\n",
    "# x[x.index('@')+1:]\n",
    "print(x.split('@')[1])"
   ]
  },
  {
   "cell_type": "code",
   "execution_count": 40,
   "id": "37e98ddf",
   "metadata": {},
   "outputs": [
    {
     "name": "stdout",
     "output_type": "stream",
     "text": [
      "2\n"
     ]
    }
   ],
   "source": [
    "x=0\n",
    "xx = 'Is there a dog here and dog 2 in'\n",
    "for i in xx.split():\n",
    "    if i == 'dog':\n",
    "        x += 1\n",
    "    \n",
    "print(x)"
   ]
  },
  {
   "cell_type": "code",
   "execution_count": 50,
   "id": "a00dadbd",
   "metadata": {},
   "outputs": [
    {
     "data": {
      "text/plain": [
       "['soup', 'salad']"
      ]
     },
     "execution_count": 50,
     "metadata": {},
     "output_type": "execute_result"
    }
   ],
   "source": [
    "seq = ['soup','dog','salad','cat','great']\n",
    "# for i in seq:\n",
    "#     if i[0] == 's':\n",
    "#         print(i)\n",
    "        \n",
    "[x  for x in seq if x[0] == 's']"
   ]
  },
  {
   "cell_type": "code",
   "execution_count": 56,
   "id": "a4a241ac",
   "metadata": {},
   "outputs": [
    {
     "data": {
      "text/plain": [
       "['soup', 'salad']"
      ]
     },
     "execution_count": 56,
     "metadata": {},
     "output_type": "execute_result"
    }
   ],
   "source": [
    "list(filter(lambda word : word[0] == 's', seq))"
   ]
  }
 ],
 "metadata": {
  "kernelspec": {
   "display_name": "Python 3 (ipykernel)",
   "language": "python",
   "name": "python3"
  },
  "language_info": {
   "codemirror_mode": {
    "name": "ipython",
    "version": 3
   },
   "file_extension": ".py",
   "mimetype": "text/x-python",
   "name": "python",
   "nbconvert_exporter": "python",
   "pygments_lexer": "ipython3",
   "version": "3.9.12"
  }
 },
 "nbformat": 4,
 "nbformat_minor": 5
}
