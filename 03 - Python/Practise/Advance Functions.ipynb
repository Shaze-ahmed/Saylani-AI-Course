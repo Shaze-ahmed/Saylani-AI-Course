{
 "cells": [
  {
   "cell_type": "code",
   "execution_count": 3,
   "id": "45c65cf6",
   "metadata": {},
   "outputs": [
    {
     "name": "stdout",
     "output_type": "stream",
     "text": [
      "<class 'enumerate'>\n"
     ]
    }
   ],
   "source": [
    "list1 = ['Shahzad','Iqbal','Saad','Zubair']\n",
    "list2 = ['Ahmed','Khan','Muhammad','Ali']\n",
    "e = enumerate(list1)\n",
    "print(type(e))\n",
    "\n",
    "# xList = list(e)\n",
    "# print(xList)\n",
    "\n",
    "# for ind, val in e:\n",
    "#     print(ind, val)\n",
    "\n",
    "\n"
   ]
  },
  {
   "cell_type": "code",
   "execution_count": 4,
   "id": "3ecfd357",
   "metadata": {},
   "outputs": [
    {
     "name": "stdout",
     "output_type": "stream",
     "text": [
      "[('Shahzad', 'Ahmed'), ('Iqbal', 'Khan'), ('Saad', 'Muhammad'), ('Zubair', 'Ali')]\n"
     ]
    }
   ],
   "source": [
    "eList = list(zip(list1, list2))\n",
    "print(eList)"
   ]
  },
  {
   "cell_type": "code",
   "execution_count": 6,
   "id": "6405f672",
   "metadata": {},
   "outputs": [
    {
     "name": "stdout",
     "output_type": "stream",
     "text": [
      "(1, 'Iqbal')\n"
     ]
    }
   ],
   "source": [
    "print(next(e))"
   ]
  },
  {
   "cell_type": "code",
   "execution_count": 12,
   "id": "f98d6c38",
   "metadata": {},
   "outputs": [
    {
     "name": "stdout",
     "output_type": "stream",
     "text": [
      "\n",
      "    PIAIC Islamabad\n",
      "    id: 1\n",
      "    Name: Ali\n",
      "    father's Name: Hamza\n",
      "    course:  A.I\n",
      "    timing: 9 to 12\n",
      "    \n",
      "\n",
      "    PIAIC Islamabad\n",
      "    id: 2\n",
      "    Name: Kashif\n",
      "    father's Name: Kamran\n",
      "    course:  Cloud Computing\n",
      "    timing: 3:30 to 6:30\n",
      "    \n"
     ]
    }
   ],
   "source": [
    "def id_card(sid, sname,fname,course, timing):\n",
    "    text = \"\"\"\n",
    "    PIAIC Islamabad\n",
    "    id: {}\n",
    "    Name: {}\n",
    "    father's Name: {}\n",
    "    course:  {}\n",
    "    timing: {}\n",
    "    \"\"\".format(sid,sname,fname,course,timing)\n",
    "    print(text)\n",
    "    \n",
    "id_card(1,\"Ali\",'Hamza','A.I','9 to 12')    \n",
    "id_card(2,\"Kashif\",\"Kamran\",\"Cloud Computing\", \"3:30 to 6:30\")"
   ]
  },
  {
   "cell_type": "code",
   "execution_count": 8,
   "id": "b0a9ac37",
   "metadata": {},
   "outputs": [
    {
     "name": "stdout",
     "output_type": "stream",
     "text": [
      "\n",
      "    PIAIC Islamabad\n",
      "    id: 1\n",
      "    Name: Qasim\n",
      "    father's Name: Aslam\n",
      "    course:  A.I\n",
      "    timing: 9 to 12\n",
      "    \n",
      "\n",
      "    PIAIC Islamabad\n",
      "    id: 2\n",
      "    Name: Hamza\n",
      "    father's Name: Khalid\n",
      "    course:  Cloud\n",
      "    timing: 12:15 to 3:15\n",
      "    \n",
      "\n",
      "    PIAIC Islamabad\n",
      "    id: 3\n",
      "    Name: Rauf\n",
      "    father's Name: Hussain\n",
      "    course:  Quantum Computing\n",
      "    timing: 12AM\n",
      "    \n"
     ]
    }
   ],
   "source": [
    "data =[[1,\"Qasim\",\"Aslam\",\"A.I\",\"9 to 12\"],\n",
    "      [2,\"Hamza\",\"Khalid\",\"Cloud\",\"12:15 to 3:15\"],\n",
    "      [3,\"Rauf\",\"Hussain\",\"Quantum Computing\",\"12AM\"]]\n",
    "\n",
    "for v in data:\n",
    "    id_card(*v)"
   ]
  },
  {
   "cell_type": "code",
   "execution_count": 9,
   "id": "40233d1f",
   "metadata": {},
   "outputs": [
    {
     "name": "stdout",
     "output_type": "stream",
     "text": [
      "\n",
      "    PIAIC Islamabad\n",
      "    id: 5007\n",
      "    Name: Qasim\n",
      "    father's Name: Aslam\n",
      "    course:  A.I\n",
      "    timing: 9 to 9\n",
      "    \n",
      "None\n"
     ]
    }
   ],
   "source": [
    "print(id_card(sname=\"Qasim\",fname=\"Aslam\",sid=5007,course=\"A.I\",timing=\"9 to 9\"))"
   ]
  },
  {
   "cell_type": "code",
   "execution_count": 10,
   "id": "f9726c79",
   "metadata": {},
   "outputs": [
    {
     "name": "stdout",
     "output_type": "stream",
     "text": [
      "\n",
      "    PIAIC Islamabad\n",
      "    id: 1\n",
      "    Name: Qasim\n",
      "    father's Name: Aslam\n",
      "    course:  A.I\n",
      "    timing: 9 to 9\n",
      "    \n",
      "None\n"
     ]
    }
   ],
   "source": [
    "l1 = [1,\"Qasim\",\"Aslam\",\"A.I\",\"9 to 9\"]\n",
    "\n",
    "\n",
    "print(id_card(*l1))"
   ]
  },
  {
   "cell_type": "code",
   "execution_count": 13,
   "id": "5bf0084b",
   "metadata": {},
   "outputs": [
    {
     "name": "stdout",
     "output_type": "stream",
     "text": [
      "\n",
      "    PIAIC Islamabad\n",
      "    id: 200\n",
      "    Name: M.Qasim\n",
      "    father's Name: Aslam\n",
      "    course:  A.I\n",
      "    timing: ABC\n",
      "    \n",
      "None\n"
     ]
    }
   ],
   "source": [
    "d1 = {\n",
    "    'course':'A.I',\n",
    "    'sname':'M.Qasim',\n",
    "    'fname':'Aslam',\n",
    "    'sid': 200,\n",
    "    'timing': \"ABC\"\n",
    "}\n",
    "\n",
    "#print(id_card(sname=\"Qasim\",fname=\"Aslam\",sid=5007,course=\"A.I\",timing=\"9 to 9\"))\n",
    "print(id_card(**d1))\n"
   ]
  },
  {
   "cell_type": "code",
   "execution_count": 15,
   "id": "fa5652f0",
   "metadata": {},
   "outputs": [
    {
     "name": "stdout",
     "output_type": "stream",
     "text": [
      "1\n"
     ]
    },
    {
     "data": {
      "text/plain": [
       "120"
      ]
     },
     "execution_count": 15,
     "metadata": {},
     "output_type": "execute_result"
    }
   ],
   "source": [
    "# Recursive Function\n",
    "def abc(n):\n",
    "    if n==1:\n",
    "        return 1\n",
    "    return n * abc(n-1)\n",
    "abc(5)  \n",
    "#5*4*3*2*1"
   ]
  },
  {
   "cell_type": "code",
   "execution_count": 17,
   "id": "03ce3029",
   "metadata": {},
   "outputs": [
    {
     "name": "stdout",
     "output_type": "stream",
     "text": [
      "<generator object abc at 0x00000208BD0D5E40>\n",
      "[0, 1, 2, 3, 4, 5, 6, 7, 8, 9, 10]\n"
     ]
    }
   ],
   "source": [
    "#Generator Functions\n",
    "def abc():\n",
    "    for i in range(11):\n",
    "        yield i\n",
    "        \n",
    "a = abc()        \n",
    "print(a)\n",
    "# print(next(a))\n",
    "# print(next(a))\n",
    "# print(next(a))\n",
    "# print(next(a))\n",
    "# print(next(a))\n",
    "# print(next(a))\n",
    "\n",
    "print(list(a))"
   ]
  },
  {
   "cell_type": "code",
   "execution_count": 18,
   "id": "de5a98e1",
   "metadata": {},
   "outputs": [
    {
     "data": {
      "text/plain": [
       "12"
      ]
     },
     "execution_count": 18,
     "metadata": {},
     "output_type": "execute_result"
    }
   ],
   "source": [
    "xyz = lambda a,b: a + b\n",
    "xyz(5,7)"
   ]
  },
  {
   "cell_type": "code",
   "execution_count": 20,
   "id": "4c3ce4f6",
   "metadata": {},
   "outputs": [
    {
     "data": {
      "text/plain": [
       "[[1, 'Qasim', 'Aslam', 'A.I', '9 to 12'],\n",
       " [2, 'Hamza', 'Khalid', 'Cloud', '12:15 to 3:15'],\n",
       " [3, 'Rauf', 'Hussain', 'Quantum Computing', '12AM']]"
      ]
     },
     "execution_count": 20,
     "metadata": {},
     "output_type": "execute_result"
    }
   ],
   "source": [
    "data"
   ]
  },
  {
   "cell_type": "code",
   "execution_count": 30,
   "id": "3c24c9c6",
   "metadata": {},
   "outputs": [
    {
     "data": {
      "text/plain": [
       "[[3, 'Rauf', 'Hussain', 'Quantum Computing', '12AM'],\n",
       " [2, 'Hamza', 'Khalid', 'Cloud', '12:15 to 3:15'],\n",
       " [1, 'Qasim', 'Aslam', 'A.I', '9 to 12']]"
      ]
     },
     "execution_count": 30,
     "metadata": {},
     "output_type": "execute_result"
    }
   ],
   "source": [
    "data.sort(key=lambda x:x[0], reverse=True)\n",
    "data"
   ]
  },
  {
   "cell_type": "code",
   "execution_count": 58,
   "id": "016e5048",
   "metadata": {},
   "outputs": [],
   "source": [
    "lst = []\n",
    "def fraction(n):\n",
    "    if n==1:\n",
    "        return 1\n",
    "        if n%2==0:\n",
    "            print('here')\n",
    "            lst.append(n)\n",
    "#     lst.append(n)\n",
    "    fraction(n-1)\n"
   ]
  },
  {
   "cell_type": "code",
   "execution_count": 59,
   "id": "7ba4498a",
   "metadata": {},
   "outputs": [],
   "source": [
    "fraction(10)  "
   ]
  },
  {
   "cell_type": "code",
   "execution_count": 60,
   "id": "5c895527",
   "metadata": {},
   "outputs": [
    {
     "data": {
      "text/plain": [
       "[]"
      ]
     },
     "execution_count": 60,
     "metadata": {},
     "output_type": "execute_result"
    }
   ],
   "source": [
    "lst"
   ]
  },
  {
   "cell_type": "code",
   "execution_count": 64,
   "id": "3159dc6d",
   "metadata": {},
   "outputs": [
    {
     "name": "stdout",
     "output_type": "stream",
     "text": [
      "5\n",
      "7\n",
      "9\n"
     ]
    }
   ],
   "source": [
    "for x in range(4, 11):\n",
    "    if x%2!=0:\n",
    "        print(x)\n",
    "        "
   ]
  },
  {
   "cell_type": "code",
   "execution_count": 68,
   "id": "db038c6b",
   "metadata": {},
   "outputs": [
    {
     "name": "stdout",
     "output_type": "stream",
     "text": [
      "15 is not a prime number\n",
      "3 times 5 is 15\n"
     ]
    }
   ],
   "source": [
    "num = 15\n",
    "\n",
    "# To take input from the user\n",
    "#num = int(input(\"Enter a number: \"))\n",
    "\n",
    "# prime numbers are greater than 1\n",
    "if num > 1:\n",
    "   # check for factors\n",
    "   for i in range(2,num):\n",
    "       if (num % i) == 0:\n",
    "           print(num,\"is not a prime number\")\n",
    "           print(i,\"times\",num//i,\"is\",num)\n",
    "           break\n",
    "   else:\n",
    "       print(num,\"is a prime number\")\n",
    "       \n",
    "# if input number is less than\n",
    "# or equal to 1, it is not prime\n",
    "else:\n",
    "   print(num,\"is not a prime number\")"
   ]
  },
  {
   "cell_type": "code",
   "execution_count": 1,
   "id": "8d1076b3",
   "metadata": {},
   "outputs": [
    {
     "name": "stdout",
     "output_type": "stream",
     "text": [
      "15\n"
     ]
    }
   ],
   "source": [
    "def SumAllNumber(*args):\n",
    "    c = 0\n",
    "    for x in args:\n",
    "        if isinstance(x, int):\n",
    "            c += x\n",
    "    print(c)\n",
    "    \n",
    "SumAllNumber(2,5,3,5,'o','sysy')"
   ]
  },
  {
   "cell_type": "code",
   "execution_count": 2,
   "id": "e3733a4f",
   "metadata": {},
   "outputs": [
    {
     "name": "stdout",
     "output_type": "stream",
     "text": [
      "{'Name': ['Shahzad', 'Saad', 'Iqbal'], 'Age': 20}\n"
     ]
    }
   ],
   "source": [
    "myDict = {}\n",
    "def LoadDict(**kwargs):\n",
    "    for x, y in kwargs.items():\n",
    "        myDict[x] = y\n",
    "    \n",
    "LoadDict(Name = [\"Shahzad\",\"Saad\",\"Iqbal\"], Age= 20)\n",
    "print(myDict)"
   ]
  },
  {
   "cell_type": "code",
   "execution_count": null,
   "id": "311c4070",
   "metadata": {},
   "outputs": [],
   "source": []
  }
 ],
 "metadata": {
  "kernelspec": {
   "display_name": "Python 3 (ipykernel)",
   "language": "python",
   "name": "python3"
  },
  "language_info": {
   "codemirror_mode": {
    "name": "ipython",
    "version": 3
   },
   "file_extension": ".py",
   "mimetype": "text/x-python",
   "name": "python",
   "nbconvert_exporter": "python",
   "pygments_lexer": "ipython3",
   "version": "3.9.12"
  }
 },
 "nbformat": 4,
 "nbformat_minor": 5
}
