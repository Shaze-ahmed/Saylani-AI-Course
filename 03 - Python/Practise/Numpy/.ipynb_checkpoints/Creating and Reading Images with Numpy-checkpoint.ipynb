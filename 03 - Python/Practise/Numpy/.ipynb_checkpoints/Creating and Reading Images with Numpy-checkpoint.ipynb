{
 "cells": [
  {
   "cell_type": "markdown",
   "id": "27d080d5",
   "metadata": {},
   "source": [
    "https://www.pythoninformer.com/python-libraries/numpy/numpy-and-images/"
   ]
  },
  {
   "cell_type": "code",
   "execution_count": 1,
   "id": "65bc64b6",
   "metadata": {},
   "outputs": [],
   "source": [
    "# Create an Image\n",
    "from PIL import Image\n",
    "import numpy as np\n",
    "\n",
    "w, h = 512, 512\n",
    "data = np.zeros((h, w, 3), dtype=np.uint8)\n",
    "data[0:256, 0:256] = [255, 0, 0] # red patch in upper left\n",
    "img = Image.fromarray(data, 'RGB')\n",
    "img.save('my.png')\n",
    "img.show()"
   ]
  },
  {
   "cell_type": "code",
   "execution_count": 3,
   "id": "e974c61f",
   "metadata": {},
   "outputs": [],
   "source": [
    "import numpy as np\n",
    "\n",
    "width = 5\n",
    "height = 4\n",
    "\n",
    "array = np.zeros([height, width, 3], dtype=np.uint8)"
   ]
  },
  {
   "cell_type": "code",
   "execution_count": 5,
   "id": "b7623678",
   "metadata": {},
   "outputs": [
    {
     "data": {
      "text/plain": [
       "array([[[0, 0, 0],\n",
       "        [0, 0, 0],\n",
       "        [0, 0, 0],\n",
       "        [0, 0, 0],\n",
       "        [0, 0, 0]],\n",
       "\n",
       "       [[0, 0, 0],\n",
       "        [0, 0, 0],\n",
       "        [0, 0, 0],\n",
       "        [0, 0, 0],\n",
       "        [0, 0, 0]],\n",
       "\n",
       "       [[0, 0, 0],\n",
       "        [0, 0, 0],\n",
       "        [0, 0, 0],\n",
       "        [0, 0, 0],\n",
       "        [0, 0, 0]],\n",
       "\n",
       "       [[0, 0, 0],\n",
       "        [0, 0, 0],\n",
       "        [0, 0, 0],\n",
       "        [0, 0, 0],\n",
       "        [0, 0, 0]]], dtype=uint8)"
      ]
     },
     "execution_count": 5,
     "metadata": {},
     "output_type": "execute_result"
    }
   ],
   "source": [
    "array"
   ]
  },
  {
   "cell_type": "code",
   "execution_count": 6,
   "id": "39442214",
   "metadata": {},
   "outputs": [
    {
     "data": {
      "text/plain": [
       "array([[[255, 128,   0],\n",
       "        [255, 128,   0],\n",
       "        [255, 128,   0],\n",
       "        [255, 128,   0],\n",
       "        [255, 128,   0]],\n",
       "\n",
       "       [[255, 128,   0],\n",
       "        [255, 128,   0],\n",
       "        [255, 128,   0],\n",
       "        [255, 128,   0],\n",
       "        [255, 128,   0]],\n",
       "\n",
       "       [[255, 128,   0],\n",
       "        [255, 128,   0],\n",
       "        [255, 128,   0],\n",
       "        [255, 128,   0],\n",
       "        [255, 128,   0]],\n",
       "\n",
       "       [[255, 128,   0],\n",
       "        [255, 128,   0],\n",
       "        [255, 128,   0],\n",
       "        [255, 128,   0],\n",
       "        [255, 128,   0]]], dtype=uint8)"
      ]
     },
     "execution_count": 6,
     "metadata": {},
     "output_type": "execute_result"
    }
   ],
   "source": [
    "array[:,:] = [255, 128, 0]\n",
    "array"
   ]
  },
  {
   "cell_type": "code",
   "execution_count": 9,
   "id": "240ddadd",
   "metadata": {},
   "outputs": [],
   "source": [
    "from PIL import Image\n",
    "\n",
    "img = Image.fromarray(array)\n",
    "img.save('testrgb.png')\n",
    "img.show()"
   ]
  },
  {
   "cell_type": "code",
   "execution_count": 54,
   "id": "743fa65e",
   "metadata": {},
   "outputs": [],
   "source": [
    "#Creating RGB images\n",
    "import numpy as np\n",
    "from PIL import Image\n",
    "\n",
    "array = np.zeros([100, 200, 3], dtype=np.uint8)\n",
    "array[:,:100] = [255, 128, 0] #Orange left side\n",
    "array[:,100:] = [0, 0, 255]   #Blue right side\n",
    "\n",
    "img = Image.fromarray(array)\n",
    "img.save('testrgb.png')\n",
    "img.show()"
   ]
  },
  {
   "cell_type": "code",
   "execution_count": 12,
   "id": "48f8ed3a",
   "metadata": {},
   "outputs": [],
   "source": [
    "#Creating RGBA images\n",
    "import numpy as np\n",
    "from PIL import Image\n",
    "\n",
    "array = np.zeros([100, 200, 4], dtype=np.uint8)\n",
    "array[:,:100] = [255, 128, 0, 255] #Orange left side\n",
    "array[:,100:] = [0, 0, 255, 255]   #Blue right side\n",
    "\n",
    "# Set transparency depending on x position\n",
    "for x in range(200):\n",
    "    for y in range(100):\n",
    "        array[y, x, 3] = x\n",
    "\n",
    "img = Image.fromarray(array)\n",
    "img.save('testrgba.png')\n",
    "img.show()"
   ]
  },
  {
   "cell_type": "code",
   "execution_count": 55,
   "id": "6132225c",
   "metadata": {},
   "outputs": [],
   "source": [
    "#Create Greyscale image\n",
    "import numpy as np\n",
    "from PIL import Image\n",
    "\n",
    "array = np.zeros([100, 200], dtype=np.uint8)\n",
    "\n",
    "# Set grey value to black or white depending on x position\n",
    "for x in range(200):\n",
    "    for y in range(100):\n",
    "        if (x % 16) // 8 == (y % 16) // 8:\n",
    "            array[y, x] = 0\n",
    "        else:\n",
    "            array[y, x] = 255\n",
    "\n",
    "img = Image.fromarray(array)\n",
    "img.save('testgrey.png')\n",
    "img.show()"
   ]
  },
  {
   "cell_type": "code",
   "execution_count": 59,
   "id": "cb49cc63",
   "metadata": {},
   "outputs": [
    {
     "data": {
      "text/plain": [
       "100"
      ]
     },
     "execution_count": 59,
     "metadata": {},
     "output_type": "execute_result"
    }
   ],
   "source": [
    "array[:,1].size"
   ]
  },
  {
   "cell_type": "code",
   "execution_count": 14,
   "id": "ccc08761",
   "metadata": {},
   "outputs": [
    {
     "name": "stdout",
     "output_type": "stream",
     "text": [
      "(100, 200, 4)\n",
      "(100, 200, 3)\n",
      "(100, 200)\n"
     ]
    }
   ],
   "source": [
    "# Reading Images\n",
    "import numpy as np\n",
    "from PIL import Image\n",
    "\n",
    "img = Image.open('testrgba.png')\n",
    "array = np.array(img)\n",
    "print(array.shape)      # (100, 200, 4)\n",
    "\n",
    "img = Image.open('testrgb.png')\n",
    "array = np.array(img)\n",
    "print(array.shape)      # (100, 200, 3)\n",
    "\n",
    "img = Image.open('testgrey.png')\n",
    "array = np.array(img)\n",
    "print(array.shape)      # (100, 200)"
   ]
  },
  {
   "cell_type": "code",
   "execution_count": 16,
   "id": "4fb180a4",
   "metadata": {},
   "outputs": [],
   "source": [
    "import numpy as np\n",
    "from PIL import Image\n",
    "\n",
    "img = Image.open('testgrey.png')\n",
    "array = np.array(img)\n",
    "\n",
    "array = 255 - array\n",
    "\n",
    "invimg = Image.fromarray(array)\n",
    "invimg.save('testgrey-inverted.png')\n",
    "invimg.show()"
   ]
  },
  {
   "cell_type": "code",
   "execution_count": 72,
   "id": "b364d067",
   "metadata": {},
   "outputs": [
    {
     "name": "stdout",
     "output_type": "stream",
     "text": [
      "X is  1011  y is  113569\n"
     ]
    },
    {
     "ename": "IndexError",
     "evalue": "index 337 is out of bounds for axis 1 with size 337",
     "output_type": "error",
     "traceback": [
      "\u001b[1;31m---------------------------------------------------------------------------\u001b[0m",
      "\u001b[1;31mIndexError\u001b[0m                                Traceback (most recent call last)",
      "Input \u001b[1;32mIn [72]\u001b[0m, in \u001b[0;36m<cell line: 14>\u001b[1;34m()\u001b[0m\n\u001b[0;32m     15\u001b[0m \u001b[38;5;28;01mfor\u001b[39;00m y \u001b[38;5;129;01min\u001b[39;00m \u001b[38;5;28mrange\u001b[39m(\u001b[38;5;241m113569\u001b[39m):\n\u001b[0;32m     16\u001b[0m     \u001b[38;5;28;01mif\u001b[39;00m (x \u001b[38;5;241m%\u001b[39m \u001b[38;5;241m16\u001b[39m) \u001b[38;5;241m/\u001b[39m\u001b[38;5;241m/\u001b[39m \u001b[38;5;241m8\u001b[39m \u001b[38;5;241m==\u001b[39m (y \u001b[38;5;241m%\u001b[39m \u001b[38;5;241m16\u001b[39m) \u001b[38;5;241m/\u001b[39m\u001b[38;5;241m/\u001b[39m \u001b[38;5;241m8\u001b[39m:\n\u001b[1;32m---> 17\u001b[0m         numpy_data[:, y, x] \u001b[38;5;241m=\u001b[39m \u001b[38;5;241m0\u001b[39m\n\u001b[0;32m     18\u001b[0m     \u001b[38;5;28;01melse\u001b[39;00m:\n\u001b[0;32m     19\u001b[0m         numpy_data[:, y, x] \u001b[38;5;241m=\u001b[39m \u001b[38;5;241m255\u001b[39m\n",
      "\u001b[1;31mIndexError\u001b[0m: index 337 is out of bounds for axis 1 with size 337"
     ]
    }
   ],
   "source": [
    "from PIL import Image                ## to load image\n",
    "import numpy as np                   ## to convert in array\n",
    "\n",
    "## Upload image through matplolib\n",
    "image = Image.open('image.jpg')\n",
    "\n",
    "## converting the image into array\n",
    "numpy_data = np.array(image)\n",
    "\n",
    "## converting RGB to Grey Scale -- Option 1 \n",
    "xv = numpy_data[:,1,:].size\n",
    "yv = numpy_data[:,:,1].size\n",
    "print(\"X is \", xv, \" y is \", yv)\n",
    "for x in range(1011):\n",
    "    for y in range(113569):\n",
    "        if (x % 16) // 8 == (y % 16) // 8:\n",
    "            numpy_data[:, y, x] = 0\n",
    "        else:\n",
    "            numpy_data[:, y, x] = 255\n",
    "\n",
    "img = Image.fromarray(numpy_data)\n",
    "img.save('shah.png')\n",
    "img.show()"
   ]
  },
  {
   "cell_type": "code",
   "execution_count": 63,
   "id": "9f4a2c4c",
   "metadata": {},
   "outputs": [
    {
     "data": {
      "text/plain": [
       "113569"
      ]
     },
     "execution_count": 63,
     "metadata": {},
     "output_type": "execute_result"
    }
   ],
   "source": [
    "numpy_data[:,:,1].size # 340707"
   ]
  },
  {
   "cell_type": "code",
   "execution_count": 36,
   "id": "c9b515b9",
   "metadata": {},
   "outputs": [
    {
     "name": "stdout",
     "output_type": "stream",
     "text": [
      "(337, 337)\n",
      "(337, 337, 3)\n"
     ]
    }
   ],
   "source": [
    "print(imGray.shape)\n",
    "print(numpy_data.shape)"
   ]
  },
  {
   "cell_type": "code",
   "execution_count": 18,
   "id": "fac1811b",
   "metadata": {},
   "outputs": [
    {
     "data": {
      "image/png": "[encoded data removed]",
      "text/plain": [
       "<Figure size 432x288 with 1 Axes>"
      ]
     },
     "metadata": {
      "needs_background": "light"
     },
     "output_type": "display_data"
    }
   ],
   "source": [
    "from matplotlib import pyplot as plt ## to show image\n",
    "from PIL import Image                ## to load image\n",
    "import numpy as np                   ## to convert in array\n",
    "\n",
    "## Upload image through matplolib\n",
    "image = Image.open('image.jpg')\n",
    "\n",
    "## converting the image into array\n",
    "numpy_data = np.array(image)\n",
    "\n",
    "## converting RGB to Grey Scale -- Option 1 \n",
    "\n",
    "R, G, B = numpy_data[:,:,0], numpy_data[:,:,1], numpy_data[:,:,2]\n",
    "imgGray = 0.2989 * R + 0.5870 * G + 0.1140 * B\n",
    "\n",
    "## converting RGB to Grey Scale -- Option 2 \n",
    "rgb_weights = [0.2989, 0.5870, 0.1140]\n",
    "imGray = np.dot(numpy_data[...,:3], rgb_weights)\n",
    "\n",
    "## Uploading array into image through pil\n",
    "plt.imshow(imgGray, cmap='gray') ## to Show the picture\n",
    "plt.show()"
   ]
  },
  {
   "cell_type": "code",
   "execution_count": null,
   "id": "921f07ab",
   "metadata": {},
   "outputs": [],
   "source": []
  }
 ],
 "metadata": {
  "kernelspec": {
   "display_name": "Python 3 (ipykernel)",
   "language": "python",
   "name": "python3"
  },
  "language_info": {
   "codemirror_mode": {
    "name": "ipython",
    "version": 3
   },
   "file_extension": ".py",
   "mimetype": "text/x-python",
   "name": "python",
   "nbconvert_exporter": "python",
   "pygments_lexer": "ipython3",
   "version": "3.9.12"
  }
 },
 "nbformat": 4,
 "nbformat_minor": 5
}
