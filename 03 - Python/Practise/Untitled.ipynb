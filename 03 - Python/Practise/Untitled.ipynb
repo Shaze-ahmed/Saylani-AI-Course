{
 "cells": [
  {
   "cell_type": "code",
   "execution_count": 1,
   "id": "298b6d3f",
   "metadata": {},
   "outputs": [],
   "source": [
    "fh = open(r\"wchat.txt\", \"r\").read()"
   ]
  },
  {
   "cell_type": "code",
   "execution_count": 3,
   "id": "60a6f1ff",
   "metadata": {},
   "outputs": [
    {
     "name": "stdout",
     "output_type": "stream",
     "text": [
      "[11:05 pm, 05/08/2022] iQo: Iqbal Ahmed AI-46214 03453113993 iq.ahmed91@gmail.com\n",
      "[11:12 pm, 05/08/2022] Muhammad Saad AI: Muhammad Saad: AI46190 03043184681: sm.saad50@gmail.com\n",
      "[11:12 pm, 05/08/2022] Shahzad IBT: Shahzad Ahmed : AI-46165 - 03002303175 - shaze.ahmed@gmail.com\n",
      "[11:12 pm, 05/08/2022] +92 315 2935701: \n",
      "o:03152935701\n",
      "[11:13 pm, 05/08/2022] +92 334 2995610: Talha Mehfooz, AI-40211 email: khurshaiditm47@gmail.com , mobile: 03342995610\n",
      "[11:13 pm, 05/08/2022] +92 335 3271054: Muhammad Mohsi\n",
      "sheikh0700@gmail.com\n",
      "No: 03353271054\n",
      "[11:13 pm, 05/08/2022] +92 345 2541450: Hidayat ur Rehma\n",
      " : AI-6546 email: abc@gmail.com\n",
      "[11:13 pm, 05/08/2022] +92 316 2688657: Muhammad Faiza\n",
      "waseem476@gmail.com\n",
      "[11:13 pm, 05/08/2022] +92 344 2226632: Name: Saad Ahmed\n",
      "RollNo: AI-47242\n",
      "Email: hello.saad96@gmail.com\n",
      "[11:13 pm, 05/08/2022] +92 313 1145255: Gulzar :\n",
      "AI-20145\n",
      "Email:hafizgulzar.alm1996@gmail.com\n",
      "Mobile \n",
      "o. 03131134244\n",
      "[11:13 pm, 05/08/2022] +92 323 2900066: Abdul Rasheed AI-40154\n",
      "email: abdulrasheed2511gmail.com\n",
      "[11:14 pm, 05/08/2022] +92 315 3727169: Muhammad Zeesha\n",
      "o: 03153727169\n",
      "[11:14 pm, 05/08/2022] +92 342 3392795: Ahmed saleem :AI-44378\n",
      "Email: ahmedsaleem2122@gmail.com\n",
      "Mobile \n",
      "o:0342-3392795\n",
      "[11:14 pm, 05/08/2022] M. Ali Nasir CR AI: Name : Ali Nasir \n",
      "Roll No: 44365 \n",
      "NIC: 42101-9864676-7 \n",
      "Email: mali\n",
      "asir1997@gmail.com \n",
      "Mobile No: 0331-2147373\n",
      "[11:14 pm, 05/08/2022] +92 333 3120597: Name : Hamza Ahmed A\n",
      "umber : 03333120597\n",
      "[11:14 pm, 05/08/2022] +92 316 1448439: \n",
      "o: 03161448439\n",
      "[11:14 pm, 05/08/2022] +92 315 2185186: Name: Irfa\n",
      "muhammadk786@gmail.com Mobile Number: 03152185186\n",
      "[11:15 pm, 05/08/2022] +92 312 2093412: Basharat Ali :AI-46716\n",
      "Email: basharatfarhad24@gmail.com\n",
      "Mobile \n",
      "o:03122093412\n",
      "[11:15 pm, 05/08/2022] +92 344 1802958: Name: Muhammad usama\n",
      "Roll \n",
      "o : 03441802958\n",
      "Email : usamakh315@gmail.com\n",
      "[11:15 pm, 05/08/2022] +92 312 8525358: Faraz uddi\n",
      " : AI-44226- 03128525358 - asbausmuhammad92@gmail.com\n",
      "[11:15 pm, 05/08/2022] +92 334 3523966: Name: Syed Muhammad Mooazam , Roll No: AI-40222 , Mobile Number: +923343523966\n",
      "[11:15 pm, 05/08/2022] +92 324 2824117: Name : Abdul Sami  Roll \n",
      "umber : 03242824117\n",
      "[11:16 pm, 05/08/2022] +92 312 2296999: Umair Taqi : AI-46155 - 03122296999 - umairtaqi48@gmail.com\n",
      "[11:16 pm, 05/08/2022] +92 323 2553599: Name: Atiq Raza\n",
      "ID : AI-42612\n",
      "Email : razaatiq05@gmail.com\n",
      "Mobile No: 03232553599\n",
      "[11:16 pm, 05/08/2022] +92 334 0378290: Ahsa\n",
      "\n",
      "AI-43505\n",
      "0334-0378290\n",
      "[11:16 pm, 05/08/2022] M. FURQAN CR AI: Name: Muhammad Furqa\n",
      "o:03120004695\n",
      "[11:17 pm, 05/08/2022] +92 306 2462926: Name: Syed Salma\n",
      " Ali , Roll No: AI-40969 , Mobile Number: +923062462926\n",
      "[11:17 pm, 05/08/2022] +92 309 2655755: Name: Syed Muhammad Da\n",
      "iyalazam19@gmail.com\n",
      "[11:17 pm, 05/08/2022] +92 302 8289423: Mehmood AI-41824 03028289423 mahmoodsulema\n"
     ]
    }
   ],
   "source": [
    "for line in fh.split(\"n\"):\n",
    "    if \"[\" in line:\n",
    "        print(line)"
   ]
  },
  {
   "cell_type": "code",
   "execution_count": 18,
   "id": "8d01b31e",
   "metadata": {},
   "outputs": [],
   "source": [
    "dd = '''09:03:08 From Syed Jawad [PIAIC185558] To Everyone : assalam wa alikum\n",
    "09:03:14 From Mustafa Mufti To Everyone : Theek thaak sir, thank you\n",
    "09:03:16 From Syed Jawad [PIAIC185558] To Everyone : alhamdulliah how r u?\n",
    "09:03:17 From Rao Arslan To Everyone : Muhammad Arslan [PIAIC-126354]\n",
    "09:03:20 From Mustafa Mufti To Everyone : Nahi sir all good\n",
    "09:03:31 From Aisha Siddiqua PIAIC 181221 To Everyone : alhamdulillah\n",
    "09:03:56 From Kabeer Rajput To Everyone : Muhammad Abdul Kabeer Rajput - PIAIC 133488\n",
    "09:04:09 From Syed Jawad [PIAIC185558] To Everyone : %\n",
    "09:04:33 From ABDUL BASIT To Everyone : Abdul basitPIAIC59115'''"
   ]
  },
  {
   "cell_type": "code",
   "execution_count": 24,
   "id": "e1a2a0f8",
   "metadata": {},
   "outputs": [
    {
     "name": "stdout",
     "output_type": "stream",
     "text": [
      "[]\n"
     ]
    }
   ],
   "source": [
    "xx = re.findall(\"([PIAIC]+\\s?\\d{5,6}/[m]\\s[A-z]+\\s[A-z]+)\", dd)\n",
    "print(xx)"
   ]
  },
  {
   "cell_type": "code",
   "execution_count": 26,
   "id": "f490bfbb",
   "metadata": {},
   "outputs": [
    {
     "name": "stdout",
     "output_type": "stream",
     "text": [
      "['From Syed Jawad [PIAIC185558', 'From Syed Jawad [PIAIC185558', 'From Aisha Siddiqua PIAIC 181221', 'From Kabeer Rajput To Everyone : Muhammad Abdul Kabeer Rajput - PIAIC 133488', 'From Syed Jawad [PIAIC185558']"
     ]
    }
   ],
   "source": [
    "yy = re.findall(r\"(\\bFrom\\s[A-z]+\\s\\w+.+\\bPIAIC\\s?\\d{5,6})\", dd)\n",
    "print(yy, end=\"\")"
   ]
  },
  {
   "cell_type": "code",
   "execution_count": null,
   "id": "91305896",
   "metadata": {},
   "outputs": [],
   "source": []
  },
  {
   "cell_type": "code",
   "execution_count": null,
   "id": "94d1f45b",
   "metadata": {},
   "outputs": [],
   "source": []
  }
 ],
 "metadata": {
  "kernelspec": {
   "display_name": "Python 3 (ipykernel)",
   "language": "python",
   "name": "python3"
  },
  "language_info": {
   "codemirror_mode": {
    "name": "ipython",
    "version": 3
   },
   "file_extension": ".py",
   "mimetype": "text/x-python",
   "name": "python",
   "nbconvert_exporter": "python",
   "pygments_lexer": "ipython3",
   "version": "3.9.12"
  }
 },
 "nbformat": 4,
 "nbformat_minor": 5
}
