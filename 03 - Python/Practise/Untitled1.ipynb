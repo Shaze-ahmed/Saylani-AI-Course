{
 "cells": [
  {
   "cell_type": "code",
   "execution_count": 2,
   "id": "11e94d15",
   "metadata": {},
   "outputs": [
    {
     "name": "stdout",
     "output_type": "stream",
     "text": [
      "[[1, 2, 3], [4, 'X', 6], [7, 8, 9]]\n"
     ]
    }
   ],
   "source": [
    "print(board)"
   ]
  },
  {
   "cell_type": "code",
   "execution_count": 1,
   "id": "7fe5ab05",
   "metadata": {},
   "outputs": [
    {
     "name": "stdout",
     "output_type": "stream",
     "text": [
      "+-------+-------+-------+\n",
      "|       |       |       |\n",
      "|   1   |   2   |   3   |\n",
      "|       |       |       |\n",
      "+-------+-------+-------+\n",
      "|       |       |       |\n",
      "|   4   |   X   |   6   |\n",
      "|       |       |       |\n",
      "+-------+-------+-------+\n",
      "|       |       |       |\n",
      "|   7   |   8   |   9   |\n",
      "|       |       |       |\n",
      "+-------+-------+-------+\n"
     ]
    },
    {
     "ename": "KeyboardInterrupt",
     "evalue": "Interrupted by user",
     "output_type": "error",
     "traceback": [
      "\u001b[1;31m---------------------------------------------------------------------------\u001b[0m",
      "\u001b[1;31mKeyboardInterrupt\u001b[0m                         Traceback (most recent call last)",
      "Input \u001b[1;32mIn [1]\u001b[0m, in \u001b[0;36m<cell line: 78>\u001b[1;34m()\u001b[0m\n\u001b[0;32m     79\u001b[0m display_board(board)\n\u001b[0;32m     80\u001b[0m \u001b[38;5;28;01mif\u001b[39;00m human_turn:\n\u001b[1;32m---> 81\u001b[0m \t\u001b[43menter_move\u001b[49m\u001b[43m(\u001b[49m\u001b[43mboard\u001b[49m\u001b[43m)\u001b[49m\n\u001b[0;32m     82\u001b[0m \tvictor \u001b[38;5;241m=\u001b[39m victory_for(board,\u001b[38;5;124m'\u001b[39m\u001b[38;5;124mO\u001b[39m\u001b[38;5;124m'\u001b[39m)\n\u001b[0;32m     83\u001b[0m \u001b[38;5;28;01melse\u001b[39;00m:\t\n",
      "Input \u001b[1;32mIn [1]\u001b[0m, in \u001b[0;36menter_move\u001b[1;34m(board)\u001b[0m\n\u001b[0;32m     16\u001b[0m ok \u001b[38;5;241m=\u001b[39m \u001b[38;5;28;01mFalse\u001b[39;00m\t\u001b[38;5;66;03m# fake assumption - we need it to enter the loop\u001b[39;00m\n\u001b[0;32m     17\u001b[0m \u001b[38;5;28;01mwhile\u001b[39;00m \u001b[38;5;129;01mnot\u001b[39;00m ok:\n\u001b[1;32m---> 18\u001b[0m \tmove \u001b[38;5;241m=\u001b[39m \u001b[38;5;28;43minput\u001b[39;49m\u001b[43m(\u001b[49m\u001b[38;5;124;43m\"\u001b[39;49m\u001b[38;5;124;43mEnter your move: \u001b[39;49m\u001b[38;5;124;43m\"\u001b[39;49m\u001b[43m)\u001b[49m \n\u001b[0;32m     19\u001b[0m \tok \u001b[38;5;241m=\u001b[39m \u001b[38;5;28mlen\u001b[39m(move) \u001b[38;5;241m==\u001b[39m \u001b[38;5;241m1\u001b[39m \u001b[38;5;129;01mand\u001b[39;00m move \u001b[38;5;241m>\u001b[39m\u001b[38;5;241m=\u001b[39m \u001b[38;5;124m'\u001b[39m\u001b[38;5;124m1\u001b[39m\u001b[38;5;124m'\u001b[39m \u001b[38;5;129;01mand\u001b[39;00m move \u001b[38;5;241m<\u001b[39m\u001b[38;5;241m=\u001b[39m \u001b[38;5;124m'\u001b[39m\u001b[38;5;124m9\u001b[39m\u001b[38;5;124m'\u001b[39m \u001b[38;5;66;03m# is user's input valid?\u001b[39;00m\n\u001b[0;32m     20\u001b[0m \t\u001b[38;5;28;01mif\u001b[39;00m \u001b[38;5;129;01mnot\u001b[39;00m ok:\n",
      "File \u001b[1;32m~\\Anaconda3\\lib\\site-packages\\ipykernel\\kernelbase.py:1075\u001b[0m, in \u001b[0;36mKernel.raw_input\u001b[1;34m(self, prompt)\u001b[0m\n\u001b[0;32m   1071\u001b[0m \u001b[38;5;28;01mif\u001b[39;00m \u001b[38;5;129;01mnot\u001b[39;00m \u001b[38;5;28mself\u001b[39m\u001b[38;5;241m.\u001b[39m_allow_stdin:\n\u001b[0;32m   1072\u001b[0m     \u001b[38;5;28;01mraise\u001b[39;00m StdinNotImplementedError(\n\u001b[0;32m   1073\u001b[0m         \u001b[38;5;124m\"\u001b[39m\u001b[38;5;124mraw_input was called, but this frontend does not support input requests.\u001b[39m\u001b[38;5;124m\"\u001b[39m\n\u001b[0;32m   1074\u001b[0m     )\n\u001b[1;32m-> 1075\u001b[0m \u001b[38;5;28;01mreturn\u001b[39;00m \u001b[38;5;28;43mself\u001b[39;49m\u001b[38;5;241;43m.\u001b[39;49m\u001b[43m_input_request\u001b[49m\u001b[43m(\u001b[49m\n\u001b[0;32m   1076\u001b[0m \u001b[43m    \u001b[49m\u001b[38;5;28;43mstr\u001b[39;49m\u001b[43m(\u001b[49m\u001b[43mprompt\u001b[49m\u001b[43m)\u001b[49m\u001b[43m,\u001b[49m\n\u001b[0;32m   1077\u001b[0m \u001b[43m    \u001b[49m\u001b[38;5;28;43mself\u001b[39;49m\u001b[38;5;241;43m.\u001b[39;49m\u001b[43m_parent_ident\u001b[49m\u001b[43m[\u001b[49m\u001b[38;5;124;43m\"\u001b[39;49m\u001b[38;5;124;43mshell\u001b[39;49m\u001b[38;5;124;43m\"\u001b[39;49m\u001b[43m]\u001b[49m\u001b[43m,\u001b[49m\n\u001b[0;32m   1078\u001b[0m \u001b[43m    \u001b[49m\u001b[38;5;28;43mself\u001b[39;49m\u001b[38;5;241;43m.\u001b[39;49m\u001b[43mget_parent\u001b[49m\u001b[43m(\u001b[49m\u001b[38;5;124;43m\"\u001b[39;49m\u001b[38;5;124;43mshell\u001b[39;49m\u001b[38;5;124;43m\"\u001b[39;49m\u001b[43m)\u001b[49m\u001b[43m,\u001b[49m\n\u001b[0;32m   1079\u001b[0m \u001b[43m    \u001b[49m\u001b[43mpassword\u001b[49m\u001b[38;5;241;43m=\u001b[39;49m\u001b[38;5;28;43;01mFalse\u001b[39;49;00m\u001b[43m,\u001b[49m\n\u001b[0;32m   1080\u001b[0m \u001b[43m\u001b[49m\u001b[43m)\u001b[49m\n",
      "File \u001b[1;32m~\\Anaconda3\\lib\\site-packages\\ipykernel\\kernelbase.py:1120\u001b[0m, in \u001b[0;36mKernel._input_request\u001b[1;34m(self, prompt, ident, parent, password)\u001b[0m\n\u001b[0;32m   1117\u001b[0m             \u001b[38;5;28;01mbreak\u001b[39;00m\n\u001b[0;32m   1118\u001b[0m \u001b[38;5;28;01mexcept\u001b[39;00m \u001b[38;5;167;01mKeyboardInterrupt\u001b[39;00m:\n\u001b[0;32m   1119\u001b[0m     \u001b[38;5;66;03m# re-raise KeyboardInterrupt, to truncate traceback\u001b[39;00m\n\u001b[1;32m-> 1120\u001b[0m     \u001b[38;5;28;01mraise\u001b[39;00m \u001b[38;5;167;01mKeyboardInterrupt\u001b[39;00m(\u001b[38;5;124m\"\u001b[39m\u001b[38;5;124mInterrupted by user\u001b[39m\u001b[38;5;124m\"\u001b[39m) \u001b[38;5;28;01mfrom\u001b[39;00m \u001b[38;5;28mNone\u001b[39m\n\u001b[0;32m   1121\u001b[0m \u001b[38;5;28;01mexcept\u001b[39;00m \u001b[38;5;167;01mException\u001b[39;00m:\n\u001b[0;32m   1122\u001b[0m     \u001b[38;5;28mself\u001b[39m\u001b[38;5;241m.\u001b[39mlog\u001b[38;5;241m.\u001b[39mwarning(\u001b[38;5;124m\"\u001b[39m\u001b[38;5;124mInvalid Message:\u001b[39m\u001b[38;5;124m\"\u001b[39m, exc_info\u001b[38;5;241m=\u001b[39m\u001b[38;5;28;01mTrue\u001b[39;00m)\n",
      "\u001b[1;31mKeyboardInterrupt\u001b[0m: Interrupted by user"
     ]
    }
   ],
   "source": [
    "from random import randrange\n",
    "\n",
    "\n",
    "def display_board(board):\n",
    "\tprint(\"+-------\" * 3,\"+\", sep=\"\")\n",
    "\tfor row in range(3):\n",
    "\t\tprint(\"|       \" * 3,\"|\", sep=\"\")\n",
    "\t\tfor col in range(3):\n",
    "\t\t\tprint(\"|   \" + str(board[row][col]) + \"   \", end=\"\")\n",
    "\t\tprint(\"|\")\n",
    "\t\tprint(\"|       \" * 3,\"|\",sep=\"\")\n",
    "\t\tprint(\"+-------\" * 3,\"+\",sep=\"\")\n",
    "\n",
    "\n",
    "def enter_move(board):\n",
    "\tok = False\t# fake assumption - we need it to enter the loop\n",
    "\twhile not ok:\n",
    "\t\tmove = input(\"Enter your move: \") \n",
    "\t\tok = len(move) == 1 and move >= '1' and move <= '9' # is user's input valid?\n",
    "\t\tif not ok:\n",
    "\t\t\tprint(\"Bad move - repeat your input!\") # no, it isn't - do the input again\n",
    "\t\t\tcontinue\n",
    "\t\tmove = int(move) - 1 \t# cell's number from 0 to 8\n",
    "\t\trow = move // 3 \t# cell's row\n",
    "\t\tcol = move % 3\t\t# cell's column\n",
    "\t\tsign = board[row][col]\t# check the selected square\n",
    "\t\tok = sign not in ['O','X'] \n",
    "\t\tif not ok:\t# it's occupied - to the input again\n",
    "\t\t\tprint(\"Field already occupied - repeat your input!\")\n",
    "\t\t\tcontinue\n",
    "\tboard[row][col] = 'O' \t# set '0' at the selected square\n",
    "\n",
    "\n",
    "def make_list_of_free_fields(board):\n",
    "\tfree = []\t# the list is empty initially\n",
    "\tfor row in range(3): # iterate through rows\n",
    "\t\tfor col in range(3): # iterate through columns\n",
    "\t\t\tif board[row][col] not in ['O','X']: # is the cell free?\n",
    "\t\t\t\tfree.append((row,col)) # yes, it is - append new tuple to the list\n",
    "\treturn free\n",
    "\n",
    "\n",
    "def victory_for(board,sgn):\n",
    "\tif sgn == \"X\":\t# are we looking for X?\n",
    "\t\twho = 'me'\t# yes - it's computer's side\n",
    "\telif sgn == \"O\": # ... or for O?\n",
    "\t\twho = 'you'\t# yes - it's our side\n",
    "\telse:\n",
    "\t\twho = None\t# we should not fall here!\n",
    "\tcross1 = cross2 = True  # for diagonals\n",
    "\tfor rc in range(3):\n",
    "\t\tif board[rc][0] == sgn and board[rc][1] == sgn and board[rc][2] == sgn:\t# check row rc\n",
    "\t\t\treturn who\n",
    "\t\tif board[0][rc] == sgn and board[1][rc] == sgn and board[2][rc] == sgn: # check column rc\n",
    "\t\t\treturn who\n",
    "\t\tif board[rc][rc] != sgn: # check 1st diagonal\n",
    "\t\t\tcross1 = False\n",
    "\t\tif board[2 - rc][2 - rc] != sgn: # check 2nd diagonal\n",
    "\t\t\tcross2 = False\n",
    "\tif cross1 or cross2:\n",
    "\t\treturn who\n",
    "\treturn None\n",
    "\n",
    "\n",
    "def draw_move(board):\n",
    "\tfree = make_list_of_free_fields(board) # make a list of free fields\n",
    "\tcnt = len(free)\n",
    "\tif cnt > 0:\t# if the list is not empty, choose a place for 'X' and set it\n",
    "\t\tthis = randrange(cnt)\n",
    "\t\trow, col = free[this]\n",
    "\t\tboard[row][col] = 'X'\n",
    "\n",
    "\n",
    "board = [ [3 * j + i + 1 for i in range(3)] for j in range(3) ] # make an empty board\n",
    "board[1][1] = 'X' # set first 'X' in the middle\n",
    "free = make_list_of_free_fields(board)\n",
    "human_turn = True # which turn is it now?\n",
    "while len(free):\n",
    "\tdisplay_board(board)\n",
    "\tif human_turn:\n",
    "\t\tenter_move(board)\n",
    "\t\tvictor = victory_for(board,'O')\n",
    "\telse:\t\n",
    "\t\tdraw_move(board)\n",
    "\t\tvictor = victory_for(board,'X')\n",
    "\tif victor != None:\n",
    "\t\tbreak\n",
    "\thuman_turn = not human_turn\t\t\n",
    "\tfree = make_list_of_free_fields(board)\n",
    "\n",
    "display_board(board)\n",
    "if victor == 'you':\n",
    "\tprint(\"You won!\")\n",
    "elif victor == 'me':\n",
    "\tprint(\"I won\")\n",
    "else:\n",
    "\tprint(\"Tie!\")\n"
   ]
  },
  {
   "cell_type": "code",
   "execution_count": null,
   "id": "19854799",
   "metadata": {},
   "outputs": [],
   "source": []
  }
 ],
 "metadata": {
  "kernelspec": {
   "display_name": "Python 3 (ipykernel)",
   "language": "python",
   "name": "python3"
  },
  "language_info": {
   "codemirror_mode": {
    "name": "ipython",
    "version": 3
   },
   "file_extension": ".py",
   "mimetype": "text/x-python",
   "name": "python",
   "nbconvert_exporter": "python",
   "pygments_lexer": "ipython3",
   "version": "3.9.12"
  }
 },
 "nbformat": 4,
 "nbformat_minor": 5
}
