{
 "cells": [
  {
   "cell_type": "code",
   "execution_count": 1,
   "id": "a39dc3ad",
   "metadata": {},
   "outputs": [],
   "source": [
    "import string\n",
    "import random"
   ]
  },
  {
   "cell_type": "code",
   "execution_count": 69,
   "id": "151beeb9",
   "metadata": {},
   "outputs": [],
   "source": [
    "def HangmanGame():\n",
    "    wordList = ['Pakistan','Karachi','Lahore','Islamabad','Quetta','Peshawar','Salyani']\n",
    "    gWord = random.choice(wordList).upper()\n",
    "    gWordLetter = set(gWord.upper())\n",
    "    alphabets = set(string.ascii_uppercase)\n",
    "    used_alpha = set()\n",
    "    print(gWord)\n",
    "    \n",
    "    while len(gWordLetter) > 0:\n",
    "        \n",
    "        myList = [rLetter if rLetter in used_alpha else '_' for rLetter in gWord.upper()]\n",
    "        print(used_alpha)\n",
    "        print(gWordLetter)\n",
    "        print('Current Word is : ', ' '.join(myList))\n",
    "        myLetter = input(\"Guess the Letter for the Word : \").upper()\n",
    "\n",
    "        if myLetter in alphabets - used_alpha:\n",
    "            used_alpha.add(myLetter)\n",
    "            if myLetter in gWordLetter:\n",
    "                gWordLetter.remove(myLetter)\n",
    "        elif myLetter in used_alpha:\n",
    "            print('You have already used that letter')\n",
    "        else:\n",
    "            print('invalid charaxcter')\n",
    "            \n",
    "    else:\n",
    "        print(f'Hey you guess the word !!! {gWord}')\n",
    "\n",
    "    "
   ]
  },
  {
   "cell_type": "code",
   "execution_count": 70,
   "id": "351daa58",
   "metadata": {},
   "outputs": [
    {
     "name": "stdout",
     "output_type": "stream",
     "text": [
      "ISLAMABAD\n",
      "set()\n",
      "{'L', 'A', 'B', 'I', 'M', 'D', 'S'}\n",
      "Current Word is :  _ _ _ _ _ _ _ _ _\n",
      "Guess the Letter for the Worda\n",
      "{'A'}\n",
      "{'L', 'B', 'I', 'M', 'D', 'S'}\n",
      "Current Word is :  _ _ _ A _ A _ A _\n",
      "Guess the Letter for the WordI\n",
      "{'A', 'I'}\n",
      "{'L', 'B', 'M', 'D', 'S'}\n",
      "Current Word is :  I _ _ A _ A _ A _\n",
      "Guess the Letter for the WordB\n",
      "{'A', 'B', 'I'}\n",
      "{'L', 'M', 'D', 'S'}\n",
      "Current Word is :  I _ _ A _ A B A _\n",
      "Guess the Letter for the WordM\n",
      "{'M', 'A', 'B', 'I'}\n",
      "{'L', 'D', 'S'}\n",
      "Current Word is :  I _ _ A M A B A _\n",
      "Guess the Letter for the WordS\n",
      "{'A', 'B', 'I', 'M', 'S'}\n",
      "{'L', 'D'}\n",
      "Current Word is :  I S _ A M A B A _\n",
      "Guess the Letter for the WordL\n",
      "{'A', 'L', 'B', 'I', 'M', 'S'}\n",
      "{'D'}\n",
      "Current Word is :  I S L A M A B A _\n",
      "Guess the Letter for the WordD\n",
      "Hey you guess the word !!! ISLAMABAD\n"
     ]
    }
   ],
   "source": [
    "HangmanGame()"
   ]
  },
  {
   "cell_type": "code",
   "execution_count": 35,
   "id": "c4f7203a",
   "metadata": {},
   "outputs": [
    {
     "name": "stdout",
     "output_type": "stream",
     "text": [
      "Current Word is :  _ _ _ _ _ _ _\n",
      "Guess the Letter for the Wordk\n",
      "set()\n",
      "Current Word is :  _ _ _ _ _ _ _\n",
      "Guess the Letter for the WordK\n",
      "{'K'}\n",
      "Current Word is :  K _ _ _ _ _ _\n",
      "Guess the Letter for the Worda\n",
      "{'K'}\n",
      "Current Word is :  K _ _ _ _ _ _\n",
      "Guess the Letter for the Wordr\n",
      "{'K'}\n",
      "Current Word is :  K _ _ _ _ _ _\n",
      "Guess the Letter for the WordR\n",
      "You have already used that letter\n",
      "{'R', 'K'}\n",
      "Current Word is :  K _ _ _ _ _ _\n",
      "Guess the Letter for the WordA\n",
      "You have already used that letter\n",
      "{'A', 'R', 'K'}\n",
      "Current Word is :  K _ _ _ _ _ _\n"
     ]
    },
    {
     "ename": "KeyboardInterrupt",
     "evalue": "Interrupted by user",
     "output_type": "error",
     "traceback": [
      "\u001b[1;31m---------------------------------------------------------------------------\u001b[0m",
      "\u001b[1;31mKeyboardInterrupt\u001b[0m                         Traceback (most recent call last)",
      "Input \u001b[1;32mIn [35]\u001b[0m, in \u001b[0;36m<cell line: 1>\u001b[1;34m()\u001b[0m\n\u001b[0;32m      2\u001b[0m myList \u001b[38;5;241m=\u001b[39m [rLetter \u001b[38;5;28;01mif\u001b[39;00m rLetter \u001b[38;5;129;01min\u001b[39;00m used_alpha \u001b[38;5;28;01melse\u001b[39;00m \u001b[38;5;124m'\u001b[39m\u001b[38;5;124m_\u001b[39m\u001b[38;5;124m'\u001b[39m \u001b[38;5;28;01mfor\u001b[39;00m rLetter \u001b[38;5;129;01min\u001b[39;00m gWord]\n\u001b[0;32m      3\u001b[0m \u001b[38;5;28mprint\u001b[39m(\u001b[38;5;124m'\u001b[39m\u001b[38;5;124mCurrent Word is : \u001b[39m\u001b[38;5;124m'\u001b[39m, \u001b[38;5;124m'\u001b[39m\u001b[38;5;124m \u001b[39m\u001b[38;5;124m'\u001b[39m\u001b[38;5;241m.\u001b[39mjoin(myList))\n\u001b[1;32m----> 4\u001b[0m myLetter \u001b[38;5;241m=\u001b[39m \u001b[38;5;28;43minput\u001b[39;49m\u001b[43m(\u001b[49m\u001b[38;5;124;43m\"\u001b[39;49m\u001b[38;5;124;43mGuess the Letter for the Word\u001b[39;49m\u001b[38;5;124;43m\"\u001b[39;49m\u001b[43m)\u001b[49m\n\u001b[0;32m      7\u001b[0m \u001b[38;5;28;01mif\u001b[39;00m myLetter \u001b[38;5;129;01min\u001b[39;00m alphabets \u001b[38;5;241m-\u001b[39m used_alpha:\n\u001b[0;32m      8\u001b[0m     used_alpha\u001b[38;5;241m.\u001b[39madd(myLetter)\n",
      "File \u001b[1;32m~\\Anaconda3\\lib\\site-packages\\ipykernel\\kernelbase.py:1075\u001b[0m, in \u001b[0;36mKernel.raw_input\u001b[1;34m(self, prompt)\u001b[0m\n\u001b[0;32m   1071\u001b[0m \u001b[38;5;28;01mif\u001b[39;00m \u001b[38;5;129;01mnot\u001b[39;00m \u001b[38;5;28mself\u001b[39m\u001b[38;5;241m.\u001b[39m_allow_stdin:\n\u001b[0;32m   1072\u001b[0m     \u001b[38;5;28;01mraise\u001b[39;00m StdinNotImplementedError(\n\u001b[0;32m   1073\u001b[0m         \u001b[38;5;124m\"\u001b[39m\u001b[38;5;124mraw_input was called, but this frontend does not support input requests.\u001b[39m\u001b[38;5;124m\"\u001b[39m\n\u001b[0;32m   1074\u001b[0m     )\n\u001b[1;32m-> 1075\u001b[0m \u001b[38;5;28;01mreturn\u001b[39;00m \u001b[38;5;28;43mself\u001b[39;49m\u001b[38;5;241;43m.\u001b[39;49m\u001b[43m_input_request\u001b[49m\u001b[43m(\u001b[49m\n\u001b[0;32m   1076\u001b[0m \u001b[43m    \u001b[49m\u001b[38;5;28;43mstr\u001b[39;49m\u001b[43m(\u001b[49m\u001b[43mprompt\u001b[49m\u001b[43m)\u001b[49m\u001b[43m,\u001b[49m\n\u001b[0;32m   1077\u001b[0m \u001b[43m    \u001b[49m\u001b[38;5;28;43mself\u001b[39;49m\u001b[38;5;241;43m.\u001b[39;49m\u001b[43m_parent_ident\u001b[49m\u001b[43m[\u001b[49m\u001b[38;5;124;43m\"\u001b[39;49m\u001b[38;5;124;43mshell\u001b[39;49m\u001b[38;5;124;43m\"\u001b[39;49m\u001b[43m]\u001b[49m\u001b[43m,\u001b[49m\n\u001b[0;32m   1078\u001b[0m \u001b[43m    \u001b[49m\u001b[38;5;28;43mself\u001b[39;49m\u001b[38;5;241;43m.\u001b[39;49m\u001b[43mget_parent\u001b[49m\u001b[43m(\u001b[49m\u001b[38;5;124;43m\"\u001b[39;49m\u001b[38;5;124;43mshell\u001b[39;49m\u001b[38;5;124;43m\"\u001b[39;49m\u001b[43m)\u001b[49m\u001b[43m,\u001b[49m\n\u001b[0;32m   1079\u001b[0m \u001b[43m    \u001b[49m\u001b[43mpassword\u001b[49m\u001b[38;5;241;43m=\u001b[39;49m\u001b[38;5;28;43;01mFalse\u001b[39;49;00m\u001b[43m,\u001b[49m\n\u001b[0;32m   1080\u001b[0m \u001b[43m\u001b[49m\u001b[43m)\u001b[49m\n",
      "File \u001b[1;32m~\\Anaconda3\\lib\\site-packages\\ipykernel\\kernelbase.py:1120\u001b[0m, in \u001b[0;36mKernel._input_request\u001b[1;34m(self, prompt, ident, parent, password)\u001b[0m\n\u001b[0;32m   1117\u001b[0m             \u001b[38;5;28;01mbreak\u001b[39;00m\n\u001b[0;32m   1118\u001b[0m \u001b[38;5;28;01mexcept\u001b[39;00m \u001b[38;5;167;01mKeyboardInterrupt\u001b[39;00m:\n\u001b[0;32m   1119\u001b[0m     \u001b[38;5;66;03m# re-raise KeyboardInterrupt, to truncate traceback\u001b[39;00m\n\u001b[1;32m-> 1120\u001b[0m     \u001b[38;5;28;01mraise\u001b[39;00m \u001b[38;5;167;01mKeyboardInterrupt\u001b[39;00m(\u001b[38;5;124m\"\u001b[39m\u001b[38;5;124mInterrupted by user\u001b[39m\u001b[38;5;124m\"\u001b[39m) \u001b[38;5;28;01mfrom\u001b[39;00m \u001b[38;5;28mNone\u001b[39m\n\u001b[0;32m   1121\u001b[0m \u001b[38;5;28;01mexcept\u001b[39;00m \u001b[38;5;167;01mException\u001b[39;00m:\n\u001b[0;32m   1122\u001b[0m     \u001b[38;5;28mself\u001b[39m\u001b[38;5;241m.\u001b[39mlog\u001b[38;5;241m.\u001b[39mwarning(\u001b[38;5;124m\"\u001b[39m\u001b[38;5;124mInvalid Message:\u001b[39m\u001b[38;5;124m\"\u001b[39m, exc_info\u001b[38;5;241m=\u001b[39m\u001b[38;5;28;01mTrue\u001b[39;00m)\n",
      "\u001b[1;31mKeyboardInterrupt\u001b[0m: Interrupted by user"
     ]
    }
   ],
   "source": [
    "while len(gWordLetter):\n",
    "    myList = [rLetter if rLetter in used_alpha else '_' for rLetter in gWord]\n",
    "    print('Current Word is : ', ' '.join(myList))\n",
    "    myLetter = input(\"Guess the Letter for the Word\")\n",
    "\n",
    "\n",
    "    if myLetter in alphabets - used_alpha:\n",
    "        used_alpha.add(myLetter)\n",
    "        if myLetter in gWordLetter:\n",
    "            gWordLetter.remove(myLetter)\n",
    "        elif myLetter in used_alpha:\n",
    "            print('You have already used that letter')\n",
    "        else:\n",
    "            print('invalid charaxcter')\n",
    "      \n",
    "    print(used_alpha)\n",
    "\n",
    "        "
   ]
  },
  {
   "cell_type": "code",
   "execution_count": null,
   "id": "d4d36184",
   "metadata": {},
   "outputs": [],
   "source": []
  }
 ],
 "metadata": {
  "kernelspec": {
   "display_name": "Python 3 (ipykernel)",
   "language": "python",
   "name": "python3"
  },
  "language_info": {
   "codemirror_mode": {
    "name": "ipython",
    "version": 3
   },
   "file_extension": ".py",
   "mimetype": "text/x-python",
   "name": "python",
   "nbconvert_exporter": "python",
   "pygments_lexer": "ipython3",
   "version": "3.9.12"
  }
 },
 "nbformat": 4,
 "nbformat_minor": 5
}
