{
 "cells": [
  {
   "cell_type": "code",
   "execution_count": 9,
   "id": "f3f04a97",
   "metadata": {},
   "outputs": [
    {
     "name": "stdout",
     "output_type": "stream",
     "text": [
      "0 Shahzad\n",
      "1 Iqbal\n",
      "2 Saad\n",
      "3 Zubair\n"
     ]
    }
   ],
   "source": [
    "list1 = ['Shahzad','Iqbal','Saad','Zubair']\n",
    "list2 = ['Ahmed','Khan','Muhammad','Ali']\n",
    "e = enumerate(list1)\n",
    "# print(type(e))\n",
    "\n",
    "xList = list(e)\n",
    "# print(xList)\n",
    "\n",
    "for ind, val in enumerate(list1):\n",
    "    print(ind, val)\n",
    "\n",
    "\n"
   ]
  },
  {
   "cell_type": "code",
   "execution_count": 4,
   "id": "d55d6441",
   "metadata": {},
   "outputs": [
    {
     "name": "stdout",
     "output_type": "stream",
     "text": [
      "[('Shahzad', 'Ahmed'), ('Iqbal', 'Khan'), ('Saad', 'Muhammad'), ('Zubair', 'Ali')]\n"
     ]
    }
   ],
   "source": [
    "z = zip(list1, list2)\n",
    "zL = list(z)\n",
    "print(zL)"
   ]
  },
  {
   "cell_type": "code",
   "execution_count": null,
   "id": "524ae92e",
   "metadata": {},
   "outputs": [],
   "source": []
  }
 ],
 "metadata": {
  "kernelspec": {
   "display_name": "Python 3 (ipykernel)",
   "language": "python",
   "name": "python3"
  },
  "language_info": {
   "codemirror_mode": {
    "name": "ipython",
    "version": 3
   },
   "file_extension": ".py",
   "mimetype": "text/x-python",
   "name": "python",
   "nbconvert_exporter": "python",
   "pygments_lexer": "ipython3",
   "version": "3.9.12"
  }
 },
 "nbformat": 4,
 "nbformat_minor": 5
}
