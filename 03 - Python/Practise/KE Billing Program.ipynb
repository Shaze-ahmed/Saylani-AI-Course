{
 "cells": [
  {
   "cell_type": "code",
   "execution_count": 11,
   "id": "682b1650",
   "metadata": {},
   "outputs": [
    {
     "name": "stdout",
     "output_type": "stream",
     "text": [
      "Please Enter the Current Unit for Billing !!! 850\n"
     ]
    },
    {
     "data": {
      "text/plain": [
       "[('Total Units', 850),\n",
       " ('Total Cost', 21795),\n",
       " ('First Slab 0 - 100', 1000),\n",
       " ('Second Slab 101 - 200', 1485),\n",
       " ('Third Slab 201 - 300', 1980),\n",
       " ('Forth Slab 301 - 500', 4975),\n",
       " ('Fifth Slab 501 - 1000', 12355)]"
      ]
     },
     "execution_count": 11,
     "metadata": {},
     "output_type": "execute_result"
    }
   ],
   "source": [
    "slabcost = [['First Slab 0 - 100'      ,0,100,10],\n",
    "            ['Second Slab 101 - 200'   ,101,200,15],\n",
    "            ['Third Slab 201 - 300'    ,201,300,20],\n",
    "            ['Forth Slab 301 - 500'    ,301,500,25],\n",
    "            ['Fifth Slab 501 - 1000'   ,501,1000,35],\n",
    "            ['Sixth Slab 1001 - 10000' ,1001,10000, 70],\n",
    "            ['Last Slab 10001 - 100000',10001,100000, 100]]\n",
    "unitlist, slablist, unitcost = [],[],[]\n",
    "totalcost, remunit = 0,0\n",
    "def CalculateBill(seq, unit):\n",
    "    tmpCost, xunit = 0,0\n",
    "    if unit <= slabcost[seq][2] - slabcost[seq][1]:\n",
    "        tmpCost = unit * slabcost[seq][3] \n",
    "    else:\n",
    "        tmpCost = (slabcost[seq][2] - slabcost[seq][1]) * int(slabcost[seq][3])\n",
    "    xunit = unit - (slabcost[seq][2] - slabcost[seq][1])\n",
    "    unitlist.append(slabcost[seq][0])   \n",
    "    slablist.append(tmpCost)\n",
    "    return xunit\n",
    "\n",
    "currunit = int(input(\"Please Enter the Current Unit for Billing !!! \"))\n",
    "# print()\n",
    "remunit = currunit\n",
    "for i in range(len(slabcost)):   \n",
    "    remunit = CalculateBill(i, remunit) \n",
    "    if remunit <=0:\n",
    "        break\n",
    "    \n",
    "for tt in range(len(slablist)):\n",
    "    totalcost += slablist[tt]\n",
    "unitlist.insert(0, \"Total Units\")\n",
    "slablist.insert(0, currunit)\n",
    "unitlist.insert(1, \"Total Cost\")\n",
    "slablist.insert(1, totalcost)\n",
    "\n",
    "list(zip(unitlist, slablist))"
   ]
  },
  {
   "cell_type": "code",
   "execution_count": null,
   "id": "3b562f7f",
   "metadata": {},
   "outputs": [],
   "source": []
  }
 ],
 "metadata": {
  "kernelspec": {
   "display_name": "Python 3 (ipykernel)",
   "language": "python",
   "name": "python3"
  },
  "language_info": {
   "codemirror_mode": {
    "name": "ipython",
    "version": 3
   },
   "file_extension": ".py",
   "mimetype": "text/x-python",
   "name": "python",
   "nbconvert_exporter": "python",
   "pygments_lexer": "ipython3",
   "version": "3.9.12"
  }
 },
 "nbformat": 4,
 "nbformat_minor": 5
}
