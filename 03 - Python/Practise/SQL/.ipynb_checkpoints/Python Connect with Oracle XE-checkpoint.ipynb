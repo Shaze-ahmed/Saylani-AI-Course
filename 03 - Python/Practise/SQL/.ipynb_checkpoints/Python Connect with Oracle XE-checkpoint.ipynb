{
 "cells": [
  {
   "cell_type": "code",
   "execution_count": 2,
   "id": "7d6adfd6",
   "metadata": {},
   "outputs": [
    {
     "name": "stdout",
     "output_type": "stream",
     "text": [
      "(datetime.datetime(2022, 8, 23, 17, 23, 23),)\n"
     ]
    }
   ],
   "source": [
    "import oracledb\n",
    "import os\n",
    "oracledb.init_oracle_client(lib_dir=r\"D:\\PythonOracle\\instantclient_19_16\")\n",
    "\n",
    "un = \"HR\"\n",
    "pw = \"hbl\"\n",
    "cs = \"localhost/XE\"\n",
    "# dsn=\"localhost/XEPDB1\"\n",
    "    \n",
    "with oracledb.connect(user=un, password=pw, dsn=cs) as connection:\n",
    "   \n",
    "    with connection.cursor() as cursor:\n",
    "\n",
    "        sql = \"\"\"select sysdate from dual\"\"\"\n",
    "        for r in cursor.execute(sql):\n",
    "            print(r)"
   ]
  },
  {
   "cell_type": "code",
   "execution_count": 3,
   "id": "a28ba4c1",
   "metadata": {},
   "outputs": [],
   "source": [
    "import os"
   ]
  },
  {
   "cell_type": "code",
   "execution_count": null,
   "id": "4bb91543",
   "metadata": {},
   "outputs": [],
   "source": []
  }
 ],
 "metadata": {
  "kernelspec": {
   "display_name": "Python 3 (ipykernel)",
   "language": "python",
   "name": "python3"
  },
  "language_info": {
   "codemirror_mode": {
    "name": "ipython",
    "version": 3
   },
   "file_extension": ".py",
   "mimetype": "text/x-python",
   "name": "python",
   "nbconvert_exporter": "python",
   "pygments_lexer": "ipython3",
   "version": "3.9.12"
  }
 },
 "nbformat": 4,
 "nbformat_minor": 5
}
