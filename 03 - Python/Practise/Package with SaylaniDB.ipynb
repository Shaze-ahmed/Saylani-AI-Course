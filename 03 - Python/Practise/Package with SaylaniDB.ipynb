{
 "cells": [
  {
   "cell_type": "code",
   "execution_count": 2,
   "id": "9f94c60f",
   "metadata": {},
   "outputs": [],
   "source": [
    "#pip install saylani46165db\n",
    "import saylani46165db as tt\n",
    "sayl = tt.SaylaniMain()\n",
    "\n",
    "sayl = saylani46165db.SaylaniMain()"
   ]
  },
  {
   "cell_type": "code",
   "execution_count": 3,
   "id": "494ee8e5",
   "metadata": {},
   "outputs": [
    {
     "name": "stdout",
     "output_type": "stream",
     "text": [
      "['AboutUS', 'AddNewCourse', 'AddNewStudent', 'AddNewTeacher', 'GetCourseList', 'GetStudentList', 'GetTeacherList', 'HO_Address', 'InstituteName', 'StudentSummary', 'UpdateCourseInfo', 'UpdateStudentInfo', 'UpdateTeacherInfo', '_CourseList', '_StudentList', '_TeacherList', 'totCourse', 'totStudents', 'totTeachers']\n"
     ]
    }
   ],
   "source": [
    "print([xx for xx in dir(sayl) if '__' not in xx])"
   ]
  },
  {
   "cell_type": "code",
   "execution_count": 44,
   "id": "e92a91ba",
   "metadata": {},
   "outputs": [],
   "source": [
    "sayl.AddNewStudent(StudentName=\"Shahzad\", BatchName = \"AI Batch - 3\", RollNum = \"AI-1234\", Course = \"AI\")\n",
    "sayl.AddNewStudent(StudentName=\"Saad\", BatchName = \"AI Batch - 3\", RollNum = \"AI-2345\", Course = \"DS\")\n",
    "sayl.AddNewStudent(StudentName=\"Iqbal\", BatchName = \"AI Batch - 3\", RollNum = \"AI-3456\", Course = \"CC\")\n",
    "\n",
    "sayl.AddNewTeacher(TeacherName = \"Muhammad Qasim\", CompanyName = \"UBL\", CourseName = \"DS\")\n",
    "sayl.AddNewTeacher(TeacherName = \"Qasim Hassan\", CompanyName = \"Saylani\", CourseName = \"AI\")\n",
    "sayl.AddNewTeacher(TeacherName = \"Haseeb Ahmed\", CompanyName = \"Saylani\", CourseName = \"CC\")\n",
    "\n",
    "sayl.AddNewCourse('DS','Data Science','2 Months',25000)\n",
    "sayl.AddNewCourse('AI','Artif Intelligence','3 Months',40000)\n",
    "sayl.AddNewCourse('CC','Cloud Computing','3 Months',50000)"
   ]
  },
  {
   "cell_type": "code",
   "execution_count": 45,
   "id": "a0263051",
   "metadata": {},
   "outputs": [
    {
     "name": "stdout",
     "output_type": "stream",
     "text": [
      "Student ID          Student Name                  Batch Name                    Roll Num            Courses\n",
      "------------------------------------------------------------------------------------------------------------------------\n",
      "1                   Shahzad                       AI Batch - 3                  AI-1234             AI\n",
      "2                   Saad                          AI Batch - 3                  AI-2345             DS\n",
      "3                   Iqbal                         AI Batch - 3                  AI-3456             CC\n",
      "\n",
      "Teacher ID          Teacher Name                            Company Name                  Courses\n",
      "----------------------------------------------------------------------------------------------------\n",
      "1                   Muhammad Qasim                UBL                           DS\n",
      "2                   Qasim Hassan                  Saylani                       AI\n",
      "3                   Haseeb Ahmed                  Saylani                       CC\n",
      "\n",
      "Course ID           Short Name                    Course Name                   Duration            Fees\n",
      "------------------------------------------------------------------------------------------------------------------------\n",
      "1                   DS                            Data Science                  2 Months            25000\n",
      "2                   AI                            Artif Intelligence            3 Months            40000\n",
      "3                   CC                            Cloud Computing               3 Months            50000\n",
      "\n"
     ]
    }
   ],
   "source": [
    "sayl.GetStudentList()\n",
    "sayl.GetTeacherList()\n",
    "sayl.GetCourseList()"
   ]
  },
  {
   "cell_type": "code",
   "execution_count": 32,
   "id": "707bdc99",
   "metadata": {},
   "outputs": [
    {
     "name": "stdout",
     "output_type": "stream",
     "text": [
      "Student ID          Student Name                  Batch Name                    Roll Num            Courses\n",
      "------------------------------------------------------------------------------------------------------------------------\n",
      "1                   Shahzad                       AI Batch - 3                  AI-1234             AI\n",
      "\n",
      "Teacher ID          Teacher Name                            Company Name                  Courses\n",
      "----------------------------------------------------------------------------------------------------\n",
      "2                   Qasim Hassan                  Saylani                       AI\n",
      "\n",
      "Course ID           Short Name                    Course Name                   Duration            Fees\n",
      "------------------------------------------------------------------------------------------------------------------------\n",
      "3                   CC                            Cloud Computing               3 Months            50000\n"
     ]
    }
   ],
   "source": [
    "sayl.GetStudentList(1)\n",
    "print()\n",
    "sayl.GetTeacherList(2)\n",
    "print()\n",
    "sayl.GetCourseList(3)"
   ]
  },
  {
   "cell_type": "code",
   "execution_count": 35,
   "id": "a2dc632a",
   "metadata": {},
   "outputs": [
    {
     "name": "stdout",
     "output_type": "stream",
     "text": [
      "Student ID\tStudent Name\t\tBatch Name\t\tCourse Name\t\t\tTeacher Name\n",
      "------------------------------------------------------------------------------------------------------------------------\n",
      "1\t\tShahzad\t\t\tAI Batch - 3\t\tArtif Intelligence\t\tQasim Hassan\n"
     ]
    }
   ],
   "source": [
    "sayl.StudentSummary(1)"
   ]
  },
  {
   "cell_type": "code",
   "execution_count": 40,
   "id": "06910b4c",
   "metadata": {},
   "outputs": [
    {
     "name": "stdout",
     "output_type": "stream",
     "text": [
      "Student ID\tStudent Name\t\tBatch Name\t\tCourse Name\t\t\tTeacher Name\n",
      "------------------------------------------------------------------------------------------------------------------------\n",
      "2\t\tSaad\t\t\tAI Batch - 3\t\tData Science\t\tMuhammad Qasim\n"
     ]
    }
   ],
   "source": [
    "sayl.StudentSummary('Saad')"
   ]
  },
  {
   "cell_type": "code",
   "execution_count": 41,
   "id": "eefb5aa4",
   "metadata": {},
   "outputs": [
    {
     "name": "stdout",
     "output_type": "stream",
     "text": [
      "Student ID\tStudent Name\t\tBatch Name\t\tCourse Name\t\t\tTeacher Name\n",
      "------------------------------------------------------------------------------------------------------------------------\n",
      "1\t\tShahzad\t\t\tAI Batch - 3\t\tArtif Intelligence\t\t\tQasim Hassan\n",
      "2\t\tSaad\t\t\tAI Batch - 3\t\tData Science\t\t\tMuhammad Qasim\n",
      "3\t\tIqbal\t\t\tAI Batch - 3\t\tCloud Computing\t\t\tHaseeb Ahmed\n",
      "\n"
     ]
    }
   ],
   "source": [
    "sayl.StudentSummary()"
   ]
  },
  {
   "cell_type": "code",
   "execution_count": 46,
   "id": "578bc16d",
   "metadata": {},
   "outputs": [
    {
     "data": {
      "text/plain": [
       "['AboutUS',\n",
       " 'AddNewCourse',\n",
       " 'AddNewStudent',\n",
       " 'AddNewTeacher',\n",
       " 'GetCourseList',\n",
       " 'GetStudentList',\n",
       " 'GetTeacherList',\n",
       " 'HO_Address',\n",
       " 'InstituteName',\n",
       " 'StudentSummary',\n",
       " 'UpdateCourseInfo',\n",
       " 'UpdateStudentInfo',\n",
       " 'UpdateTeacherInfo',\n",
       " '_BatchName',\n",
       " '_Course',\n",
       " '_CourseList',\n",
       " '_Courses__CheckCourseExists',\n",
       " '_Courses__PrintCourseInfo',\n",
       " '_Duration',\n",
       " '_Fees',\n",
       " '_RollNum',\n",
       " '_StudentList',\n",
       " '_Student__CheckStudentExists',\n",
       " '_Student__PrintStudentInfo',\n",
       " '_TeacherList',\n",
       " '_Teacher__CheckTeacherExists',\n",
       " '_Teacher__PrintTeacherInfo',\n",
       " '__class__',\n",
       " '__delattr__',\n",
       " '__dict__',\n",
       " '__dir__',\n",
       " '__doc__',\n",
       " '__eq__',\n",
       " '__format__',\n",
       " '__ge__',\n",
       " '__getattribute__',\n",
       " '__gt__',\n",
       " '__hash__',\n",
       " '__init__',\n",
       " '__init_subclass__',\n",
       " '__le__',\n",
       " '__lt__',\n",
       " '__module__',\n",
       " '__ne__',\n",
       " '__new__',\n",
       " '__reduce__',\n",
       " '__reduce_ex__',\n",
       " '__repr__',\n",
       " '__setattr__',\n",
       " '__sizeof__',\n",
       " '__str__',\n",
       " '__subclasshook__',\n",
       " '__weakref__',\n",
       " '_compName',\n",
       " '_courseName',\n",
       " '_shortName',\n",
       " '_studentName',\n",
       " '_teacherName',\n",
       " 'totCourse',\n",
       " 'totStudents',\n",
       " 'totTeachers']"
      ]
     },
     "execution_count": 46,
     "metadata": {},
     "output_type": "execute_result"
    }
   ],
   "source": [
    "dir(sayl)"
   ]
  },
  {
   "cell_type": "code",
   "execution_count": null,
   "id": "83ff7fd9",
   "metadata": {},
   "outputs": [],
   "source": []
  }
 ],
 "metadata": {
  "kernelspec": {
   "display_name": "Python 3 (ipykernel)",
   "language": "python",
   "name": "python3"
  },
  "language_info": {
   "codemirror_mode": {
    "name": "ipython",
    "version": 3
   },
   "file_extension": ".py",
   "mimetype": "text/x-python",
   "name": "python",
   "nbconvert_exporter": "python",
   "pygments_lexer": "ipython3",
   "version": "3.9.12"
  }
 },
 "nbformat": 4,
 "nbformat_minor": 5
}
