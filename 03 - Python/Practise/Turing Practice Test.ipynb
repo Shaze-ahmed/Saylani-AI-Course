{
 "cells": [
  {
   "cell_type": "code",
   "execution_count": null,
   "id": "565a2197",
   "metadata": {},
   "outputs": [],
   "source": [
    "ops=[\"5\",\"2\",\"C\",\"D\",\"+\"]\n",
    "\n",
    "def calPoints(ops) -> int:\n",
    "    \n",
    "    result = None\n",
    "    result = [list for list in ops if list == int]\n",
    "    return result\n",
    "\n",
    "if __name__ == '__main__':\n",
    "    line = input()\n",
    "    ops = line.strip().slit()    \n",
    "    print(calPoints(ops))"
   ]
  },
  {
   "cell_type": "code",
   "execution_count": 98,
   "id": "80084fbc",
   "metadata": {},
   "outputs": [
    {
     "name": "stdout",
     "output_type": "stream",
     "text": [
      "Enter the Vlaue1\n",
      "['1']\n",
      "1\n"
     ]
    }
   ],
   "source": [
    "def calPoints(ops) -> int:\n",
    "    \n",
    "    result = None    \n",
    "    lst = []\n",
    "    for i in ops:\n",
    "        if i.isalpha() == False and i!= \"+\":\n",
    "            lst.append(int(i))\n",
    "        else:\n",
    "            if i == \"C\":\n",
    "                lst.pop()\n",
    "            elif i == \"D\":\n",
    "                lst.append(lst[-1]*2)\n",
    "            elif i == \"+\":\n",
    "                lst.append(lst[-1]+lst[-2])\n",
    "    result = sum(lst)\n",
    "    return result\n",
    "\n",
    "if __name__ == '__main__':\n",
    "    line = input(\"Enter the Vlaue\")\n",
    "    ops = line.strip().split()  \n",
    "    print(ops)\n",
    "    print(calPoints(ops))"
   ]
  },
  {
   "cell_type": "code",
   "execution_count": 90,
   "id": "722c860d",
   "metadata": {},
   "outputs": [
    {
     "name": "stdout",
     "output_type": "stream",
     "text": [
      "['5', '2', 'C', 'D', '+']\n"
     ]
    }
   ],
   "source": [
    "ops=[\"5\",\"2\",\"C\",\"D\",\"+\"]\n",
    "ops = \"5 2 C D +\".strip().split()\n",
    "print(ops)"
   ]
  },
  {
   "cell_type": "code",
   "execution_count": 1,
   "id": "76089e80",
   "metadata": {},
   "outputs": [
    {
     "ename": "IndentationError",
     "evalue": "expected an indented block (926678059.py, line 5)",
     "output_type": "error",
     "traceback": [
      "\u001b[1;36m  Input \u001b[1;32mIn [1]\u001b[1;36m\u001b[0m\n\u001b[1;33m    if i == \"5\":\u001b[0m\n\u001b[1;37m    ^\u001b[0m\n\u001b[1;31mIndentationError\u001b[0m\u001b[1;31m:\u001b[0m expected an indented block\n"
     ]
    }
   ],
   "source": [
    "ops=[\"5\",\"2\",\"C\",\"D\",\"+\"]\n",
    "lst = []\n",
    "for i in ops:\n",
    "    if i == \"5\":\n",
    "        lst.append(int(i))\n",
    "    elif i == \"2\":\n",
    "        lst.append(int(i))\n",
    "    elif i == \"C\":\n",
    "        lst.pop()\n",
    "    elif i == \"D\":\n",
    "        lst.append(lst[0]*lv)\n",
    "    elif i == \"+\":\n",
    "        lst.append(sum(lst))\n",
    "    try: \n",
    "        lv = int(i)\n",
    "    except ValueError:\n",
    "        pass\n",
    "    \n",
    "myval = sum(lst)\n",
    "print(myval)\n"
   ]
  },
  {
   "cell_type": "code",
   "execution_count": 30,
   "id": "e0be1c5a",
   "metadata": {},
   "outputs": [
    {
     "name": "stdout",
     "output_type": "stream",
     "text": [
      "30\n"
     ]
    }
   ],
   "source": [
    "ops=[\"5\",\"2\",\"C\",\"D\",\"+\"]\n",
    "lst = []\n",
    "for i in ops:\n",
    "    if i.isdigit():\n",
    "        lst.append(int(i))\n",
    "    else:\n",
    "        if i == \"C\":\n",
    "            lst.pop()\n",
    "        elif i == \"D\":\n",
    "            lst.append(lst[-1]*lv)\n",
    "        elif i == \"+\":\n",
    "            lst.append(sum(lst))\n",
    "    \n",
    "myval = sum(lst)\n",
    "print(myval)\n"
   ]
  },
  {
   "cell_type": "code",
   "execution_count": 27,
   "id": "f05d33c7",
   "metadata": {},
   "outputs": [
    {
     "name": "stdout",
     "output_type": "stream",
     "text": [
      "5 here\n",
      "5 [5]\n",
      "-2 here\n",
      "-2 [5, -2]\n",
      "4 here\n",
      "4 [5, -2, 4]\n",
      "C [5, -2]\n",
      "D [5, -2, 20]\n",
      "9 here\n",
      "9 [5, -2, 20, 9]\n",
      "+ [5, -2, 20, 9]\n",
      "+ [5, -2, 20, 9]\n",
      "32\n"
     ]
    }
   ],
   "source": [
    "ops=[\"5\",\"-2\",\"4\", \"C\",\"D\",\"9\",\"+\",\"+\"]\n",
    "lst = []\n",
    "for i in ops:\n",
    "    if i.isalpha() == False and i!= \"+\":\n",
    "        print(i, 'here')\n",
    "        lst.append(int(i))\n",
    "        print(i, lst)\n",
    "    else:        \n",
    "        if i == \"C\":\n",
    "            lv = lst.pop()\n",
    "        elif i == \"D\":\n",
    "            lst.append(lst[0]*lv)\n",
    "        print(i, lst)\n",
    "#         elif i == \"+\":\n",
    "#             lst.append(sum(lst))\n",
    "    \n",
    "myval = sum(lst)\n",
    "print(myval)"
   ]
  },
  {
   "cell_type": "code",
   "execution_count": 24,
   "id": "27ebe722",
   "metadata": {},
   "outputs": [
    {
     "data": {
      "text/plain": [
       "True"
      ]
     },
     "execution_count": 24,
     "metadata": {},
     "output_type": "execute_result"
    }
   ],
   "source": [
    "\"C\".isalpha()"
   ]
  },
  {
   "cell_type": "code",
   "execution_count": 61,
   "id": "1737f4aa",
   "metadata": {},
   "outputs": [
    {
     "name": "stdout",
     "output_type": "stream",
     "text": [
      "5 [5]\n",
      "-2 [5, -2]\n",
      "4 [5, -2, 4]\n",
      "C [5, -2]\n",
      "D [5, -2, -4]\n",
      "9 [5, -2, -4, 9]\n",
      "+ [5, -2, -4, 9, 5]\n",
      "+ [5, -2, -4, 9, 5, 14]\n",
      "27\n"
     ]
    }
   ],
   "source": [
    "ops=[\"5\",\"-2\",\"4\", \"C\",\"D\",\"9\",\"+\",\"+\"]\n",
    "lst = []\n",
    "for i in ops:\n",
    "    if i.isalpha() == False and i!= \"+\":\n",
    "        lst.append(int(i))\n",
    "    else:\n",
    "        if i == \"C\":\n",
    "            lst.pop()\n",
    "        elif i == \"D\":\n",
    "            lst.append(lst[-1]*2)\n",
    "        elif i == \"+\":\n",
    "            lst.append(lst[-1]+lst[-2])\n",
    "    print(i, lst)\n",
    "    \n",
    "myval = sum(lst)\n",
    "print(myval)\n"
   ]
  },
  {
   "cell_type": "code",
   "execution_count": 64,
   "id": "f37cf10c",
   "metadata": {},
   "outputs": [
    {
     "name": "stdout",
     "output_type": "stream",
     "text": [
      "30\n"
     ]
    }
   ],
   "source": [
    "ops=[\"5\",\"2\",\"C\",\"D\",\"+\"]\n",
    "# ops=[\"5\",\"-2\",\"4\", \"C\",\"D\",\"9\",\"+\",\"+\"]\n",
    "# ops = [\"1\"]\n",
    "\n",
    "lst = []\n",
    "for i in ops:\n",
    "    if i.isalpha() == False and i!= \"+\":\n",
    "        lst.append(int(i))\n",
    "    else:\n",
    "        if i == \"C\":\n",
    "            lst.pop()\n",
    "        elif i == \"D\":\n",
    "            lst.append(lst[-1]*2)\n",
    "        elif i == \"+\":\n",
    "            lst.append(lst[-1]+lst[-2])\n",
    "   \n",
    "myval = sum(lst)\n",
    "print(myval)\n"
   ]
  },
  {
   "cell_type": "code",
   "execution_count": 154,
   "id": "a03eae1b",
   "metadata": {},
   "outputs": [
    {
     "name": "stdout",
     "output_type": "stream",
     "text": [
      "]\n",
      "[]\n",
      "[\n",
      "[0]\n",
      "unbal\n"
     ]
    }
   ],
   "source": [
    "line = \"][\"\n",
    "open_list = [\"[\",\"{\",\"(\"]\n",
    "close_list = [\"]\",\"}\",\")\"]\n",
    "clist = []\n",
    "for i in line:\n",
    "    if i in open_list:\n",
    "        clist.append(open_list.index(i))\n",
    "#         open_list.remove(i)        \n",
    "    if i in close_list:\n",
    "#         close_list.remove(i)\n",
    "        if close_list.index(i) in clist:\n",
    "            clist.remove(close_list.index(i))\n",
    "        else:\n",
    "            clist.append(close_list.index(i))\n",
    "    print(i)\n",
    "    print(clist)\n",
    "\n",
    "if len(clist) == 0:\n",
    "    print('balance')\n",
    "else:\n",
    "    print('unbal')"
   ]
  },
  {
   "cell_type": "code",
   "execution_count": null,
   "id": "f0537a2a",
   "metadata": {},
   "outputs": [],
   "source": []
  },
  {
   "cell_type": "code",
   "execution_count": null,
   "id": "fb04a1b6",
   "metadata": {},
   "outputs": [],
   "source": []
  }
 ],
 "metadata": {
  "kernelspec": {
   "display_name": "Python 3 (ipykernel)",
   "language": "python",
   "name": "python3"
  },
  "language_info": {
   "codemirror_mode": {
    "name": "ipython",
    "version": 3
   },
   "file_extension": ".py",
   "mimetype": "text/x-python",
   "name": "python",
   "nbconvert_exporter": "python",
   "pygments_lexer": "ipython3",
   "version": "3.9.12"
  }
 },
 "nbformat": 4,
 "nbformat_minor": 5
}
