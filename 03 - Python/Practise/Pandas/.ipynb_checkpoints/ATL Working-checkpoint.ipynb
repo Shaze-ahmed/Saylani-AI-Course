{
 "cells": [
  {
   "cell_type": "code",
   "execution_count": 1,
   "id": "3181dba7",
   "metadata": {},
   "outputs": [],
   "source": [
    "import numpy as np\n",
    "import pandas as pd"
   ]
  },
  {
   "cell_type": "code",
   "execution_count": 12,
   "id": "f8ca0a28",
   "metadata": {},
   "outputs": [],
   "source": [
    "atl = pd.read_excel('ATL.xlsx', index_col='')\n",
    "# atl.set_index('SR_NO', inplace=True)\n",
    "# # atl.reset_index(inplace=True)\n",
    "# atl.columns = atl.columns.str.lower()"
   ]
  },
  {
   "cell_type": "code",
   "execution_count": 13,
   "id": "7fb2a8dd",
   "metadata": {},
   "outputs": [
    {
     "data": {
      "text/plain": [
       "NTN              100000\n",
       "NAME              99800\n",
       "BUSINESS_NAME     31540\n",
       "dtype: int64"
      ]
     },
     "execution_count": 13,
     "metadata": {},
     "output_type": "execute_result"
    }
   ],
   "source": [
    "atl.count()"
   ]
  },
  {
   "cell_type": "code",
   "execution_count": 35,
   "id": "d6bcb933",
   "metadata": {},
   "outputs": [
    {
     "name": "stdout",
     "output_type": "stream",
     "text": [
      "<class 'pandas.core.frame.DataFrame'>\n",
      "RangeIndex: 100000 entries, 0 to 99999\n",
      "Data columns (total 4 columns):\n",
      " #   Column         Non-Null Count   Dtype \n",
      "---  ------         --------------   ----- \n",
      " 0   sr_no          100000 non-null  int64 \n",
      " 1   ntn            100000 non-null  object\n",
      " 2   name           99800 non-null   object\n",
      " 3   business_name  31540 non-null   object\n",
      "dtypes: int64(1), object(3)\n",
      "memory usage: 3.1+ MB\n"
     ]
    }
   ],
   "source": [
    "atl.info()"
   ]
  },
  {
   "cell_type": "code",
   "execution_count": 44,
   "id": "d5b7d8e5",
   "metadata": {},
   "outputs": [],
   "source": [
    "# df_cnic = atl[atl['ntn'].apply(len) != 9]"
   ]
  },
  {
   "cell_type": "code",
   "execution_count": 46,
   "id": "9c17580a",
   "metadata": {},
   "outputs": [
    {
     "name": "stdout",
     "output_type": "stream",
     "text": [
      "<class 'pandas.core.frame.DataFrame'>\n",
      "Int64Index: 12901 entries, 0 to 99199\n",
      "Data columns (total 4 columns):\n",
      " #   Column         Non-Null Count  Dtype \n",
      "---  ------         --------------  ----- \n",
      " 0   sr_no          12901 non-null  int64 \n",
      " 1   ntn            12901 non-null  object\n",
      " 2   name           12901 non-null  object\n",
      " 3   business_name  13 non-null     object\n",
      "dtypes: int64(1), object(3)\n",
      "memory usage: 503.9+ KB\n"
     ]
    }
   ],
   "source": [
    "df_ntn.info()"
   ]
  },
  {
   "cell_type": "code",
   "execution_count": 47,
   "id": "2fd97ef4",
   "metadata": {},
   "outputs": [
    {
     "name": "stdout",
     "output_type": "stream",
     "text": [
      "<class 'pandas.core.frame.DataFrame'>\n",
      "Int64Index: 87099 entries, 24 to 99999\n",
      "Data columns (total 4 columns):\n",
      " #   Column         Non-Null Count  Dtype \n",
      "---  ------         --------------  ----- \n",
      " 0   sr_no          87099 non-null  int64 \n",
      " 1   ntn            87099 non-null  object\n",
      " 2   name           86899 non-null  object\n",
      " 3   business_name  31527 non-null  object\n",
      "dtypes: int64(1), object(3)\n",
      "memory usage: 3.3+ MB\n"
     ]
    }
   ],
   "source": [
    "df_cnic.info()"
   ]
  },
  {
   "cell_type": "code",
   "execution_count": 49,
   "id": "ca01d6ad",
   "metadata": {},
   "outputs": [
    {
     "data": {
      "text/html": [
       "<div>\n",
       "<style scoped>\n",
       "    .dataframe tbody tr th:only-of-type {\n",
       "        vertical-align: middle;\n",
       "    }\n",
       "\n",
       "    .dataframe tbody tr th {\n",
       "        vertical-align: top;\n",
       "    }\n",
       "\n",
       "    .dataframe thead th {\n",
       "        text-align: right;\n",
       "    }\n",
       "</style>\n",
       "<table border=\"1\" class=\"dataframe\">\n",
       "  <thead>\n",
       "    <tr style=\"text-align: right;\">\n",
       "      <th></th>\n",
       "      <th>sr_no</th>\n",
       "      <th>ntn</th>\n",
       "      <th>name</th>\n",
       "      <th>business_name</th>\n",
       "    </tr>\n",
       "  </thead>\n",
       "  <tbody>\n",
       "    <tr>\n",
       "      <th>0</th>\n",
       "      <td>1</td>\n",
       "      <td>0000091-4</td>\n",
       "      <td>ARBOR ACRES PAKISTAN PRIVATE LIMITED</td>\n",
       "      <td>NaN</td>\n",
       "    </tr>\n",
       "    <tr>\n",
       "      <th>1</th>\n",
       "      <td>2</td>\n",
       "      <td>0000092-2</td>\n",
       "      <td>THE BANK OF KHYBER</td>\n",
       "      <td>NaN</td>\n",
       "    </tr>\n",
       "    <tr>\n",
       "      <th>2</th>\n",
       "      <td>3</td>\n",
       "      <td>0000094-9</td>\n",
       "      <td>AL KHAIR GADOON LIMITED</td>\n",
       "      <td>NaN</td>\n",
       "    </tr>\n",
       "    <tr>\n",
       "      <th>3</th>\n",
       "      <td>4</td>\n",
       "      <td>0000098-1</td>\n",
       "      <td>ACE WEAVERS PRIVATE LIMITED</td>\n",
       "      <td>NaN</td>\n",
       "    </tr>\n",
       "    <tr>\n",
       "      <th>4</th>\n",
       "      <td>5</td>\n",
       "      <td>0000128-7</td>\n",
       "      <td>ABASIN FLOUR GENERAL MILLS PRIVATE LIMITED</td>\n",
       "      <td>NaN</td>\n",
       "    </tr>\n",
       "    <tr>\n",
       "      <th>...</th>\n",
       "      <td>...</td>\n",
       "      <td>...</td>\n",
       "      <td>...</td>\n",
       "      <td>...</td>\n",
       "    </tr>\n",
       "    <tr>\n",
       "      <th>98292</th>\n",
       "      <td>98293</td>\n",
       "      <td>1562237-1</td>\n",
       "      <td>HASSAN HASSAN FOOD PRODUCTS PVT LIMITED</td>\n",
       "      <td>NaN</td>\n",
       "    </tr>\n",
       "    <tr>\n",
       "      <th>98293</th>\n",
       "      <td>98294</td>\n",
       "      <td>1562240-1</td>\n",
       "      <td>MUSLIM TRADING AGENCIES</td>\n",
       "      <td>NaN</td>\n",
       "    </tr>\n",
       "    <tr>\n",
       "      <th>98294</th>\n",
       "      <td>98295</td>\n",
       "      <td>1562250-9</td>\n",
       "      <td>STEEL CASTING AND ENGINEERING WORKS SCEW</td>\n",
       "      <td>NaN</td>\n",
       "    </tr>\n",
       "    <tr>\n",
       "      <th>99198</th>\n",
       "      <td>99199</td>\n",
       "      <td>1598632-2</td>\n",
       "      <td>CROWN MOVERS WORLDWIDE</td>\n",
       "      <td>NaN</td>\n",
       "    </tr>\n",
       "    <tr>\n",
       "      <th>99199</th>\n",
       "      <td>99200</td>\n",
       "      <td>1600723-9</td>\n",
       "      <td>KARACHI CLUB</td>\n",
       "      <td>NaN</td>\n",
       "    </tr>\n",
       "  </tbody>\n",
       "</table>\n",
       "<p>12901 rows × 4 columns</p>\n",
       "</div>"
      ],
      "text/plain": [
       "       sr_no        ntn                                        name  \\\n",
       "0          1  0000091-4        ARBOR ACRES PAKISTAN PRIVATE LIMITED   \n",
       "1          2  0000092-2                          THE BANK OF KHYBER   \n",
       "2          3  0000094-9                     AL KHAIR GADOON LIMITED   \n",
       "3          4  0000098-1                 ACE WEAVERS PRIVATE LIMITED   \n",
       "4          5  0000128-7  ABASIN FLOUR GENERAL MILLS PRIVATE LIMITED   \n",
       "...      ...        ...                                         ...   \n",
       "98292  98293  1562237-1     HASSAN HASSAN FOOD PRODUCTS PVT LIMITED   \n",
       "98293  98294  1562240-1                     MUSLIM TRADING AGENCIES   \n",
       "98294  98295  1562250-9    STEEL CASTING AND ENGINEERING WORKS SCEW   \n",
       "99198  99199  1598632-2                      CROWN MOVERS WORLDWIDE   \n",
       "99199  99200  1600723-9                                KARACHI CLUB   \n",
       "\n",
       "      business_name  \n",
       "0               NaN  \n",
       "1               NaN  \n",
       "2               NaN  \n",
       "3               NaN  \n",
       "4               NaN  \n",
       "...             ...  \n",
       "98292           NaN  \n",
       "98293           NaN  \n",
       "98294           NaN  \n",
       "99198           NaN  \n",
       "99199           NaN  \n",
       "\n",
       "[12901 rows x 4 columns]"
      ]
     },
     "execution_count": 49,
     "metadata": {},
     "output_type": "execute_result"
    }
   ],
   "source": [
    "df_ntn"
   ]
  },
  {
   "cell_type": "code",
   "execution_count": 59,
   "id": "d0314f51",
   "metadata": {},
   "outputs": [
    {
     "data": {
      "text/html": [
       "<div>\n",
       "<style scoped>\n",
       "    .dataframe tbody tr th:only-of-type {\n",
       "        vertical-align: middle;\n",
       "    }\n",
       "\n",
       "    .dataframe tbody tr th {\n",
       "        vertical-align: top;\n",
       "    }\n",
       "\n",
       "    .dataframe thead th {\n",
       "        text-align: right;\n",
       "    }\n",
       "</style>\n",
       "<table border=\"1\" class=\"dataframe\">\n",
       "  <thead>\n",
       "    <tr style=\"text-align: right;\">\n",
       "      <th></th>\n",
       "      <th>sr_no</th>\n",
       "      <th>ntn</th>\n",
       "      <th>name</th>\n",
       "      <th>business_name</th>\n",
       "    </tr>\n",
       "  </thead>\n",
       "  <tbody>\n",
       "    <tr>\n",
       "      <th>394</th>\n",
       "      <td>395</td>\n",
       "      <td>0226134 / 0405860537541</td>\n",
       "      <td>HAMID GOHIR</td>\n",
       "      <td>SCHOEN CARPETS</td>\n",
       "    </tr>\n",
       "    <tr>\n",
       "      <th>554</th>\n",
       "      <td>555</td>\n",
       "      <td>0286111000051 / 6110199886265</td>\n",
       "      <td>SAMEER RANDHAWA</td>\n",
       "      <td>NaN</td>\n",
       "    </tr>\n",
       "    <tr>\n",
       "      <th>791</th>\n",
       "      <td>792</td>\n",
       "      <td>0354812 / 5783135056811</td>\n",
       "      <td>CHAUDHARY LIAQAT ALI</td>\n",
       "      <td>NaN</td>\n",
       "    </tr>\n",
       "    <tr>\n",
       "      <th>5705</th>\n",
       "      <td>5706</td>\n",
       "      <td>0912037 / 2083741006321</td>\n",
       "      <td>SIBGHAT RIAZ</td>\n",
       "      <td>NaN</td>\n",
       "    </tr>\n",
       "    <tr>\n",
       "      <th>5716</th>\n",
       "      <td>5717</td>\n",
       "      <td>0912430 / DG72426110952</td>\n",
       "      <td>FAZAL RAHIM</td>\n",
       "      <td>FAZAL KARIM TRADERS</td>\n",
       "    </tr>\n",
       "    <tr>\n",
       "      <th>59927</th>\n",
       "      <td>59928</td>\n",
       "      <td>1340290 / 3520224261316</td>\n",
       "      <td>NOUSHAHBA MUSSADAR</td>\n",
       "      <td>NaN</td>\n",
       "    </tr>\n",
       "  </tbody>\n",
       "</table>\n",
       "</div>"
      ],
      "text/plain": [
       "       sr_no                            ntn                  name  \\\n",
       "394      395        0226134 / 0405860537541           HAMID GOHIR   \n",
       "554      555  0286111000051 / 6110199886265       SAMEER RANDHAWA   \n",
       "791      792        0354812 / 5783135056811  CHAUDHARY LIAQAT ALI   \n",
       "5705    5706        0912037 / 2083741006321          SIBGHAT RIAZ   \n",
       "5716    5717        0912430 / DG72426110952           FAZAL RAHIM   \n",
       "59927  59928        1340290 / 3520224261316    NOUSHAHBA MUSSADAR   \n",
       "\n",
       "             business_name  \n",
       "394         SCHOEN CARPETS  \n",
       "554                    NaN  \n",
       "791                    NaN  \n",
       "5705                   NaN  \n",
       "5716   FAZAL KARIM TRADERS  \n",
       "59927                  NaN  "
      ]
     },
     "execution_count": 59,
     "metadata": {},
     "output_type": "execute_result"
    }
   ],
   "source": [
    "df_cnic[df_cnic.ntn.apply(len) != 13]"
   ]
  },
  {
   "cell_type": "code",
   "execution_count": 53,
   "id": "bc45bd91",
   "metadata": {},
   "outputs": [],
   "source": [
    "bank_ntn = np.array(df_ntn.ntn)\n",
    "bank_cnic = np.array(df_cnic.ntn)"
   ]
  },
  {
   "cell_type": "code",
   "execution_count": null,
   "id": "61dbce8d",
   "metadata": {},
   "outputs": [],
   "source": [
    "np.in1d(bank_ntn, bank_cnic)"
   ]
  },
  {
   "cell_type": "code",
   "execution_count": 54,
   "id": "c19c9ed5",
   "metadata": {},
   "outputs": [
    {
     "data": {
      "text/plain": [
       "array(['0000208778491', '0226134 / 0405860537541',\n",
       "       '0286111000051 / 6110199886265', ..., '1610109030727',\n",
       "       '1610109031268', '1610109037545'], dtype=object)"
      ]
     },
     "execution_count": 54,
     "metadata": {},
     "output_type": "execute_result"
    }
   ],
   "source": [
    "bank_cnic"
   ]
  },
  {
   "cell_type": "code",
   "execution_count": null,
   "id": "1e589f0c",
   "metadata": {},
   "outputs": [],
   "source": []
  }
 ],
 "metadata": {
  "kernelspec": {
   "display_name": "Python 3 (ipykernel)",
   "language": "python",
   "name": "python3"
  },
  "language_info": {
   "codemirror_mode": {
    "name": "ipython",
    "version": 3
   },
   "file_extension": ".py",
   "mimetype": "text/x-python",
   "name": "python",
   "nbconvert_exporter": "python",
   "pygments_lexer": "ipython3",
   "version": "3.9.12"
  }
 },
 "nbformat": 4,
 "nbformat_minor": 5
}
