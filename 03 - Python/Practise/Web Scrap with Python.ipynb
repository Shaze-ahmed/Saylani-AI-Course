{
 "cells": [
  {
   "cell_type": "code",
   "execution_count": 14,
   "id": "c30a0d69",
   "metadata": {},
   "outputs": [
    {
     "name": "stdout",
     "output_type": "stream",
     "text": [
      "Enter the File NamePhoneScrapper\n"
     ]
    }
   ],
   "source": [
    "import urllib.request\n",
    "from re import findall\n",
    "url = \"http://www.summet.com/dmsi/html/codesamples/addresses.html\"\n",
    "response = urllib.request.urlopen(url)\n",
    "html = response.read()\n",
    "htmlstr = html.decode()\n",
    "pdata = findall(\"\\(\\d{3}\\) \\d{3}-\\d{4}\", htmlstr)\n",
    "filename = input(\"Enter the File Name\") # PhoneScrapper.txt\n",
    "filename += '.txt'\n",
    "f = open(filename, \"w\")\n",
    "f.write(url)\n",
    "f.write('\\n')\n",
    "for item in pdata:\n",
    "    f.write(\"{}\\n\".format(item))\n",
    "f.close()"
   ]
  },
  {
   "cell_type": "code",
   "execution_count": 17,
   "id": "dfc80fb0",
   "metadata": {},
   "outputs": [
    {
     "name": "stdout",
     "output_type": "stream",
     "text": [
      "Enter the File Nametemp\n"
     ]
    },
    {
     "data": {
      "text/plain": [
       "112136"
      ]
     },
     "execution_count": 17,
     "metadata": {},
     "output_type": "execute_result"
    }
   ],
   "source": [
    "import urllib.request\n",
    "from re import findall\n",
    "url = \"https://www.w3schools.com/python/python_regex.asp\"\n",
    "response = urllib.request.urlopen(url)\n",
    "html = response.read()\n",
    "htmlstr = html.decode()\n",
    "pdata = findall(\"\\(\\d{3}\\) \\d{3}-\\d{4}\", htmlstr)\n",
    "filename = input(\"Enter the File Name\") # PhoneScrapper.txt\n",
    "filename += '.txt'\n",
    "f = open(filename, \"w\")\n",
    "f.write(\"{}\\n\".format(url))\n",
    "f.write(htmlstr)\n",
    "\n",
    "# for item in pdata:\n",
    "#     f.write(\"{}\\n\".format(item))\n",
    "# f.close()\n",
    "\n"
   ]
  },
  {
   "cell_type": "code",
   "execution_count": null,
   "id": "0fa86b65",
   "metadata": {},
   "outputs": [],
   "source": []
  },
  {
   "cell_type": "code",
   "execution_count": null,
   "id": "ff6f5ef5",
   "metadata": {},
   "outputs": [],
   "source": []
  }
 ],
 "metadata": {
  "kernelspec": {
   "display_name": "Python 3 (ipykernel)",
   "language": "python",
   "name": "python3"
  },
  "language_info": {
   "codemirror_mode": {
    "name": "ipython",
    "version": 3
   },
   "file_extension": ".py",
   "mimetype": "text/x-python",
   "name": "python",
   "nbconvert_exporter": "python",
   "pygments_lexer": "ipython3",
   "version": "3.9.12"
  }
 },
 "nbformat": 4,
 "nbformat_minor": 5
}
