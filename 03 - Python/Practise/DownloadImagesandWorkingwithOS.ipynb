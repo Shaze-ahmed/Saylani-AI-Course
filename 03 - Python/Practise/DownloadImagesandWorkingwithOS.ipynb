{
 "cells": [
  {
   "cell_type": "code",
   "execution_count": 1,
   "id": "9b8e3ada",
   "metadata": {},
   "outputs": [],
   "source": [
    "import wget\n",
    "import os\n",
    "from zipfile import ZipFile"
   ]
  },
  {
   "cell_type": "code",
   "execution_count": null,
   "id": "be1dea5f",
   "metadata": {},
   "outputs": [],
   "source": [
    "!mkdir my_images_directory\n",
    "os.chdir(\"my_images_directory\")\n",
    "!mkdir images\n",
    "os.getcwd()"
   ]
  },
  {
   "cell_type": "markdown",
   "id": "c8463fde",
   "metadata": {},
   "source": [
    "# Create a function to download and unzip the images files"
   ]
  },
  {
   "cell_type": "code",
   "execution_count": null,
   "id": "2c30ddf1",
   "metadata": {},
   "outputs": [],
   "source": [
    "# wget.download(\"file url\", out=\"folder and file name\")\n",
    "def download_and_unzip_files():\n",
    "    print(\"Downloading Images\")\n",
    "    wget.download(\"https://storage.googleapis.com/tensorflow-1-public/course2/cats_and_dogs_filtered.zip\",\n",
    "                  out=\"./images/cats_and_dogs_filtered.zip\")\n",
    "\n",
    "    \n",
    "    print(\"Unzipping files\")\n",
    "    with ZipFile('./images/cats_and_dogs_filtered.zip', 'r') as zipObject:\n",
    "        listOfFileNames = zipObject.namelist() # creates a list (listOfFileNames) and and the files names  retrived with zipObject.namelist()\n",
    "        for fileName in listOfFileNames:  # then iterate over the list to get the file names\n",
    "#             if fileName.startswith(\"PetImages\"): # check it is PetImages as there are other files we do not need to unzip\n",
    "            zipObject.extract(fileName, \"./images\") # if so, download it to the folder images"
   ]
  },
  {
   "cell_type": "code",
   "execution_count": null,
   "id": "7b345045",
   "metadata": {},
   "outputs": [],
   "source": [
    "# run the function created above, then check the folders to the left. Click the Refresh Button\n",
    "download_and_unzip_files()"
   ]
  },
  {
   "cell_type": "code",
   "execution_count": 4,
   "id": "6ffd7864",
   "metadata": {},
   "outputs": [
    {
     "name": "stdout",
     "output_type": "stream",
     "text": [
      "1 cat.0.jpg\n",
      "2 cat.1.jpg\n",
      "3 cat.10.jpg\n",
      "4 cat.100.jpg\n",
      "5 cat.101.jpg\n",
      "6 cat.102.jpg\n",
      "7 cat.103.jpg\n",
      "8 cat.104.jpg\n",
      "9 cat.105.jpg\n",
      "10 cat.106.jpg\n"
     ]
    }
   ],
   "source": [
    "path = \"D:\\Online Education\\Artificial-Intelligence\\OS\\my_images_directory\\images\\cats_and_dogs_filtered\\\\train\\cats\"\n",
    "# list create the list\n",
    "my_directory_list_var = os.listdir(path)\n",
    "i = 0\n",
    "# iterate\n",
    "for x  in my_directory_list_var:\n",
    "  # increment the counter\n",
    "  i += 1\n",
    "  # check if it is bigger than 10\n",
    "  if i > 10:\n",
    "    break\n",
    "  # if so, break the loop\n",
    "  \n",
    "  print(i, x)"
   ]
  },
  {
   "cell_type": "code",
   "execution_count": 15,
   "id": "013f0961",
   "metadata": {},
   "outputs": [],
   "source": [
    "base_path = \"D:\\Online Education\\Artificial-Intelligence\\OS\\my_images_directory\\images\\cats_and_dogs_filtered\"\n",
    "for (curr_dir2, sub_dir, files) in os.walk(base_path):\n",
    "  for file in files:\n",
    "    fname, fext = os.path.splitext(file)\n",
    "    if fext.casefold() != \".jpg\":\n",
    "      print(curr_dir, fext)\n",
    "      print(file)\n",
    "      os.remove(os.path.join(curr_dir2, file))"
   ]
  },
  {
   "cell_type": "code",
   "execution_count": 8,
   "id": "ae819d2f",
   "metadata": {},
   "outputs": [
    {
     "name": "stdout",
     "output_type": "stream",
     "text": [
      "1 D:\\Online Education\\Artificial-Intelligence\\OS\\my_images_directory\\images\\cats_and_dogs_filtered\n",
      "2 ['train', 'validation']\n",
      "--------------------------------\n",
      "1 D:\\Online Education\\Artificial-Intelligence\\OS\\my_images_directory\\images\\cats_and_dogs_filtered\\train\n",
      "2 ['cats', 'dogs']\n",
      "--------------------------------\n",
      "1 D:\\Online Education\\Artificial-Intelligence\\OS\\my_images_directory\\images\\cats_and_dogs_filtered\\train\\cats\n",
      "2 []\n",
      "--------------------------------\n",
      "1 D:\\Online Education\\Artificial-Intelligence\\OS\\my_images_directory\\images\\cats_and_dogs_filtered\\train\\dogs\n",
      "2 []\n",
      "--------------------------------\n",
      "1 D:\\Online Education\\Artificial-Intelligence\\OS\\my_images_directory\\images\\cats_and_dogs_filtered\\validation\n",
      "2 ['cats', 'dogs']\n",
      "--------------------------------\n",
      "1 D:\\Online Education\\Artificial-Intelligence\\OS\\my_images_directory\\images\\cats_and_dogs_filtered\\validation\\cats\n",
      "2 []\n",
      "--------------------------------\n",
      "1 D:\\Online Education\\Artificial-Intelligence\\OS\\my_images_directory\\images\\cats_and_dogs_filtered\\validation\\dogs\n",
      "2 []\n",
      "--------------------------------\n"
     ]
    }
   ],
   "source": [
    "for (root,dirs,files) in os.walk(base_path, topdown=True):\n",
    "        print (1, root)\n",
    "        print (2, dirs)\n",
    "#         print (3, files)\n",
    "        print ('--------------------------------')"
   ]
  },
  {
   "cell_type": "code",
   "execution_count": null,
   "id": "207b221c",
   "metadata": {},
   "outputs": [],
   "source": []
  }
 ],
 "metadata": {
  "kernelspec": {
   "display_name": "Python 3 (ipykernel)",
   "language": "python",
   "name": "python3"
  },
  "language_info": {
   "codemirror_mode": {
    "name": "ipython",
    "version": 3
   },
   "file_extension": ".py",
   "mimetype": "text/x-python",
   "name": "python",
   "nbconvert_exporter": "python",
   "pygments_lexer": "ipython3",
   "version": "3.9.12"
  }
 },
 "nbformat": 4,
 "nbformat_minor": 5
}
