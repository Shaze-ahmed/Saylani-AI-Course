{
 "cells": [
  {
   "cell_type": "code",
   "execution_count": 7,
   "id": "65ed2c77",
   "metadata": {},
   "outputs": [
    {
     "name": "stdout",
     "output_type": "stream",
     "text": [
      "Current word is :  _ _ _ _ _ _ _\n",
      "Guess the Letter : a\n",
      "Current word is :  _ _ A _ _ A _\n",
      "Guess the Letter : s\n",
      "Current word is :  S _ A _ _ A _\n",
      "Guess the Letter : d\n",
      "Current word is :  S _ A _ _ A D\n",
      "Guess the Letter : h\n",
      "Current word is :  S H A H _ A D\n",
      "Guess the Letter : a\n",
      "Already Add\n",
      "Current word is :  S H A H _ A D\n",
      "Guess the Letter : h\n",
      "Already Add\n",
      "Current word is :  S H A H _ A D\n",
      "Guess the Letter : d\n",
      "Already Add\n",
      "Current word is :  S H A H _ A D\n",
      "Guess the Letter : $\n",
      "Invalid Character\n",
      "Current word is :  S H A H _ A D\n",
      "Guess the Letter : z\n",
      "Guess the word  SHAHZAD\n"
     ]
    }
   ],
   "source": [
    "import string\n",
    "\n",
    "word = 'SHAHZAD'\n",
    "wordl = set(word)\n",
    "alpha = string.ascii_uppercase\n",
    "userl = set()\n",
    "\n",
    "while len(wordl) > 0:\n",
    "    xlist = [ltr if ltr in userl else '_' for ltr in word]\n",
    "    print('Current word is : ', ' '.join(xlist))\n",
    "\n",
    "    gl = input(\"Guess the Letter : \").upper()\n",
    "    if gl in alpha:\n",
    "        if gl in userl:\n",
    "            print('Already Add')\n",
    "        else:\n",
    "            userl.add(gl)\n",
    "            if gl in wordl:\n",
    "                wordl.remove(gl)\n",
    "    else:\n",
    "        print('Invalid Character')\n",
    "\n",
    "else:\n",
    "    print(\"Guess the word \", word)\n"
   ]
  },
  {
   "cell_type": "code",
   "execution_count": 18,
   "id": "6b5c5597",
   "metadata": {},
   "outputs": [
    {
     "name": "stdout",
     "output_type": "stream",
     "text": [
      " SAK\n"
     ]
    }
   ],
   "source": [
    "user_input = 'Shahzad Ahmed khan'\n",
    "text = user_input.split()\n",
    "a = \" \"\n",
    "for i in text:\n",
    "    a = a+ i[0].upper()\n",
    "#     a += str(i[0]).upper()\n",
    "print(a)"
   ]
  },
  {
   "cell_type": "code",
   "execution_count": 41,
   "id": "93c794a8",
   "metadata": {},
   "outputs": [
    {
     "name": "stdout",
     "output_type": "stream",
     "text": [
      "['shaze.ahmed', 'gmail.com']\n",
      "['gmail.com']\n",
      "7\n"
     ]
    }
   ],
   "source": [
    "email = 'shaze.ahmed@gmail.com'\n",
    "txt = email.split('@')\n",
    "txt2 = str(txt[1:])\n",
    "txt3 = txt2.index(\".com\")\n",
    "print(txt)\n",
    "print(txt2)\n",
    "print(txt3)"
   ]
  },
  {
   "cell_type": "code",
   "execution_count": 35,
   "id": "a723a8cc",
   "metadata": {},
   "outputs": [
    {
     "name": "stdout",
     "output_type": "stream",
     "text": [
      "shaze.ahmed@gmail.com\n",
      "11\n",
      "Your user name is 'shaze.ahmed' and your domain is 'gmail.com'\n",
      "Your User name is 'shaze.ahmed' and your domain name is gmail.com\n"
     ]
    }
   ],
   "source": [
    "#Project 3 - Email Slicer with Python\n",
    "email = 'shaze.ahmed@gmail.com'\n",
    "print(email)\n",
    "eindex = email.index(\"@\")\n",
    "print(eindex)\n",
    "uname = email[:eindex]\n",
    "domain = email[eindex+1:]\n",
    "username = email[:email.index(\"@\")]\n",
    "domain_name = email[email.index(\"@\")+1:]\n",
    "format_ = (f\"Your user name is '{username}' and your domain is '{domain_name}'\")\n",
    "print(format_)\n",
    "print(\"Your User name is '{}' and your domain name is {}\".format(uname, domain))"
   ]
  },
  {
   "cell_type": "code",
   "execution_count": 3,
   "id": "bac2563b",
   "metadata": {},
   "outputs": [
    {
     "ename": "NameError",
     "evalue": "name 'x' is not defined",
     "output_type": "error",
     "traceback": [
      "\u001b[1;31m---------------------------------------------------------------------------\u001b[0m",
      "\u001b[1;31mNameError\u001b[0m                                 Traceback (most recent call last)",
      "Input \u001b[1;32mIn [3]\u001b[0m, in \u001b[0;36m<cell line: 1>\u001b[1;34m()\u001b[0m\n\u001b[0;32m      1\u001b[0m \u001b[38;5;28;01mfor\u001b[39;00m xx \u001b[38;5;129;01min\u001b[39;00m \u001b[38;5;28mrange\u001b[39m(\u001b[38;5;241m65\u001b[39m, \u001b[38;5;241m65\u001b[39m\u001b[38;5;241m+\u001b[39m\u001b[38;5;241m26\u001b[39m):\n\u001b[1;32m----> 2\u001b[0m     xx \u001b[38;5;241m=\u001b[39m \u001b[43mx\u001b[49m\n",
      "\u001b[1;31mNameError\u001b[0m: name 'x' is not defined"
     ]
    }
   ],
   "source": [
    "for xx in range(65, 65+26):\n",
    "    xx = x\n",
    "#     print(chr(xx))"
   ]
  },
  {
   "cell_type": "code",
   "execution_count": 5,
   "id": "a33a6f3f",
   "metadata": {},
   "outputs": [
    {
     "name": "stdout",
     "output_type": "stream",
     "text": [
      "{'R', 'S', 'I', 'L', 'U', 'E', 'W', 'D', 'Z', 'J', 'C', 'G', 'A', 'O', 'P', 'X', 'K', 'N', 'Q', 'Y', 'M', 'B', 'F', 'T', 'H', 'V'}\n"
     ]
    }
   ],
   "source": [
    "xx = set([chr(alp) for alp in range(65, 65+26)])\n",
    "print(xx)"
   ]
  },
  {
   "cell_type": "code",
   "execution_count": 12,
   "id": "87d849d3",
   "metadata": {},
   "outputs": [],
   "source": [
    "fnames = [\"Qasim\",\"mehmood\",\"muneeb\"]\n",
    "lnames = [\"Hassan\",\"khan\",\"ullah\"]\n",
    "full = list(zip(fnames, lnames))"
   ]
  },
  {
   "cell_type": "code",
   "execution_count": 23,
   "id": "60ccfbbf",
   "metadata": {},
   "outputs": [
    {
     "name": "stdout",
     "output_type": "stream",
     "text": [
      "Complete name is QASIM HASSAN\n",
      "Complete name is MEHMOOD KHAN\n",
      "Complete name is MUNEEB ULLAH\n"
     ]
    }
   ],
   "source": [
    "for x in full:\n",
    "#     print(x[0].upper(), x[1])\n",
    "    print(\"Complete name is {} {}\".format(x[0].upper(),x[1].upper()))"
   ]
  },
  {
   "cell_type": "code",
   "execution_count": 21,
   "id": "c04fde11",
   "metadata": {},
   "outputs": [
    {
     "name": "stdout",
     "output_type": "stream",
     "text": [
      "complete names is Qasim Hassan\n",
      "complete names is Qasim khan\n",
      "complete names is Qasim ullah\n",
      "complete names is mehmood Hassan\n",
      "complete names is mehmood khan\n",
      "complete names is mehmood ullah\n",
      "complete names is muneeb Hassan\n",
      "complete names is muneeb khan\n",
      "complete names is muneeb ullah\n"
     ]
    }
   ],
   "source": [
    "for i in fnames:\n",
    "    for j in lnames:\n",
    "        print(f\"complete names is {i} {j}\")"
   ]
  },
  {
   "cell_type": "code",
   "execution_count": 27,
   "id": "11ffe2b6",
   "metadata": {},
   "outputs": [
    {
     "name": "stdout",
     "output_type": "stream",
     "text": [
      "Complete name is QASIM HASSAN\n",
      "Complete name is QASIM KHAN\n",
      "Complete name is QASIM ULLAH\n",
      "Complete name is MEHMOOD HASSAN\n",
      "Complete name is MEHMOOD KHAN\n",
      "Complete name is MEHMOOD ULLAH\n",
      "Complete name is MUNEEB HASSAN\n",
      "Complete name is MUNEEB KHAN\n",
      "Complete name is MUNEEB ULLAH\n"
     ]
    }
   ],
   "source": [
    "xx = [(i, j) for i in fnames for j in lnames]\n",
    "for x in xx:\n",
    "    print(\"Complete name is {} {}\".format(x[0].upper(),x[1].upper()))"
   ]
  },
  {
   "cell_type": "code",
   "execution_count": 39,
   "id": "f4eb3bdf",
   "metadata": {},
   "outputs": [
    {
     "name": "stdout",
     "output_type": "stream",
     "text": [
      "{'Qasim': 'ullah', 'mehmood': 'ullah', 'muneeb': 'ullah'}\n"
     ]
    }
   ],
   "source": [
    "dd = {i: j for i in fnames for j in lnames}\n",
    "print(dd)"
   ]
  },
  {
   "cell_type": "code",
   "execution_count": null,
   "id": "bed289e2",
   "metadata": {},
   "outputs": [],
   "source": []
  }
 ],
 "metadata": {
  "kernelspec": {
   "display_name": "Python 3 (ipykernel)",
   "language": "python",
   "name": "python3"
  },
  "language_info": {
   "codemirror_mode": {
    "name": "ipython",
    "version": 3
   },
   "file_extension": ".py",
   "mimetype": "text/x-python",
   "name": "python",
   "nbconvert_exporter": "python",
   "pygments_lexer": "ipython3",
   "version": "3.9.12"
  }
 },
 "nbformat": 4,
 "nbformat_minor": 5
}
