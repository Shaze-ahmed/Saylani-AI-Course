{
 "cells": [
  {
   "cell_type": "code",
   "execution_count": 52,
   "id": "e6cbc61b",
   "metadata": {},
   "outputs": [
    {
     "name": "stdout",
     "output_type": "stream",
     "text": [
      "1 - New User Registration!!\n",
      "2 - User/Password Verification\n",
      "3 - Select any key for Exit2\n",
      "Enter User Name !! Shahzad\n",
      "Enter Password !! sss\n",
      "Invalid User Name\n",
      "1 - New User Registration!!\n",
      "2 - User/Password Verification\n",
      "3 - Select any key for Exit2\n",
      "Enter User Name !! 55\n",
      "Enter Password !! 55\n",
      "Invalid User Name\n",
      "1 - New User Registration!!\n",
      "2 - User/Password Verification\n",
      "3 - Select any key for Exit3\n",
      "System Abort !!!!\n"
     ]
    }
   ],
   "source": [
    "ulist = []\n",
    "flist = []\n",
    "uflag = False\n",
    "def UserEntry(value):\n",
    "    with open(\"myDB.txt\", 'a+') as f:\n",
    "        f.write(value + '\\n')\n",
    "        f.seek(0)\n",
    "def LoadFile():\n",
    "    with open(\"myDB.txt\") as file:\n",
    "        content = file.readlines()[:3]\n",
    "        return content\n",
    "def getuser(value):\n",
    "    xml = value + '\\n'\n",
    "    return xml\n",
    "    \n",
    "while True:\n",
    "    userSel = int(input(\"1 - New User Registration!!\\n2 - User/Password Verification\\n3 - Select any key for Exit\"))\n",
    "    if userSel != 1 and userSel != 2:\n",
    "        print(\"System Abort !!!!\")\n",
    "        break\n",
    "        \n",
    "    uname = input(\"Enter User Name !! \")\n",
    "    upass = input(\"Enter Password !! \")\n",
    "    \n",
    "    if userSel == 1:\n",
    "        UserEntry(uname)\n",
    "        UserEntry(upass)\n",
    "        print(uname, \" User Register on System !!!\")\n",
    "    elif userSel == 2:\n",
    "        ulist = LoadFile()\n",
    "        for u in ulist:\n",
    "            flist.append(u.replace('\\n',''))\n",
    "            \n",
    "        for indx, value in enumerate(flist):\n",
    "            if value.lower() == uname.lower() and flist[indx+1] == upass:\n",
    "                uflag = True\n",
    "                break\n",
    "            \n",
    "        if uflag:\n",
    "            print(\"UserName and Password is Corrent !!!!\")\n",
    "        else:\n",
    "            print(\"Invalid User Name\")        "
   ]
  },
  {
   "cell_type": "code",
   "execution_count": null,
   "id": "0a1091f4",
   "metadata": {},
   "outputs": [],
   "source": []
  }
 ],
 "metadata": {
  "kernelspec": {
   "display_name": "Python 3 (ipykernel)",
   "language": "python",
   "name": "python3"
  },
  "language_info": {
   "codemirror_mode": {
    "name": "ipython",
    "version": 3
   },
   "file_extension": ".py",
   "mimetype": "text/x-python",
   "name": "python",
   "nbconvert_exporter": "python",
   "pygments_lexer": "ipython3",
   "version": "3.9.12"
  }
 },
 "nbformat": 4,
 "nbformat_minor": 5
}
