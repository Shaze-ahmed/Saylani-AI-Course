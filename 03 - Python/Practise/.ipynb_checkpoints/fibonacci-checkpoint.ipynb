{
 "cells": [
  {
   "cell_type": "code",
   "execution_count": 1,
   "id": "8eb0fd99",
   "metadata": {},
   "outputs": [],
   "source": [
    "def fibonacci(num1,num2):\n",
    "\n",
    "  fibonacci_list =[]\n",
    "\n",
    "  count = 0\n",
    "\n",
    "  num3 = int(input(\"Please enter a number between 2 and 15: \"))\n",
    "\n",
    "  fibonacci_list.append(num1)\n",
    "\n",
    "  fibonacci_list.append(num2)\n",
    "\n",
    "  # check if the number of terms is valid\n",
    "  if not (num3 >=2 and num3 <=15):\n",
    "    print(\"Please enter a number between 2 and 15\")\n",
    "  # if there is only one term, return n1\n",
    "  elif num3 == 1:\n",
    "    print(\"Fibonacci sequence upto\",num3,\":\")\n",
    "    print(num1)\n",
    "  # generate fibonacci sequence\n",
    "  else:\n",
    "    print(\"Fibonacci sequence: \\n\")\n",
    "\n",
    "    print(\"First 2 Numbers in the List: \" , fibonacci_list , '\\n')\n",
    "    #num3 +=1\n",
    "    while count < num3:\n",
    "        print(num1)\n",
    "        nth = num1 + num2\n",
    "        # update values\n",
    "        num1 = num2\n",
    "        num2 = nth\n",
    "        count += 1"
   ]
  },
  {
   "cell_type": "code",
   "execution_count": 2,
   "id": "95ce004a",
   "metadata": {},
   "outputs": [
    {
     "name": "stdout",
     "output_type": "stream",
     "text": [
      "Please enter a number between 2 and 15: 4\n",
      "Fibonacci sequence: \n",
      "\n",
      "First 2 Numbers in the List:  [8, 13] \n",
      "\n",
      "8\n",
      "13\n",
      "21\n",
      "34\n"
     ]
    }
   ],
   "source": [
    "fibonacci(8,13)"
   ]
  },
  {
   "cell_type": "code",
   "execution_count": null,
   "id": "b9ed9496",
   "metadata": {},
   "outputs": [],
   "source": []
  }
 ],
 "metadata": {
  "kernelspec": {
   "display_name": "Python 3 (ipykernel)",
   "language": "python",
   "name": "python3"
  },
  "language_info": {
   "codemirror_mode": {
    "name": "ipython",
    "version": 3
   },
   "file_extension": ".py",
   "mimetype": "text/x-python",
   "name": "python",
   "nbconvert_exporter": "python",
   "pygments_lexer": "ipython3",
   "version": "3.9.12"
  }
 },
 "nbformat": 4,
 "nbformat_minor": 5
}
