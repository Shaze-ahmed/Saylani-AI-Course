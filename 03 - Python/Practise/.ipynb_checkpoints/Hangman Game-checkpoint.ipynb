{
 "cells": [
  {
   "cell_type": "code",
   "execution_count": 58,
   "id": "a27605d6",
   "metadata": {},
   "outputs": [],
   "source": [
    "import random\n",
    "import string\n",
    "\n",
    "def Hangman():\n",
    "    word = 'SAYLANI'\n",
    "    word_letter = set(word)\n",
    "    alphabet = set(string.ascii_uppercase)\n",
    "    used_letter = set()\n",
    "    lives = 5\n",
    "    \n",
    "    while len(word_letter) > 0 and lives >0:\n",
    "        # Showing Used Letters from Used List\n",
    "#         print('You used these letters : ', ' '.join(used_letter))\n",
    "        xlist = [letter if letter in used_letter else '_' for letter in word]\n",
    "        print('Current Word is : ', ' '.join(xlist))\n",
    "        \n",
    "        user_letter = input(f'You have {lives} remain. Guess a letter : ').upper()\n",
    "\n",
    "        if user_letter in alphabet - used_letter:\n",
    "            used_letter.add(user_letter)\n",
    "            if user_letter in word_letter:\n",
    "                word_letter.remove(user_letter)\n",
    "            else:\n",
    "                lives -= 1\n",
    "        elif user_letter in used_letter:\n",
    "            print('You have already used that letter')\n",
    "        else:\n",
    "            print('invalid charaxcter')\n",
    "    \n",
    "    if lives == 0:\n",
    "        print(f'You Lost the Game!! The Word is {word}')\n",
    "    else:\n",
    "        print(f'Hey you guess the word !!! {word}')\n",
    "#         print(word_letter)"
   ]
  },
  {
   "cell_type": "code",
   "execution_count": 59,
   "id": "b29d41ae",
   "metadata": {},
   "outputs": [
    {
     "name": "stdout",
     "output_type": "stream",
     "text": [
      "Current Word is :  _ _ _ _ _ _ _\n",
      "You have 5 remain. Guess a letter : s\n",
      "Current Word is :  S _ _ _ _ _ _\n",
      "You have 5 remain. Guess a letter : a\n",
      "Current Word is :  S A _ _ A _ _\n",
      "You have 5 remain. Guess a letter : l\n",
      "Current Word is :  S A _ L A _ _\n",
      "You have 5 remain. Guess a letter : y\n",
      "Current Word is :  S A Y L A _ _\n",
      "You have 5 remain. Guess a letter : n\n",
      "Current Word is :  S A Y L A N _\n",
      "You have 5 remain. Guess a letter : i\n",
      "Hey you guess the word !!! SAYLANI\n"
     ]
    }
   ],
   "source": [
    "Hangman()"
   ]
  },
  {
   "cell_type": "code",
   "execution_count": 29,
   "id": "d2d811d2",
   "metadata": {},
   "outputs": [
    {
     "name": "stdout",
     "output_type": "stream",
     "text": [
      "S\n",
      "{'W', 'J', 'A', 'K', 'Q', 'Z', 'E', 'H', 'F', 'N', 'R', 'X', 'P', 'M', 'V', 'B', 'D', 'L', 'Y', 'I', 'C', 'T', 'G', 'S', 'U', 'O'}\n",
      "{'S'}\n"
     ]
    }
   ],
   "source": [
    "print(' '.join(used_letter))\n",
    "print(alphabet)\n",
    "print(used_letter)"
   ]
  },
  {
   "cell_type": "code",
   "execution_count": 38,
   "id": "da0b3a7f",
   "metadata": {},
   "outputs": [
    {
     "name": "stdout",
     "output_type": "stream",
     "text": [
      "['S', '_', '_', '_', '_', '_', '_']\n",
      "S  _  _  _  _  _  _\n"
     ]
    }
   ],
   "source": [
    "xlist = [letter if letter in used_letter else '_' for letter in word]\n",
    "print(xlist)\n",
    "print('  '.join(xlist))"
   ]
  },
  {
   "cell_type": "code",
   "execution_count": null,
   "id": "41e7f193",
   "metadata": {},
   "outputs": [],
   "source": []
  }
 ],
 "metadata": {
  "kernelspec": {
   "display_name": "Python 3 (ipykernel)",
   "language": "python",
   "name": "python3"
  },
  "language_info": {
   "codemirror_mode": {
    "name": "ipython",
    "version": 3
   },
   "file_extension": ".py",
   "mimetype": "text/x-python",
   "name": "python",
   "nbconvert_exporter": "python",
   "pygments_lexer": "ipython3",
   "version": "3.9.12"
  }
 },
 "nbformat": 4,
 "nbformat_minor": 5
}
