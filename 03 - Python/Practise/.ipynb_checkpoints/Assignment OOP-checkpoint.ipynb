{
 "cells": [
  {
   "cell_type": "code",
   "execution_count": 323,
   "id": "a2298849",
   "metadata": {},
   "outputs": [],
   "source": [
    "class Teacher: \n",
    "    totTeachers = 0\n",
    "    \n",
    "    def __init__(self):\n",
    "        self.teacherID = 0 \n",
    "        self.teacherName = \"\"\n",
    "        self.compName = \"\"\n",
    "        self.Course = \"\"\n",
    "        self._TeacherList = []\n",
    "    \n",
    "    def AddNewTeacher(self, TeacherName, CompanyName, CourseName):\n",
    "        x = (Teacher.__CheckTeacherExists(self, TeacherName)[0])\n",
    "        if x == False:\n",
    "            self.totTeachers += 1\n",
    "            self.teacherName = TeacherName\n",
    "            self.compName = CompanyName\n",
    "            self.Course = CourseName\n",
    "            tempList = [self.totTeachers, TeacherName, CompanyName, CourseName]\n",
    "            self._TeacherList.extend([tempList])\n",
    "        else:\n",
    "            print(\"Teacher Name is already Exists!!!!\")\n",
    "        \n",
    "    def UpdateTeacherInfo(self, TeacherID, TeacherName, CompanyName, CourseName):\n",
    "        if TeacherID > self.totTeachers:\n",
    "            print(\"Teacher ID {} is not Exists !!!\".format(TeacherID))\n",
    "        else:\n",
    "            myIndex = [(idx) for idx, x in enumerate(self._TeacherList) for y in x if y == TeacherID]\n",
    "            self.teacherID = TeacherID\n",
    "            self.teacherName = TeacherName\n",
    "            self.compName = CompanyName\n",
    "            self.Course = CourseName\n",
    "            self._TeacherList[myIndex[0]] = [TeacherID, TeacherName, CompanyName, CourseName]\n",
    "            Teacher.__PrintTeacherInfo(self, 'S')\n",
    "        \n",
    "    def __CheckTeacherExists(self, TeacherName):\n",
    "        isExists = False\n",
    "        IndexL = 0\n",
    "        rList = []\n",
    "        for idx, x in enumerate(self._TeacherList):\n",
    "            for y in x:                \n",
    "                if y == TeacherName:\n",
    "                    isExists = True\n",
    "                    IndexL = idx\n",
    "                    break\n",
    "              \n",
    "        rList.append(isExists)  \n",
    "        rList.append(IndexL)\n",
    "        return rList\n",
    "    \n",
    "    def GetTeacherDetails(self, TeacherID):\n",
    "        if TeacherID > self.totTeachers:\n",
    "            print(\"Teacher ID {} is not Exists !!!\".format(TeacherID))\n",
    "        else:\n",
    "            tList = [(x) for idx, x in enumerate(self._TeacherList) for y in x if y == TeacherID]\n",
    "            self.teacherID = tList[0][0]\n",
    "            self.teacherName = tList[0][1]\n",
    "            self.compName = tList[0][2]\n",
    "            self.Course = tList[0][3]\n",
    "            Teacher.__PrintTeacherInfo(self, 'S')\n",
    "            \n",
    "    def GetTeacherList(self):\n",
    "        Teacher.__PrintTeacherInfo(self, 'A')\n",
    "    \n",
    "    def LastTeacherAdd(self):\n",
    "        Teacher.__PrintTeacherInfo(self, 'A')\n",
    "            \n",
    "    def __PrintTeacherInfo(self, show='S'):\n",
    "        TeacherTemp = (f\"\"\"Teacher ID\\tTeacher Name\\t\\tCompany Name\\t\\tCourses\\n{'-'*100}\\n\"\"\")\n",
    "        if show == 'S':\n",
    "            TeacherTemp += (f\"\"\"{self.teacherID}\\t\\t{self.teacherName}\\t\\t\\t{self.compName}\\t\\t\\t{self.Course}\"\"\")\n",
    "        else:\n",
    "            for names in self._TeacherList:\n",
    "                TeacherTemp +=(f\"\"\"{names[0]}\\t\\t{names[1]}\\t\\t\\t{names[2]}\\t\\t\\t{names[3]}\\n\"\"\")\n",
    "            \n",
    "        print(TeacherTemp.expandtabs(10))\n",
    "        \n",
    "class Student(): \n",
    "    totStudents = 0\n",
    "    \n",
    "    def __init__(self):\n",
    "        self.studentID = 0 \n",
    "        self.studentName = \"\"\n",
    "        self.BatchName = \"\"\n",
    "        self.RollNum = \"\"\n",
    "        self.Course = \"\"\n",
    "        self._StudentList = []\n",
    "        \n",
    "    \n",
    "    def AddNewStudent(self, StudentName, BatchName, RollNum, Course):\n",
    "        x = (Student.__CheckStudentExists(self, StudentName)[0])\n",
    "        if x == False:\n",
    "            self.totStudents += 1\n",
    "            self.studentName = StudentName\n",
    "            self.BatchName = BatchName\n",
    "            self.RollNum = RollNum\n",
    "            self.Course = Course\n",
    "            tempList = [self.totStudents, StudentName, BatchName, RollNum, Course]\n",
    "            self._StudentList.extend([tempList])\n",
    "        else:\n",
    "            print(\"Student Name is already Exists!!!!\")\n",
    "        \n",
    "    def UpdateStudentInfo(self, StudentID, StudentName, BatchName, RollNum, Course):\n",
    "        if StudentID > self.totStudents:\n",
    "            print(\"Student ID {} is not Exists !!!\".format(StudentID))\n",
    "        else:\n",
    "            myIndex = [(idx) for idx, x in enumerate(self._StudentList) for y in x if y == StudentID]\n",
    "            self.studentID = StudentID\n",
    "            self.studentName = StudentName\n",
    "            self.BatchName = BatchName\n",
    "            self.RollNum = RollNum\n",
    "            self.Course = Course\n",
    "            print(myIndex)\n",
    "            self._StudentList[myIndex[0]] = [StudentID, StudentName, BatchName, RollNum, Course]\n",
    "            Student.__PrintStudentInfo(self, 'S')\n",
    "        \n",
    "        \n",
    "    def __CheckStudentExists(self, StudentName):\n",
    "        isExists = False\n",
    "        IndexL = 0\n",
    "        rList = []\n",
    "        for idx, x in enumerate(self._StudentList):\n",
    "            for y in x:                \n",
    "                if y == StudentName:\n",
    "                    isExists = True\n",
    "                    IndexL = idx\n",
    "                    break\n",
    "              \n",
    "        rList.append(isExists)  \n",
    "        rList.append(IndexL)\n",
    "        return rList\n",
    "    \n",
    "    def GetStudentDetails(self, StudentID):\n",
    "        if StudentID > self.totStudents:\n",
    "            print(\"Student ID {} is not Exists !!!\".format(StudentID))\n",
    "        else:\n",
    "            tList = [(x) for idx, x in enumerate(self._StudentList) for y in x if y == StudentID]\n",
    "            self.studentID = tList[0][0]\n",
    "            self.studentName = tList[0][1]\n",
    "            self.BatchName = tList[0][2]\n",
    "            self.RollNum = tList[0][3]\n",
    "            self.Course = tList[0][4]\n",
    "            Student.__PrintStudentInfo(self)\n",
    "            \n",
    "    def GetStudentList(self):\n",
    "        Student.__PrintStudentInfo(self, 'A')\n",
    "        \n",
    "    def LastStudentAdd(self):\n",
    "        Student.__PrintStudentInfo(self)\n",
    "        \n",
    "    def __PrintStudentInfo(self, show='S'):\n",
    "        StudentTemp = (f\"\"\"Student ID\\tStudent Name\\t\\tBatch Name\\t\\tRoll Num\\t\\tCourses\\n{'-'*120}\\n\"\"\")\n",
    "        if show == 'S':\n",
    "            StudentTemp += (f\"\"\"{self.studentID}\\t\\t{self.studentName}\\t\\t\\t{self.BatchName}\\t\\t\\t{self.RollNum}\\t\\t\\t{self.Course}\"\"\")\n",
    "        else:\n",
    "            for names in self._StudentList:\n",
    "                StudentTemp +=(f\"\"\"{names[0]}\\t\\t{names[1]}\\t\\t\\t{names[2]}\\t\\t{names[3]}\\t\\t{names[4]}\\n\"\"\")\n",
    "            \n",
    "        print(StudentTemp.expandtabs(10))\n",
    "    \n",
    "#     def TestFunc(self):\n",
    "#         print(self._StudentList)\n",
    "    \n",
    "class Saylani(Teacher, Student):\n",
    "    def __init__(self):\n",
    "        self.InstituteName = \"Salyani Welfare Trust\"\n",
    "        self.HO_Address = \"A-25, Bahadurabad Chowrangi Karachi, Pakistan،\"\n",
    "        Student._StudentList = []\n",
    "        Teacher._TeacherList = []\n",
    "\n",
    "sayl = Saylani()"
   ]
  },
  {
   "cell_type": "code",
   "execution_count": 322,
   "id": "be502807",
   "metadata": {},
   "outputs": [
    {
     "name": "stdout",
     "output_type": "stream",
     "text": [
      "[[1, 'Ahmed', 'AI Batch - 3', 'AI-2455', 'AI']]\n"
     ]
    }
   ],
   "source": [
    "sayl.TestFunc()"
   ]
  },
  {
   "cell_type": "code",
   "execution_count": 329,
   "id": "c7675e9b",
   "metadata": {},
   "outputs": [
    {
     "data": {
      "text/plain": [
       "1"
      ]
     },
     "execution_count": 329,
     "metadata": {},
     "output_type": "execute_result"
    }
   ],
   "source": [
    "sayl.totTeachers"
   ]
  },
  {
   "cell_type": "code",
   "execution_count": 327,
   "id": "fae2d8bc",
   "metadata": {},
   "outputs": [],
   "source": [
    "sayl.AddNewStudent(StudentName=\"Ahmed\", BatchName = \"AI Batch - 3\", RollNum = \"AI-2455\", Course = \"AI\")\n",
    "sayl.AddNewTeacher(TeacherName = \"Shahzad\", CompanyName = \"HBL\", CourseName = \"DS\")"
   ]
  },
  {
   "cell_type": "code",
   "execution_count": 318,
   "id": "a8fe4a29",
   "metadata": {},
   "outputs": [
    {
     "name": "stdout",
     "output_type": "stream",
     "text": [
      "Student ID          Student Name                  Batch Name                    Roll Num            Courses\n",
      "------------------------------------------------------------------------------------------------------------------------\n",
      "1                   Ahmed                         AI Batch - 3                  AI-2455             AI\n",
      "\n",
      "Teacher ID          Teacher Name                  Company Name                  Courses\n",
      "----------------------------------------------------------------------------------------------------\n",
      "1                   Shahzad                       HBL                           DS\n",
      "\n"
     ]
    }
   ],
   "source": [
    "sayl.GetStudentList()\n",
    "sayl.GetTeacherList()"
   ]
  },
  {
   "cell_type": "code",
   "execution_count": 321,
   "id": "b91639bd",
   "metadata": {},
   "outputs": [
    {
     "name": "stdout",
     "output_type": "stream",
     "text": [
      "Teacher ID          Teacher Name                  Company Name                  Courses\n",
      "----------------------------------------------------------------------------------------------------\n",
      "1                   Qasim                         UBL                           AI & DS\n"
     ]
    }
   ],
   "source": [
    "sayl.UpdateTeacherInfo(1, 'Qasim','UBL', 'AI & DS')"
   ]
  },
  {
   "cell_type": "code",
   "execution_count": 308,
   "id": "e445e22e",
   "metadata": {},
   "outputs": [
    {
     "name": "stdout",
     "output_type": "stream",
     "text": [
      "Student ID          Student Name                  Batch Name                    Roll Num            Courses\n",
      "------------------------------------------------------------------------------------------------------------------------\n",
      "1                   Shahzad                       AI-8888                       AI-8888                       DS\n"
     ]
    }
   ],
   "source": [
    "sayl.GetStudentDetails(1)"
   ]
  },
  {
   "cell_type": "code",
   "execution_count": 314,
   "id": "b291275a",
   "metadata": {},
   "outputs": [
    {
     "name": "stdout",
     "output_type": "stream",
     "text": [
      "Student ID          Student Name                  Batch Name                    Roll Num            Courses\n",
      "------------------------------------------------------------------------------------------------------------------------\n",
      "1                   Shahzad                       AI -BB                        AI-8888                       DS\n"
     ]
    }
   ],
   "source": [
    "sayl.LastStudentAdd()"
   ]
  },
  {
   "cell_type": "code",
   "execution_count": null,
   "id": "3c498caf",
   "metadata": {},
   "outputs": [],
   "source": [
    "dd = [[]]"
   ]
  },
  {
   "cell_type": "code",
   "execution_count": 169,
   "id": "b84b2bb4",
   "metadata": {},
   "outputs": [
    {
     "name": "stdout",
     "output_type": "stream",
     "text": [
      "Teacher ID          Teacher Name                  Company Name                  Courses\n",
      "----------------------------------------------------------------------------------------------------\n",
      "1                   Shahzad                       HBL                           DS\n",
      "\n"
     ]
    }
   ],
   "source": [
    "obj.GetTeacherList()"
   ]
  },
  {
   "cell_type": "code",
   "execution_count": 171,
   "id": "69f7db73",
   "metadata": {},
   "outputs": [
    {
     "name": "stdout",
     "output_type": "stream",
     "text": [
      "Teacher ID          Teacher Name                  Company Name                  Courses\n",
      "----------------------------------------------------------------------------------------------------\n",
      "1                   Shahzad                       HBL                           DS\n"
     ]
    }
   ],
   "source": [
    "obj.GetTeacherDetailsbyID(1)"
   ]
  },
  {
   "cell_type": "code",
   "execution_count": 106,
   "id": "84a151e1",
   "metadata": {},
   "outputs": [
    {
     "name": "stdout",
     "output_type": "stream",
     "text": [
      "[1, 'Shahzad', 'HBL', 'DS']\n"
     ]
    }
   ],
   "source": [
    "print(obj.TeacherList[0])"
   ]
  },
  {
   "cell_type": "code",
   "execution_count": 320,
   "id": "ee6a7fa0",
   "metadata": {},
   "outputs": [
    {
     "name": "stdout",
     "output_type": "stream",
     "text": [
      "False\n"
     ]
    }
   ],
   "source": [
    "print(obj.CheckTeacherExists('Shahzadss')[0])"
   ]
  },
  {
   "cell_type": "code",
   "execution_count": 9,
   "id": "a4b2bd4f",
   "metadata": {},
   "outputs": [
    {
     "name": "stdout",
     "output_type": "stream",
     "text": [
      "0 Shahzad True\n",
      "True\n"
     ]
    }
   ],
   "source": [
    "un = \"Shahzad\"\n",
    "xx = False\n",
    "xid = 0\n",
    "for idx, x in enumerate(obj.TeacherList):\n",
    "    for y in x:\n",
    "        if y == un:\n",
    "            xx = True\n",
    "            xid = idx\n",
    "            print(idx, y, xx)\n",
    "            break\n",
    "        \n",
    "print(xx) "
   ]
  },
  {
   "cell_type": "code",
   "execution_count": 21,
   "id": "d93e9eed",
   "metadata": {},
   "outputs": [],
   "source": [
    "a,b,c,d = [(x[y]) for x in obj.TeacherList for y in range(4)]"
   ]
  },
  {
   "cell_type": "code",
   "execution_count": 84,
   "id": "6d708f36",
   "metadata": {},
   "outputs": [],
   "source": [
    "a,b,c,d = zip(*[(x) for idx, x in enumerate(obj.TeacherList) for y in x if y == 1])"
   ]
  },
  {
   "cell_type": "code",
   "execution_count": 85,
   "id": "c07d040b",
   "metadata": {},
   "outputs": [
    {
     "name": "stdout",
     "output_type": "stream",
     "text": [
      "(1,) ('Shahzad',) ('HBL',) ('DS',)\n"
     ]
    }
   ],
   "source": [
    "print(a, b, c, d)"
   ]
  },
  {
   "cell_type": "code",
   "execution_count": 246,
   "id": "ccd95177",
   "metadata": {},
   "outputs": [
    {
     "ename": "SyntaxError",
     "evalue": "unmatched ')' (3367246801.py, line 2)",
     "output_type": "error",
     "traceback": [
      "\u001b[1;36m  Input \u001b[1;32mIn [246]\u001b[1;36m\u001b[0m\n\u001b[1;33m    tList = [(x) for idx, x in enumerate(obj.TeacherList) for y in x if y == xid])\u001b[0m\n\u001b[1;37m                                                                                 ^\u001b[0m\n\u001b[1;31mSyntaxError\u001b[0m\u001b[1;31m:\u001b[0m unmatched ')'\n"
     ]
    }
   ],
   "source": [
    "xid = 1\n",
    "tList = [(x) for idx, x in enumerate(obj.TeacherList) for y in x if y == xid])\n",
    "print(tList[0])\n",
    "# print(\"Teacher ID >> {}, Teacher Name is >> {} and Course is {}\".format( tList[0],tList[1],tList[3] ))\n",
    "            "
   ]
  },
  {
   "cell_type": "code",
   "execution_count": 41,
   "id": "22218f32",
   "metadata": {},
   "outputs": [
    {
     "name": "stdout",
     "output_type": "stream",
     "text": [
      "0 1 True\n"
     ]
    }
   ],
   "source": [
    "for idx, x in enumerate(obj.TeacherList):\n",
    "    for y in x:\n",
    "        if y == 1:\n",
    "            xid = idx\n",
    "            print(idx, y, xx)\n",
    "           "
   ]
  },
  {
   "cell_type": "code",
   "execution_count": 22,
   "id": "12b2bb33",
   "metadata": {},
   "outputs": [
    {
     "name": "stdout",
     "output_type": "stream",
     "text": [
      "1 Shahzad HBL AI\n"
     ]
    }
   ],
   "source": [
    "print(a, b, c, d)"
   ]
  },
  {
   "cell_type": "code",
   "execution_count": 38,
   "id": "a20e10bd",
   "metadata": {},
   "outputs": [
    {
     "name": "stdout",
     "output_type": "stream",
     "text": [
      "1\n",
      "Shahzad\n",
      "HBL\n",
      "AI\n"
     ]
    }
   ],
   "source": [
    "for i in obj.TeacherList[0]:\n",
    "    print(i)"
   ]
  },
  {
   "cell_type": "code",
   "execution_count": 35,
   "id": "7a0002fc",
   "metadata": {},
   "outputs": [
    {
     "name": "stdout",
     "output_type": "stream",
     "text": [
      "1\n",
      "Shahzad\n",
      "HBL\n",
      "AI\n"
     ]
    }
   ],
   "source": [
    "for x in obj.TeacherList[0]:\n",
    "    \n",
    "    print(x)"
   ]
  },
  {
   "cell_type": "code",
   "execution_count": 178,
   "id": "832cc2f4",
   "metadata": {},
   "outputs": [
    {
     "ename": "SyntaxError",
     "evalue": "invalid syntax (1251007262.py, line 1)",
     "output_type": "error",
     "traceback": [
      "\u001b[1;36m  Input \u001b[1;32mIn [178]\u001b[1;36m\u001b[0m\n\u001b[1;33m    dd = [(True, idx, y)for idx, x in enumerate(obj.TeacherList) for y in x  if y==un else False ]\u001b[0m\n\u001b[1;37m                                                                                      ^\u001b[0m\n\u001b[1;31mSyntaxError\u001b[0m\u001b[1;31m:\u001b[0m invalid syntax\n"
     ]
    }
   ],
   "source": [
    "dd = [(True, idx, y)for idx, x in enumerate(obj.TeacherList) for y in x  if y==un else False ]\n",
    "print(dd)\n",
    "# if True in dd:\n",
    "#     print(\"Exist\")\n",
    "# else:\n",
    "#     print(\"nopt\")\n"
   ]
  },
  {
   "cell_type": "code",
   "execution_count": null,
   "id": "f45d247d",
   "metadata": {},
   "outputs": [],
   "source": []
  },
  {
   "cell_type": "code",
   "execution_count": 156,
   "id": "39fed5df",
   "metadata": {},
   "outputs": [
    {
     "name": "stdout",
     "output_type": "stream",
     "text": [
      "Teacher ID\tTeacher Name\t\tCompany Name\t\tCourses\n",
      "----------------------------------------------------------------------------------------------------\n",
      "1\t\tQasim\t\t\tUBL\t\t\tDS\n",
      "2\t\tShahzad\t\t\tHBL\t\t\tDS\n",
      "\n"
     ]
    }
   ],
   "source": [
    "TeacherTemp = (f\"\"\"Teacher ID\\tTeacher Name\\t\\tCompany Name\\t\\tCourses\\n{'-'*100}\\n\"\"\")\n",
    "for names in obj.TeacherList:\n",
    "    TeacherTemp +=(f\"\"\"{names[0]}\\t\\t{names[1]}\\t\\t\\t{names[2]}\\t\\t\\t{names[3]}\\n\"\"\")\n",
    "print(TeacherTemp)\n",
    "\n",
    "        \n"
   ]
  },
  {
   "cell_type": "code",
   "execution_count": null,
   "id": "be247857",
   "metadata": {},
   "outputs": [],
   "source": []
  },
  {
   "cell_type": "code",
   "execution_count": 1,
   "id": "726f7a3b",
   "metadata": {},
   "outputs": [
    {
     "name": "stdout",
     "output_type": "stream",
     "text": [
      "Akash 2\n",
      "Deependra 40\n",
      "Reaper 44\n"
     ]
    }
   ],
   "source": [
    "class Saylani:    \n",
    "    def __init__(self)\n",
    "    self.InstituteName = \"Salyani Welfare Trust\"\n",
    "    self.HO_Address = \"A-25, Bahadurabad Chowrangi Karachi, Pakistan،\"\n",
    "\n",
    "class Teacher: \n",
    "    totTeacher = 0\n",
    "    \n",
    "    def __init__(self):\n",
    "        self.teacherID = 0 \n",
    "        self.teacherName = \"\"\n",
    "        self.compName = \"\"\n",
    "        self.Course = \"\"\n",
    "        self.TeacherList = []\n",
    "    \n",
    "    def LoadTeacher(self, tid, tName, tComp, tCourse): \n",
    "        self.user = user_name\n",
    "        print(\"welcome \", self.user)\n",
    "    \n",
    "    def LoadTeacher(self, ):\n",
    "    \n",
    "   \n",
    "# creating list       \n",
    "list = [] \n",
    "  \n",
    "# appending instances to list \n",
    "list.append( geeks('Akash', 2) )\n",
    "list.append( geeks('Deependra', 40) )\n",
    "list.append( geeks('Reaper', 44) )\n",
    "  \n",
    "for obj in list:\n",
    "    print( obj.name, obj.roll, sep =' ' )"
   ]
  },
  {
   "cell_type": "code",
   "execution_count": 34,
   "id": "90d5e3e6",
   "metadata": {},
   "outputs": [
    {
     "name": "stdout",
     "output_type": "stream",
     "text": [
      "[[1, 'Shahzad', 'Ahmed', 'HBL', 'Oracle'], [2, 'Muhammad', 'Saad', 'ABL', 'BI'], [3, 'Iqbal', 'Ahmed', 'UBL', 'OAF']]\n"
     ]
    }
   ],
   "source": [
    "teacherList = [[1, \"Shahzad\", \"Ahmed\", \"HBL\", \"Oracle\"],\n",
    "             [2, \"Muhammad\", \"Saad\", \"ABL\", \"BI\"],\n",
    "             [3, \"Iqbal\", \"Ahmed\", \"UBL\", \"OAF\"],\n",
    "            ]\n",
    "print(teacherList)"
   ]
  },
  {
   "cell_type": "code",
   "execution_count": 104,
   "id": "60dcc828",
   "metadata": {},
   "outputs": [
    {
     "name": "stdout",
     "output_type": "stream",
     "text": [
      "Teacher ID\t\tTeacher Name\t\tCompany Name\t\tCourses\n",
      "----------------------------------------------------------------------------------------------------\n"
     ]
    }
   ],
   "source": [
    "p_output = (f\"\"\"Teacher ID\\t\\tTeacher Name\\t\\tCompany Name\\t\\tCourses\\n{'-'*100}\"\"\")\n",
    "print(p_output)"
   ]
  },
  {
   "cell_type": "code",
   "execution_count": 35,
   "id": "f436b19c",
   "metadata": {},
   "outputs": [
    {
     "name": "stdout",
     "output_type": "stream",
     "text": [
      "[[1, 'Shahzad', 'Ahmed', 'HBL', 'Oracle'], [2, 'Muhammad', 'Saad', 'ABL', 'BI'], [3, 'Iqbal', 'Ahmed', 'UBL', 'OAF']]\n"
     ]
    }
   ],
   "source": [
    "print(teacherList)"
   ]
  },
  {
   "cell_type": "code",
   "execution_count": 52,
   "id": "99e17006",
   "metadata": {},
   "outputs": [
    {
     "name": "stdout",
     "output_type": "stream",
     "text": [
      "[4, 'Qasim', 'UBL', 'DS']\n"
     ]
    }
   ],
   "source": [
    "tempList = [4,'Qasim','UBL','DS']\n",
    "print(tempList)"
   ]
  },
  {
   "cell_type": "code",
   "execution_count": 37,
   "id": "a28af46b",
   "metadata": {},
   "outputs": [],
   "source": [
    "teacherList.extend([tempList])"
   ]
  },
  {
   "cell_type": "code",
   "execution_count": 38,
   "id": "889bedfd",
   "metadata": {},
   "outputs": [
    {
     "name": "stdout",
     "output_type": "stream",
     "text": [
      "[[1, 'Shahzad', 'Ahmed', 'HBL', 'Oracle'], [2, 'Muhammad', 'Saad', 'ABL', 'BI'], [3, 'Iqbal', 'Ahmed', 'UBL', 'OAF'], [4, 'Qasim', 'UBL', 'DS']]\n"
     ]
    }
   ],
   "source": [
    "print(teacherList)"
   ]
  },
  {
   "cell_type": "code",
   "execution_count": 48,
   "id": "f4c486e1",
   "metadata": {},
   "outputs": [
    {
     "name": "stdout",
     "output_type": "stream",
     "text": [
      "[1, 'Shahzad', 'Ahmed', 'HBL', 'Oracle'] 1 0\n",
      "[1, 'Shahzad', 'Ahmed', 'HBL', 'Oracle']\n"
     ]
    }
   ],
   "source": [
    "uid = 1\n",
    "dr = 0\n",
    "for ind, x in enumerate(teacherList):\n",
    "    for y in x:\n",
    "        if uid == y:\n",
    "            print(x,y, ind)\n",
    "\n",
    "print(teacherList[0])"
   ]
  },
  {
   "cell_type": "code",
   "execution_count": 51,
   "id": "2dac60b8",
   "metadata": {},
   "outputs": [
    {
     "name": "stdout",
     "output_type": "stream",
     "text": [
      "[]\n"
     ]
    }
   ],
   "source": [
    "xList = []\n",
    "print(xList)"
   ]
  },
  {
   "cell_type": "code",
   "execution_count": 53,
   "id": "8642967f",
   "metadata": {},
   "outputs": [],
   "source": [
    "xList.extend([tempList])"
   ]
  },
  {
   "cell_type": "code",
   "execution_count": 54,
   "id": "000ab904",
   "metadata": {},
   "outputs": [
    {
     "name": "stdout",
     "output_type": "stream",
     "text": [
      "[[4, 'Qasim', 'UBL', 'DS']]\n"
     ]
    }
   ],
   "source": [
    "print(xList)"
   ]
  },
  {
   "cell_type": "code",
   "execution_count": null,
   "id": "a7969f24",
   "metadata": {},
   "outputs": [],
   "source": []
  }
 ],
 "metadata": {
  "kernelspec": {
   "display_name": "Python 3 (ipykernel)",
   "language": "python",
   "name": "python3"
  },
  "language_info": {
   "codemirror_mode": {
    "name": "ipython",
    "version": 3
   },
   "file_extension": ".py",
   "mimetype": "text/x-python",
   "name": "python",
   "nbconvert_exporter": "python",
   "pygments_lexer": "ipython3",
   "version": "3.9.12"
  }
 },
 "nbformat": 4,
 "nbformat_minor": 5
}
