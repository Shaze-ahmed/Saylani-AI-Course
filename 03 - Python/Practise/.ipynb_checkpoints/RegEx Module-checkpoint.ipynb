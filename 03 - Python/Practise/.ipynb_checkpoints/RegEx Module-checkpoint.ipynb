{
 "cells": [
  {
   "cell_type": "markdown",
   "id": "585630ae",
   "metadata": {},
   "source": [
    "# Function\n",
    "findall  Returns a list containing all matches\n",
    "search   Returns a Match object if there is a match anywhere in the string\n",
    "split    Returns a list where the string has been split at each match\n",
    "sub      Replaces one or many matches with a string\n"
   ]
  },
  {
   "cell_type": "markdown",
   "id": "4f5f8414",
   "metadata": {},
   "source": [
    " Metacharacters\n",
    "Metacharacters are characters with a special meaning:\n",
    "\n",
    "[]\tA set of characters\t\"[a-m]\"\t\n",
    "\\\tSignals a special sequence (can also be used to escape special characters)\t\"\\d\"\t\n",
    ".\tAny character (except newline character)\t\"he..o\"\t\n",
    "^\tStarts with\t\"^hello\"\n",
    "\n",
    "\" Dollar Sign Ends with \"planet$\"\t\n",
    "\" *\tZero or more occurrences\t\"he.*o\"\t\n",
    "\" +\tOne or more occurrences\t\"he.+o\"\t\n",
    "\" ?\tZero or one occurrences\t\"he.?o\"\t\n",
    "\" {}\tExactly the specified number of occurrences\t\"he.{2}o\"\t\n",
    "\" |\tEither or\t\"falls|stays\"\t\n",
    "\" ()\tCapture and group\t "
   ]
  },
  {
   "cell_type": "markdown",
   "id": "1e8e810f",
   "metadata": {},
   "source": [
    "# Set\n",
    "[arn]\tReturns a match where one of the specified characters (a, r, or n) is present\t\n",
    "[a-n]\tReturns a match for any lower case character, alphabetically between a and n\t\n",
    "[^arn]\tReturns a match for any character EXCEPT a, r, and n\t\n",
    "[0123]\tReturns a match where any of the specified digits (0, 1, 2, or 3) are present\t\n",
    "[0-9]\tReturns a match for any digit between 0 and 9\t\n",
    "[0-5][0-9]\tReturns a match for any two-digit numbers from 00 and 59\t\n",
    "[a-zA-Z]\tReturns a match for any character alphabetically between a and z, lower case OR upper case\t\n",
    "[+]\tIn sets, +, *, ., |, (), $,{} has no special meaning, so [+] means: return a match for any + character in the string"
   ]
  },
  {
   "cell_type": "markdown",
   "id": "ae64d67d",
   "metadata": {},
   "source": [
    "# Special Sequences\n",
    "A special sequence is a \\ followed by one of the characters in the list below, and has a special meaning:\n",
    "\n",
    "Character\tDescription\tExample\tTry it\n",
    "\\A\tReturns a match if the specified characters are at the beginning of the string\t\"\\AThe\"\t\n",
    "\\b\tReturns a match where the specified characters are at the beginning or at the end of a word\n",
    "(the \"r\" in the beginning is making sure that the string is being treated as a \"raw string\")\tr\"\\bain\"\n",
    "r\"ain\\b\"\t\n",
    "\\B\tReturns a match where the specified characters are present, but NOT at the beginning (or at the end) of a word\n",
    "(the \"r\" in the beginning is making sure that the string is being treated as a \"raw string\")\tr\"\\Bain\"\n",
    "r\"ain\\B\"\t\n",
    "\\d\tReturns a match where the string contains digits (numbers from 0-9)\t\"\\d\"\t\n",
    "\\D\tReturns a match where the string DOES NOT contain digits\t\"\\D\"\t\n",
    "\\s\tReturns a match where the string contains a white space character\t\"\\s\"\t\n",
    "\\S\tReturns a match where the string DOES NOT contain a white space character\t\"\\S\"\t\n",
    "\\w\tReturns a match where the string contains any word characters (characters from a to Z, digits from 0-9, and the underscore _ character)\t\"\\w\"\t\n",
    "\\W\tReturns a match where the string DOES NOT contain any word characters\t\"\\W\"\t\n",
    "\\Z\tReturns a match if the specified characters are at the end of the string\t\"Spain\\Z\""
   ]
  },
  {
   "cell_type": "raw",
   "id": "888980bc",
   "metadata": {},
   "source": [
    "# .       - Any Character Except New Line\n",
    "\\d      - Digit (0-9)\n",
    "\\D      - Not a Digit (0-9)\n",
    "\\w      - Word Character (a-z, A-Z, 0-9, _)\n",
    "\\W      - Not a Word Character\n",
    "\\s      - Whitespace (space, tab, newline)\n",
    "\\S      - Not Whitespace (space, tab, newline)\n",
    "\n",
    "\\b      - Word Boundary\n",
    "\\B      - Not a Word Boundary\n",
    "^       - Beginning of a String\n",
    "$       - End of a String\n",
    "\n",
    "[]      - Matches Characters in brackets\n",
    "[^ ]    - Matches Characters NOT in brackets\n",
    "|       - Either Or\n",
    "( )     - Group\n",
    "\n",
    "Quantifiers:\n",
    "*       - 0 or More\n",
    "+       - 1 or More\n",
    "?       - 0 or One\n",
    "{3}     - Exact Number\n",
    "{3,4}   - Range of Numbers (Minimum, Maximum)\n",
    "\n",
    "\n",
    "#### Sample Regexs ####\n",
    "\n",
    "[a-zA-Z0-9_.+-]+@[a-zA-Z0-9-]+\\.[a-zA-Z0-9-.]+\n",
    "\n",
    "very important web\n",
    "https://regex101.com/  \n",
    "https://www.regexpal.com/\n",
    "https://regexr.com/"
   ]
  },
  {
   "cell_type": "code",
   "execution_count": null,
   "id": "4c3c4d8c",
   "metadata": {},
   "outputs": [],
   "source": [
    "import re\n",
    "txt = \"The rain in Spain\""
   ]
  },
  {
   "cell_type": "code",
   "execution_count": null,
   "id": "cb19c49c",
   "metadata": {},
   "outputs": [],
   "source": []
  },
  {
   "cell_type": "markdown",
   "id": "4d940b5a",
   "metadata": {},
   "source": [
    "# findall\t\n",
    "Returns a list containing all matches"
   ]
  },
  {
   "cell_type": "code",
   "execution_count": null,
   "id": "d56ca575",
   "metadata": {},
   "outputs": [],
   "source": [
    "x = re.findall(\"ai\", txt)\n",
    "print(x)\n",
    "x = re.findall(\"Portugal\", txt)\n",
    "print(x)\n",
    "x = re.findall(\"[a-m]\", txt)\n",
    "print(x)"
   ]
  },
  {
   "cell_type": "markdown",
   "id": "f574735c",
   "metadata": {},
   "source": [
    "# search\t\n",
    "Returns a Match object if there is a match anywhere in the string"
   ]
  },
  {
   "cell_type": "code",
   "execution_count": null,
   "id": "e240ea65",
   "metadata": {},
   "outputs": [],
   "source": [
    "#Check if the string starts with \"The\" and ends with \"Spain\":\n",
    "x = re.search(\"^The.*Spain$\", txt)\n",
    "if x:\n",
    "  print(\"YES! We have a match!\")\n",
    "else:\n",
    "  print(\"No match\")"
   ]
  },
  {
   "cell_type": "code",
   "execution_count": null,
   "id": "0529684d",
   "metadata": {},
   "outputs": [],
   "source": [
    "x = re.search(\"\\s\", txt)\n",
    "print(\"The first white-space character is located in position:\", x.start())\n",
    "\n",
    "x = re.search(\"Portugal\", txt)\n",
    "print(x)\n",
    "\n",
    "x = re.search(\"ai\", txt)\n",
    "print(x) #this will print an object\n",
    "\n",
    "x = re.search(r\"\\bS\\w+\", txt)\n",
    "print(x.span())"
   ]
  },
  {
   "cell_type": "markdown",
   "id": "f51d6c38",
   "metadata": {},
   "source": [
    "# split\n",
    "Returns a list where the string has been split at each match"
   ]
  },
  {
   "cell_type": "code",
   "execution_count": null,
   "id": "ed76f427",
   "metadata": {},
   "outputs": [],
   "source": [
    "x = re.split(\"\\s\", txt)\n",
    "print(x)\n",
    "\n",
    "x = re.split(\"\\s\", txt, 1)\n",
    "print(x)"
   ]
  },
  {
   "cell_type": "markdown",
   "id": "f37fb7e3",
   "metadata": {},
   "source": [
    "# sub\n",
    "Replaces one or many matches with a string"
   ]
  },
  {
   "cell_type": "code",
   "execution_count": null,
   "id": "86cb45a4",
   "metadata": {},
   "outputs": [],
   "source": [
    "x = re.sub(\"\\s\", \"9\", txt)\n",
    "print(x)\n",
    "\n",
    "x = re.sub(\"\\s\", \"9\", txt, 2)\n",
    "print(x)"
   ]
  },
  {
   "cell_type": "code",
   "execution_count": null,
   "id": "5bb639fb",
   "metadata": {},
   "outputs": [],
   "source": [
    "import re\n",
    "sentiment_analysis = \"@robot9! @robot4& I have a good feeling that the show isgoing to be amazing! @robot9$ @robot7%\"\n",
    "regex = r\"\\B@\\w{5}\\d\\D\"\n",
    "# regex = r\"@robot\\d\\W\" Datacamp answer\n",
    "\n",
    "# Find all matches of regex\n",
    "print(re.findall(regex, sentiment_analysis))\n"
   ]
  },
  {
   "cell_type": "code",
   "execution_count": null,
   "id": "d586fb25",
   "metadata": {},
   "outputs": [],
   "source": [
    "sa = \"Unfortunately one of those moments wasn't a giant squid monster. User_mentions:2, likes: 9, number of retweets: 7\"\n",
    "print(re.findall(r\"User_mentions:\\d\", sa))\n",
    "print(re.findall(r\"likes:\\s\\d\", sa))\n",
    "print(re.findall(r\"number.:\\s\\d\", sa))\n",
    "# print(re.findall(r\"number\\sof\\sretweets:\\s\\d\", sentiment_analysis)) Datacamp"
   ]
  },
  {
   "cell_type": "code",
   "execution_count": null,
   "id": "11afdc46",
   "metadata": {},
   "outputs": [],
   "source": [
    "saa = \"He#newHis%newTin love with$newPscrappy. #8break%He is&newYmissing him@newLalready\"\n",
    "regex_sentence = r\"\\B\\W\\dbreak\\W\"\n",
    "print(re.findall(regex_sentence, saa))"
   ]
  },
  {
   "cell_type": "code",
   "execution_count": null,
   "id": "27b3fd42",
   "metadata": {},
   "outputs": [],
   "source": [
    "NameAge = '''\n",
    "Janica is 22 and Theon is 33\n",
    "Gabrial is 44 and Joey is 21\n",
    "'''\n",
    "regex = r\"[A-Z][a-z]*|\\d{1,3}\"\n",
    "ages = re.findall(r'\\d{1,3}', NameAge)\n",
    "name = re.findall(r'[A-Z][a-z]*', NameAge)\n",
    "nameage = re.findall(regex, NameAge)\n",
    "xx = dict()\n",
    "x = 0\n",
    "for names in name:\n",
    "    xx[names] = ages[x]\n",
    "    x += 1      \n",
    "print(xx)"
   ]
  },
  {
   "cell_type": "code",
   "execution_count": null,
   "id": "41ea4cd7",
   "metadata": {},
   "outputs": [],
   "source": [
    "mt = 'BEER IS NICE'\n",
    "print(re.findall('BEER', mt))\n",
    "print(re.search('BEER', mt))\n",
    "if re.search('BEER', mt):\n",
    "    print(\"Beer is here\")"
   ]
  },
  {
   "cell_type": "code",
   "execution_count": null,
   "id": "70f71a9e",
   "metadata": {},
   "outputs": [],
   "source": [
    "str = \"we need to inform him with the latest information\"\n",
    "for i in re.finditer(\"inform\", str):\n",
    "    print(i.span())\n",
    "print(str[11:17])\n",
    "print(str[38:44])"
   ]
  },
  {
   "cell_type": "code",
   "execution_count": null,
   "id": "068c9bc1",
   "metadata": {},
   "outputs": [],
   "source": [
    "str = \"Sat, hat, mat, pat\"\n",
    "print(re.findall(\"[Shmp]at\", str)) # word start with \n",
    "print(re.findall(\"[h-z]at\", str))  # exists on h se z\n",
    "print(re.findall(\"[^h-z]at\", str)) # not exists on h se z"
   ]
  },
  {
   "cell_type": "code",
   "execution_count": null,
   "id": "eb90ac77",
   "metadata": {},
   "outputs": [],
   "source": [
    "food = \"hat rat mat pat\"\n",
    "regex = re.compile(\"[r]at\")\n",
    "food = regex.sub(\"food\", food)\n",
    "print(food)"
   ]
  },
  {
   "cell_type": "code",
   "execution_count": null,
   "id": "8746dbcc",
   "metadata": {},
   "outputs": [],
   "source": [
    "randstr = \"here is \\\\mystring\"\n",
    "print(re.search(r\"\\\\mystring\", randstr))\n",
    "print(randstr)"
   ]
  },
  {
   "cell_type": "code",
   "execution_count": null,
   "id": "a00d087b",
   "metadata": {},
   "outputs": [],
   "source": [
    "randstr = '''\n",
    "Keep the blue flag\n",
    "flying high\n",
    "clelsea\n",
    "'''\n",
    "print(randstr)\n",
    "print(re.sub(\"\\n\", \" \", randstr))\n",
    "regex = re.compile(\"\\n\")\n",
    "randstr = regex.sub(\" \", randstr)\n",
    "print(randstr)"
   ]
  },
  {
   "cell_type": "code",
   "execution_count": null,
   "id": "c8a9e663",
   "metadata": {},
   "outputs": [],
   "source": [
    "randstr = \"12345abc\"\n",
    "print(\"Matches Digit:\", len(re.findall(\"\\d\", randstr)))\n",
    "print(\"Matches Non Digit:\", len(re.findall(\"\\D\", randstr)))\n",
    "num = \"123 1234 12345 123456 1234567\"\n",
    "print(\"Matches:\", len(re.findall(\"\\d{3,10}\", num)))"
   ]
  },
  {
   "cell_type": "code",
   "execution_count": null,
   "id": "6c515861",
   "metadata": {},
   "outputs": [],
   "source": [
    "phone = \"412-555-1212\"\n",
    "if re.search(\"\\d{3}-\\d{3}-\\d{4}\", phone):\n",
    "    print(\"Right Phone Format\")\n",
    "\n",
    "if re.search(\"\\w{2,20}\\s\\w{2,20}\", \"Shahzad Ahmed\"):\n",
    "    print(\"valid format\")"
   ]
  },
  {
   "cell_type": "code",
   "execution_count": null,
   "id": "f8f0ab66",
   "metadata": {},
   "outputs": [],
   "source": [
    "email = \"shaze@gmail.com md @.com @seo.com dc@.com\"\n",
    "print(\"Email Matches:\", len(re.findall(\"[\\w._%+-]{1,20}[\\w.-]{2,20}.[A-Za-z]{2,3}\", email)))"
   ]
  },
  {
   "cell_type": "code",
   "execution_count": null,
   "id": "f78c2306",
   "metadata": {},
   "outputs": [],
   "source": [
    "print(re.findall(\"[\\w._%+-]{1,20}\", email))\n",
    "print(re.findall(\"[\\w._%+-]{1,20}[\\w.-]{2,20}\", email))\n",
    "print(re.findall(\"[\\w._%+-]{1,20}[\\w.-]{2,20}.[A-Za-z]{2,3}\", email))"
   ]
  },
  {
   "cell_type": "code",
   "execution_count": null,
   "id": "213eb934",
   "metadata": {},
   "outputs": [],
   "source": [
    "import urllib.request\n",
    "from re import findall\n",
    "url = \"http://www.summet.com/dmsi/html/codesamples/addresses.html\"\n",
    "response = urllib.request.urlopen(url)\n",
    "html = response.read()\n",
    "htmlstr = html.decode()\n",
    "pdata = findall(\"\\(\\d{3}\\) \\d{3}-\\d{4}\", htmlstr)\n",
    "for item in pdata:\n",
    "    print(item)"
   ]
  },
  {
   "cell_type": "code",
   "execution_count": 1,
   "id": "3c60251a",
   "metadata": {},
   "outputs": [],
   "source": [
    "mystr = '''abcdefghijklmnopqurtuvwxyz\n",
    "ABCDEFGHIJKLMNOPQRSTUVWXYZ\n",
    "1234567890\n",
    "\n",
    "Ha HaHa\n",
    "\n",
    "MetaCharacters (Need to be escaped):\n",
    ".[{()\\^$|?*+\n",
    "\n",
    "\n",
    "321-555-4321\n",
    "123.555.1234 \n",
    "\n",
    "Mr. Shahzad\n",
    "Mr Qasim\n",
    "Ms Davis\n",
    "Mrs. Robinson\n",
    "Mr. T\n",
    "Saylani@gmail.com\n",
    "shaze.ahmed@university.edu\n",
    "shahzad-321-Ahmed@my-work.net\n",
    "\n",
    "https://www.google.com\n",
    "http://github.com\n",
    "https://youtube.com\n",
    "https://www.nasa.gov\n",
    "'''"
   ]
  },
  {
   "cell_type": "code",
   "execution_count": 2,
   "id": "905a983e",
   "metadata": {},
   "outputs": [
    {
     "name": "stdout",
     "output_type": "stream",
     "text": [
      "['Saylani@gmail.com', 'shaze.ahmed@university.edu', 'shahzad-321-Ahmed@my-work.net']\n"
     ]
    }
   ],
   "source": [
    "import re\n",
    "# regex = \"\\d{3}[.-]\\d{3}[.-]\\d{4}\"\n",
    "# regex = \"M[r|s][rs]?\\.?\\s[A-Za-z]*\\w+\"\n",
    "regex = \"[A-Za-z0-9.-]+?@[A-Za-z-.]+\"\n",
    "print(re.findall(regex,mystr ))"
   ]
  },
  {
   "cell_type": "code",
   "execution_count": 177,
   "id": "e5c631fd",
   "metadata": {},
   "outputs": [
    {
     "name": "stdout",
     "output_type": "stream",
     "text": [
      "['https://www.google.com', 'http://coreyms.com', 'https://youtube.com', 'https://www.nasa.gov']\n"
     ]
    }
   ],
   "source": [
    "# Getting Web Address\n",
    "import re\n",
    "# regex = \"https?://[www\\.]?\"\n",
    "regex = \"https?://\\w+\\.\\w+[\\.\\w+]?\\w+\"\n",
    "xx = re.findall(regex, mystr)\n",
    "print(xx)"
   ]
  },
  {
   "cell_type": "code",
   "execution_count": 214,
   "id": "3fbb52bf",
   "metadata": {},
   "outputs": [
    {
     "name": "stdout",
     "output_type": "stream",
     "text": [
      "['321-555-4321', '123.555.1234', '152 555 5452']\n"
     ]
    }
   ],
   "source": [
    "# Phone Number\n",
    "import re\n",
    "# regex = \"\\d{3}[\\.-]\\d{3}[\\.-]\\d{4}\n",
    "regex = \"\\d{3}[-|\\.|\\s]\\d{3}[-|\\.|\\s]\\d{4}\"\n",
    "xx = re.findall(regex, mystr)\n",
    "print(xx)"
   ]
  },
  {
   "cell_type": "code",
   "execution_count": 217,
   "id": "4aa16b67",
   "metadata": {},
   "outputs": [
    {
     "name": "stdout",
     "output_type": "stream",
     "text": [
      "['Mr. Schafer', 'Mr Smith', 'Ms Davis', 'Mr. T']\n"
     ]
    }
   ],
   "source": [
    "# Getting Names\n",
    "import re\n",
    "regex = \"M[rs|r|s]\\.?\\s[A-Z]\\w*\"\n",
    "xx = re.findall(regex, mystr)\n",
    "print(xx)"
   ]
  },
  {
   "cell_type": "code",
   "execution_count": 134,
   "id": "7df79c7f",
   "metadata": {},
   "outputs": [
    {
     "name": "stdout",
     "output_type": "stream",
     "text": [
      "CoreyMSchafer@gmail.com\n",
      "corey.schafer@university.edu\n",
      "corey-321-schafer@my-work.net\n"
     ]
    }
   ],
   "source": [
    "# Getting Emails Address\n",
    "import re\n",
    "regex = \"[A-Za-z0-9.-]+?@[A-Za-z-.]+\"\n",
    "xx = re.findall(regex, mystr)\n",
    "for x in xx:\n",
    "    print(x)"
   ]
  },
  {
   "cell_type": "code",
   "execution_count": null,
   "id": "6e9bb8b9",
   "metadata": {},
   "outputs": [],
   "source": []
  }
 ],
 "metadata": {
  "kernelspec": {
   "display_name": "Python 3 (ipykernel)",
   "language": "python",
   "name": "python3"
  },
  "language_info": {
   "codemirror_mode": {
    "name": "ipython",
    "version": 3
   },
   "file_extension": ".py",
   "mimetype": "text/x-python",
   "name": "python",
   "nbconvert_exporter": "python",
   "pygments_lexer": "ipython3",
   "version": "3.9.12"
  }
 },
 "nbformat": 4,
 "nbformat_minor": 5
}
