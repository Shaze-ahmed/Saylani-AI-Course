{
 "cells": [
  {
   "cell_type": "code",
   "execution_count": 14,
   "id": "4c3c4d8c",
   "metadata": {},
   "outputs": [],
   "source": [
    "import re\n",
    "txt = \"The rain in Spain\""
   ]
  },
  {
   "cell_type": "code",
   "execution_count": 15,
   "id": "cb19c49c",
   "metadata": {},
   "outputs": [
    {
     "name": "stdout",
     "output_type": "stream",
     "text": [
      "YES! We have a match!\n"
     ]
    }
   ],
   "source": []
  },
  {
   "cell_type": "markdown",
   "id": "4d940b5a",
   "metadata": {},
   "source": [
    "# findall\t\n",
    "Returns a list containing all matches"
   ]
  },
  {
   "cell_type": "code",
   "execution_count": 21,
   "id": "d56ca575",
   "metadata": {},
   "outputs": [
    {
     "name": "stdout",
     "output_type": "stream",
     "text": [
      "['ai', 'ai']\n",
      "[]\n",
      "['h', 'e', 'a', 'i', 'i', 'a', 'i']\n"
     ]
    }
   ],
   "source": [
    "x = re.findall(\"ai\", txt)\n",
    "print(x)\n",
    "x = re.findall(\"Portugal\", txt)\n",
    "print(x)\n",
    "x = re.findall(\"[a-m]\", txt)\n",
    "print(x)"
   ]
  },
  {
   "cell_type": "markdown",
   "id": "f574735c",
   "metadata": {},
   "source": [
    "# search\t\n",
    "Returns a Match object if there is a match anywhere in the string"
   ]
  },
  {
   "cell_type": "code",
   "execution_count": 22,
   "id": "e240ea65",
   "metadata": {},
   "outputs": [
    {
     "name": "stdout",
     "output_type": "stream",
     "text": [
      "YES! We have a match!\n"
     ]
    }
   ],
   "source": [
    "#Check if the string starts with \"The\" and ends with \"Spain\":\n",
    "x = re.search(\"^The.*Spain$\", txt)\n",
    "if x:\n",
    "  print(\"YES! We have a match!\")\n",
    "else:\n",
    "  print(\"No match\")"
   ]
  },
  {
   "cell_type": "code",
   "execution_count": 27,
   "id": "0529684d",
   "metadata": {},
   "outputs": [
    {
     "name": "stdout",
     "output_type": "stream",
     "text": [
      "The first white-space character is located in position: 3\n",
      "None\n",
      "<re.Match object; span=(5, 7), match='ai'>\n",
      "(12, 17)\n"
     ]
    }
   ],
   "source": [
    "x = re.search(\"\\s\", txt)\n",
    "print(\"The first white-space character is located in position:\", x.start())\n",
    "\n",
    "x = re.search(\"Portugal\", txt)\n",
    "print(x)\n",
    "\n",
    "x = re.search(\"ai\", txt)\n",
    "print(x) #this will print an object\n",
    "\n",
    "x = re.search(r\"\\bS\\w+\", txt)\n",
    "print(x.span())"
   ]
  },
  {
   "cell_type": "markdown",
   "id": "f51d6c38",
   "metadata": {},
   "source": [
    "# split\n",
    "Returns a list where the string has been split at each match"
   ]
  },
  {
   "cell_type": "code",
   "execution_count": 24,
   "id": "ed76f427",
   "metadata": {},
   "outputs": [
    {
     "name": "stdout",
     "output_type": "stream",
     "text": [
      "['The', 'rain', 'in', 'Spain']\n",
      "['The', 'rain in Spain']\n"
     ]
    }
   ],
   "source": [
    "x = re.split(\"\\s\", txt)\n",
    "print(x)\n",
    "\n",
    "x = re.split(\"\\s\", txt, 1)\n",
    "print(x)"
   ]
  },
  {
   "cell_type": "markdown",
   "id": "f37fb7e3",
   "metadata": {},
   "source": [
    "# sub\n",
    "Replaces one or many matches with a string"
   ]
  },
  {
   "cell_type": "code",
   "execution_count": 25,
   "id": "86cb45a4",
   "metadata": {},
   "outputs": [
    {
     "name": "stdout",
     "output_type": "stream",
     "text": [
      "The9rain9in9Spain\n",
      "The9rain9in Spain\n"
     ]
    }
   ],
   "source": [
    "x = re.sub(\"\\s\", \"9\", txt)\n",
    "print(x)\n",
    "\n",
    "x = re.sub(\"\\s\", \"9\", txt, 2)\n",
    "print(x)"
   ]
  },
  {
   "cell_type": "code",
   "execution_count": null,
   "id": "5bb639fb",
   "metadata": {},
   "outputs": [],
   "source": []
  }
 ],
 "metadata": {
  "kernelspec": {
   "display_name": "Python 3 (ipykernel)",
   "language": "python",
   "name": "python3"
  },
  "language_info": {
   "codemirror_mode": {
    "name": "ipython",
    "version": 3
   },
   "file_extension": ".py",
   "mimetype": "text/x-python",
   "name": "python",
   "nbconvert_exporter": "python",
   "pygments_lexer": "ipython3",
   "version": "3.9.12"
  }
 },
 "nbformat": 4,
 "nbformat_minor": 5
}
