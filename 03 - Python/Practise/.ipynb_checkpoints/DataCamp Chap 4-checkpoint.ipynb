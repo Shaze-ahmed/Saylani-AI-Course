{
 "cells": [
  {
   "cell_type": "code",
   "execution_count": 9,
   "id": "f3f04a97",
   "metadata": {},
   "outputs": [
    {
     "name": "stdout",
     "output_type": "stream",
     "text": [
      "0 Shahzad\n",
      "1 Iqbal\n",
      "2 Saad\n",
      "3 Zubair\n"
     ]
    }
   ],
   "source": [
    "list1 = ['Shahzad','Iqbal','Saad','Zubair']\n",
    "list2 = ['Ahmed','Khan','Muhammad','Ali']\n",
    "e = enumerate(list1)\n",
    "# print(type(e))\n",
    "\n",
    "xList = list(e)\n",
    "# print(xList)\n",
    "\n",
    "for ind, val in enumerate(list1):\n",
    "    print(ind, val)\n",
    "\n",
    "\n"
   ]
  },
  {
   "cell_type": "code",
   "execution_count": 4,
   "id": "d55d6441",
   "metadata": {},
   "outputs": [
    {
     "name": "stdout",
     "output_type": "stream",
     "text": [
      "[('Shahzad', 'Ahmed'), ('Iqbal', 'Khan'), ('Saad', 'Muhammad'), ('Zubair', 'Ali')]\n"
     ]
    }
   ],
   "source": [
    "z = zip(list1, list2)\n",
    "zL = list(z)\n",
    "print(zL)"
   ]
  },
  {
   "cell_type": "code",
   "execution_count": 5,
   "id": "524ae92e",
   "metadata": {},
   "outputs": [
    {
     "name": "stdout",
     "output_type": "stream",
     "text": [
      "[(5, 'a'), (6, 'b'), (7, 'c'), (8, 'd')]\n"
     ]
    }
   ],
   "source": [
    "letter = ['a','b','c','d']\n",
    "# letter = list(enumerate(letter))\n",
    "letter = list(enumerate(letter, start=5))\n",
    "print(letter)"
   ]
  },
  {
   "cell_type": "code",
   "execution_count": 6,
   "id": "118195ca",
   "metadata": {},
   "outputs": [
    {
     "name": "stdout",
     "output_type": "stream",
     "text": [
      "[2.5, 2.3, 4.2, 8.9, 0.6, 9.1]\n",
      "[2, 2, 4, 9, 1, 9]\n"
     ]
    }
   ],
   "source": [
    "num = [2.5,2.3,4.2,8.9,0.6,9.1]\n",
    "print(num)\n",
    "num = list(map(round, num))\n",
    "print(num)"
   ]
  },
  {
   "cell_type": "code",
   "execution_count": 17,
   "id": "4bd26cb2",
   "metadata": {},
   "outputs": [
    {
     "name": "stdout",
     "output_type": "stream",
     "text": [
      "[1, 4, 9, 16, 25]\n"
     ]
    }
   ],
   "source": [
    "nums =[1,2,3,4,5]\n",
    "square_num = map(lambda x: x**2, nums)\n",
    "print(list(square_num))"
   ]
  },
  {
   "cell_type": "code",
   "execution_count": 21,
   "id": "bcf64f6a",
   "metadata": {},
   "outputs": [
    {
     "name": "stdout",
     "output_type": "stream",
     "text": [
      "<class 'map'>\n",
      "['JERRY', 'KRAMER', 'ELAINE', 'GEORGE', 'NEWMAN']\n"
     ]
    }
   ],
   "source": [
    "names = ['Jerry', 'Kramer', 'Elaine', 'George', 'Newman']\n",
    "\n",
    "names_map  = map(lambda str: str.upper(), names)\n",
    "print(type(names_map))\n",
    "names_uppercase = list(names_map)\n",
    "print(names_uppercase)\n"
   ]
  },
  {
   "cell_type": "code",
   "execution_count": 23,
   "id": "67ac1bba",
   "metadata": {},
   "outputs": [
    {
     "name": "stdout",
     "output_type": "stream",
     "text": [
      "<class 'numpy.ndarray'>\n",
      "(4, 2)\n"
     ]
    }
   ],
   "source": [
    "baseball = [[180, 78.4],\n",
    "            [215, 102.7],\n",
    "            [210, 98.5],\n",
    "            [188, 75.2]]\n",
    "\n",
    "# Import numpy\n",
    "import numpy as np\n",
    "\n",
    "# Create a 2D numpy array from baseball: np_baseball\n",
    "np_baseball=np.array(baseball)\n",
    "print(type(np_baseball)) \n",
    "print(np_baseball.shape)"
   ]
  },
  {
   "cell_type": "code",
   "execution_count": 24,
   "id": "b27da79b",
   "metadata": {},
   "outputs": [
    {
     "name": "stdout",
     "output_type": "stream",
     "text": [
      "[215.  102.7]\n"
     ]
    }
   ],
   "source": [
    "print(np_baseball[1,:])\n",
    "\n"
   ]
  },
  {
   "cell_type": "code",
   "execution_count": 37,
   "id": "bc26449b",
   "metadata": {},
   "outputs": [
    {
     "name": "stdout",
     "output_type": "stream",
     "text": [
      "[('Bulbasaur', 45), ('Charmander', 39), ('Sqirtle', 44)]\n",
      "[('Bulbasaur', 45), ('Charmander', 39), ('Sqirtle', 44)]\n"
     ]
    }
   ],
   "source": [
    "names = ['Bulbasaur','Charmander','Sqirtle']\n",
    "hps = [45,39,44]\n",
    "combined = []\n",
    "combined_zip = zip(names, hps)\n",
    "combined2 = [*combined_zip]\n",
    "for i, j in enumerate(names):\n",
    "    combined.append((j, hps[i]))\n",
    "print(combined)\n",
    "print(combined2)"
   ]
  },
  {
   "cell_type": "code",
   "execution_count": 45,
   "id": "44797241",
   "metadata": {},
   "outputs": [
    {
     "name": "stdout",
     "output_type": "stream",
     "text": [
      "{'a': 2, 'b': 3, 'c': 2, 'd': 4, 'e': 3, 'f': 3, 'r': 1, 's': 2, 'x': 2, 'z': 1}\n"
     ]
    }
   ],
   "source": [
    "dup_list = ['a','b','c','d','e','e','d','b','c','d','e','f','f','r','s','a','b','d','f','s','x','x','z']\n",
    "dup_dict = {}\n",
    "for x in dup_list:\n",
    "    if x not in dup_dict:\n",
    "        dup_dict[x] = 1\n",
    "    else:\n",
    "        dup_dict[x] += 1\n",
    "        \n",
    "print(dup_dict)"
   ]
  },
  {
   "cell_type": "code",
   "execution_count": 47,
   "id": "c247dbc6",
   "metadata": {},
   "outputs": [
    {
     "name": "stdout",
     "output_type": "stream",
     "text": [
      "Counter({'d': 4, 'b': 3, 'e': 3, 'f': 3, 'a': 2, 'c': 2, 's': 2, 'x': 2, 'r': 1, 'z': 1})\n"
     ]
    }
   ],
   "source": [
    "from collections import Counter\n",
    "type_list = Counter(dup_list)\n",
    "print(type_list)"
   ]
  },
  {
   "cell_type": "code",
   "execution_count": 48,
   "id": "fed3b523",
   "metadata": {},
   "outputs": [
    {
     "name": "stdout",
     "output_type": "stream",
     "text": [
      "a 2\n",
      "b 3\n",
      "c 2\n",
      "d 4\n",
      "e 3\n",
      "f 3\n",
      "r 1\n",
      "s 2\n",
      "x 2\n",
      "z 1\n"
     ]
    }
   ],
   "source": [
    "for x, y in type_list.items():\n",
    "    print(x, y)"
   ]
  },
  {
   "cell_type": "code",
   "execution_count": 67,
   "id": "6b81dacb",
   "metadata": {},
   "outputs": [],
   "source": [
    "poker = ['Bug','Fire','Ghost','Grass','Water']\n",
    "combos = []"
   ]
  },
  {
   "cell_type": "code",
   "execution_count": 68,
   "id": "736cc267",
   "metadata": {},
   "outputs": [
    {
     "name": "stdout",
     "output_type": "stream",
     "text": [
      "[('Bug', 'Fire'), ('Bug', 'Ghost'), ('Bug', 'Grass'), ('Bug', 'Water'), ('Fire', 'Ghost'), ('Fire', 'Grass'), ('Fire', 'Water'), ('Ghost', 'Grass'), ('Ghost', 'Water'), ('Grass', 'Water')]\n"
     ]
    }
   ],
   "source": [
    "combos = []\n",
    "for x in poker:\n",
    "    for y in poker:\n",
    "        if x!=y:\n",
    "            if (x,y) not in combos and (y,x) not in combos:\n",
    "                combos.append((x,y))\n",
    "        \n",
    "print(combos)"
   ]
  },
  {
   "cell_type": "code",
   "execution_count": 74,
   "id": "7679f928",
   "metadata": {},
   "outputs": [
    {
     "name": "stdout",
     "output_type": "stream",
     "text": [
      "[('Bug', 'Fire'), ('Bug', 'Ghost'), ('Bug', 'Grass'), ('Bug', 'Water'), ('Fire', 'Ghost'), ('Fire', 'Grass'), ('Fire', 'Water'), ('Ghost', 'Grass'), ('Ghost', 'Water'), ('Grass', 'Water')]\n"
     ]
    }
   ],
   "source": [
    "from itertools import combinations\n",
    "comb_obj = combinations(poker, 2)\n",
    "combination = list(comb_obj)\n",
    "print(combination)"
   ]
  },
  {
   "cell_type": "code",
   "execution_count": null,
   "id": "3468bc46",
   "metadata": {},
   "outputs": [],
   "source": []
  }
 ],
 "metadata": {
  "kernelspec": {
   "display_name": "Python 3 (ipykernel)",
   "language": "python",
   "name": "python3"
  },
  "language_info": {
   "codemirror_mode": {
    "name": "ipython",
    "version": 3
   },
   "file_extension": ".py",
   "mimetype": "text/x-python",
   "name": "python",
   "nbconvert_exporter": "python",
   "pygments_lexer": "ipython3",
   "version": "3.9.12"
  }
 },
 "nbformat": 4,
 "nbformat_minor": 5
}
