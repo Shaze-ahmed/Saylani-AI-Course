{
 "cells": [
  {
   "cell_type": "code",
   "execution_count": 2,
   "id": "b5b05d15",
   "metadata": {},
   "outputs": [
    {
     "name": "stdout",
     "output_type": "stream",
     "text": [
      "[(0, 'Shahzad'), (1, 'Iqbal'), (2, 'Saad'), (3, 'Zubair')]\n"
     ]
    }
   ],
   "source": [
    "list1 = ['Shahzad','Iqbal','Saad','Zubair']\n",
    "list2 = ['Ahmed','Khan','Muhammad','Ali']\n",
    "e = enumerate(list1)\n",
    "# print(type(e))\n",
    "\n",
    "xList = list(e)\n",
    "print(xList)\n",
    "\n",
    "# for ind, val in e:\n",
    "#     print(ind, val)\n",
    "\n",
    "\n"
   ]
  },
  {
   "cell_type": "code",
   "execution_count": 4,
   "id": "03317948",
   "metadata": {},
   "outputs": [
    {
     "name": "stdout",
     "output_type": "stream",
     "text": [
      "[('Shahzad', 'Ahmed'), ('Iqbal', 'Khan'), ('Saad', 'Muhammad'), ('Zubair', 'Ali')]\n"
     ]
    }
   ],
   "source": [
    "z = zip(list1, list2)\n",
    "zL = list(z)\n",
    "print(zL)"
   ]
  },
  {
   "cell_type": "code",
   "execution_count": null,
   "id": "b424bf7a",
   "metadata": {},
   "outputs": [],
   "source": []
  }
 ],
 "metadata": {
  "kernelspec": {
   "display_name": "Python 3 (ipykernel)",
   "language": "python",
   "name": "python3"
  },
  "language_info": {
   "codemirror_mode": {
    "name": "ipython",
    "version": 3
   },
   "file_extension": ".py",
   "mimetype": "text/x-python",
   "name": "python",
   "nbconvert_exporter": "python",
   "pygments_lexer": "ipython3",
   "version": "3.9.12"
  }
 },
 "nbformat": 4,
 "nbformat_minor": 5
}
