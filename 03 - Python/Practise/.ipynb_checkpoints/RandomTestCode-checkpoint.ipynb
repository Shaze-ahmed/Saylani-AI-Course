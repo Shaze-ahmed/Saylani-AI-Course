{
 "cells": [
  {
   "cell_type": "code",
   "execution_count": 1,
   "id": "350b38a2",
   "metadata": {},
   "outputs": [],
   "source": [
    "names = ['Natasha Romanoff', 'Clint Barton']\n",
    "characters = ['Black Widow', 'Hawkeye']\n",
    "names1 = ['Chris Hemsworth', 'Chris Evans']\n",
    "characters1 = ['Thor Odinson','Steve Rogers']"
   ]
  },
  {
   "cell_type": "code",
   "execution_count": 2,
   "id": "c3c9bd4a",
   "metadata": {},
   "outputs": [
    {
     "name": "stdout",
     "output_type": "stream",
     "text": [
      "[('Black Widow', 'Chris Hemsworth'), ('Hawkeye', 'Chris Evans')]\n"
     ]
    }
   ],
   "source": [
    "avengers = zip(characters, names1)\n",
    "print(list(avengers))"
   ]
  },
  {
   "cell_type": "code",
   "execution_count": 14,
   "id": "cec13a61",
   "metadata": {},
   "outputs": [
    {
     "data": {
      "text/plain": [
       "[]"
      ]
     },
     "execution_count": 14,
     "metadata": {},
     "output_type": "execute_result"
    }
   ],
   "source": [
    "list(zip(*avengers))"
   ]
  },
  {
   "cell_type": "code",
   "execution_count": 21,
   "id": "c9c8e42b",
   "metadata": {},
   "outputs": [
    {
     "data": {
      "text/plain": [
       "['barry', 'oliver']"
      ]
     },
     "execution_count": 21,
     "metadata": {},
     "output_type": "execute_result"
    }
   ],
   "source": [
    "teams = [['barry', 'cisco', 'caitlin'],\n",
    "         ['oliver', 'john', 'felicity']]\n",
    "[member[0] for member in teams]"
   ]
  },
  {
   "cell_type": "code",
   "execution_count": 24,
   "id": "3789a3d1",
   "metadata": {},
   "outputs": [
    {
     "name": "stdout",
     "output_type": "stream",
     "text": [
      "['1', '2', '3']\n"
     ]
    }
   ],
   "source": [
    "x = '123'\n",
    "print([y for y in x])"
   ]
  },
  {
   "cell_type": "code",
   "execution_count": 27,
   "id": "74cbafb7",
   "metadata": {},
   "outputs": [
    {
     "data": {
      "text/plain": [
       "['3A', '3B', '4A', '4B']"
      ]
     },
     "execution_count": 27,
     "metadata": {},
     "output_type": "execute_result"
    }
   ],
   "source": [
    "str1 = 'AB'\n",
    "str2 = '34'\n",
    "[x+y for x in str2 for y in str1]"
   ]
  },
  {
   "cell_type": "code",
   "execution_count": 30,
   "id": "f4a156d0",
   "metadata": {},
   "outputs": [
    {
     "name": "stdout",
     "output_type": "stream",
     "text": [
      "['L', 'M', 'N']\n"
     ]
    }
   ],
   "source": [
    "x = [2, 'L', 4, 'M', 'N', 6]\n",
    "string= [y for y in x if type(y) == str]\n",
    "print(string)"
   ]
  },
  {
   "cell_type": "code",
   "execution_count": 34,
   "id": "2668ea74",
   "metadata": {},
   "outputs": [
    {
     "name": "stdout",
     "output_type": "stream",
     "text": [
      "['Joey_Tribbiani', 'Monica_Geller', 'Chandler_Bing', 'Phoebe_Buffay']\n"
     ]
    }
   ],
   "source": [
    "names = [\"Joey Tribbiani\", \"Monica Geller\", \"Chandler Bing\", \"Phoebe Buffay\"]\n",
    "usernames = []\n",
    "\n",
    "# write your for loop here\n",
    "for x in names:\n",
    "    usernames.append(x.replace(' ', '_'))\n",
    "\n",
    "print(usernames)"
   ]
  },
  {
   "cell_type": "code",
   "execution_count": 38,
   "id": "3362e37d",
   "metadata": {},
   "outputs": [
    {
     "name": "stdout",
     "output_type": "stream",
     "text": [
      "3\n"
     ]
    }
   ],
   "source": [
    "tokens = ['<greeting>', '<Hello World!>', '</greeting>']\n",
    "\n",
    "count = 0\n",
    "for token in tokens:\n",
    "    if token[0] == '<' and token[-1] == '>':\n",
    "        count += 1\n",
    "\n",
    "print(count)"
   ]
  },
  {
   "cell_type": "code",
   "execution_count": 36,
   "id": "82d2af6b",
   "metadata": {},
   "outputs": [
    {
     "data": {
      "text/plain": [
       "'</greeting>'"
      ]
     },
     "execution_count": 36,
     "metadata": {},
     "output_type": "execute_result"
    }
   ],
   "source": [
    "token"
   ]
  },
  {
   "cell_type": "code",
   "execution_count": 39,
   "id": "582625fb",
   "metadata": {},
   "outputs": [
    {
     "name": "stdout",
     "output_type": "stream",
     "text": [
      "{'great': 2, 'expectations': 1, 'the': 2, 'adventures': 2, 'of': 2, 'sherlock': 1, 'holmes': 1, 'gasby': 1, 'hamlet': 1, 'huckleberry': 1, 'fin': 1}\n"
     ]
    }
   ],
   "source": [
    "book_title =  ['great', 'expectations','the', 'adventures', 'of', 'sherlock','holmes','the','great','gasby','hamlet','adventures','of','huckleberry','fin']\n",
    "word_counter = {}\n",
    "for word in book_title:\n",
    "    if word not in word_counter:\n",
    "        word_counter[word] = 1\n",
    "    else:\n",
    "        word_counter[word] += 1\n",
    "        \n",
    "print(word_counter)"
   ]
  },
  {
   "cell_type": "code",
   "execution_count": 21,
   "id": "6ca47761",
   "metadata": {},
   "outputs": [
    {
     "name": "stdout",
     "output_type": "stream",
     "text": [
      "15\n"
     ]
    }
   ],
   "source": []
  },
  {
   "cell_type": "code",
   "execution_count": 24,
   "id": "c0bf811e",
   "metadata": {},
   "outputs": [
    {
     "name": "stdout",
     "output_type": "stream",
     "text": [
      "{'Name': 'Shahzad', 'Age': 20}\n"
     ]
    }
   ],
   "source": [
    "myDict = {}\n",
    "def LoadDict(**kwargs):\n",
    "    for x, y in kwargs.items():\n",
    "        myDict[x] = y\n",
    "    \n",
    "LoadDict(Name = [\"Shahzad\",\"Saad\",\"Iqbal\"], Age= 20)\n",
    "print(myDict)"
   ]
  },
  {
   "cell_type": "code",
   "execution_count": 33,
   "id": "7154c7c5",
   "metadata": {},
   "outputs": [
    {
     "name": "stdout",
     "output_type": "stream",
     "text": [
      "3\n"
     ]
    }
   ],
   "source": [
    "print(7 // 2)"
   ]
  },
  {
   "cell_type": "code",
   "execution_count": 46,
   "id": "f185926f",
   "metadata": {},
   "outputs": [
    {
     "name": "stdout",
     "output_type": "stream",
     "text": [
      "3\n",
      "3\n"
     ]
    }
   ],
   "source": [
    "x, y = 11, 4\n",
    "x = x % y\n",
    "print(x)\n",
    "x = x % y\n",
    "print(x)\n",
    "y = y % x\n"
   ]
  },
  {
   "cell_type": "code",
   "execution_count": 54,
   "id": "71f2a3d1",
   "metadata": {},
   "outputs": [
    {
     "name": "stdout",
     "output_type": "stream",
     "text": [
      "17.5\n"
     ]
    }
   ],
   "source": [
    "x = 1 / 2 + 3 // 3 + 4 ** 2\n",
    "print(x)\n",
    "\n"
   ]
  },
  {
   "cell_type": "code",
   "execution_count": 55,
   "id": "1e6d8aec",
   "metadata": {},
   "outputs": [
    {
     "name": "stdout",
     "output_type": "stream",
     "text": [
      "+-------+-------+-------+\n",
      "|       |       |       |\n",
      "|   1   |   2   |   3   |\n",
      "|       |       |       |\n",
      "+-------+-------+-------+\n",
      "|       |       |       |\n",
      "|   4   |   X   |   6   |\n",
      "|       |       |       |\n",
      "+-------+-------+-------+\n",
      "|       |       |       |\n",
      "|   7   |   8   |   9   |\n",
      "|       |       |       |\n",
      "+-------+-------+-------+\n",
      "Enter your move: 5\n",
      "Field already occupied - repeat your input!\n",
      "Enter your move: 2\n",
      "+-------+-------+-------+\n",
      "|       |       |       |\n",
      "|   1   |   O   |   3   |\n",
      "|       |       |       |\n",
      "+-------+-------+-------+\n",
      "|       |       |       |\n",
      "|   4   |   X   |   6   |\n",
      "|       |       |       |\n",
      "+-------+-------+-------+\n",
      "|       |       |       |\n",
      "|   7   |   8   |   9   |\n",
      "|       |       |       |\n",
      "+-------+-------+-------+\n",
      "+-------+-------+-------+\n",
      "|       |       |       |\n",
      "|   1   |   O   |   3   |\n",
      "|       |       |       |\n",
      "+-------+-------+-------+\n",
      "|       |       |       |\n",
      "|   4   |   X   |   X   |\n",
      "|       |       |       |\n",
      "+-------+-------+-------+\n",
      "|       |       |       |\n",
      "|   7   |   8   |   9   |\n",
      "|       |       |       |\n",
      "+-------+-------+-------+\n",
      "Enter your move: 1\n",
      "+-------+-------+-------+\n",
      "|       |       |       |\n",
      "|   O   |   O   |   3   |\n",
      "|       |       |       |\n",
      "+-------+-------+-------+\n",
      "|       |       |       |\n",
      "|   4   |   X   |   X   |\n",
      "|       |       |       |\n",
      "+-------+-------+-------+\n",
      "|       |       |       |\n",
      "|   7   |   8   |   9   |\n",
      "|       |       |       |\n",
      "+-------+-------+-------+\n",
      "+-------+-------+-------+\n",
      "|       |       |       |\n",
      "|   O   |   O   |   3   |\n",
      "|       |       |       |\n",
      "+-------+-------+-------+\n",
      "|       |       |       |\n",
      "|   4   |   X   |   X   |\n",
      "|       |       |       |\n",
      "+-------+-------+-------+\n",
      "|       |       |       |\n",
      "|   7   |   8   |   X   |\n",
      "|       |       |       |\n",
      "+-------+-------+-------+\n",
      "Enter your move: 4\n",
      "+-------+-------+-------+\n",
      "|       |       |       |\n",
      "|   O   |   O   |   3   |\n",
      "|       |       |       |\n",
      "+-------+-------+-------+\n",
      "|       |       |       |\n",
      "|   O   |   X   |   X   |\n",
      "|       |       |       |\n",
      "+-------+-------+-------+\n",
      "|       |       |       |\n",
      "|   7   |   8   |   X   |\n",
      "|       |       |       |\n",
      "+-------+-------+-------+\n",
      "+-------+-------+-------+\n",
      "|       |       |       |\n",
      "|   O   |   O   |   X   |\n",
      "|       |       |       |\n",
      "+-------+-------+-------+\n",
      "|       |       |       |\n",
      "|   O   |   X   |   X   |\n",
      "|       |       |       |\n",
      "+-------+-------+-------+\n",
      "|       |       |       |\n",
      "|   7   |   8   |   X   |\n",
      "|       |       |       |\n",
      "+-------+-------+-------+\n",
      "I won\n"
     ]
    }
   ],
   "source": [
    "from random import randrange\n",
    "\n",
    "\n",
    "def display_board(board):\n",
    "\tprint(\"+-------\" * 3,\"+\", sep=\"\")\n",
    "\tfor row in range(3):\n",
    "\t\tprint(\"|       \" * 3,\"|\", sep=\"\")\n",
    "\t\tfor col in range(3):\n",
    "\t\t\tprint(\"|   \" + str(board[row][col]) + \"   \", end=\"\")\n",
    "\t\tprint(\"|\")\n",
    "\t\tprint(\"|       \" * 3,\"|\",sep=\"\")\n",
    "\t\tprint(\"+-------\" * 3,\"+\",sep=\"\")\n",
    "\n",
    "\n",
    "def enter_move(board):\n",
    "\tok = False\t# fake assumption - we need it to enter the loop\n",
    "\twhile not ok:\n",
    "\t\tmove = input(\"Enter your move: \") \n",
    "\t\tok = len(move) == 1 and move >= '1' and move <= '9' # is user's input valid?\n",
    "\t\tif not ok:\n",
    "\t\t\tprint(\"Bad move - repeat your input!\") # no, it isn't - do the input again\n",
    "\t\t\tcontinue\n",
    "\t\tmove = int(move) - 1 \t# cell's number from 0 to 8\n",
    "\t\trow = move // 3 \t# cell's row\n",
    "\t\tcol = move % 3\t\t# cell's column\n",
    "\t\tsign = board[row][col]\t# check the selected square\n",
    "\t\tok = sign not in ['O','X'] \n",
    "\t\tif not ok:\t# it's occupied - to the input again\n",
    "\t\t\tprint(\"Field already occupied - repeat your input!\")\n",
    "\t\t\tcontinue\n",
    "\tboard[row][col] = 'O' \t# set '0' at the selected square\n",
    "\n",
    "\n",
    "def make_list_of_free_fields(board):\n",
    "\tfree = []\t# the list is empty initially\n",
    "\tfor row in range(3): # iterate through rows\n",
    "\t\tfor col in range(3): # iterate through columns\n",
    "\t\t\tif board[row][col] not in ['O','X']: # is the cell free?\n",
    "\t\t\t\tfree.append((row,col)) # yes, it is - append new tuple to the list\n",
    "\treturn free\n",
    "\n",
    "\n",
    "def victory_for(board,sgn):\n",
    "\tif sgn == \"X\":\t# are we looking for X?\n",
    "\t\twho = 'me'\t# yes - it's computer's side\n",
    "\telif sgn == \"O\": # ... or for O?\n",
    "\t\twho = 'you'\t# yes - it's our side\n",
    "\telse:\n",
    "\t\twho = None\t# we should not fall here!\n",
    "\tcross1 = cross2 = True  # for diagonals\n",
    "\tfor rc in range(3):\n",
    "\t\tif board[rc][0] == sgn and board[rc][1] == sgn and board[rc][2] == sgn:\t# check row rc\n",
    "\t\t\treturn who\n",
    "\t\tif board[0][rc] == sgn and board[1][rc] == sgn and board[2][rc] == sgn: # check column rc\n",
    "\t\t\treturn who\n",
    "\t\tif board[rc][rc] != sgn: # check 1st diagonal\n",
    "\t\t\tcross1 = False\n",
    "\t\tif board[2 - rc][2 - rc] != sgn: # check 2nd diagonal\n",
    "\t\t\tcross2 = False\n",
    "\tif cross1 or cross2:\n",
    "\t\treturn who\n",
    "\treturn None\n",
    "\n",
    "\n",
    "def draw_move(board):\n",
    "\tfree = make_list_of_free_fields(board) # make a list of free fields\n",
    "\tcnt = len(free)\n",
    "\tif cnt > 0:\t# if the list is not empty, choose a place for 'X' and set it\n",
    "\t\tthis = randrange(cnt)\n",
    "\t\trow, col = free[this]\n",
    "\t\tboard[row][col] = 'X'\n",
    "\n",
    "\n",
    "board = [ [3 * j + i + 1 for i in range(3)] for j in range(3) ] # make an empty board\n",
    "board[1][1] = 'X' # set first 'X' in the middle\n",
    "free = make_list_of_free_fields(board)\n",
    "human_turn = True # which turn is it now?\n",
    "while len(free):\n",
    "\tdisplay_board(board)\n",
    "\tif human_turn:\n",
    "\t\tenter_move(board)\n",
    "\t\tvictor = victory_for(board,'O')\n",
    "\telse:\t\n",
    "\t\tdraw_move(board)\n",
    "\t\tvictor = victory_for(board,'X')\n",
    "\tif victor != None:\n",
    "\t\tbreak\n",
    "\thuman_turn = not human_turn\t\t\n",
    "\tfree = make_list_of_free_fields(board)\n",
    "\n",
    "display_board(board)\n",
    "if victor == 'you':\n",
    "\tprint(\"You won!\")\n",
    "elif victor == 'me':\n",
    "\tprint(\"I won\")\n",
    "else:\n",
    "\tprint(\"Tie!\")\n"
   ]
  },
  {
   "cell_type": "code",
   "execution_count": 64,
   "id": "0dc0977f",
   "metadata": {},
   "outputs": [
    {
     "name": "stdout",
     "output_type": "stream",
     "text": [
      "+-------+-------+-------+\n",
      "|       |       |       |\n",
      "|   O   |\n",
      "|       |       |       |\n",
      "+-------+-------+-------+\n",
      "|   O   |\n",
      "|       |       |       |\n",
      "+-------+-------+-------+\n",
      "|   X   |\n",
      "|       |       |       |\n",
      "+-------+-------+-------+\n",
      "|       |       |       |\n",
      "|   O   |\n",
      "|       |       |       |\n",
      "+-------+-------+-------+\n",
      "|   X   |\n",
      "|       |       |       |\n",
      "+-------+-------+-------+\n",
      "|   X   |\n",
      "|       |       |       |\n",
      "+-------+-------+-------+\n",
      "|       |       |       |\n",
      "|   7   |\n",
      "|       |       |       |\n",
      "+-------+-------+-------+\n",
      "|   8   |\n",
      "|       |       |       |\n",
      "+-------+-------+-------+\n",
      "|   X   |\n",
      "|       |       |       |\n",
      "+-------+-------+-------+\n"
     ]
    }
   ],
   "source": [
    "print(\"+-------\" * 3,\"+\", sep=\"\")\n",
    "for row in range(3):\n",
    "    print(\"|       \" * 3,\"|\", sep=\"\")\n",
    "    for col in range(3):\n",
    "        print(\"|   \" + str(board[row][col]) + \"   \", end=\"\")\n",
    "        print(\"|\")\n",
    "        print(\"|       \" * 3,\"|\",sep=\"\")\n",
    "        print(\"+-------\" * 3,\"+\",sep=\"\")\n",
    "\n",
    "        "
   ]
  },
  {
   "cell_type": "code",
   "execution_count": 69,
   "id": "f7ba1869",
   "metadata": {},
   "outputs": [
    {
     "name": "stdout",
     "output_type": "stream",
     "text": [
      "+-------+-------+-------+\n",
      "|       |       |       |\n",
      "|   O   |   O   |   X   |\n",
      "|       |       |       |\n",
      "+-------+-------+-------+\n",
      "|       |       |       |\n",
      "|   O   |   X   |   X   |\n",
      "|       |       |       |\n",
      "+-------+-------+-------+\n",
      "|       |       |       |\n",
      "|   7   |   8   |   X   |\n",
      "|       |       |       |\n",
      "+-------+-------+-------+\n",
      "+-------+-------+-------+\n",
      "|       |       |       |\n",
      "|   O   |   O   |   X   |\n",
      "|       |       |       |\n",
      "+-------+-------+-------+\n",
      "|       |       |       |\n",
      "|   O   |   X   |   X   |\n",
      "|       |       |       |\n",
      "+-------+-------+-------+\n",
      "|       |       |       |\n",
      "|   7   |   8   |   X   |\n",
      "|       |       |       |\n",
      "+-------+-------+-------+\n"
     ]
    }
   ],
   "source": [
    "\tprint(\"+-------\" * 3,\"+\", sep=\"\")\n",
    "\tfor row in range(3):\n",
    "\t\tprint(\"|       \" * 3,\"|\", sep=\"\")\n",
    "\t\tfor col in range(3):\n",
    "\t\t\tprint(\"|   \" + str(board[row][col]) + \"   \", end=\"\")\n",
    "\t\tprint(\"|\")\n",
    "\t\tprint(\"|       \" * 3,\"|\",sep=\"\")\n",
    "\t\tprint(\"+-------\" * 3,\"+\",sep=\"\")\n",
    "        \n",
    "        \n",
    "print(\"+-------\" * 3,\"+\", sep=\"\")\n",
    "for row in range(3):\n",
    "    print(\"|       \" * 3,\"|\", sep=\"\")\n",
    "    for col in range(3):\n",
    "        print(\"|   \" + str(board[row][col]) + \"   \", end=\"\")\n",
    "    print(\"|\")\n",
    "    print(\"|       \" * 3,\"|\",sep=\"\")\n",
    "    print(\"+-------\" * 3,\"+\",sep=\"\")\n",
    "\n"
   ]
  },
  {
   "cell_type": "code",
   "execution_count": 1,
   "id": "b58125ef",
   "metadata": {},
   "outputs": [
    {
     "name": "stdout",
     "output_type": "stream",
     "text": [
      "a: 1\n",
      "b: 2\n",
      "c: 3\n"
     ]
    }
   ],
   "source": [
    "letters = ['a', 'b', 'c']\n",
    "nums = [1, 2, 3]\n",
    "\n",
    "for letter, num in zip(letters, nums):\n",
    "    print(\"{}: {}\".format(letter, num))"
   ]
  },
  {
   "cell_type": "code",
   "execution_count": 2,
   "id": "88a36c34",
   "metadata": {},
   "outputs": [
    {
     "name": "stdout",
     "output_type": "stream",
     "text": [
      "[('a', 1), ('b', 2), ('c', 3)]\n"
     ]
    }
   ],
   "source": [
    "some_list  = list(zip(letters, nums))\n",
    "print(some_list)"
   ]
  },
  {
   "cell_type": "code",
   "execution_count": 7,
   "id": "0349d442",
   "metadata": {},
   "outputs": [],
   "source": [
    "x, y = list(zip(*some_list))\n",
    "x = list(x)"
   ]
  },
  {
   "cell_type": "code",
   "execution_count": 9,
   "id": "fe5b05cf",
   "metadata": {},
   "outputs": [
    {
     "name": "stdout",
     "output_type": "stream",
     "text": [
      "['a', 'b', 'c']   (1, 2, 3)\n"
     ]
    }
   ],
   "source": [
    "print(x, ' ', y)"
   ]
  },
  {
   "cell_type": "code",
   "execution_count": 37,
   "id": "a892dd6f",
   "metadata": {},
   "outputs": [
    {
     "name": "stdout",
     "output_type": "stream",
     "text": [
      "F: 23, 677, 4\n",
      "J: 53, 233, 16\n",
      "A: 2, 405, -6\n",
      "Q: -12, 433, -42\n",
      "Y: 95, 905, 3\n",
      "B: 103, 376, -6\n",
      "W: 14, 432, 23\n",
      "X: -5, 445, -1\n"
     ]
    }
   ],
   "source": [
    "x_coord = [23, 53, 2, -12, 95, 103, 14, -5]\n",
    "y_coord = [677, 233, 405, 433, 905, 376, 432, 445]\n",
    "z_coord = [4, 16, -6, -42, 3, -6, 23, -1]\n",
    "labels = [\"F\", \"J\", \"A\", \"Q\", \"Y\", \"B\", \"W\", \"X\"]\n",
    "\n",
    "points = []\n",
    "# write your for loop here\n",
    "# points = list(zip(labels, x_coord, y_coord, z_coord))\n",
    "for point in zip(labels, x_coord, y_coord, z_coord):\n",
    "    points.append(\"{}: {}, {}, {}\".format(*point))\n",
    "\n",
    "for point in points:\n",
    "    print(point)"
   ]
  },
  {
   "cell_type": "code",
   "execution_count": 13,
   "id": "61b09595",
   "metadata": {},
   "outputs": [
    {
     "name": "stdout",
     "output_type": "stream",
     "text": [
      "{'Barney': 72, 'Robin': 68, 'Ted': 72, 'Lily': 66, 'Marshall': 76}\n"
     ]
    }
   ],
   "source": [
    "cast_names = [\"Barney\", \"Robin\", \"Ted\", \"Lily\", \"Marshall\"]\n",
    "cast_heights = [72, 68, 72, 66, 76]\n",
    "\n",
    "cast = dict(zip(cast_names, cast_heights))\n",
    "print(cast)"
   ]
  },
  {
   "cell_type": "code",
   "execution_count": 14,
   "id": "e5f269a2",
   "metadata": {},
   "outputs": [
    {
     "name": "stdout",
     "output_type": "stream",
     "text": [
      "('Barney', 'Robin', 'Ted', 'Lily', 'Marshall')\n",
      "(72, 68, 72, 66, 76)\n"
     ]
    }
   ],
   "source": [
    "cast = ((\"Barney\", 72), (\"Robin\", 68), (\"Ted\", 72), (\"Lily\", 66), (\"Marshall\", 76))\n",
    "\n",
    "# define names and heights here\n",
    "\n",
    "names, heights = zip(*cast)\n",
    "print(names)\n",
    "print(heights)"
   ]
  },
  {
   "cell_type": "code",
   "execution_count": 40,
   "id": "1e7326ae",
   "metadata": {},
   "outputs": [
    {
     "name": "stdout",
     "output_type": "stream",
     "text": [
      "((0, 3, 6, 9), (1, 4, 7, 10), (2, 5, 8, 11))\n"
     ]
    }
   ],
   "source": [
    "data = ((0, 1, 2), (3, 4, 5), (6, 7, 8), (9, 10, 11))\n",
    "\n",
    "data_transpose = tuple(zip(*data))\n",
    "print(data_transpose)"
   ]
  },
  {
   "cell_type": "code",
   "execution_count": 29,
   "id": "fc852da3",
   "metadata": {},
   "outputs": [
    {
     "name": "stdout",
     "output_type": "stream",
     "text": [
      "['Barney Stinson 72', 'Robin Scherbatsky 68', 'Ted Mosby 72', 'Lily Aldrin 66', 'Marshall Eriksen 76']\n"
     ]
    }
   ],
   "source": [
    "cast = [\"Barney Stinson\", \"Robin Scherbatsky\", \"Ted Mosby\", \"Lily Aldrin\", \"Marshall Eriksen\"]\n",
    "heights = [72, 68, 72, 66, 76]\n",
    "\n",
    "# write your for loop here\n",
    "for id, cc in enumerate(cast):\n",
    "    cast[id] = cc + ' ' + str(heights[id])\n",
    "\n",
    "print(cast)"
   ]
  },
  {
   "cell_type": "code",
   "execution_count": 51,
   "id": "8f3e115b",
   "metadata": {},
   "outputs": [
    {
     "name": "stdout",
     "output_type": "stream",
     "text": [
      "[0, '1', 4, '3', 16, '5', 36, '7', 64]\n"
     ]
    }
   ],
   "source": [
    "# squares = [x**2 for x in range(9) if x % 2 == 0]\n",
    "squares = [x**2 if x % 2 == 0 else str(x) for x in range(9)]\n",
    "\n",
    "print(squares)"
   ]
  },
  {
   "cell_type": "code",
   "execution_count": 3,
   "id": "987dcecd",
   "metadata": {},
   "outputs": [
    {
     "name": "stdout",
     "output_type": "stream",
     "text": [
      "['rick', 'morty', 'summer', 'jerry', 'beth']\n"
     ]
    }
   ],
   "source": [
    "names = [\"Rick Sanchez\", \"Morty Smith\", \"Summer Smith\", \"Jerry Smith\", \"Beth Smith\"]\n",
    "# first_names = []\n",
    "# for name in names:\n",
    "#     first_names.append(name.split()[0])\n",
    "\n",
    "first_names = [name.split()[0].lower() for name in names]\n",
    "# print(first_names)\n",
    "# first_names = # write your list comprehension here\n",
    "print(first_names)"
   ]
  },
  {
   "cell_type": "code",
   "execution_count": 58,
   "id": "0829b7e5",
   "metadata": {},
   "outputs": [
    {
     "name": "stdout",
     "output_type": "stream",
     "text": [
      "['Rick Sanchez', 'Summer Smith', 'Beth Smith']\n"
     ]
    }
   ],
   "source": [
    "passed = []\n",
    "scores = {\n",
    "             \"Rick Sanchez\": 70,\n",
    "             \"Morty Smith\": 35,\n",
    "             \"Summer Smith\": 82,\n",
    "             \"Jerry Smith\": 23,\n",
    "             \"Beth Smith\": 98\n",
    "          }\n",
    "\n",
    "for k, v in scores.items():\n",
    "    if v >= 65:\n",
    "        passed.append(k)\n",
    "# passed = # write your list comprehension here\n",
    "print(passed)"
   ]
  },
  {
   "cell_type": "code",
   "execution_count": 27,
   "id": "46228341",
   "metadata": {},
   "outputs": [
    {
     "name": "stdout",
     "output_type": "stream",
     "text": [
      "['Rick Sanchez', 'Summer Smith', 'Beth Smith']\n"
     ]
    }
   ],
   "source": [
    "lst = []\n",
    "scores = {\n",
    "             \"Rick Sanchez\": 70,\n",
    "             \"Morty Smith\": 35,\n",
    "             \"Summer Smith\": 82,\n",
    "             \"Jerry Smith\": 23,\n",
    "             \"Beth Smith\": 98\n",
    "          }\n",
    "\n",
    "passed = [k for k,v in scores.items() if v>= 65 ]\n",
    "print(passed)"
   ]
  },
  {
   "cell_type": "code",
   "execution_count": 36,
   "id": "7da98b00",
   "metadata": {},
   "outputs": [
    {
     "name": "stdout",
     "output_type": "stream",
     "text": [
      "[57.0, 58.2, 50.6, 27.2]\n"
     ]
    }
   ],
   "source": [
    "numbers = [\n",
    "              [34, 63, 88, 71, 29],\n",
    "              [90, 78, 51, 27, 45],\n",
    "              [63, 37, 85, 46, 22],\n",
    "              [51, 22, 34, 11, 18]\n",
    "           ]\n",
    "\n",
    "# for x in numbers:\n",
    "#      dd = sum(x) /len(x)\n",
    "\n",
    "# def mean(num_list):\n",
    "#     return sum(num_list) / len(num_list)\n",
    "\n",
    "mean = lambda num_list: sum(num_list) / len(num_list)\n",
    "\n",
    "# averages = list(map(lambda x: sum(x) / len(x), numbers))\n",
    "averages = list(map(lambda x: sum(x) / len(x), numbers))\n",
    "\n",
    "# averages = list(map(mean, numbers))\n",
    "print(averages)"
   ]
  },
  {
   "cell_type": "code",
   "execution_count": 35,
   "id": "e8c8be3c",
   "metadata": {},
   "outputs": [
    {
     "name": "stdout",
     "output_type": "stream",
     "text": [
      "57.0\n",
      "58.2\n",
      "50.6\n",
      "27.2\n"
     ]
    }
   ],
   "source": [
    "for x in numbers:\n",
    "    print(sum(x) /len(x))"
   ]
  },
  {
   "cell_type": "code",
   "execution_count": 37,
   "id": "1149fdef",
   "metadata": {},
   "outputs": [
    {
     "name": "stdout",
     "output_type": "stream",
     "text": [
      "['Chicago', 'Denver', 'Boston']\n"
     ]
    }
   ],
   "source": [
    "cities = [\"New York City\", \"Los Angeles\", \"Chicago\", \"Mountain View\", \"Denver\", \"Boston\"]\n",
    "\n",
    "# def is_short(name):\n",
    "#     return len(name) < 10\n",
    "\n",
    "# is_short = lambda name: len(name) < 10\n",
    "\n",
    "\n",
    "# for i in cities:\n",
    "#     print(is_short(i))\n",
    "#     print(type(is_short))\n",
    "    \n",
    "short_cities = list(filter(lambda name: len(name) < 10, cities))\n",
    "print(short_cities)\n",
    "\n"
   ]
  },
  {
   "cell_type": "code",
   "execution_count": 16,
   "id": "200527a4",
   "metadata": {},
   "outputs": [
    {
     "ename": "TypeError",
     "evalue": "'bool' object is not callable",
     "output_type": "error",
     "traceback": [
      "\u001b[1;31m---------------------------------------------------------------------------\u001b[0m",
      "\u001b[1;31mTypeError\u001b[0m                                 Traceback (most recent call last)",
      "Input \u001b[1;32mIn [16]\u001b[0m, in \u001b[0;36m<cell line: 2>\u001b[1;34m()\u001b[0m\n\u001b[0;32m      1\u001b[0m dd \u001b[38;5;241m=\u001b[39m \u001b[38;5;28;01mTrue\u001b[39;00m\n\u001b[1;32m----> 2\u001b[0m xy \u001b[38;5;241m=\u001b[39m \u001b[38;5;28;43mlist\u001b[39;49m\u001b[43m(\u001b[49m\u001b[38;5;28;43mfilter\u001b[39;49m\u001b[43m(\u001b[49m\u001b[43mdd\u001b[49m\u001b[43m,\u001b[49m\u001b[43m \u001b[49m\u001b[43mcities\u001b[49m\u001b[43m)\u001b[49m\u001b[43m)\u001b[49m\n\u001b[0;32m      3\u001b[0m \u001b[38;5;28mprint\u001b[39m(xy)\n",
      "\u001b[1;31mTypeError\u001b[0m: 'bool' object is not callable"
     ]
    }
   ],
   "source": [
    "dd = True\n",
    "xy = list(filter(dd, cities))\n",
    "print(xy)"
   ]
  },
  {
   "cell_type": "code",
   "execution_count": 73,
   "id": "91a9d484",
   "metadata": {},
   "outputs": [],
   "source": [
    "list = [5,4,8,9,44,66,55,22,14,52,63,21,74,98,26]"
   ]
  },
  {
   "cell_type": "code",
   "execution_count": 74,
   "id": "3663591e",
   "metadata": {},
   "outputs": [
    {
     "data": {
      "text/plain": [
       "[5, 4, 8, 9, 44, 66, 55, 22, 14, 52, 63, 21, 74, 98, 26]"
      ]
     },
     "execution_count": 74,
     "metadata": {},
     "output_type": "execute_result"
    }
   ],
   "source": [
    "list"
   ]
  },
  {
   "cell_type": "code",
   "execution_count": 75,
   "id": "b22ec1c3",
   "metadata": {},
   "outputs": [],
   "source": [
    "for m in range(len(list)):\n",
    "    oi = m\n",
    "    om = list[m]\n",
    "\n",
    "    for o in range(m, len(list)):\n",
    "        if list[o]<om:\n",
    "            om=list[o]\n",
    "            oi = o\n",
    "    tmp = list[m]\n",
    "    list[m] = om\n",
    "    list[oi] = tmp"
   ]
  },
  {
   "cell_type": "code",
   "execution_count": 76,
   "id": "d6ddeab4",
   "metadata": {},
   "outputs": [
    {
     "data": {
      "text/plain": [
       "[4, 5, 8, 9, 14, 21, 22, 26, 44, 52, 55, 63, 66, 74, 98]"
      ]
     },
     "execution_count": 76,
     "metadata": {},
     "output_type": "execute_result"
    }
   ],
   "source": [
    "list"
   ]
  },
  {
   "cell_type": "code",
   "execution_count": 92,
   "id": "6b929fe7",
   "metadata": {},
   "outputs": [
    {
     "name": "stdout",
     "output_type": "stream",
     "text": [
      "Enter a Phrase: Shahz Khan\n",
      " SK\n"
     ]
    }
   ],
   "source": [
    "user_input = str(input(\"Enter a Phrase: \"))\n",
    "text = user_input.split()\n",
    "a = \" \"\n",
    "for i in text:\n",
    "    a += str(i[0]).upper()\n",
    "print(a)"
   ]
  },
  {
   "cell_type": "code",
   "execution_count": 101,
   "id": "ccd199b0",
   "metadata": {},
   "outputs": [
    {
     "name": "stdout",
     "output_type": "stream",
     "text": [
      "Enter Your Email: shaze.ahmed@gmail.com\n",
      "shaze.ahmed@gmail.com\n"
     ]
    }
   ],
   "source": [
    "email = input(\"Enter Your Email: \").strip()\n",
    "print(email)\n",
    "# username = email[:email.index(\"_\")]\n",
    "# print(username)\n",
    "# domain_name = email[email.index(\"@\")+1:]\n",
    "# format_ = (f\"Your user name is '{username}' and your domain is '{domain_name}'\")\n",
    "# print(format_)"
   ]
  },
  {
   "cell_type": "code",
   "execution_count": 122,
   "id": "01d5ae21",
   "metadata": {},
   "outputs": [
    {
     "name": "stdout",
     "output_type": "stream",
     "text": [
      "shaze.ahmed\n",
      "gmail.com\n",
      "11\n"
     ]
    }
   ],
   "source": [
    "xind = email.index(\"@\")\n",
    "print(email[:xind])\n",
    "print(email[xind+1:])\n",
    "print(xind)"
   ]
  },
  {
   "cell_type": "code",
   "execution_count": 124,
   "id": "79af6d15",
   "metadata": {},
   "outputs": [
    {
     "name": "stdout",
     "output_type": "stream",
     "text": [
      "Last night, an elephant that lived in England, went to the laundry and wrote a book\n"
     ]
    }
   ],
   "source": [
    "#Project 4 - Story Generator with Python\n",
    "import random\n",
    "when = ['A few years ago', 'Yesterday', 'Last night', 'A long time ago','On 20th Jan']\n",
    "who = ['a rabbit', 'an elephant', 'a mouse', 'a turtle','a cat']\n",
    "name = ['Ali', 'Miriam','daniel', 'Hoouk', 'Starwalker']\n",
    "residence = ['Barcelona','India', 'Germany', 'Venice', 'England']\n",
    "went = ['cinema', 'university','seminar', 'school', 'laundry']\n",
    "happened = ['made a lot of friends','Eats a burger', 'found a secret key', 'solved a mistery', 'wrote a book']\n",
    "print(random.choice(when) + ', ' + random.choice(who) + ' that lived in ' + random.choice(residence) + ', went to the ' + random.choice(went) + ' and ' + random.choice(happened))"
   ]
  },
  {
   "cell_type": "code",
   "execution_count": null,
   "id": "2b6a5bb1",
   "metadata": {},
   "outputs": [],
   "source": []
  },
  {
   "cell_type": "code",
   "execution_count": null,
   "id": "dd85ca50",
   "metadata": {},
   "outputs": [],
   "source": []
  }
 ],
 "metadata": {
  "kernelspec": {
   "display_name": "Python 3 (ipykernel)",
   "language": "python",
   "name": "python3"
  },
  "language_info": {
   "codemirror_mode": {
    "name": "ipython",
    "version": 3
   },
   "file_extension": ".py",
   "mimetype": "text/x-python",
   "name": "python",
   "nbconvert_exporter": "python",
   "pygments_lexer": "ipython3",
   "version": "3.9.12"
  }
 },
 "nbformat": 4,
 "nbformat_minor": 5
}
