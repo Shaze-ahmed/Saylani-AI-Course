{
 "cells": [
  {
   "cell_type": "code",
   "execution_count": 2,
   "id": "7ca0a1de",
   "metadata": {},
   "outputs": [
    {
     "name": "stdout",
     "output_type": "stream",
     "text": [
      "<class 'numpy.ndarray'>\n",
      "<class 'numpy.ndarray'>\n",
      "<class 'numpy.ndarray'>\n",
      "<class 'numpy.ndarray'>\n"
     ]
    }
   ],
   "source": [
    "import numpy as np\n",
    "## Define Numpy Array\n",
    "a = np.array(1) # number\n",
    "print(type(a))\n",
    "a = np.array([1,2,3]) #list\n",
    "print(type(a))\n",
    "a = np.array((1,2,3)) #tuple\n",
    "print(type(a))\n",
    "b = np.array(a) #array\n",
    "print(type(b))"
   ]
  },
  {
   "cell_type": "code",
   "execution_count": null,
   "id": "255cd0eb",
   "metadata": {},
   "outputs": [],
   "source": [
    "# a.ndim  # Number of Dimention\n",
    "# a.size  # Total elements counts\n",
    "# a.shape   # Total Values "
   ]
  },
  {
   "cell_type": "code",
   "execution_count": 59,
   "id": "58ff8157",
   "metadata": {},
   "outputs": [],
   "source": [
    "a = np.array([[1, 2, 3, 4], \n",
    "              [5, 6, 7, 8], \n",
    "              [9, 10, 11, 12]])"
   ]
  },
  {
   "cell_type": "code",
   "execution_count": 23,
   "id": "0e441544",
   "metadata": {},
   "outputs": [
    {
     "data": {
      "text/plain": [
       "array([ 2,  4,  6,  8, 10, 12, 14, 16, 18, 20])"
      ]
     },
     "execution_count": 23,
     "metadata": {},
     "output_type": "execute_result"
    }
   ],
   "source": [
    "np.arange(2,21,2)  # Create array start with 2 end with 21 step by 3"
   ]
  },
  {
   "cell_type": "code",
   "execution_count": 24,
   "id": "e649dca9",
   "metadata": {},
   "outputs": [
    {
     "data": {
      "text/plain": [
       "array([[0., 0., 0., 0., 0., 0.],\n",
       "       [0., 0., 0., 0., 0., 0.],\n",
       "       [0., 0., 0., 0., 0., 0.],\n",
       "       [0., 0., 0., 0., 0., 0.]])"
      ]
     },
     "execution_count": 24,
     "metadata": {},
     "output_type": "execute_result"
    }
   ],
   "source": [
    "np.zeros((4,6))  # First 4 is Column Vertical axis 0 -- Second is Row Horizental axis 1"
   ]
  },
  {
   "cell_type": "code",
   "execution_count": 30,
   "id": "b26a7eca",
   "metadata": {},
   "outputs": [
    {
     "data": {
      "text/plain": [
       "array([[0, 0, 0, 0, 0, 0],\n",
       "       [0, 0, 0, 0, 0, 0],\n",
       "       [0, 0, 0, 0, 0, 0],\n",
       "       [0, 0, 0, 0, 0, 0]], dtype=int64)"
      ]
     },
     "execution_count": 30,
     "metadata": {},
     "output_type": "execute_result"
    }
   ],
   "source": [
    "np.zeros((4,6), dtype=np.int64)  # Default is Float  .. create with int"
   ]
  },
  {
   "cell_type": "code",
   "execution_count": 31,
   "id": "300a0d35",
   "metadata": {},
   "outputs": [
    {
     "data": {
      "text/plain": [
       "array([[1., 1., 1., 1., 1.],\n",
       "       [1., 1., 1., 1., 1.],\n",
       "       [1., 1., 1., 1., 1.],\n",
       "       [1., 1., 1., 1., 1.],\n",
       "       [1., 1., 1., 1., 1.],\n",
       "       [1., 1., 1., 1., 1.],\n",
       "       [1., 1., 1., 1., 1.],\n",
       "       [1., 1., 1., 1., 1.],\n",
       "       [1., 1., 1., 1., 1.],\n",
       "       [1., 1., 1., 1., 1.]])"
      ]
     },
     "execution_count": 31,
     "metadata": {},
     "output_type": "execute_result"
    }
   ],
   "source": [
    "np.ones((10,5))"
   ]
  },
  {
   "cell_type": "code",
   "execution_count": 32,
   "id": "1dfd90fd",
   "metadata": {},
   "outputs": [
    {
     "data": {
      "text/plain": [
       "array([[0., 0., 0., 0., 0., 0., 0., 0., 0., 0.],\n",
       "       [0., 0., 0., 0., 0., 0., 0., 0., 0., 0.],\n",
       "       [0., 0., 0., 0., 0., 0., 0., 0., 0., 0.],\n",
       "       [0., 0., 0., 0., 0., 0., 0., 0., 0., 0.],\n",
       "       [0., 0., 0., 0., 0., 0., 0., 0., 0., 0.],\n",
       "       [0., 0., 0., 0., 0., 0., 0., 0., 0., 0.],\n",
       "       [0., 0., 0., 0., 0., 0., 0., 0., 0., 0.],\n",
       "       [0., 0., 0., 0., 0., 0., 0., 0., 0., 0.],\n",
       "       [0., 0., 0., 0., 0., 0., 0., 0., 0., 0.],\n",
       "       [0., 0., 0., 0., 0., 0., 0., 0., 0., 0.]])"
      ]
     },
     "execution_count": 32,
     "metadata": {},
     "output_type": "execute_result"
    }
   ],
   "source": [
    "np.empty((10,10))"
   ]
  },
  {
   "cell_type": "code",
   "execution_count": 35,
   "id": "52d8c10d",
   "metadata": {},
   "outputs": [
    {
     "data": {
      "text/plain": [
       "array([4.24399158e-314, 8.48798317e-314, 1.27319747e-313, 1.69759663e-313,\n",
       "       2.12199579e-313, 2.54639495e-313])"
      ]
     },
     "execution_count": 35,
     "metadata": {},
     "output_type": "execute_result"
    }
   ],
   "source": [
    "np.empty(6)"
   ]
  },
  {
   "cell_type": "code",
   "execution_count": 39,
   "id": "878adb2c",
   "metadata": {},
   "outputs": [
    {
     "data": {
      "text/plain": [
       "array([1.     , 1.03125, 1.0625 , 1.09375, 1.125  , 1.15625, 1.1875 ,\n",
       "       1.21875, 1.25   , 1.28125, 1.3125 , 1.34375, 1.375  , 1.40625,\n",
       "       1.4375 , 1.46875, 1.5    , 1.53125, 1.5625 , 1.59375, 1.625  ,\n",
       "       1.65625, 1.6875 , 1.71875, 1.75   , 1.78125, 1.8125 , 1.84375,\n",
       "       1.875  , 1.90625, 1.9375 , 1.96875, 2.     ])"
      ]
     },
     "execution_count": 39,
     "metadata": {},
     "output_type": "execute_result"
    }
   ],
   "source": [
    "np.linspace(1,2,33) # array start with 1 and end with 2 last argument number of steps"
   ]
  },
  {
   "cell_type": "code",
   "execution_count": 75,
   "id": "b52d34a1",
   "metadata": {},
   "outputs": [
    {
     "data": {
      "text/plain": [
       "array([[ 1,  2,  8,  4],\n",
       "       [ 5,  6, 12,  8],\n",
       "       [ 9, 10, 11, 12]])"
      ]
     },
     "execution_count": 75,
     "metadata": {},
     "output_type": "execute_result"
    }
   ],
   "source": [
    "a[0:,0:] "
   ]
  },
  {
   "cell_type": "code",
   "execution_count": 67,
   "id": "629ecad0",
   "metadata": {},
   "outputs": [
    {
     "data": {
      "text/plain": [
       "array([[ 1,  2,  8,  4],\n",
       "       [ 5,  6, 12,  8],\n",
       "       [ 9, 10, 11, 12]])"
      ]
     },
     "execution_count": 67,
     "metadata": {},
     "output_type": "execute_result"
    }
   ],
   "source": [
    "a"
   ]
  },
  {
   "cell_type": "code",
   "execution_count": 78,
   "id": "ce0719f3",
   "metadata": {},
   "outputs": [
    {
     "data": {
      "text/plain": [
       "array([1, 2, 0], dtype=int64)"
      ]
     },
     "execution_count": 78,
     "metadata": {},
     "output_type": "execute_result"
    }
   ],
   "source": [
    "x = np.array([3, 1, 2])\n",
    "np.sort(x) # Sort the array with values\n",
    "np.args(x) # Sort the array with Indexx"
   ]
  },
  {
   "cell_type": "code",
   "execution_count": 79,
   "id": "cf660879",
   "metadata": {},
   "outputs": [
    {
     "data": {
      "text/plain": [
       "array([2, 0, 4, 6, 5, 3, 1], dtype=int64)"
      ]
     },
     "execution_count": 79,
     "metadata": {},
     "output_type": "execute_result"
    }
   ],
   "source": [
    "a = [1,5,1,4,3,4,4] # First column\n",
    "b = [9,4,0,4,0,2,1] # Second column\n",
    "np.lexsort((b,a)) # Sort by a, then by b"
   ]
  },
  {
   "cell_type": "code",
   "execution_count": 84,
   "id": "7b985962",
   "metadata": {},
   "outputs": [
    {
     "name": "stdout",
     "output_type": "stream",
     "text": [
      "[ 1  2  3  4  5  6  7  8  9 10]\n",
      "[ 4  5  6  7  8  9 10]\n",
      "[ 6  7  8  9 10]\n"
     ]
    }
   ],
   "source": [
    "data = np.arange(1,11)\n",
    "print(data)\n",
    "print(data[3:])# --> left to right Slicing\n",
    "print(data[-5:])# --> left to right Slicing"
   ]
  },
  {
   "cell_type": "code",
   "execution_count": 62,
   "id": "c4eeb010",
   "metadata": {},
   "outputs": [
    {
     "data": {
      "text/plain": [
       "array([[ 1,  2,  3,  4,  5],\n",
       "       [ 6,  7,  8,  9, 10]])"
      ]
     },
     "execution_count": 62,
     "metadata": {},
     "output_type": "execute_result"
    }
   ],
   "source": [
    "np.arange(1,11).reshape((2,5)) # (5,2) (10,1), (1,10)  with reshape option"
   ]
  },
  {
   "cell_type": "code",
   "execution_count": 91,
   "id": "46106b6c",
   "metadata": {},
   "outputs": [
    {
     "data": {
      "text/plain": [
       "array([[209,  65,  92, 156, 192],\n",
       "       [ 69, 165, 166,  51,   8],\n",
       "       [141,  82,  81,  56, 120],\n",
       "       [ 75, 251, 213, 150,  23],\n",
       "       [217, 189,  16,  54,  59]])"
      ]
     },
     "execution_count": 91,
     "metadata": {},
     "output_type": "execute_result"
    }
   ],
   "source": [
    "a = np.random.randint(0,255, size=(5,5)) # Create random array int datatype with size\n",
    "a"
   ]
  },
  {
   "cell_type": "code",
   "execution_count": 92,
   "id": "366aef35",
   "metadata": {},
   "outputs": [
    {
     "data": {
      "text/plain": [
       "array([ 8, 23, 16])"
      ]
     },
     "execution_count": 92,
     "metadata": {},
     "output_type": "execute_result"
    }
   ],
   "source": [
    "a[a<=50] # Broad Castig array "
   ]
  },
  {
   "cell_type": "code",
   "execution_count": 93,
   "id": "a5710d8c",
   "metadata": {},
   "outputs": [
    {
     "data": {
      "text/plain": [
       "array([156, 192,  69, 165,  51, 141,  81, 120,  75, 213, 150, 189,  54])"
      ]
     },
     "execution_count": 93,
     "metadata": {},
     "output_type": "execute_result"
    }
   ],
   "source": [
    "a[(a % 3) == 0]"
   ]
  },
  {
   "cell_type": "code",
   "execution_count": 99,
   "id": "c14a3f92",
   "metadata": {},
   "outputs": [
    {
     "data": {
      "text/plain": [
       "array([ 1,  2,  3,  4,  5,  6,  7,  8,  9, 10])"
      ]
     },
     "execution_count": 99,
     "metadata": {},
     "output_type": "execute_result"
    }
   ],
   "source": [
    "a = np.array([1, 2, 3, 4])\n",
    "b = np.array([5, 6, 7, 8])\n",
    "c = np.array([9, 10])\n",
    "np.concatenate((a, b, c))"
   ]
  },
  {
   "cell_type": "code",
   "execution_count": 105,
   "id": "6658bf4c",
   "metadata": {},
   "outputs": [
    {
     "name": "stdout",
     "output_type": "stream",
     "text": [
      "[[1 2]\n",
      " [3 4]]\n",
      "\n",
      "[[5 6]\n",
      " [7 8]]\n"
     ]
    }
   ],
   "source": [
    "x = np.array([[1, 2], \n",
    "              [3, 4]])\n",
    "y = np.array([[5, 6],\n",
    "              [7,8]])\n",
    "print(x)\n",
    "print()\n",
    "print(y)"
   ]
  },
  {
   "cell_type": "code",
   "execution_count": 110,
   "id": "bc105a2b",
   "metadata": {},
   "outputs": [
    {
     "data": {
      "text/plain": [
       "array([[1, 2, 5, 6],\n",
       "       [3, 4, 7, 8]])"
      ]
     },
     "execution_count": 110,
     "metadata": {},
     "output_type": "execute_result"
    }
   ],
   "source": [
    "# np.concatenate((x,y), axis=0) # Joining with Vertical\n",
    "# np.vstack((x, y))             # Joining with Vertical\n",
    "# np.vsplit(np.vstack((x, y)), 2) # Spliting with Vertial and given the dimension \n",
    "\n",
    "# np.concatenate((x,y), axis=1) # Joining with Horizental\n",
    "# np.hstack((x, y))             # Joining with Horizental\n",
    "# np.hsplit(np.hstack((x, y)), 2) # Spliting with Horizental and given the dimension "
   ]
  },
  {
   "cell_type": "code",
   "execution_count": 117,
   "id": "6edd54b6",
   "metadata": {},
   "outputs": [
    {
     "name": "stdout",
     "output_type": "stream",
     "text": [
      "[[  1   2   3   4   5   6   7   8   9  10]\n",
      " [ 11  12  13  14  15  16  17  18  19  20]\n",
      " [ 21  22  23  24  25  26  27  28  29  30]\n",
      " [ 31  32  33  34  35  36  37  38  39  40]\n",
      " [ 41  42  43  44  45  46  47  48  49  50]\n",
      " [ 51  52  53  54  55  56  57  58  59  60]\n",
      " [ 61  62  63  64  65  66  67  68  69  70]\n",
      " [ 71  72  73  74  75  76  77  78  79  80]\n",
      " [ 81  82  83  84  85  86  87  88  89  90]\n",
      " [ 91  92  93  94  95  96  97  98  99 100]]\n",
      "[[ 56  57  58  59  60]\n",
      " [ 66  67  68  69  70]\n",
      " [ 76  77  78  79  80]\n",
      " [ 86  87  88  89  90]\n",
      " [ 96  97  98  99 100]]\n",
      "[[  1   2   3   4   5   6   7   8   9  10]\n",
      " [ 11  12  13  14  15  16  17  18  19  20]\n",
      " [ 21  22  23  24  25  26  27  28  29  30]\n",
      " [ 31  32  33  34  35  36  37  38  39  40]\n",
      " [ 41  42  43  44  45  46  47  48  49  50]\n",
      " [ 51  52  53  54  55  76  77  78  79  80]\n",
      " [ 61  62  63  64  65  86  87  88  89  90]\n",
      " [ 71  72  73  74  75  96  97  98  99 100]\n",
      " [ 81  82  83  84  85 106 107 108 109 110]\n",
      " [ 91  92  93  94  95 116 117 118 119 120]]\n"
     ]
    }
   ],
   "source": [
    "a = np.arange(1,101).reshape((10,10))\n",
    "print(a)\n",
    "print(a[5:,5:]) # Slicing \n",
    "a[5:,5:] += 20  # Change the value with Slicing\n",
    "print(a)"
   ]
  },
  {
   "cell_type": "code",
   "execution_count": 119,
   "id": "77b69ecd",
   "metadata": {},
   "outputs": [
    {
     "data": {
      "text/plain": [
       "array([ 6,  7,  8,  9, 11])"
      ]
     },
     "execution_count": 119,
     "metadata": {},
     "output_type": "execute_result"
    }
   ],
   "source": [
    "a = [1,2,3,4,6]\n",
    "[i+5 for i in a]  # List adding process\n",
    "a = np.array([1,2,3,4,6])\n",
    "a + 5"
   ]
  },
  {
   "cell_type": "code",
   "execution_count": 160,
   "id": "5789ae04",
   "metadata": {},
   "outputs": [
    {
     "name": "stdout",
     "output_type": "stream",
     "text": [
      "[[  1   2   3   4   5   6   7   8   9  10]\n",
      " [ 11  12  13  14  15  16  17  18  19  20]\n",
      " [ 21  22  23  24  25  26  27  28  29  30]\n",
      " [ 31  32  33  34  35  36  37  38  39  40]\n",
      " [ 41  42  43  44  45  46  47  48  49  50]\n",
      " [ 51  52  53  54  55  56  57  58  59  60]\n",
      " [ 61  62  63  64  65  66  67  68  69  70]\n",
      " [ 71  72  73  74  75  76  77  78  79  80]\n",
      " [ 81  82  83  84  85  86  87  88  89  90]\n",
      " [ 91  92  93  94  95  96  97  98  99 100]]\n",
      "Sum of the array is 5050\n",
      "Sum of the array with Vertically is [460 470 480 490 500 510 520 530 540 550]\n",
      "Sum of the array with Horizentally is [ 55 155 255 355 455 555 655 755 855 955]\n",
      "Min of the array is 1\n",
      "Min of the array with Vertically is [ 1  2  3  4  5  6  7  8  9 10]\n",
      "Min of the array with Horizentally is [ 1 11 21 31 41 51 61 71 81 91]\n",
      "Max of the array is 100\n",
      "Max of the array with Vertically is [ 91  92  93  94  95  96  97  98  99 100]\n",
      "Max of the array with Horizentally is [ 10  20  30  40  50  60  70  80  90 100]\n",
      "Mean of the array is 50.5\n",
      "Mean of the array with Vertically is [46. 47. 48. 49. 50. 51. 52. 53. 54. 55.]\n",
      "Mean of the array with Horizentally is [ 5.5 15.5 25.5 35.5 45.5 55.5 65.5 75.5 85.5 95.5]\n"
     ]
    }
   ],
   "source": [
    "a = np.arange(1,101).reshape((10,10))\n",
    "print(a)\n",
    "print(\"Sum of the array is {}\".format(a.sum()))\n",
    "print(\"Sum of the array with Vertically is {}\".format(a.sum(axis=0)))\n",
    "print(\"Sum of the array with Horizentally is {}\".format(a.sum(axis=1)))\n",
    "print(\"Min of the array is {}\".format(a.min()))\n",
    "print(\"Min of the array with Vertically is {}\".format(a.min(axis=0)))\n",
    "print(\"Min of the array with Horizentally is {}\".format(a.min(axis=1)))\n",
    "print(\"Max of the array is {}\".format(a.max()))\n",
    "print(\"Max of the array with Vertically is {}\".format(a.max(axis=0)))\n",
    "print(\"Max of the array with Horizentally is {}\".format(a.max(axis=1)))\n",
    "print(\"Mean of the array is {}\".format(a.mean()))\n",
    "print(\"Mean of the array with Vertically is {}\".format(a.mean(axis=0)))\n",
    "print(\"Mean of the array with Horizentally is {}\".format(a.mean(axis=1)))"
   ]
  },
  {
   "cell_type": "code",
   "execution_count": 161,
   "id": "8617109e",
   "metadata": {},
   "outputs": [
    {
     "data": {
      "text/plain": [
       "array([[[ 1,  2,  3],\n",
       "        [ 4,  5,  6],\n",
       "        [ 7,  8,  9]],\n",
       "\n",
       "       [[10, 11, 12],\n",
       "        [13, 14, 15],\n",
       "        [16, 17, 18]],\n",
       "\n",
       "       [[19, 20, 21],\n",
       "        [22, 23, 24],\n",
       "        [25, 26, 27]]])"
      ]
     },
     "execution_count": 161,
     "metadata": {},
     "output_type": "execute_result"
    }
   ],
   "source": [
    "a = np.arange(1,28).reshape((3,3,3))\n",
    "a"
   ]
  },
  {
   "cell_type": "code",
   "execution_count": 166,
   "id": "38f7100a",
   "metadata": {},
   "outputs": [
    {
     "name": "stdout",
     "output_type": "stream",
     "text": [
      "[[30 33 36]\n",
      " [39 42 45]\n",
      " [48 51 54]]\n",
      "\n",
      "[[12 15 18]\n",
      " [39 42 45]\n",
      " [66 69 72]]\n",
      "\n",
      "[[ 6 15 24]\n",
      " [33 42 51]\n",
      " [60 69 78]]\n",
      "\n",
      "[[ 2.  5.  8.]\n",
      " [11. 14. 17.]\n",
      " [20. 23. 26.]]\n"
     ]
    }
   ],
   "source": [
    "print(a.sum(axis=0)) # Sum of 3 dimention with vertical   1 + 10 + 19   2 + 11 + 20   3 + 12 + 21\n",
    "print()\n",
    "print(a.sum(axis=1)) # Sum of 3 dimention with Horizental 1 + 4 + 7    2 + 5 + 8      3 + 6 + 9\n",
    "print()\n",
    "print(a.sum(axis=2)) # Sum of All dimension               1 + 2 + 3    4 + 5 + 6      7 + 8 + 9\n",
    "print()\n",
    "print(a.mean(axis=2))"
   ]
  },
  {
   "cell_type": "code",
   "execution_count": null,
   "id": "61ee0ce3",
   "metadata": {},
   "outputs": [],
   "source": []
  },
  {
   "cell_type": "code",
   "execution_count": null,
   "id": "1b49e5bd",
   "metadata": {},
   "outputs": [],
   "source": []
  }
 ],
 "metadata": {
  "kernelspec": {
   "display_name": "Python 3 (ipykernel)",
   "language": "python",
   "name": "python3"
  },
  "language_info": {
   "codemirror_mode": {
    "name": "ipython",
    "version": 3
   },
   "file_extension": ".py",
   "mimetype": "text/x-python",
   "name": "python",
   "nbconvert_exporter": "python",
   "pygments_lexer": "ipython3",
   "version": "3.9.12"
  }
 },
 "nbformat": 4,
 "nbformat_minor": 5
}
