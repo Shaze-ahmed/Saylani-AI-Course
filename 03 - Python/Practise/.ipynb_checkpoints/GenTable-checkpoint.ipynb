{
 "cells": [
  {
   "cell_type": "code",
   "execution_count": 1,
   "id": "6d185b8d",
   "metadata": {},
   "outputs": [
    {
     "name": "stdout",
     "output_type": "stream",
     "text": [
      "My Name is Shahzad Ahmed\n"
     ]
    }
   ],
   "source": [
    "print(\"My Name is Shahzad Ahmed\")"
   ]
  },
  {
   "cell_type": "code",
   "execution_count": 3,
   "id": "6bb52fd1",
   "metadata": {},
   "outputs": [
    {
     "name": "stdout",
     "output_type": "stream",
     "text": [
      "Select the Table Name-5\n",
      "-5 x 1 = -5\n",
      "-5 x 2 = -10\n",
      "-5 x 3 = -15\n",
      "-5 x 4 = -20\n",
      "-5 x 5 = -25\n",
      "-5 x 6 = -30\n",
      "-5 x 7 = -35\n",
      "-5 x 8 = -40\n",
      "-5 x 9 = -45\n",
      "-5 x 10 = -50\n"
     ]
    }
   ],
   "source": [
    "v_table = int(input(\"Select the Table Name\"))\n",
    "\n",
    "for x in range(1, 11): \n",
    "    print(\"{} x {} = {}\".format(v_table, x, v_table*x))\n",
    "#     print(v_table, 'x', x, '=', int(v_table)*x)"
   ]
  },
  {
   "cell_type": "code",
   "execution_count": null,
   "id": "da3cd260",
   "metadata": {},
   "outputs": [],
   "source": []
  },
  {
   "cell_type": "code",
   "execution_count": null,
   "id": "e9d8d4cf",
   "metadata": {},
   "outputs": [],
   "source": []
  }
 ],
 "metadata": {
  "kernelspec": {
   "display_name": "Python 3 (ipykernel)",
   "language": "python",
   "name": "python3"
  },
  "language_info": {
   "codemirror_mode": {
    "name": "ipython",
    "version": 3
   },
   "file_extension": ".py",
   "mimetype": "text/x-python",
   "name": "python",
   "nbconvert_exporter": "python",
   "pygments_lexer": "ipython3",
   "version": "3.9.12"
  }
 },
 "nbformat": 4,
 "nbformat_minor": 5
}
