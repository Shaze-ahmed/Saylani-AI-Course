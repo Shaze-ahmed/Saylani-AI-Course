{
 "cells": [
  {
   "cell_type": "code",
   "execution_count": 4,
   "id": "ef4faea7",
   "metadata": {},
   "outputs": [
    {
     "name": "stdout",
     "output_type": "stream",
     "text": [
      "Enter the ID Value10\n",
      "Enter the ID Value20\n",
      "Enter the ID Value30\n",
      "Enter the ID Valuex\n",
      "Enter the ID ValueX\n",
      "{'ID': 'X', 'Name': 0, 'Course': 0}\n"
     ]
    }
   ],
   "source": [
    "x = ('ID', 'Name', 'Course')\n",
    "y = 0\n",
    "\n",
    "myData = dict.fromkeys(x, y)\n",
    "\n",
    "list = []\n",
    "userid = \"a\"\n",
    "\n",
    "while userid != \"X\":\n",
    "    userid = input(\"Enter the ID Value\")\n",
    "    myData[\"ID\"] = userid\n",
    "    \n",
    "print(myData)\n",
    "    \n",
    "    "
   ]
  },
  {
   "cell_type": "code",
   "execution_count": 18,
   "id": "1285d32b",
   "metadata": {},
   "outputs": [
    {
     "name": "stdout",
     "output_type": "stream",
     "text": [
      "Enter the ID : 10\n",
      "Enter User Name : shah\n",
      "Enter Course Name : test\n",
      "Enter the ID : x\n",
      "[{'ID': '10', 'Name': 'shah', 'Course': 'test'}]\n"
     ]
    }
   ],
   "source": [
    "lst = []\n",
    "userid = \"a\"\n",
    "\n",
    "while userid.casefold() != \"x\":\n",
    "    userid = input(\"Enter the ID : \")\n",
    "    if userid.casefold() == 'x':\n",
    "        break\n",
    "    username = input(\"Enter User Name : \")\n",
    "    coursename = input(\"Enter Course Name : \")\n",
    "    lst.append({'ID':userid, 'Name': username, 'Course': coursename })\n",
    "     \n",
    "    \n",
    "print(lst)"
   ]
  },
  {
   "cell_type": "code",
   "execution_count": 27,
   "id": "bf28e1e7",
   "metadata": {},
   "outputs": [
    {
     "name": "stdout",
     "output_type": "stream",
     "text": [
      "Enter the ID : 1\n",
      "Enter User Name : test\n",
      "Enter Course Name : 23sads\n",
      "Enter the ID : 12\n",
      "Enter User Name : adsf\n",
      "Enter Course Name : adsf\n",
      "Enter the ID : x\n",
      "[{'ID': '1', 'Name': 'test', 'Course': '23sads'}, {'ID': '12', 'Name': 'adsf', 'Course': 'adsf'}]\n"
     ]
    }
   ],
   "source": [
    "lst = []\n",
    "while 1<2:\n",
    "    userid = input(\"Enter the ID : \")\n",
    "    if userid.casefold() == 'x':\n",
    "        break\n",
    "    username = input(\"Enter User Name : \")\n",
    "    coursename = input(\"Enter Course Name : \")\n",
    "    lst.append({'ID':userid, 'Name': username, 'Course': coursename }) \n",
    "\n",
    "print(lst)"
   ]
  },
  {
   "cell_type": "code",
   "execution_count": 37,
   "id": "e9b876e5",
   "metadata": {},
   "outputs": [
    {
     "name": "stdout",
     "output_type": "stream",
     "text": [
      "Enter the ID : 10\n",
      "Enter User Name : Shahzad\n",
      "Enter Course Name : AI\n",
      "Enter the ID : 20\n",
      "Enter User Name : Saad\n",
      "Enter Course Name : BI\n",
      "Enter the ID : X\n",
      "[{'ID': '10', 'Name': 'Shahzad', 'Course': 'AI'}, {'ID': '20', 'Name': 'Saad', 'Course': 'BI'}]\n"
     ]
    }
   ],
   "source": [
    "lst = []\n",
    "while 1<2:\n",
    "    userid = input(\"Enter the ID : \")\n",
    "    if userid.casefold() == 'x':\n",
    "        break\n",
    "    lst.append({'ID':userid, 'Name': input(\"Enter User Name : \"), 'Course': input(\"Enter Course Name : \") }) \n",
    "\n",
    "print(lst)"
   ]
  },
  {
   "cell_type": "code",
   "execution_count": 59,
   "id": "1731b767",
   "metadata": {},
   "outputs": [
    {
     "ename": "IndentationError",
     "evalue": "unexpected indent (1938479254.py, line 4)",
     "output_type": "error",
     "traceback": [
      "\u001b[1;36m  Input \u001b[1;32mIn [59]\u001b[1;36m\u001b[0m\n\u001b[1;33m    for i in lst[x].keys():\u001b[0m\n\u001b[1;37m    ^\u001b[0m\n\u001b[1;31mIndentationError\u001b[0m\u001b[1;31m:\u001b[0m unexpected indent\n"
     ]
    }
   ],
   "source": [
    "x = len(lst)\n",
    "for x in range(len(lst)):\n",
    "    print(x)\n",
    "     for i in lst[x].keys():\n",
    "        print(i, \" : \", lst[x][i])\n",
    "    \n",
    "   \n"
   ]
  },
  {
   "cell_type": "code",
   "execution_count": 101,
   "id": "04855ebb",
   "metadata": {},
   "outputs": [
    {
     "name": "stdout",
     "output_type": "stream",
     "text": [
      "ID : 10   Name : Shahzad      Course : AI         \n",
      "ID : 20   Name : Saad         Course : BI         \n",
      "\n"
     ]
    }
   ],
   "source": [
    "x = len(lst)\n",
    "p_output = \"\"\n",
    "for x in range(len(lst)):    \n",
    "    for i in lst[0].keys():\n",
    "        p_output += (f\"\"\"{i} : {lst[x][i]}\\t\"\"\")\n",
    "    p_output = p_output + '\\n'\n",
    "    \n",
    "    \n",
    "print(p_output.expandtabs(10))\n",
    "   "
   ]
  },
  {
   "cell_type": "code",
   "execution_count": 96,
   "id": "14bebd33",
   "metadata": {},
   "outputs": [
    {
     "name": "stdout",
     "output_type": "stream",
     "text": [
      "<built-in method keys of dict object at 0x000001E0A00F03C0>\n",
      "<built-in method keys of dict object at 0x000001E0A00F03C0>\n",
      "          ID        Name      Course    ID        Name      Course\n"
     ]
    }
   ],
   "source": [
    "x = len(lst)\n",
    "p_output = \"\"\n",
    "for x in range(len(lst)): \n",
    "    print(lst[0].keys)\n",
    "    for i in lst[0].keys():\n",
    "        p_output += (f\"\"\"\\t{i}\"\"\") \n",
    "        \n",
    "print(p_output.expandtabs(10))"
   ]
  },
  {
   "cell_type": "code",
   "execution_count": 155,
   "id": "5eacb629",
   "metadata": {},
   "outputs": [
    {
     "name": "stdout",
     "output_type": "stream",
     "text": [
      "          ID                  Name                Course    \n",
      "          10                  Shahzad             DS        \n",
      "          20                  Saad                BI        \n",
      "          30                  Iqbal               AI        \n",
      "\n"
     ]
    }
   ],
   "source": [
    "x = len(lst)\n",
    "p_head = \"\"\n",
    "p_out = \"\"\n",
    "z = True\n",
    "\n",
    "for x in range(len(lst)):  \n",
    "    \n",
    "    for i in lst[0].keys():\n",
    "        if z:\n",
    "            p_head += (f\"\"\"\\t{i}\\t\"\"\")\n",
    "        p_out += (f\"\"\"\\t{lst[x][i]}\\t\"\"\")\n",
    "        \n",
    "    z = False\n",
    "    p_out = p_out + '\\n'\n",
    "    \n",
    "print(p_head.expandtabs(10))\n",
    "print(p_out.expandtabs(10))"
   ]
  },
  {
   "cell_type": "code",
   "execution_count": 154,
   "id": "1ea40b91",
   "metadata": {},
   "outputs": [
    {
     "name": "stdout",
     "output_type": "stream",
     "text": [
      "Enter the ID : 10\n",
      "Enter User Name : Shahzad\n",
      "Enter Course Name : DS\n",
      "Enter the ID : 20\n",
      "Enter User Name : Saad\n",
      "Enter Course Name : BI\n",
      "Enter the ID : 30\n",
      "Enter User Name : Iqbal\n",
      "Enter Course Name : AI\n",
      "Enter the ID : x\n",
      "ID        Name      Course    \n",
      "10        Shahzad   DS        \n",
      "20        Saad      BI        \n",
      "30        Iqbal     AI        \n",
      "\n"
     ]
    }
   ],
   "source": [
    "lst = []\n",
    "z = True\n",
    "p_head = \"\"\n",
    "p_out = \"\"\n",
    "\n",
    "\n",
    "while 1<2:\n",
    "    userid = input(\"Enter the ID : \")\n",
    "    if userid.casefold() == 'x':\n",
    "        break\n",
    "    lst.append({'ID':userid, 'Name': input(\"Enter User Name : \"), 'Course': input(\"Enter Course Name : \") }) \n",
    "\n",
    "for x in range(len(lst)):      \n",
    "    for i in lst[0].keys():\n",
    "        if z:\n",
    "            p_head += (f\"\"\"{i} \\t\"\"\")\n",
    "        p_out += (f\"\"\"{lst[x][i]}\\t\"\"\")\n",
    "    z = False\n",
    "    p_out = p_out + '\\n'\n",
    "    \n",
    "print(p_head.expandtabs(10))\n",
    "print(p_out.expandtabs(10))"
   ]
  },
  {
   "cell_type": "code",
   "execution_count": null,
   "id": "9eafa056",
   "metadata": {},
   "outputs": [],
   "source": []
  }
 ],
 "metadata": {
  "kernelspec": {
   "display_name": "Python 3 (ipykernel)",
   "language": "python",
   "name": "python3"
  },
  "language_info": {
   "codemirror_mode": {
    "name": "ipython",
    "version": 3
   },
   "file_extension": ".py",
   "mimetype": "text/x-python",
   "name": "python",
   "nbconvert_exporter": "python",
   "pygments_lexer": "ipython3",
   "version": "3.9.12"
  }
 },
 "nbformat": 4,
 "nbformat_minor": 5
}
