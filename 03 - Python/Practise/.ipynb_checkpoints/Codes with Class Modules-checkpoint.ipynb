{
 "cells": [
  {
   "cell_type": "code",
   "execution_count": 1,
   "id": "b9dfb3ed",
   "metadata": {},
   "outputs": [],
   "source": [
    "import myModule\n",
    "sayl = myModule.Saylani()"
   ]
  },
  {
   "cell_type": "code",
   "execution_count": 2,
   "id": "6dec9a16",
   "metadata": {},
   "outputs": [
    {
     "name": "stdout",
     "output_type": "stream",
     "text": [
      "Institute Name is Salyani Welfare Trust offers 3 Courses and 3 Teachers. Total Register Students are 3 \n"
     ]
    }
   ],
   "source": [
    "sayl.AddNewStudent(StudentName=\"Shahzad\", BatchName = \"AI Batch - 3\", RollNum = \"AI-1234\", Course = \"AI\")\n",
    "sayl.AddNewStudent(StudentName=\"Saad\", BatchName = \"AI Batch - 3\", RollNum = \"AI-2345\", Course = \"DS\")\n",
    "sayl.AddNewStudent(StudentName=\"Iqbal\", BatchName = \"AI Batch - 3\", RollNum = \"AI-3456\", Course = \"CC\")\n",
    "\n",
    "sayl.AddNewTeacher(TeacherName = \"Muhammad Qasim\", CompanyName = \"UBL\", CourseName = \"DS\")\n",
    "sayl.AddNewTeacher(TeacherName = \"Qasim Hassan\", CompanyName = \"Saylani\", CourseName = \"AI\")\n",
    "sayl.AddNewTeacher(TeacherName = \"Haseeb Ahmed\", CompanyName = \"Saylani\", CourseName = \"CC\")\n",
    "\n",
    "sayl.AddNewCourse('DS','Data Science','2 Months',25000)\n",
    "sayl.AddNewCourse('AI','Artifcial Intel','3 Months',40000)\n",
    "sayl.AddNewCourse('CC','Cloud Computing','3 Months',50000)\n",
    "\n",
    "print(\"Institute Name is {} offers {} Courses and {} Teachers. Total Register Students are {} \"\\\n",
    "      .format(sayl.InstituteName, sayl.totCourse, sayl.totTeachers, sayl.totStudents))"
   ]
  },
  {
   "cell_type": "code",
   "execution_count": 5,
   "id": "d920fee1",
   "metadata": {},
   "outputs": [
    {
     "name": "stdout",
     "output_type": "stream",
     "text": [
      "Course ID           Short Name                    Course Name                   Duration            Fees\n",
      "------------------------------------------------------------------------------------------------------------------------\n",
      "1                   DS                            Data Science                  2 Months            25000\n",
      "2                   AI                            Artifcial Intel               3 Months            40000\n",
      "3                   CC                            Cloud Computing               3 Months            50000\n",
      "\n",
      "Student ID          Student Name                  Batch Name                    Roll Num            Courses\n",
      "------------------------------------------------------------------------------------------------------------------------\n",
      "1                   Shahzad                       AI Batch - 3                  AI-1234             AI\n",
      "2                   Saad                          AI Batch - 3                  AI-2345             DS\n",
      "3                   Iqbal                         AI Batch - 3                  AI-3456             CC\n",
      "\n",
      "Teacher ID          Teacher Name                  Company Name                  Courses\n",
      "----------------------------------------------------------------------------------------------------\n",
      "1                   Muhammad Qasim                          UBL                           DS\n",
      "2                   Qasim Hassan                            Saylani                       AI\n",
      "3                   Haseeb Ahmed                            Saylani                       CC\n",
      "\n"
     ]
    }
   ],
   "source": [
    "sayl.GetCourseList()\n",
    "sayl.GetStudentList()\n",
    "sayl.GetTeacherList()"
   ]
  },
  {
   "cell_type": "code",
   "execution_count": 4,
   "id": "2bb0fd56",
   "metadata": {},
   "outputs": [
    {
     "name": "stdout",
     "output_type": "stream",
     "text": [
      "Student ID\tStudent Name\t\tBatch Name\t\tCourse Name\t\tTeacher Name\n",
      "------------------------------------------------------------------------------------------------------------------------\n",
      "1\t\tShahzad\t\t\tAI Batch - 3\t\tArtifcial Intel\t\tQasim Hassan\n",
      "2\t\tSaad\t\t\tAI Batch - 3\t\tData Science\t\tMuhammad Qasim\n",
      "3\t\tIqbal\t\t\tAI Batch - 3\t\tCloud Computing\t\tHaseeb Ahmed\n",
      "\n"
     ]
    }
   ],
   "source": [
    "sayl.StudentSummary()"
   ]
  },
  {
   "cell_type": "code",
   "execution_count": null,
   "id": "6cb694e8",
   "metadata": {},
   "outputs": [],
   "source": []
  }
 ],
 "metadata": {
  "kernelspec": {
   "display_name": "Python 3 (ipykernel)",
   "language": "python",
   "name": "python3"
  },
  "language_info": {
   "codemirror_mode": {
    "name": "ipython",
    "version": 3
   },
   "file_extension": ".py",
   "mimetype": "text/x-python",
   "name": "python",
   "nbconvert_exporter": "python",
   "pygments_lexer": "ipython3",
   "version": "3.9.12"
  }
 },
 "nbformat": 4,
 "nbformat_minor": 5
}
