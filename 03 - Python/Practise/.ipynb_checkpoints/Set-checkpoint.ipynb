{
 "cells": [
  {
   "cell_type": "markdown",
   "id": "668a90b2",
   "metadata": {},
   "source": [
    "# Set\n",
    "\n",
    "Set is a collection which is unordered, unchangeable*, and unindexed. No duplicate members."
   ]
  },
  {
   "cell_type": "code",
   "execution_count": 4,
   "id": "3dfd62f0",
   "metadata": {},
   "outputs": [
    {
     "name": "stdout",
     "output_type": "stream",
     "text": [
      "{'hamza', 'asif', 'qasim'}\n",
      "3\n",
      "<class 'set'>\n"
     ]
    }
   ],
   "source": [
    "names = {\"qasim\",'hamza','asif','qasim','hamza'}\n",
    "print(names)\n",
    "print(len(names))\n",
    "print(type(names))"
   ]
  },
  {
   "cell_type": "code",
   "execution_count": 5,
   "id": "5c596f21",
   "metadata": {},
   "outputs": [
    {
     "name": "stdout",
     "output_type": "stream",
     "text": [
      "{'banana', 'apple', 'cherry'}\n"
     ]
    }
   ],
   "source": [
    "thisset = set((\"apple\", \"banana\", \"cherry\")) # note the double round-brackets\n",
    "print(thisset)"
   ]
  },
  {
   "cell_type": "code",
   "execution_count": 7,
   "id": "1bb9d8a7",
   "metadata": {},
   "outputs": [
    {
     "name": "stdout",
     "output_type": "stream",
     "text": [
      "banana\n",
      "apple\n",
      "cherry\n",
      "True\n"
     ]
    }
   ],
   "source": [
    "for x in thisset:\n",
    "  print(x)\n",
    "print(\"banana\" in thisset)"
   ]
  },
  {
   "cell_type": "code",
   "execution_count": 9,
   "id": "f724f616",
   "metadata": {},
   "outputs": [
    {
     "name": "stdout",
     "output_type": "stream",
     "text": [
      "{'banana', 'apple', 'orange', 'cherry'}\n"
     ]
    }
   ],
   "source": [
    "thisset.add(\"orange\")\n",
    "print(thisset)"
   ]
  },
  {
   "cell_type": "code",
   "execution_count": 16,
   "id": "c6c427d6",
   "metadata": {},
   "outputs": [
    {
     "name": "stdout",
     "output_type": "stream",
     "text": [
      "{'papaya', 'cherry', 'pineapple', 'apple', 'mango', 'banana'}\n",
      "6\n",
      "{'kiwi', 'papaya', 'cherry', 'pineapple', 'apple', 'mango', 'banana', 'orange'}\n",
      "8\n",
      "{'kiwi', 'papaya', 'cherry', 'pineapple', 'apple', 'mango', 'orange'}\n",
      "None\n",
      "{'kiwi', 'papaya', 'cherry', 'pineapple', 'apple', 'mango', 'orange'}\n"
     ]
    }
   ],
   "source": [
    "thisset = {\"apple\", \"banana\", \"cherry\"}\n",
    "tropical = {\"pineapple\", \"mango\", \"papaya\"}\n",
    "thisset.update(tropical)\n",
    "print(thisset)\n",
    "print(len(thisset))\n",
    "mylist = [\"kiwi\", \"orange\"]  # Can Add with List / Tuple & Dictionary\n",
    "thisset.update(mylist)\n",
    "print(thisset)\n",
    "print(len(thisset))\n",
    "thisset.remove(\"banana\") # Remove with value, if value not found then rasie an error\n",
    "print(thisset)\n",
    "thisset.discard(\"banana3\") # Remove with value if value not found then not rasie an error\n",
    "print(thisset)\n",
    "x = thisset.pop() # Remove the last value and return the delete value as well\n",
    "thisset.clear()\n",
    "del thisset"
   ]
  },
  {
   "cell_type": "code",
   "execution_count": 21,
   "id": "20801e62",
   "metadata": {},
   "outputs": [
    {
     "name": "stdout",
     "output_type": "stream",
     "text": [
      "{'a', 'c', 'b'}\n",
      "{1, 2, 3}\n",
      "{1, 2, 3, 'a', 'c', 'b'}\n",
      "{1, 2, 3, 'a', 'c', 'b'}\n"
     ]
    }
   ],
   "source": [
    "set1 = {\"a\", \"b\" , \"c\"}\n",
    "set2 = {1, 2, 3}\n",
    "set3 = set1.union(set2)  # method that returns a new set containing all items from both sets\n",
    "print(set1)\n",
    "print(set2)\n",
    "print(set3)\n",
    "set1.update(set2) # method that inserts all the items from one set into another\n",
    "print(set1)"
   ]
  },
  {
   "cell_type": "code",
   "execution_count": null,
   "id": "6fd21c53",
   "metadata": {},
   "outputs": [],
   "source": []
  }
 ],
 "metadata": {
  "kernelspec": {
   "display_name": "Python 3 (ipykernel)",
   "language": "python",
   "name": "python3"
  },
  "language_info": {
   "codemirror_mode": {
    "name": "ipython",
    "version": 3
   },
   "file_extension": ".py",
   "mimetype": "text/x-python",
   "name": "python",
   "nbconvert_exporter": "python",
   "pygments_lexer": "ipython3",
   "version": "3.9.12"
  }
 },
 "nbformat": 4,
 "nbformat_minor": 5
}
