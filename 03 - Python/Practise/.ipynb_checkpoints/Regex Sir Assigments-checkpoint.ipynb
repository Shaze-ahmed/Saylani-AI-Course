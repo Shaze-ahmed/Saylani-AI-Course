{
 "cells": [
  {
   "cell_type": "code",
   "execution_count": 1,
   "id": "2282c534",
   "metadata": {},
   "outputs": [
    {
     "name": "stdout",
     "output_type": "stream",
     "text": [
      "[11:05 pm, 05/08/2022] iQo: Iqbal Ahmed AI-46214 03453113993 iq.ahmed91@gmail.com\n",
      "[11:12 pm, 05/08/2022] Muhammad Saad AI: Muhammad Saad: AI46190 03043184681: sm.saad50@gmail.com\n",
      "[11:12 pm, 05/08/2022] Shahzad IBT: Shahzad Ahmed : AI-46165 - 03002303175 - shaze.ahmed@gmail.com\n",
      "[11:12 pm, 05/08/2022] +92 315 2935701: name: Sami rollno:AI- 40483 email: samikhan2872@gmail.com mobile-no:03152935701\n",
      "[11:13 pm, 05/08/2022] +92 334 2995610: Talha Mehfooz, AI-40211 email: khurshaiditm47@gmail.com , mobile: 03342995610\n",
      "[11:13 pm, 05/08/2022] +92 335 3271054: Muhammad Mohsin: AI-53993\n",
      "Email: mohsinsheikh0700@gmail.com\n",
      "No: 03353271054\n",
      "[11:13 pm, 05/08/2022] +92 345 2541450: Hidayat ur Rehman : AI-6546 email: abc@gmail.com\n",
      "[11:13 pm, 05/08/2022] +92 316 2688657: Muhammad Faizan: AI 40939\n",
      "faizanwaseem476@gmail.com\n",
      "[11:13 pm, 05/08/2022] +92 344 2226632: Name: Saad Ahmed\n",
      "RollNo: AI-47242\n",
      "Email: hello.saad96@gmail.com\n",
      "[11:13 pm, 05/08/2022] +92 313 1145255: Gulzar :\n",
      "AI-20145\n",
      "Email:hafizgulzar.alm1996@gmail.com\n",
      "Mobile no. 03131134244\n",
      "[11:13 pm, 05/08/2022] +92 323 2900066: Abdul Rasheed AI-40154\n",
      "email: abdulrasheed2511gmail.com\n",
      "[11:14 pm, 05/08/2022] +92 315 3727169: Muhammad Zeeshan : AI-400250 \n",
      "Email: abc@gmail.com\n",
      "Mobile no: 03153727169\n",
      "[11:14 pm, 05/08/2022] +92 342 3392795: Ahmed saleem :AI-44378\n",
      "Email: ahmedsaleem2122@gmail.com\n",
      "Mobile no:0342-3392795\n",
      "[11:14 pm, 05/08/2022] M. Ali Nasir CR AI: Name : Ali Nasir \n",
      "Roll No: 44365 \n",
      "NIC: 42101-9864676-7 \n",
      "Email: malinasir1997@gmail.com \n",
      "Mobile No: 0331-2147373\n",
      "[11:14 pm, 05/08/2022] +92 333 3120597: Name : Hamza Ahmed Ansari Roll number : AI-40591 Email : ibneshakeel2000@gmail.com Mobile number : 03333120597\n",
      "[11:14 pm, 05/08/2022] +92 316 1448439: name: Zubair\n",
      "roll no: AI- 40200 \n",
      "email: zubairrasheed0316@gmail.com \n",
      "mobile-no: 03161448439\n",
      "[11:14 pm, 05/08/2022] +92 315 2185186: Name: Irfan Roll Number: AI-45055 email: irfanmuhammadk786@gmail.com Mobile Number: 03152185186\n",
      "[11:15 pm, 05/08/2022] +92 312 2093412: Basharat Ali :AI-46716\n",
      "Email: basharatfarhad24@gmail.com\n",
      "Mobile no:03122093412\n",
      "[11:15 pm, 05/08/2022] +92 344 1802958: Name: Muhammad usama\n",
      "Roll no : AI-43985\n",
      "Mobile no : 03441802958\n",
      "Email : usamakh315@gmail.com\n",
      "[11:15 pm, 05/08/2022] +92 312 8525358: Faraz uddin : AI-44226- 03128525358 - asbausmuhammad92@gmail.com\n",
      "[11:15 pm, 05/08/2022] +92 334 3523966: Name: Syed Muhammad Mooazam , Roll No: AI-40222 , Mobile Number: +923343523966\n",
      "[11:15 pm, 05/08/2022] +92 324 2824117: Name : Abdul Sami  Roll number : AI-40352 Email : abdulsamiarain82@gmail.com Mobile number : 03242824117\n",
      "[11:16 pm, 05/08/2022] +92 312 2296999: Umair Taqi : AI-46155 - 03122296999 - umairtaqi48@gmail.com\n",
      "[11:16 pm, 05/08/2022] +92 323 2553599: Name: Atiq Raza\n",
      "ID : AI-42612\n",
      "Email : razaatiq05@gmail.com\n",
      "Mobile No: 03232553599\n",
      "[11:16 pm, 05/08/2022] +92 334 0378290: Ahsan Uddin\n",
      "AI-43505\n",
      "0334-0378290\n",
      "[11:16 pm, 05/08/2022] M. FURQAN CR AI: Name: Muhammad Furqan\n",
      "Roll no:AI-40277\n",
      "Email: furqansawati@gmail.com\n",
      "Mobile no:03120004695\n",
      "[11:17 pm, 05/08/2022] +92 306 2462926: Name: Syed Salman Ali , Roll No: AI-40969 , Mobile Number: +923062462926\n",
      "[11:17 pm, 05/08/2022] +92 309 2655755: Name: Syed Muhammad Daniyal Azam\n",
      "Roll number: AI-47456\n",
      "Num: 03092655755\n",
      "Email : daniyalazam19@gmail.com\n",
      "[11:17 pm, 05/08/2022] +92 302 8289423: Mehmood AI-41824 03028289423 mahmoodsuleman@hotmail.com"
     ]
    }
   ],
   "source": [
    "import re\n",
    "# Loading the Data from File\n",
    "with open(\"wchat.txt\") as file: \n",
    "    fdata = file.read()\n",
    "print(fdata, end=\"\")"
   ]
  },
  {
   "cell_type": "code",
   "execution_count": 2,
   "id": "83a7b957",
   "metadata": {},
   "outputs": [
    {
     "name": "stdout",
     "output_type": "stream",
     "text": [
      "0 AI-46214\n",
      "1 AI-46165\n",
      "2 AI-40211\n",
      "3 AI-53993\n",
      "4 AI-47242\n",
      "5 AI-20145\n",
      "6 AI-40154\n",
      "7 AI-40025\n",
      "8 AI-44378\n",
      "9 AI-40591\n",
      "10 AI-45055\n",
      "11 AI-46716\n",
      "12 AI-43985\n",
      "13 AI-44226\n",
      "14 AI-40222\n",
      "15 AI-40352\n",
      "16 AI-46155\n",
      "17 AI-42612\n",
      "18 AI-43505\n",
      "19 AI-40277\n",
      "20 AI-40969\n",
      "21 AI-47456\n",
      "22 AI-41824\n"
     ]
    }
   ],
   "source": [
    "# Getting the Roll Number from data\n",
    "RollNum = re.findall(\"([AI]+-\\d{5})\", fdata)\n",
    "for i, j in enumerate(RollNum):\n",
    "    print(i, j)"
   ]
  },
  {
   "cell_type": "code",
   "execution_count": 24,
   "id": "2be31406",
   "metadata": {},
   "outputs": [
    {
     "name": "stdout",
     "output_type": "stream",
     "text": [
      "0 Abdul Sami\n",
      "1 Syed Salman\n",
      "2 Shahzad Ahmed\n",
      "3 Syed Muhammad\n",
      "4 Mobile Number\n",
      "5 Umair Taqi\n",
      "6 Roll No\n",
      "7 Abdul Rasheed\n",
      "8 Muhammad Saad\n",
      "9 Basharat Ali\n",
      "10 Muhammad Faizan\n",
      "11 Hamza Ahmed\n",
      "12 Ansari Roll\n",
      "13 Muhammad Furqan\n",
      "14 FURQAN CR\n",
      "15 Ali Nasir\n",
      "16 Mobile No\n",
      "17 Atiq Raza\n",
      "18 Talha Mehfooz\n",
      "19 Shahzad IBT\n",
      "20 Irfan Roll\n",
      "21 Muhammad Zeeshan\n",
      "22 Mehmood AI\n",
      "23 Ahsan Uddin\n",
      "24 Daniyal Azam\n",
      "25 Saad Ahmed\n",
      "26 Muhammad Mohsin\n",
      "27 CR AI\n",
      "28 Iqbal Ahmed\n"
     ]
    }
   ],
   "source": [
    "# Getting the student name from data\n",
    "StudName = re.findall(r\"\\b[A-Z]\\w+\\s[A-Z]\\w+\", fdata)\n",
    "DistName = set(StudName)\n",
    "StudName = list(DistName)\n",
    "for i, j in enumerate(StudName):\n",
    "    print(i, j)"
   ]
  },
  {
   "cell_type": "code",
   "execution_count": 25,
   "id": "c8713219",
   "metadata": {},
   "outputs": [
    {
     "name": "stdout",
     "output_type": "stream",
     "text": [
      "0 Abdul Sami\n",
      "1 Syed Salman\n",
      "2 Shahzad Ahmed\n",
      "3 Syed Muhammad\n",
      "4 Mobile Number\n",
      "5 Roll No\n",
      "6 Muhammad Saad\n",
      "7 Basharat Ali\n",
      "8 Muhammad Faizan\n",
      "9 Hamza Ahmed\n",
      "10 Ansari Roll\n",
      "11 Muhammad Furqan\n",
      "12 FURQAN CR\n",
      "13 Ali Nasir\n",
      "14 Mobile No\n",
      "15 Talha Mehfooz\n",
      "16 Shahzad IBT\n",
      "17 Irfan Roll\n",
      "18 Muhammad Zeeshan\n",
      "19 Mehmood AI\n",
      "20 Ahsan Uddin\n",
      "21 Daniyal Azam\n",
      "22 Saad Ahmed\n",
      "23 Muhammad Mohsin\n",
      "24 CR AI\n",
      "25 Iqbal Ahmed\n"
     ]
    }
   ],
   "source": [
    "# Cleaning Student Name list Data\n",
    "for index, i in enumerate(StudName):\n",
    "    if i.strip().lower() in ('roll no','mobile no','mobile number'):\n",
    "        StudName.pop(index)\n",
    "    print(index, i)"
   ]
  },
  {
   "cell_type": "code",
   "execution_count": 28,
   "id": "07acd16b",
   "metadata": {},
   "outputs": [
    {
     "name": "stdout",
     "output_type": "stream",
     "text": [
      "0 razaatiq05@gmail.com\n",
      "1 faizanwaseem476@gmail.com\n",
      "2 iq.ahmed91@gmail.com\n",
      "3 basharatfarhad24@gmail.com\n",
      "4 furqansawati@gmail.com\n",
      "5 mahmoodsuleman@hotmail.com\n",
      "6 mohsinsheikh0700@gmail.com\n",
      "7 ahmedsaleem2122@gmail.com\n",
      "8 shaze.ahmed@gmail.com\n",
      "9 malinasir1997@gmail.com\n",
      "10 abc@gmail.com\n",
      "11 hello.saad96@gmail.com\n",
      "12 samikhan2872@gmail.com\n",
      "13 ibneshakeel2000@gmail.com\n",
      "14 irfanmuhammadk786@gmail.com\n",
      "15 asbausmuhammad92@gmail.com\n",
      "16 sm.saad50@gmail.com\n",
      "17 umairtaqi48@gmail.com\n",
      "18 khurshaiditm47@gmail.com\n",
      "19 hafizgulzar.alm1996@gmail.com\n",
      "20 usamakh315@gmail.com\n",
      "21 abdulsamiarain82@gmail.com\n",
      "22 daniyalazam19@gmail.com\n",
      "23 zubairrasheed0316@gmail.com\n"
     ]
    }
   ],
   "source": [
    "email = re.findall(\"[A-z0-9.]+@\\w+\\.\\w+\", fdata)\n",
    "DistEmail = set(email)\n",
    "email = list(DistEmail)\n",
    "for i, j in enumerate(email):\n",
    "    print(i, j)"
   ]
  },
  {
   "cell_type": "code",
   "execution_count": 52,
   "id": "5409b460",
   "metadata": {},
   "outputs": [
    {
     "name": "stdout",
     "output_type": "stream",
     "text": [
      "0 03453113993\n",
      "1 03043184681\n",
      "2 03002303175\n",
      "3 +92 315 2935701\n",
      "4 03152935701\n",
      "5 +92 334 2995610\n",
      "6 03342995610\n",
      "7 +92 335 3271054\n",
      "8 03353271054\n",
      "9 +92 345 2541450\n",
      "10 +92 316 2688657\n",
      "11 +92 344 2226632\n",
      "12 +92 313 1145255\n",
      "13 03131134244\n",
      "14 +92 323 2900066\n",
      "15 +92 315 3727169\n",
      "16 03153727169\n",
      "17 +92 342 3392795\n",
      "18 +92 333 3120597\n",
      "19 03333120597\n",
      "20 +92 316 1448439\n",
      "21 03161448439\n",
      "22 +92 315 2185186\n",
      "23 03152185186\n",
      "24 +92 312 2093412\n",
      "25 03122093412\n",
      "26 +92 344 1802958\n",
      "27 03441802958\n",
      "28 +92 312 8525358\n",
      "29 03128525358\n",
      "30 +92 334 3523966\n",
      "31 +92 324 2824117\n",
      "32 03242824117\n",
      "33 +92 312 2296999\n",
      "34 03122296999\n",
      "35 +92 323 2553599\n",
      "36 03232553599\n",
      "37 +92 334 0378290\n",
      "38 03120004695\n",
      "39 +92 306 2462926\n",
      "40 +92 309 2655755\n",
      "41 03092655755\n",
      "42 +92 302 8289423\n",
      "43 03028289423\n"
     ]
    }
   ],
   "source": [
    "tempMob = re.findall(r\"\\b03\\d{8,9}|\\+\\d*\\s\\d*\\s\\d*\", fdata)\n",
    "for i, j in enumerate(tempMob):\n",
    "    print(i, j)"
   ]
  },
  {
   "cell_type": "code",
   "execution_count": 54,
   "id": "517f63ca",
   "metadata": {},
   "outputs": [
    {
     "name": "stdout",
     "output_type": "stream",
     "text": [
      "+92 312 0004695 0\n",
      "+92 315 3727169 1\n",
      "+92 334 3523966 2\n",
      "+92 334 2995610 3\n",
      "+92 316 2688657 4\n",
      "+92 323 2553599 5\n",
      "+92 302 8289423 6\n",
      "+92 312 2093412 7\n",
      "+92 313 1134244 8\n",
      "+92 309 2655755 9\n",
      "+92 313 1145255 10\n",
      "+92 316 1448439 11\n",
      "+92 345 3113993 12\n",
      "+92 315 2935701 13\n",
      "+92 315 2185186 14\n",
      "+92 323 2900066 15\n",
      "+92 312 2296999 16\n",
      "+92 344 1802958 17\n",
      "+92 335 3271054 18\n",
      "+92 345 2541450 19\n",
      "+92 334 0378290 20\n",
      "+92 312 8525358 21\n",
      "+92 342 3392795 22\n",
      "+92 306 2462926 23\n",
      "+92 304 3184681 24\n",
      "+92 300 2303175 25\n",
      "+92 324 2824117 26\n",
      "+92 344 2226632 27\n",
      "+92 333 3120597 28\n"
     ]
    }
   ],
   "source": [
    "# Cleanig Mobile Data\n",
    "mobile = []\n",
    "for i, j in enumerate(tempMob):\n",
    "    if j[0] == '+':\n",
    "        mobile.append(j)\n",
    "    else:\n",
    "        mobile.append(\"+92\"+' '+j[1:4]+' '+j[4:])\n",
    "mobile = list(set(mobile))\n",
    "for i, j in enumerate(mobile):\n",
    "    print(j, i)"
   ]
  },
  {
   "cell_type": "code",
   "execution_count": null,
   "id": "a28447ad",
   "metadata": {},
   "outputs": [],
   "source": []
  }
 ],
 "metadata": {
  "kernelspec": {
   "display_name": "Python 3 (ipykernel)",
   "language": "python",
   "name": "python3"
  },
  "language_info": {
   "codemirror_mode": {
    "name": "ipython",
    "version": 3
   },
   "file_extension": ".py",
   "mimetype": "text/x-python",
   "name": "python",
   "nbconvert_exporter": "python",
   "pygments_lexer": "ipython3",
   "version": "3.9.12"
  }
 },
 "nbformat": 4,
 "nbformat_minor": 5
}
