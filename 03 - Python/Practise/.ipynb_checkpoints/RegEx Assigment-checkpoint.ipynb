{
 "cells": [
  {
   "cell_type": "code",
   "execution_count": 4,
   "id": "e9b26c9c",
   "metadata": {},
   "outputs": [],
   "source": [
    "with open(\"wchat.txt\") as file: \n",
    "    fdata = file.read()"
   ]
  },
  {
   "cell_type": "code",
   "execution_count": 5,
   "id": "66ec8f90",
   "metadata": {},
   "outputs": [
    {
     "name": "stdout",
     "output_type": "stream",
     "text": [
      "[11:05 pm, 05/08/2022] iQo: Iqbal Ahmed AI-46214 03453113993 iq.ahmed91@gmail.com\n",
      "[11:12 pm, 05/08/2022] Muhammad Saad AI: Muhammad Saad: AI46190 03043184681: sm.saad50@gmail.com\n",
      "[11:12 pm, 05/08/2022] Shahzad IBT: Shahzad Ahmed : AI-46165 - 03002303175 - shaze.ahmed@gmail.com\n",
      "[11:12 pm, 05/08/2022] +92 315 2935701: name: Sami rollno:AI- 40483 email: samikhan2872@gmail.com mobile-no:03152935701\n",
      "[11:13 pm, 05/08/2022] +92 334 2995610: Talha Mehfooz, AI-40211 email: khurshaiditm47@gmail.com , mobile: 03342995610\n",
      "[11:13 pm, 05/08/2022] +92 335 3271054: Muhammad Mohsin: AI-53993\n",
      "Email: mohsinsheikh0700@gmail.com\n",
      "No: 03353271054\n",
      "[11:13 pm, 05/08/2022] +92 345 2541450: Hidayat ur Rehman : AI-6546 email: abc@gmail.com\n",
      "[11:13 pm, 05/08/2022] +92 316 2688657: Muhammad Faizan: AI 40939\n",
      "faizanwaseem476@gmail.com\n",
      "[11:13 pm, 05/08/2022] +92 344 2226632: Name: Saad Ahmed\n",
      "RollNo: AI-47242\n",
      "Email: hello.saad96@gmail.com\n",
      "[11:13 pm, 05/08/2022] +92 313 1145255: Gulzar :\n",
      "AI-20145\n",
      "Email:hafizgulzar.alm1996@gmail.com\n",
      "Mobile no. 03131134244\n",
      "[11:13 pm, 05/08/2022] +92 323 2900066: Abdul Rasheed AI-40154\n",
      "email: abdulrasheed2511gmail.com\n",
      "[11:14 pm, 05/08/2022] +92 315 3727169: Muhammad Zeeshan : AI-400250 \n",
      "Email: abc@gmail.com\n",
      "Mobile no: 03153727169\n",
      "[11:14 pm, 05/08/2022] +92 342 3392795: Ahmed saleem :AI-44378\n",
      "Email: ahmedsaleem2122@gmail.com\n",
      "Mobile no:0342-3392795\n",
      "[11:14 pm, 05/08/2022] M. Ali Nasir CR AI: Name : Ali Nasir \n",
      "Roll No: 44365 \n",
      "NIC: 42101-9864676-7 \n",
      "Email: malinasir1997@gmail.com \n",
      "Mobile No: 0331-2147373\n",
      "[11:14 pm, 05/08/2022] +92 333 3120597: Name : Hamza Ahmed Ansari Roll number : AI-40591 Email : ibneshakeel2000@gmail.com Mobile number : 03333120597\n",
      "[11:14 pm, 05/08/2022] +92 316 1448439: name: Zubair\n",
      "roll no: AI- 40200 \n",
      "email: zubairrasheed0316@gmail.com \n",
      "mobile-no: 03161448439\n",
      "[11:14 pm, 05/08/2022] +92 315 2185186: Name: Irfan Roll Number: AI-45055 email: irfanmuhammadk786@gmail.com Mobile Number: 03152185186\n",
      "[11:15 pm, 05/08/2022] +92 312 2093412: Basharat Ali :AI-46716\n",
      "Email: basharatfarhad24@gmail.com\n",
      "Mobile no:03122093412\n",
      "[11:15 pm, 05/08/2022] +92 344 1802958: Name: Muhammad usama\n",
      "Roll no : AI-43985\n",
      "Mobile no : 03441802958\n",
      "Email : usamakh315@gmail.com\n",
      "[11:15 pm, 05/08/2022] +92 312 8525358: Faraz uddin : AI-44226- 03128525358 - asbausmuhammad92@gmail.com\n",
      "[11:15 pm, 05/08/2022] +92 334 3523966: Name: Syed Muhammad Mooazam , Roll No: AI-40222 , Mobile Number: +923343523966\n",
      "[11:15 pm, 05/08/2022] +92 324 2824117: Name : Abdul Sami  Roll number : AI-40352 Email : abdulsamiarain82@gmail.com Mobile number : 03242824117\n",
      "[11:16 pm, 05/08/2022] +92 312 2296999: Umair Taqi : AI-46155 - 03122296999 - umairtaqi48@gmail.com\n",
      "[11:16 pm, 05/08/2022] +92 323 2553599: Name: Atiq Raza\n",
      "ID : AI-42612\n",
      "Email : razaatiq05@gmail.com\n",
      "Mobile No: 03232553599\n",
      "[11:16 pm, 05/08/2022] +92 334 0378290: Ahsan Uddin\n",
      "AI-43505\n",
      "0334-0378290\n",
      "[11:16 pm, 05/08/2022] M. FURQAN CR AI: Name: Muhammad Furqan\n",
      "Roll no:AI-40277\n",
      "Email: furqansawati@gmail.com\n",
      "Mobile no:03120004695\n",
      "[11:17 pm, 05/08/2022] +92 306 2462926: Name: Syed Salman Ali , Roll No: AI-40969 , Mobile Number: +923062462926\n",
      "[11:17 pm, 05/08/2022] +92 309 2655755: Name: Syed Muhammad Daniyal Azam\n",
      "Roll number: AI-47456\n",
      "Num: 03092655755\n",
      "Email : daniyalazam19@gmail.com\n",
      "[11:17 pm, 05/08/2022] +92 302 8289423: Mehmood AI-41824 03028289423 mahmoodsuleman@hotmail.com"
     ]
    }
   ],
   "source": [
    "print(fdata, end=\"\")"
   ]
  },
  {
   "cell_type": "code",
   "execution_count": 6,
   "id": "d94be702",
   "metadata": {},
   "outputs": [],
   "source": [
    "import re"
   ]
  },
  {
   "cell_type": "code",
   "execution_count": 7,
   "id": "d94e7ba2",
   "metadata": {},
   "outputs": [
    {
     "name": "stdout",
     "output_type": "stream",
     "text": [
      "0 iq.ahmed91@gmail.com\n",
      "1 sm.saad50@gmail.com\n",
      "2 shaze.ahmed@gmail.com\n",
      "3 samikhan2872@gmail.com\n",
      "4 khurshaiditm47@gmail.com\n",
      "5 mohsinsheikh0700@gmail.com\n",
      "6 abc@gmail.com\n",
      "7 faizanwaseem476@gmail.com\n",
      "8 hello.saad96@gmail.com\n",
      "9 hafizgulzar.alm1996@gmail.com\n",
      "10 abc@gmail.com\n",
      "11 ahmedsaleem2122@gmail.com\n",
      "12 malinasir1997@gmail.com\n",
      "13 ibneshakeel2000@gmail.com\n",
      "14 zubairrasheed0316@gmail.com\n",
      "15 irfanmuhammadk786@gmail.com\n",
      "16 basharatfarhad24@gmail.com\n",
      "17 usamakh315@gmail.com\n",
      "18 asbausmuhammad92@gmail.com\n",
      "19 abdulsamiarain82@gmail.com\n",
      "20 umairtaqi48@gmail.com\n",
      "21 razaatiq05@gmail.com\n",
      "22 furqansawati@gmail.com\n",
      "23 daniyalazam19@gmail.com\n",
      "24 mahmoodsuleman@hotmail.com\n"
     ]
    }
   ],
   "source": [
    "email = re.findall(\"[A-z0-9.]+@\\w+\\.\\w+\", fdata)\n",
    "for i, j in enumerate(email):\n",
    "    print(i, j)"
   ]
  },
  {
   "cell_type": "code",
   "execution_count": 8,
   "id": "88b77e1c",
   "metadata": {},
   "outputs": [
    {
     "name": "stdout",
     "output_type": "stream",
     "text": [
      "0 AI-46214\n",
      "1 AI-46165\n",
      "2 AI-40211\n",
      "3 AI-53993\n",
      "4 AI-47242\n",
      "5 AI-20145\n",
      "6 AI-40154\n",
      "7 AI-40025\n",
      "8 AI-44378\n",
      "9 AI-40591\n",
      "10 AI-45055\n",
      "11 AI-46716\n",
      "12 AI-43985\n",
      "13 AI-44226\n",
      "14 AI-40222\n",
      "15 AI-40352\n",
      "16 AI-46155\n",
      "17 AI-42612\n",
      "18 AI-43505\n",
      "19 AI-40277\n",
      "20 AI-40969\n",
      "21 AI-47456\n",
      "22 AI-41824\n"
     ]
    }
   ],
   "source": [
    "roll = re.findall(\"([AI]+-\\d{5})\", fdata)\n",
    "for i, j in enumerate(roll):\n",
    "    print(i, j)"
   ]
  },
  {
   "cell_type": "code",
   "execution_count": 9,
   "id": "c4f5ac4f",
   "metadata": {},
   "outputs": [
    {
     "name": "stdout",
     "output_type": "stream",
     "text": [
      "0 03453113993\n",
      "1 03043184681\n",
      "2 03002303175\n",
      "3 +92 315 2935701\n",
      "4 03152935701\n",
      "5 +92 334 2995610\n",
      "6 03342995610\n",
      "7 +92 335 3271054\n",
      "8 03353271054\n",
      "9 +92 345 2541450\n",
      "10 +92 316 2688657\n",
      "11 +92 344 2226632\n",
      "12 +92 313 1145255\n",
      "13 03131134244\n",
      "14 +92 323 2900066\n",
      "15 +92 315 3727169\n",
      "16 03153727169\n",
      "17 +92 342 3392795\n",
      "18 +92 333 3120597\n",
      "19 03333120597\n",
      "20 +92 316 1448439\n",
      "21 03161448439\n",
      "22 +92 315 2185186\n",
      "23 03152185186\n",
      "24 +92 312 2093412\n",
      "25 03122093412\n",
      "26 +92 344 1802958\n",
      "27 03441802958\n",
      "28 +92 312 8525358\n",
      "29 03128525358\n",
      "30 +92 334 3523966\n",
      "31 +92 324 2824117\n",
      "32 03242824117\n",
      "33 +92 312 2296999\n",
      "34 03122296999\n",
      "35 +92 323 2553599\n",
      "36 03232553599\n",
      "37 +92 334 0378290\n",
      "38 03120004695\n",
      "39 +92 306 2462926\n",
      "40 +92 309 2655755\n",
      "41 03092655755\n",
      "42 +92 302 8289423\n",
      "43 03028289423\n"
     ]
    }
   ],
   "source": [
    "mob = re.findall(r\"\\b03\\d{8,9}|\\+\\d*\\s\\d*\\s\\d*\", fdata)\n",
    "for i, j in enumerate(mob):\n",
    "    print(i, j)"
   ]
  },
  {
   "cell_type": "code",
   "execution_count": 10,
   "id": "3379c449",
   "metadata": {},
   "outputs": [
    {
     "ename": "SyntaxError",
     "evalue": "unexpected character after line continuation character (3899710745.py, line 1)",
     "output_type": "error",
     "traceback": [
      "\u001b[1;36m  Input \u001b[1;32mIn [10]\u001b[1;36m\u001b[0m\n\u001b[1;33m    \\b03\\d*[-]?\\d*|\\+\\d*\\s\\d*\\s\\d*\u001b[0m\n\u001b[1;37m     ^\u001b[0m\n\u001b[1;31mSyntaxError\u001b[0m\u001b[1;31m:\u001b[0m unexpected character after line continuation character\n"
     ]
    }
   ],
   "source": [
    "\\b03\\d*[-]?\\d*|\\+\\d*\\s\\d*\\s\\d*"
   ]
  },
  {
   "cell_type": "code",
   "execution_count": 73,
   "id": "cd1d1903",
   "metadata": {},
   "outputs": [
    {
     "name": "stdout",
     "output_type": "stream",
     "text": [
      "0 Iqbal Ahmed\n",
      "1 Muhammad Saad\n",
      "2 Muhammad Saad\n",
      "3 Shahzad IBT\n",
      "4 Shahzad Ahmed\n",
      "5 Talha Mehfooz\n",
      "6 Muhammad Mohsin\n",
      "7 Muhammad Faizan\n",
      "8 Saad Ahmed\n",
      "9 Abdul Rasheed\n",
      "10 Muhammad Zeeshan\n",
      "11 Ali Nasir\n",
      "12 CR AI\n",
      "13 Ali Nasir\n",
      "14 Roll No\n",
      "15 Mobile No\n",
      "16 Hamza Ahmed\n",
      "17 Ansari Roll\n",
      "18 Irfan Roll\n",
      "19 Mobile Number\n",
      "20 Basharat Ali\n",
      "21 Syed Muhammad\n",
      "22 Roll No\n",
      "23 Mobile Number\n",
      "24 Abdul Sami\n",
      "25 Umair Taqi\n",
      "26 Atiq Raza\n",
      "27 Mobile No\n",
      "28 Ahsan Uddin\n",
      "29 FURQAN CR\n",
      "30 Muhammad Furqan\n",
      "31 Syed Salman\n",
      "32 Roll No\n",
      "33 Mobile Number\n",
      "34 Syed Muhammad\n",
      "35 Daniyal Azam\n",
      "36 Mehmood AI\n"
     ]
    }
   ],
   "source": [
    "# name = re.findall(r\"\\b[A-Z]\\w+\\s[A-Z]\\w+\", fdata)\n",
    "name = re.findall(r\"\\b[A-Z]\\w+\\s[A-Z]\\w+\", fdata)\n",
    "\n",
    "for i, j in enumerate(name):\n",
    "    print(i, j)"
   ]
  },
  {
   "cell_type": "code",
   "execution_count": null,
   "id": "73d03612",
   "metadata": {},
   "outputs": [],
   "source": [
    "wd = '''[11:05 pm, 05/08/2022] iQo: Iqbal Ahmed AI-46214 03453113993 iq.ahmed91@gmail.com\n",
    "[11:12 pm, 05/08/2022] Muhammad Saad AI: Muhammad Saad: AI46190 03043184681: sm.saad50@gmail.com\n",
    "[11:12 pm, 05/08/2022] Shahzad IBT: Shahzad Ahmed : AI-46165 - 03002303175 - shaze.ahmed@gmail.com\n",
    "[11:12 pm, 05/08/2022] +92 315 2935701: name: Sami rollno:AI- 40483 email: samikhan2872@gmail.com mobile-no:03152935701\n",
    "[11:13 pm, 05/08/2022] +92 334 2995610: Talha Mehfooz, AI-40211 email: khurshaiditm47@gmail.com , mobile: 03342995610\n",
    "[11:13 pm, 05/08/2022] +92 335 3271054: Muhammad Mohsin: AI-53993\n",
    "Email: mohsinsheikh0700@gmail.com\n",
    "No: 03353271054\n",
    "[11:13 pm, 05/08/2022] +92 345 2541450: Hidayat ur Rehman : AI-6546 email: abc@gmail.com\n",
    "[11:13 pm, 05/08/2022] +92 316 2688657: Muhammad Faizan: AI 40939\n",
    "faizanwaseem476@gmail.com\n",
    "[11:13 pm, 05/08/2022] +92 344 2226632: Name: Saad Ahmed'''"
   ]
  },
  {
   "cell_type": "code",
   "execution_count": null,
   "id": "7dfe458e",
   "metadata": {},
   "outputs": [],
   "source": [
    "print(wd, end='')"
   ]
  },
  {
   "cell_type": "code",
   "execution_count": null,
   "id": "03a3df43",
   "metadata": {},
   "outputs": [],
   "source": [
    "dem = re.findall(\"[A-z]*\\s[A-z\\b]+\", wd)\n",
    "print(dem)"
   ]
  },
  {
   "cell_type": "code",
   "execution_count": 36,
   "id": "3560eac0",
   "metadata": {},
   "outputs": [
    {
     "name": "stdout",
     "output_type": "stream",
     "text": [
      "{'R': 'AI-46214', 'o': 'AI-46165', 'l': 'AI-53993', 'n': 'AI-47242', 'u': 'AI-20145', 'm': 'AI-40154'}\n"
     ]
    }
   ],
   "source": [
    "# print(name)\n",
    "# print(roll)\n",
    "# print(mob)\n",
    "# print(email)\n",
    "# dictionary = dict(zip(list1, list2))\n",
    "x = 'Rollnum'\n",
    "mydict = dict(zip(x, roll))\n",
    "print(mydict)"
   ]
  },
  {
   "cell_type": "code",
   "execution_count": 32,
   "id": "b8da83dd",
   "metadata": {},
   "outputs": [],
   "source": [
    "x = 'RollNum'\n",
    "mydict = {i:i for i in roll}"
   ]
  },
  {
   "cell_type": "code",
   "execution_count": 33,
   "id": "56f97747",
   "metadata": {},
   "outputs": [
    {
     "name": "stdout",
     "output_type": "stream",
     "text": [
      "{'AI-46214': 'AI-46214', 'AI-46165': 'AI-46165', 'AI-40211': 'AI-40211', 'AI-53993': 'AI-53993', 'AI-47242': 'AI-47242', 'AI-20145': 'AI-20145', 'AI-40154': 'AI-40154', 'AI-40025': 'AI-40025', 'AI-44378': 'AI-44378', 'AI-40591': 'AI-40591', 'AI-45055': 'AI-45055', 'AI-46716': 'AI-46716', 'AI-43985': 'AI-43985', 'AI-44226': 'AI-44226', 'AI-40222': 'AI-40222', 'AI-40352': 'AI-40352', 'AI-46155': 'AI-46155', 'AI-42612': 'AI-42612', 'AI-43505': 'AI-43505', 'AI-40277': 'AI-40277', 'AI-40969': 'AI-40969', 'AI-47456': 'AI-47456', 'AI-41824': 'AI-41824'}\n"
     ]
    }
   ],
   "source": [
    "print(mydict)"
   ]
  },
  {
   "cell_type": "code",
   "execution_count": 42,
   "id": "33900dfe",
   "metadata": {},
   "outputs": [],
   "source": [
    "xx = dict()\n",
    "x = 'RollNum'\n",
    "for i in roll:\n",
    "    xx[x] = i"
   ]
  },
  {
   "cell_type": "code",
   "execution_count": 43,
   "id": "48fccae9",
   "metadata": {},
   "outputs": [
    {
     "name": "stdout",
     "output_type": "stream",
     "text": [
      "{'RollNum': 'AI-41824'}\n"
     ]
    }
   ],
   "source": [
    "print(xx)"
   ]
  },
  {
   "cell_type": "code",
   "execution_count": 47,
   "id": "641a076a",
   "metadata": {},
   "outputs": [],
   "source": [
    "testdict = {'RollNum':roll,\n",
    "            'name':name,\n",
    "            'mobile':mob,\n",
    "            'email':email}"
   ]
  },
  {
   "cell_type": "code",
   "execution_count": 56,
   "id": "2c60a67b",
   "metadata": {},
   "outputs": [
    {
     "data": {
      "text/plain": [
       "{'RollNum': 23, 'name': 37, 'mobile': 44, 'email': 25}"
      ]
     },
     "execution_count": 56,
     "metadata": {},
     "output_type": "execute_result"
    }
   ],
   "source": [
    "{k:len(v) for k,v in testdict.items()}"
   ]
  },
  {
   "cell_type": "code",
   "execution_count": 57,
   "id": "6513919e",
   "metadata": {},
   "outputs": [
    {
     "name": "stdout",
     "output_type": "stream",
     "text": [
      "     RollNum              name           mobile                          email\n",
      "0   AI-46214       Iqbal Ahmed      03453113993           iq.ahmed91@gmail.com\n",
      "1   AI-46165     Muhammad Saad      03043184681            sm.saad50@gmail.com\n",
      "2   AI-40211     Muhammad Saad      03002303175          shaze.ahmed@gmail.com\n",
      "3   AI-53993       Shahzad IBT  +92 315 2935701         samikhan2872@gmail.com\n",
      "4   AI-47242     Shahzad Ahmed      03152935701       khurshaiditm47@gmail.com\n",
      "5   AI-20145     Talha Mehfooz  +92 334 2995610     mohsinsheikh0700@gmail.com\n",
      "6   AI-40154   Muhammad Mohsin      03342995610                  abc@gmail.com\n",
      "7   AI-40025   Muhammad Faizan  +92 335 3271054      faizanwaseem476@gmail.com\n",
      "8   AI-44378        Saad Ahmed      03353271054         hello.saad96@gmail.com\n",
      "9   AI-40591     Abdul Rasheed  +92 345 2541450  hafizgulzar.alm1996@gmail.com\n",
      "10  AI-45055  Muhammad Zeeshan  +92 316 2688657                  abc@gmail.com\n",
      "11  AI-46716         Ali Nasir  +92 344 2226632      ahmedsaleem2122@gmail.com\n",
      "12  AI-43985             CR AI  +92 313 1145255        malinasir1997@gmail.com\n",
      "13  AI-44226         Ali Nasir      03131134244      ibneshakeel2000@gmail.com\n",
      "14  AI-40222           Roll No  +92 323 2900066    zubairrasheed0316@gmail.com\n",
      "15  AI-40352         Mobile No  +92 315 3727169    irfanmuhammadk786@gmail.com\n",
      "16  AI-46155       Hamza Ahmed      03153727169     basharatfarhad24@gmail.com\n",
      "17  AI-42612       Ansari Roll  +92 342 3392795           usamakh315@gmail.com\n",
      "18  AI-43505        Irfan Roll  +92 333 3120597     asbausmuhammad92@gmail.com\n",
      "19  AI-40277     Mobile Number      03333120597     abdulsamiarain82@gmail.com\n",
      "20  AI-40969      Basharat Ali  +92 316 1448439          umairtaqi48@gmail.com\n",
      "21  AI-47456     Syed Muhammad      03161448439           razaatiq05@gmail.com\n",
      "22  AI-41824           Roll No  +92 315 2185186         furqansawati@gmail.com\n",
      "23       NaN     Mobile Number      03152185186        daniyalazam19@gmail.com\n",
      "24       NaN        Abdul Sami  +92 312 2093412     mahmoodsuleman@hotmail.com\n",
      "25       NaN        Umair Taqi      03122093412                            NaN\n",
      "26       NaN         Atiq Raza  +92 344 1802958                            NaN\n",
      "27       NaN         Mobile No      03441802958                            NaN\n",
      "28       NaN       Ahsan Uddin  +92 312 8525358                            NaN\n",
      "29       NaN         FURQAN CR      03128525358                            NaN\n",
      "30       NaN   Muhammad Furqan  +92 334 3523966                            NaN\n",
      "31       NaN       Syed Salman  +92 324 2824117                            NaN\n",
      "32       NaN           Roll No      03242824117                            NaN\n",
      "33       NaN     Mobile Number  +92 312 2296999                            NaN\n",
      "34       NaN     Syed Muhammad      03122296999                            NaN\n",
      "35       NaN      Daniyal Azam  +92 323 2553599                            NaN\n",
      "36       NaN        Mehmood AI      03232553599                            NaN\n",
      "37       NaN               NaN  +92 334 0378290                            NaN\n",
      "38       NaN               NaN      03120004695                            NaN\n",
      "39       NaN               NaN  +92 306 2462926                            NaN\n",
      "40       NaN               NaN  +92 309 2655755                            NaN\n",
      "41       NaN               NaN      03092655755                            NaN\n",
      "42       NaN               NaN  +92 302 8289423                            NaN\n",
      "43       NaN               NaN      03028289423                            NaN\n"
     ]
    }
   ],
   "source": [
    "df = pd.DataFrame({k:pd.Series(v) for k,v in testdict.items()})\n",
    "print(df)"
   ]
  },
  {
   "cell_type": "code",
   "execution_count": 52,
   "id": "65e826ee",
   "metadata": {},
   "outputs": [
    {
     "ename": "ValueError",
     "evalue": "All arrays must be of the same length",
     "output_type": "error",
     "traceback": [
      "\u001b[1;31m---------------------------------------------------------------------------\u001b[0m",
      "\u001b[1;31mValueError\u001b[0m                                Traceback (most recent call last)",
      "Input \u001b[1;32mIn [52]\u001b[0m, in \u001b[0;36m<cell line: 2>\u001b[1;34m()\u001b[0m\n\u001b[0;32m      1\u001b[0m \u001b[38;5;28;01mimport\u001b[39;00m \u001b[38;5;21;01mpandas\u001b[39;00m \u001b[38;5;28;01mas\u001b[39;00m \u001b[38;5;21;01mpd\u001b[39;00m\n\u001b[1;32m----> 2\u001b[0m df \u001b[38;5;241m=\u001b[39m \u001b[43mpd\u001b[49m\u001b[38;5;241;43m.\u001b[39;49m\u001b[43mDataFrame\u001b[49m\u001b[43m(\u001b[49m\u001b[43mtestdict\u001b[49m\u001b[43m)\u001b[49m\n",
      "File \u001b[1;32m~\\Anaconda3\\lib\\site-packages\\pandas\\core\\frame.py:636\u001b[0m, in \u001b[0;36mDataFrame.__init__\u001b[1;34m(self, data, index, columns, dtype, copy)\u001b[0m\n\u001b[0;32m    630\u001b[0m     mgr \u001b[38;5;241m=\u001b[39m \u001b[38;5;28mself\u001b[39m\u001b[38;5;241m.\u001b[39m_init_mgr(\n\u001b[0;32m    631\u001b[0m         data, axes\u001b[38;5;241m=\u001b[39m{\u001b[38;5;124m\"\u001b[39m\u001b[38;5;124mindex\u001b[39m\u001b[38;5;124m\"\u001b[39m: index, \u001b[38;5;124m\"\u001b[39m\u001b[38;5;124mcolumns\u001b[39m\u001b[38;5;124m\"\u001b[39m: columns}, dtype\u001b[38;5;241m=\u001b[39mdtype, copy\u001b[38;5;241m=\u001b[39mcopy\n\u001b[0;32m    632\u001b[0m     )\n\u001b[0;32m    634\u001b[0m \u001b[38;5;28;01melif\u001b[39;00m \u001b[38;5;28misinstance\u001b[39m(data, \u001b[38;5;28mdict\u001b[39m):\n\u001b[0;32m    635\u001b[0m     \u001b[38;5;66;03m# GH#38939 de facto copy defaults to False only in non-dict cases\u001b[39;00m\n\u001b[1;32m--> 636\u001b[0m     mgr \u001b[38;5;241m=\u001b[39m \u001b[43mdict_to_mgr\u001b[49m\u001b[43m(\u001b[49m\u001b[43mdata\u001b[49m\u001b[43m,\u001b[49m\u001b[43m \u001b[49m\u001b[43mindex\u001b[49m\u001b[43m,\u001b[49m\u001b[43m \u001b[49m\u001b[43mcolumns\u001b[49m\u001b[43m,\u001b[49m\u001b[43m \u001b[49m\u001b[43mdtype\u001b[49m\u001b[38;5;241;43m=\u001b[39;49m\u001b[43mdtype\u001b[49m\u001b[43m,\u001b[49m\u001b[43m \u001b[49m\u001b[43mcopy\u001b[49m\u001b[38;5;241;43m=\u001b[39;49m\u001b[43mcopy\u001b[49m\u001b[43m,\u001b[49m\u001b[43m \u001b[49m\u001b[43mtyp\u001b[49m\u001b[38;5;241;43m=\u001b[39;49m\u001b[43mmanager\u001b[49m\u001b[43m)\u001b[49m\n\u001b[0;32m    637\u001b[0m \u001b[38;5;28;01melif\u001b[39;00m \u001b[38;5;28misinstance\u001b[39m(data, ma\u001b[38;5;241m.\u001b[39mMaskedArray):\n\u001b[0;32m    638\u001b[0m     \u001b[38;5;28;01mimport\u001b[39;00m \u001b[38;5;21;01mnumpy\u001b[39;00m\u001b[38;5;21;01m.\u001b[39;00m\u001b[38;5;21;01mma\u001b[39;00m\u001b[38;5;21;01m.\u001b[39;00m\u001b[38;5;21;01mmrecords\u001b[39;00m \u001b[38;5;28;01mas\u001b[39;00m \u001b[38;5;21;01mmrecords\u001b[39;00m\n",
      "File \u001b[1;32m~\\Anaconda3\\lib\\site-packages\\pandas\\core\\internals\\construction.py:502\u001b[0m, in \u001b[0;36mdict_to_mgr\u001b[1;34m(data, index, columns, dtype, typ, copy)\u001b[0m\n\u001b[0;32m    494\u001b[0m     arrays \u001b[38;5;241m=\u001b[39m [\n\u001b[0;32m    495\u001b[0m         x\n\u001b[0;32m    496\u001b[0m         \u001b[38;5;28;01mif\u001b[39;00m \u001b[38;5;129;01mnot\u001b[39;00m \u001b[38;5;28mhasattr\u001b[39m(x, \u001b[38;5;124m\"\u001b[39m\u001b[38;5;124mdtype\u001b[39m\u001b[38;5;124m\"\u001b[39m) \u001b[38;5;129;01mor\u001b[39;00m \u001b[38;5;129;01mnot\u001b[39;00m \u001b[38;5;28misinstance\u001b[39m(x\u001b[38;5;241m.\u001b[39mdtype, ExtensionDtype)\n\u001b[0;32m    497\u001b[0m         \u001b[38;5;28;01melse\u001b[39;00m x\u001b[38;5;241m.\u001b[39mcopy()\n\u001b[0;32m    498\u001b[0m         \u001b[38;5;28;01mfor\u001b[39;00m x \u001b[38;5;129;01min\u001b[39;00m arrays\n\u001b[0;32m    499\u001b[0m     ]\n\u001b[0;32m    500\u001b[0m     \u001b[38;5;66;03m# TODO: can we get rid of the dt64tz special case above?\u001b[39;00m\n\u001b[1;32m--> 502\u001b[0m \u001b[38;5;28;01mreturn\u001b[39;00m \u001b[43marrays_to_mgr\u001b[49m\u001b[43m(\u001b[49m\u001b[43marrays\u001b[49m\u001b[43m,\u001b[49m\u001b[43m \u001b[49m\u001b[43mcolumns\u001b[49m\u001b[43m,\u001b[49m\u001b[43m \u001b[49m\u001b[43mindex\u001b[49m\u001b[43m,\u001b[49m\u001b[43m \u001b[49m\u001b[43mdtype\u001b[49m\u001b[38;5;241;43m=\u001b[39;49m\u001b[43mdtype\u001b[49m\u001b[43m,\u001b[49m\u001b[43m \u001b[49m\u001b[43mtyp\u001b[49m\u001b[38;5;241;43m=\u001b[39;49m\u001b[43mtyp\u001b[49m\u001b[43m,\u001b[49m\u001b[43m \u001b[49m\u001b[43mconsolidate\u001b[49m\u001b[38;5;241;43m=\u001b[39;49m\u001b[43mcopy\u001b[49m\u001b[43m)\u001b[49m\n",
      "File \u001b[1;32m~\\Anaconda3\\lib\\site-packages\\pandas\\core\\internals\\construction.py:120\u001b[0m, in \u001b[0;36marrays_to_mgr\u001b[1;34m(arrays, columns, index, dtype, verify_integrity, typ, consolidate)\u001b[0m\n\u001b[0;32m    117\u001b[0m \u001b[38;5;28;01mif\u001b[39;00m verify_integrity:\n\u001b[0;32m    118\u001b[0m     \u001b[38;5;66;03m# figure out the index, if necessary\u001b[39;00m\n\u001b[0;32m    119\u001b[0m     \u001b[38;5;28;01mif\u001b[39;00m index \u001b[38;5;129;01mis\u001b[39;00m \u001b[38;5;28;01mNone\u001b[39;00m:\n\u001b[1;32m--> 120\u001b[0m         index \u001b[38;5;241m=\u001b[39m \u001b[43m_extract_index\u001b[49m\u001b[43m(\u001b[49m\u001b[43marrays\u001b[49m\u001b[43m)\u001b[49m\n\u001b[0;32m    121\u001b[0m     \u001b[38;5;28;01melse\u001b[39;00m:\n\u001b[0;32m    122\u001b[0m         index \u001b[38;5;241m=\u001b[39m ensure_index(index)\n",
      "File \u001b[1;32m~\\Anaconda3\\lib\\site-packages\\pandas\\core\\internals\\construction.py:674\u001b[0m, in \u001b[0;36m_extract_index\u001b[1;34m(data)\u001b[0m\n\u001b[0;32m    672\u001b[0m lengths \u001b[38;5;241m=\u001b[39m \u001b[38;5;28mlist\u001b[39m(\u001b[38;5;28mset\u001b[39m(raw_lengths))\n\u001b[0;32m    673\u001b[0m \u001b[38;5;28;01mif\u001b[39;00m \u001b[38;5;28mlen\u001b[39m(lengths) \u001b[38;5;241m>\u001b[39m \u001b[38;5;241m1\u001b[39m:\n\u001b[1;32m--> 674\u001b[0m     \u001b[38;5;28;01mraise\u001b[39;00m \u001b[38;5;167;01mValueError\u001b[39;00m(\u001b[38;5;124m\"\u001b[39m\u001b[38;5;124mAll arrays must be of the same length\u001b[39m\u001b[38;5;124m\"\u001b[39m)\n\u001b[0;32m    676\u001b[0m \u001b[38;5;28;01mif\u001b[39;00m have_dicts:\n\u001b[0;32m    677\u001b[0m     \u001b[38;5;28;01mraise\u001b[39;00m \u001b[38;5;167;01mValueError\u001b[39;00m(\n\u001b[0;32m    678\u001b[0m         \u001b[38;5;124m\"\u001b[39m\u001b[38;5;124mMixing dicts with non-Series may lead to ambiguous ordering.\u001b[39m\u001b[38;5;124m\"\u001b[39m\n\u001b[0;32m    679\u001b[0m     )\n",
      "\u001b[1;31mValueError\u001b[0m: All arrays must be of the same length"
     ]
    }
   ],
   "source": [
    "import pandas as pd\n",
    "df = pd.DataFrame(testdict)"
   ]
  },
  {
   "cell_type": "code",
   "execution_count": null,
   "id": "a1f5c8f1",
   "metadata": {},
   "outputs": [],
   "source": [
    "print(df)"
   ]
  },
  {
   "cell_type": "code",
   "execution_count": 72,
   "id": "d33a7380",
   "metadata": {},
   "outputs": [
    {
     "name": "stdout",
     "output_type": "stream",
     "text": [
      "0 Iqbal Ahmed\n",
      "1 Muhammad Saad\n",
      "2 Muhammad Saad\n",
      "3 Shahzad IBT\n",
      "4 Shahzad Ahmed\n",
      "5 Talha Mehfooz\n",
      "6 Muhammad Mohsin\n",
      "7 Muhammad Faizan\n",
      "8 Saad Ahmed\n",
      "9 Abdul Rasheed\n",
      "10 Muhammad Zeeshan\n",
      "11 Ali Nasir\n",
      "12 CR AI\n",
      "13 Ali Nasir\n",
      "14 Hamza Ahmed\n",
      "15 Ansari Roll\n",
      "16 Irfan Roll\n",
      "17 Basharat Ali\n",
      "18 Syed Muhammad\n",
      "19 Abdul Sami\n",
      "20 Umair Taqi\n",
      "21 Atiq Raza\n",
      "22 Ahsan Uddin\n",
      "23 FURQAN CR\n",
      "24 Muhammad Furqan\n",
      "25 Syed Salman\n",
      "26 Syed Muhammad\n",
      "27 Daniyal Azam\n",
      "28 Mehmood AI\n"
     ]
    }
   ],
   "source": [
    "for ind, i in enumerate(name):\n",
    "    if i in ('Roll No','Mobile No','Mobile Number'):\n",
    "        print('here')\n",
    "        name.remove(i)\n",
    "    print(ind, i)"
   ]
  },
  {
   "cell_type": "code",
   "execution_count": null,
   "id": "cc82cab4",
   "metadata": {},
   "outputs": [],
   "source": []
  }
 ],
 "metadata": {
  "kernelspec": {
   "display_name": "Python 3 (ipykernel)",
   "language": "python",
   "name": "python3"
  },
  "language_info": {
   "codemirror_mode": {
    "name": "ipython",
    "version": 3
   },
   "file_extension": ".py",
   "mimetype": "text/x-python",
   "name": "python",
   "nbconvert_exporter": "python",
   "pygments_lexer": "ipython3",
   "version": "3.9.12"
  }
 },
 "nbformat": 4,
 "nbformat_minor": 5
}
