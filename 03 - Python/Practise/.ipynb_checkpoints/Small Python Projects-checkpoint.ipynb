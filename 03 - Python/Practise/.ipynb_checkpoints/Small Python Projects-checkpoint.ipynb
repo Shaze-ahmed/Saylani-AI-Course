{
 "cells": [
  {
   "cell_type": "code",
   "execution_count": 9,
   "id": "96c5a3e9",
   "metadata": {},
   "outputs": [
    {
     "name": "stdout",
     "output_type": "stream",
     "text": [
      "Palindrome\n"
     ]
    }
   ],
   "source": [
    "# Mini Self Projects\n",
    "# Palindrome Program In Python\n",
    "def myPalfunc(num):\n",
    "    x1 = num[::-1]\n",
    "    if num.upper() == x1.upper():\n",
    "        print(\"Palindrome\")\n",
    "    else:\n",
    "        print(\"Not Palindrome\")\n",
    "        \n",
    "myPalfunc(\"saddas\")"
   ]
  },
  {
   "cell_type": "code",
   "execution_count": 11,
   "id": "5f9a9a94",
   "metadata": {},
   "outputs": [
    {
     "name": "stdout",
     "output_type": "stream",
     "text": [
      "24\n"
     ]
    }
   ],
   "source": [
    "# Factorial Program In Python\n",
    "def myfactfunc(num):\n",
    "    if num == 1:\n",
    "        return num\n",
    "    else:\n",
    "        return num * myfactfunc(num-1)\n",
    "\n",
    "print(myfactfunc(4))"
   ]
  },
  {
   "cell_type": "code",
   "execution_count": 15,
   "id": "f03c0523",
   "metadata": {},
   "outputs": [
    {
     "name": "stdout",
     "output_type": "stream",
     "text": [
      "Enter Number 11\n",
      "Enter Number 22\n",
      "Enter the element5\n",
      "1 2 3 5 8 "
     ]
    }
   ],
   "source": [
    "# Fibonacci Series Program In Python\n",
    "a = int(input(\"Enter Number 1: \"))\n",
    "b = int(input(\"Enter Number 2: \"))\n",
    "n = int(input(\"Enter the element\"))\n",
    "print(a,b, end=\" \")\n",
    "while n-2:\n",
    "    c = a+b\n",
    "    a = b\n",
    "    b = c\n",
    "    print(c, end=\" \")\n",
    "    n-=1"
   ]
  },
  {
   "cell_type": "code",
   "execution_count": 20,
   "id": "4335c0be",
   "metadata": {},
   "outputs": [
    {
     "name": "stdout",
     "output_type": "stream",
     "text": [
      "            *  \n",
      "           * *  \n",
      "          * * *  \n",
      "         * * * *  \n",
      "        * * * * *  \n",
      "       * * * * * *  \n",
      "      * * * * * * *  \n"
     ]
    }
   ],
   "source": [
    "# Pattern Program In Python\n",
    "num = 7\n",
    "m = (2 * num) - 2\n",
    "for i in range(0, num):\n",
    "    for j in range(0, m):\n",
    "        print(end=' ')\n",
    "    m-= 1\n",
    "    for j in range(0, i+1):\n",
    "        print(\"*\", end=' ')\n",
    "    print(\" \")"
   ]
  },
  {
   "cell_type": "code",
   "execution_count": 3,
   "id": "edb7cae8",
   "metadata": {},
   "outputs": [
    {
     "name": "stdout",
     "output_type": "stream",
     "text": [
      "Enter the Number !10\n",
      "Not Prime Number\n"
     ]
    }
   ],
   "source": [
    "# Prime Number Program In Python\n",
    "x = int(input(\"Enter the Number !\"))\n",
    "\n",
    "for i in range(2, x):\n",
    "    if x%2==0:\n",
    "        print('Not Prime Number')\n",
    "        break\n",
    "    else:\n",
    "        print('Prime Number')\n",
    "        break"
   ]
  },
  {
   "cell_type": "code",
   "execution_count": 21,
   "id": "2fc2891c",
   "metadata": {},
   "outputs": [
    {
     "name": "stdout",
     "output_type": "stream",
     "text": [
      "78.53981633974483\n"
     ]
    }
   ],
   "source": [
    "# Program To Find Area In Python\n",
    "import math\n",
    "pi = math.pi\n",
    "def circle(radius):\n",
    "    return pi*(radius**2)\n",
    "def cube(side):\n",
    "    return 6*side*side\n",
    "def cylinder(radius, height):\n",
    "    return 2*pi*radius + 2*pi*height\n",
    "def sphere(radius):\n",
    "    return 2*pi*(radius**2)\n",
    "print(circle(5))"
   ]
  },
  {
   "cell_type": "code",
   "execution_count": 39,
   "id": "e8a73aed",
   "metadata": {},
   "outputs": [
    {
     "name": "stdout",
     "output_type": "stream",
     "text": [
      "[10, 9, 8, 7, 6, 5, 4, 3, 2, 1]\n",
      "[1, 2, 3, 4, 5, 6, 7, 8, 9, 10]\n"
     ]
    }
   ],
   "source": [
    "# Program To Reverse A List In Python\n",
    "mlist = [1,2,3,4,5,6,7,8,9,10]\n",
    "mlist.sort(reverse=True)\n",
    "print(mlist)\n",
    "print(mlist[::-1])\n"
   ]
  },
  {
   "cell_type": "code",
   "execution_count": null,
   "id": "ce05cf7c",
   "metadata": {},
   "outputs": [],
   "source": []
  }
 ],
 "metadata": {
  "kernelspec": {
   "display_name": "Python 3 (ipykernel)",
   "language": "python",
   "name": "python3"
  },
  "language_info": {
   "codemirror_mode": {
    "name": "ipython",
    "version": 3
   },
   "file_extension": ".py",
   "mimetype": "text/x-python",
   "name": "python",
   "nbconvert_exporter": "python",
   "pygments_lexer": "ipython3",
   "version": "3.9.12"
  }
 },
 "nbformat": 4,
 "nbformat_minor": 5
}
