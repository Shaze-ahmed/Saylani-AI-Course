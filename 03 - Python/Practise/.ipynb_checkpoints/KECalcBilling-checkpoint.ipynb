{
 "cells": [
  {
   "cell_type": "code",
   "execution_count": 1,
   "id": "ae92b6f3",
   "metadata": {},
   "outputs": [],
   "source": [
    "ls =[\"Name\",\"Age\",\"Class\"]\n",
    "l2 = [\"Shahzad\",40,\"AI\"]"
   ]
  },
  {
   "cell_type": "code",
   "execution_count": 5,
   "id": "e8e4e3ec",
   "metadata": {},
   "outputs": [],
   "source": [
    "l3 = list(zip(ls, l2))"
   ]
  },
  {
   "cell_type": "code",
   "execution_count": 26,
   "id": "ec228fc9",
   "metadata": {},
   "outputs": [
    {
     "name": "stdout",
     "output_type": "stream",
     "text": [
      "Enter the Current Units !!! 250\n",
      "[('Total Units', 250), ('First Slap 0 to 100', 1000), ('second Slap 101 to 200-1500', 1500), ('Third Slap 101 to 200-1000', 1000), ('Total Billing Cose', 3500)]\n"
     ]
    }
   ],
   "source": [
    "unitlist = []\n",
    "slablist = []\n",
    "unitcost = []\n",
    "totalcost = 0\n",
    "\n",
    "currunit = int(input(\"Enter the Current Units !!! \"))\n",
    "unitlist = [\"Total Units\"]\n",
    "slablist.append(currunit)\n",
    "\n",
    "unitlist.append(\"First Slap 0 to 100\")\n",
    "if currunit <= 100:\n",
    "    unitcost = currunit*10\n",
    "else:\n",
    "    unitcost = 100 *10   \n",
    "totalcost += unitcost\n",
    "slablist.append(unitcost)\n",
    "\n",
    "if currunit > 100:\n",
    "#     unitlist.append(\"Second Slap 101 to 200\")\n",
    "    if currunit <= 200:\n",
    "        unitcost = (currunit-100) *15\n",
    "    else:\n",
    "        unitcost = 100 *15\n",
    "    totalcost += unitcost\n",
    "    unitlist.append(\"second Slap 101 to 200-\" + str(unitcost))\n",
    "    slablist.append(unitcost)\n",
    "\n",
    "if currunit > 200:\n",
    "#     unitlist.append(\"Third Slap 101 to 200\")\n",
    "    if currunit <= 300:\n",
    "        unitcost = (currunit-200) * 20\n",
    "    else:\n",
    "        unitcost = 100 * 20\n",
    "    totalcost += unitcost\n",
    "    unitlist.append(\"Third Slap 101 to 200-\" + str(unitcost))\n",
    "    slablist.append(unitcost)\n",
    "\n",
    "if currunit > 300:\n",
    "    unitlist.append(\"Forth Slap 201 to 300\")\n",
    "    if currunit <= 300:\n",
    "        unitcost = (currunit-200) * 20\n",
    "    else:\n",
    "        unitcost = 100 * 20\n",
    "    totalcost += unitcost\n",
    "    slablist.append(unitcost)\n",
    "    \n",
    "unitlist.append(\"Total Billing Cose\")\n",
    "slablist.append(totalcost)\n",
    "\n",
    "print(list(zip(unitlist, slablist)))\n"
   ]
  },
  {
   "cell_type": "code",
   "execution_count": 82,
   "id": "6e1bc994",
   "metadata": {},
   "outputs": [],
   "source": []
  },
  {
   "cell_type": "code",
   "execution_count": 59,
   "id": "11980303",
   "metadata": {},
   "outputs": [
    {
     "name": "stdout",
     "output_type": "stream",
     "text": [
      "0 100\n",
      "101 200\n",
      "201 300\n",
      "301 500\n",
      "501 1000\n",
      "1001 10000\n",
      "10001 100000\n"
     ]
    }
   ],
   "source": [
    "for y in slabcost:\n",
    "    print(y[1], y[2])"
   ]
  },
  {
   "cell_type": "raw",
   "id": "0501fe9b",
   "metadata": {},
   "source": [
    "slabcost = [10,15,20,25,35,50,70,100]\n",
    "for i in range(len(slabcost)):\n",
    "    print(slabcost)"
   ]
  },
  {
   "cell_type": "code",
   "execution_count": 3,
   "id": "037cf1ff",
   "metadata": {},
   "outputs": [
    {
     "name": "stdout",
     "output_type": "stream",
     "text": [
      "150\n",
      "[('Total Units', 250), ('First Slab 0 - 100', 1000)]\n"
     ]
    }
   ],
   "source": [
    "slabcost = [['First Slab 0 - 100'      ,0,100,10],\n",
    "            ['Second Slab 101 - 200'   ,101,200,15],\n",
    "            ['Third Slab 201 - 300'    ,201,300,20],\n",
    "            ['Forth Slab 301 - 500'    ,301,500,25],\n",
    "            ['Fifth Slab 501 - 1000'   ,501,1000,35],\n",
    "            ['Sixth Slab 1001 - 10000' ,1001,10000, 70],\n",
    "            ['Last Slab 10001 - 100000',10001,100000, 100]]\n",
    "\n",
    "unitlist = []\n",
    "slablist = []\n",
    "unitcost = []\n",
    "totalcost = 0\n",
    "currunit = 250\n",
    "def CalculateBill(seq, unit):\n",
    "    tmpCost, xunit = 0,0\n",
    "    if seq == 0:\n",
    "        if unit <= slabcost[seq][2]:\n",
    "            tmpCost = unit * slabcost[seq][3]\n",
    "        else:\n",
    "            tmpCost = 100 * int(slabcost[seq][3])\n",
    "    xunit = unit - slabcost[seq][2]\n",
    "    unitlist.append(slabcost[seq][0])   \n",
    "    slablist.append(tmpCost)\n",
    "    \n",
    "    if seq != 0:\n",
    "        if unit >= slabcost[seq][1]:\n",
    "            if unit <= slabcost[seq][2]: \n",
    "                print(slabcost[seq][1], slabcost[seq][2], slabcost[seq][3], 'if', unit - slabcost[seq][2])\n",
    "            else:\n",
    "                print(slabcost[seq][1], slabcost[seq][2], slabcost[seq][3], 'else', unit - slabcost[seq][2])\n",
    "    return xunit\n",
    "\n",
    "        \n",
    "# print(CalculateBill(0, 180))\n",
    "print(CalculateBill(0, currunit))\n",
    "unitlist.insert(0, \"Total Units\")\n",
    "slablist.insert(0, currunit)\n",
    "print(list(zip(unitlist, slablist)))"
   ]
  },
  {
   "cell_type": "code",
   "execution_count": 9,
   "id": "eaf6d208",
   "metadata": {},
   "outputs": [
    {
     "name": "stdout",
     "output_type": "stream",
     "text": [
      "[('Total Units', 250), ('First Slab 0 - 100', 1000), ('Second Slab 101 - 200', 0)]\n"
     ]
    }
   ],
   "source": [
    "\n"
   ]
  },
  {
   "cell_type": "code",
   "execution_count": 89,
   "id": "fafec99c",
   "metadata": {},
   "outputs": [
    {
     "name": "stdout",
     "output_type": "stream",
     "text": [
      "there 100\n",
      "there 99\n",
      "here 99\n"
     ]
    }
   ],
   "source": [
    "slabcost = [['First Slab 0 - 100'      ,0,100,10],\n",
    "            ['Second Slab 101 - 200'   ,101,200,15],\n",
    "            ['Third Slab 201 - 300'    ,201,300,20],\n",
    "            ['Forth Slab 301 - 500'    ,301,500,25],\n",
    "            ['Fifth Slab 501 - 1000'   ,501,1000,35],\n",
    "            ['Sixth Slab 1001 - 10000' ,1001,10000, 70],\n",
    "            ['Last Slab 10001 - 100000',10001,100000, 100]]\n",
    "\n",
    "unitlist = []\n",
    "slablist = []\n",
    "unitcost = []\n",
    "totalcost = 0\n",
    "currunit = 250\n",
    "remunit = 0\n",
    "\n",
    "def CalculateBill(seq, unit):\n",
    "    tmpCost, xunit = 0,0\n",
    "    if unit <= slabcost[seq][2] - slabcost[seq][1]:\n",
    "        tmpCost = unit * slabcost[seq][3]\n",
    "        print('here',slabcost[seq][2] - slabcost[seq][1])\n",
    "    else:\n",
    "        tmpCost = (slabcost[seq][2] - slabcost[seq][1]) * int(slabcost[seq][3])\n",
    "        print('there', slabcost[seq][2] - slabcost[seq][1])\n",
    "    xunit = unit - (slabcost[seq][2] - slabcost[seq][1])\n",
    "    unitlist.append(slabcost[seq][0])   \n",
    "    slablist.append(tmpCost)\n",
    "\n",
    "    return xunit\n",
    "\n",
    "remunit = currunit\n",
    "for i in range(len(slabcost)):   \n",
    "    remunit = CalculateBill(i, remunit) \n",
    "    if remunit <=0:\n",
    "        break\n",
    "    \n",
    "for tt in range(len(slablist)):\n",
    "    totalcost += slablist[tt]\n",
    "unitlist.insert(0, \"Total Units\")\n",
    "slablist.insert(0, currunit)\n",
    "unitlist.insert(1, \"Total Cost\")\n",
    "slablist.insert(1, totalcost)"
   ]
  },
  {
   "cell_type": "code",
   "execution_count": 90,
   "id": "30a62090",
   "metadata": {},
   "outputs": [
    {
     "name": "stdout",
     "output_type": "stream",
     "text": [
      "[('Total Units', 250), ('Total Cost', 3505), ('First Slab 0 - 100', 1000), ('Second Slab 101 - 200', 1485), ('Third Slab 201 - 300', 1020)]\n",
      "3505\n"
     ]
    }
   ],
   "source": [
    "print(list(zip(unitlist, slablist)))"
   ]
  },
  {
   "cell_type": "code",
   "execution_count": 85,
   "id": "d979e377",
   "metadata": {},
   "outputs": [
    {
     "name": "stdout",
     "output_type": "stream",
     "text": [
      "250\n",
      "1000\n",
      "1485\n",
      "1020\n",
      "3755\n"
     ]
    }
   ],
   "source": [
    "totalcost = 0\n",
    "\n",
    "print(totalcost)"
   ]
  },
  {
   "cell_type": "code",
   "execution_count": 32,
   "id": "a0726eda",
   "metadata": {},
   "outputs": [
    {
     "name": "stdout",
     "output_type": "stream",
     "text": [
      "100\n"
     ]
    }
   ],
   "source": [
    "val = 140\n",
    "cval = 0\n",
    "for i in slabcost:\n",
    "    if val < i[2]:\n",
    "        cval = val\n",
    "    else:\n",
    "        cval = i[2]\n",
    "    break\n",
    "print(cval)"
   ]
  },
  {
   "cell_type": "code",
   "execution_count": 78,
   "id": "a9ae897a",
   "metadata": {},
   "outputs": [
    {
     "name": "stdout",
     "output_type": "stream",
     "text": [
      "else\n",
      "-100\n",
      "else\n",
      "-200\n",
      "else\n",
      "-300\n",
      "else\n",
      "-400\n",
      "else\n",
      "-500\n",
      "else\n",
      "-600\n",
      "else\n",
      "-700\n"
     ]
    }
   ],
   "source": [
    "z = 0\n",
    "while z < len(slabcost):\n",
    "    if val < i[2]:\n",
    "        cval -= val\n",
    "        print('if')\n",
    "    else:\n",
    "        cval -= i[2]\n",
    "        print('else')\n",
    "    print(cval)\n",
    "#     if cval == 0:\n",
    "#         break\n",
    "    z += 1"
   ]
  },
  {
   "cell_type": "code",
   "execution_count": null,
   "id": "7099385a",
   "metadata": {},
   "outputs": [],
   "source": []
  }
 ],
 "metadata": {
  "kernelspec": {
   "display_name": "Python 3 (ipykernel)",
   "language": "python",
   "name": "python3"
  },
  "language_info": {
   "codemirror_mode": {
    "name": "ipython",
    "version": 3
   },
   "file_extension": ".py",
   "mimetype": "text/x-python",
   "name": "python",
   "nbconvert_exporter": "python",
   "pygments_lexer": "ipython3",
   "version": "3.9.12"
  }
 },
 "nbformat": 4,
 "nbformat_minor": 5
}
