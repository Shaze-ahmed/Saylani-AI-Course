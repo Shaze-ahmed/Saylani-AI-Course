{
 "cells": [
  {
   "cell_type": "code",
   "execution_count": 2,
   "id": "bc48d1d2",
   "metadata": {},
   "outputs": [
    {
     "name": "stdout",
     "output_type": "stream",
     "text": [
      "Requirement already satisfied: phonenumbers in c:\\users\\shahzad.ahmed1\\anaconda3\\lib\\site-packages (8.12.53)\n"
     ]
    }
   ],
   "source": [
    "!pip install phonenumbers"
   ]
  },
  {
   "cell_type": "code",
   "execution_count": 12,
   "id": "7929c2a7",
   "metadata": {},
   "outputs": [
    {
     "name": "stdout",
     "output_type": "stream",
     "text": [
      "Pakistan\n",
      "Mobilink\n"
     ]
    }
   ],
   "source": [
    "import phonenumbers as ph\n",
    "\n",
    "myNumber = \"+923002303175\"\n",
    "\n",
    "from phonenumbers import geocoder\n",
    "from phonenumbers import carrier\n",
    "\n",
    "cNumber = ph.parse(myNumber, \"CH\")\n",
    "print(geocoder.description_for_number(cNumber, \"en\"))\n",
    "service_number = ph.parse(myNumber, \"RO\")\n",
    "print(carrier.name_for_number(service_number, \"en\"))\n"
   ]
  },
  {
   "cell_type": "code",
   "execution_count": null,
   "id": "65a92c9d",
   "metadata": {},
   "outputs": [],
   "source": []
  }
 ],
 "metadata": {
  "kernelspec": {
   "display_name": "Python 3 (ipykernel)",
   "language": "python",
   "name": "python3"
  },
  "language_info": {
   "codemirror_mode": {
    "name": "ipython",
    "version": 3
   },
   "file_extension": ".py",
   "mimetype": "text/x-python",
   "name": "python",
   "nbconvert_exporter": "python",
   "pygments_lexer": "ipython3",
   "version": "3.9.12"
  }
 },
 "nbformat": 4,
 "nbformat_minor": 5
}
