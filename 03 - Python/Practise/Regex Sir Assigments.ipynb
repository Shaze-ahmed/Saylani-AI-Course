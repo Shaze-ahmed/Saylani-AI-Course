{
 "cells": [
  {
   "cell_type": "code",
   "execution_count": 3,
   "id": "2282c534",
   "metadata": {},
   "outputs": [
    {
     "name": "stdout",
     "output_type": "stream",
     "text": [
      "[11:05 pm, 05/08/2022] iQo: Iqbal Ahmed AI-46214 03453113993 iq.ahmed91@gmail.com\n",
      "[11:12 pm, 05/08/2022] Muhammad Saad AI: Muhammad Saad: AI46190 03043184681: sm.saad50@gmail.com\n",
      "[11:12 pm, 05/08/2022] Shahzad IBT: Shahzad Ahmed : AI-46165 - 03002303175 - shaze.ahmed@gmail.com\n",
      "[11:12 pm, 05/08/2022] +92 315 2935701: name: Sami rollno:AI- 40483 email: samikhan2872@gmail.com mobile-no:03152935701\n",
      "[11:13 pm, 05/08/2022] +92 334 2995610: Talha Mehfooz, AI-40211 email: khurshaiditm47@gmail.com , mobile: 03342995610\n",
      "[11:13 pm, 05/08/2022] +92 335 3271054: Muhammad Mohsin: AI-53993\n",
      "Email: mohsinsheikh0700@gmail.com\n",
      "No: 03353271054\n",
      "[11:13 pm, 05/08/2022] +92 345 2541450: Hidayat ur Rehman : AI-6546 email: abc@gmail.com\n",
      "[11:13 pm, 05/08/2022] +92 316 2688657: Muhammad Faizan: AI 40939\n",
      "faizanwaseem476@gmail.com\n",
      "[11:13 pm, 05/08/2022] +92 344 2226632: Name: Saad Ahmed\n",
      "RollNo: AI-47242\n",
      "Email: hello.saad96@gmail.com\n",
      "[11:13 pm, 05/08/2022] +92 313 1145255: Gulzar :\n",
      "AI-20145\n",
      "Email:hafizgulzar.alm1996@gmail.com\n",
      "Mobile no. 03131134244\n",
      "[11:13 pm, 05/08/2022] +92 323 2900066: Abdul Rasheed AI-40154\n",
      "email: abdulrasheed2511gmail.com\n",
      "[11:14 pm, 05/08/2022] +92 315 3727169: Muhammad Zeeshan : AI-400250 \n",
      "Email: abc@gmail.com\n",
      "Mobile no: 03153727169\n",
      "[11:14 pm, 05/08/2022] +92 342 3392795: Ahmed saleem :AI-44378\n",
      "Email: ahmedsaleem2122@gmail.com\n",
      "Mobile no:0342-3392795\n",
      "[11:14 pm, 05/08/2022] M. Ali Nasir CR AI: Name : Ali Nasir \n",
      "Roll No: 44365 \n",
      "NIC: 42101-9864676-7 \n",
      "Email: malinasir1997@gmail.com \n",
      "Mobile No: 0331-2147373\n",
      "[11:14 pm, 05/08/2022] +92 333 3120597: Name : Hamza Ahmed Ansari Roll number : AI-40591 Email : ibneshakeel2000@gmail.com Mobile number : 03333120597\n",
      "[11:14 pm, 05/08/2022] +92 316 1448439: name: Zubair\n",
      "roll no: AI- 40200 \n",
      "email: zubairrasheed0316@gmail.com \n",
      "mobile-no: 03161448439\n",
      "[11:14 pm, 05/08/2022] +92 315 2185186: Name: Irfan Roll Number: AI-45055 email: irfanmuhammadk786@gmail.com Mobile Number: 03152185186\n",
      "[11:15 pm, 05/08/2022] +92 312 2093412: Basharat Ali :AI-46716\n",
      "Email: basharatfarhad24@gmail.com\n",
      "Mobile no:03122093412\n",
      "[11:15 pm, 05/08/2022] +92 344 1802958: Name: Muhammad usama\n",
      "Roll no : AI-43985\n",
      "Mobile no : 03441802958\n",
      "Email : usamakh315@gmail.com\n",
      "[11:15 pm, 05/08/2022] +92 312 8525358: Faraz uddin : AI-44226- 03128525358 - asbausmuhammad92@gmail.com\n",
      "[11:15 pm, 05/08/2022] +92 334 3523966: Name: Syed Muhammad Mooazam , Roll No: AI-40222 , Mobile Number: +923343523966\n",
      "[11:15 pm, 05/08/2022] +92 324 2824117: Name : Abdul Sami  Roll number : AI-40352 Email : abdulsamiarain82@gmail.com Mobile number : 03242824117\n",
      "[11:16 pm, 05/08/2022] +92 312 2296999: Umair Taqi : AI-46155 - 03122296999 - umairtaqi48@gmail.com\n",
      "[11:16 pm, 05/08/2022] +92 323 2553599: Name: Atiq Raza\n",
      "ID : AI-42612\n",
      "Email : razaatiq05@gmail.com\n",
      "Mobile No: 03232553599\n",
      "[11:16 pm, 05/08/2022] +92 334 0378290: Ahsan Uddin\n",
      "AI-43505\n",
      "0334-0378290\n",
      "[11:16 pm, 05/08/2022] M. FURQAN CR AI: Name: Muhammad Furqan\n",
      "Roll no:AI-40277\n",
      "Email: furqansawati@gmail.com\n",
      "Mobile no:03120004695\n",
      "[11:17 pm, 05/08/2022] +92 306 2462926: Name: Syed Salman Ali , Roll No: AI-40969 , Mobile Number: +923062462926\n",
      "[11:17 pm, 05/08/2022] +92 309 2655755: Name: Syed Muhammad Daniyal Azam\n",
      "Roll number: AI-47456\n",
      "Num: 03092655755\n",
      "Email : daniyalazam19@gmail.com\n",
      "[11:17 pm, 05/08/2022] +92 302 8289423: Mehmood AI-41824 03028289423 mahmoodsuleman@hotmail.com"
     ]
    }
   ],
   "source": [
    "import re\n",
    "# Loading the Data from File\n",
    "with open(\"wchat.txt\") as file: \n",
    "    fdata = file.read()\n",
    "print(fdata, end=\"\")"
   ]
  },
  {
   "cell_type": "code",
   "execution_count": 3,
   "id": "83a7b957",
   "metadata": {},
   "outputs": [
    {
     "name": "stdout",
     "output_type": "stream",
     "text": [
      "0 AI-46214\n",
      "1 AI-46165\n",
      "2 AI-40211\n",
      "3 AI-53993\n",
      "4 AI-47242\n",
      "5 AI-20145\n",
      "6 AI-40154\n",
      "7 AI-40025\n",
      "8 AI-44378\n",
      "9 AI-40591\n",
      "10 AI-45055\n",
      "11 AI-46716\n",
      "12 AI-43985\n",
      "13 AI-44226\n",
      "14 AI-40222\n",
      "15 AI-40352\n",
      "16 AI-46155\n",
      "17 AI-42612\n",
      "18 AI-43505\n",
      "19 AI-40277\n",
      "20 AI-40969\n",
      "21 AI-47456\n",
      "22 AI-41824\n"
     ]
    }
   ],
   "source": [
    "# Getting the Roll Number from data\n",
    "RollNum = re.findall(\"([AI]+-\\d{5})\", fdata)\n",
    "for i, j in enumerate(RollNum):\n",
    "    print(i, j)"
   ]
  },
  {
   "cell_type": "code",
   "execution_count": 11,
   "id": "2be31406",
   "metadata": {},
   "outputs": [
    {
     "name": "stdout",
     "output_type": "stream",
     "text": [
      "0 Iqbal Ahmed\n",
      "1 Muhammad Saad\n",
      "2 Muhammad Saad\n",
      "3 Shahzad IBT\n",
      "4 Shahzad Ahmed\n",
      "5 Talha Mehfooz\n",
      "6 Muhammad Mohsin\n",
      "7 Muhammad Faizan\n",
      "8 Saad Ahmed\n",
      "9 Abdul Rasheed\n",
      "10 Muhammad Zeeshan\n",
      "11 Ali Nasir\n",
      "12 CR AI\n",
      "13 Ali Nasir\n",
      "14 Roll No\n",
      "15 Mobile No\n",
      "16 Hamza Ahmed\n",
      "17 Ansari Roll\n",
      "18 Irfan Roll\n",
      "19 Mobile Number\n",
      "20 Basharat Ali\n",
      "21 Syed Muhammad\n",
      "22 Roll No\n",
      "23 Mobile Number\n",
      "24 Abdul Sami\n",
      "25 Umair Taqi\n",
      "26 Atiq Raza\n",
      "27 Mobile No\n",
      "28 Ahsan Uddin\n",
      "29 FURQAN CR\n",
      "30 Muhammad Furqan\n",
      "31 Syed Salman\n",
      "32 Roll No\n",
      "33 Mobile Number\n",
      "34 Syed Muhammad\n",
      "35 Daniyal Azam\n",
      "36 Mehmood AI\n"
     ]
    }
   ],
   "source": [
    "# Getting the student name from data\n",
    "StudName = re.findall(r\"\\b[A-Z]\\w+\\s[A-Z]\\w+\", fdata)                  \n",
    "for i, j in enumerate(StudName):\n",
    "    print(i, j)"
   ]
  },
  {
   "cell_type": "code",
   "execution_count": 12,
   "id": "c8713219",
   "metadata": {},
   "outputs": [
    {
     "name": "stdout",
     "output_type": "stream",
     "text": [
      "0 Iqbal Ahmed\n",
      "1 Muhammad Saad\n",
      "2 Muhammad Saad\n",
      "3 Shahzad IBT\n",
      "4 Shahzad Ahmed\n",
      "5 Talha Mehfooz\n",
      "6 Muhammad Mohsin\n",
      "7 Muhammad Faizan\n",
      "8 Saad Ahmed\n",
      "9 Abdul Rasheed\n",
      "10 Muhammad Zeeshan\n",
      "11 Ali Nasir\n",
      "12 CR AI\n",
      "13 Ali Nasir\n",
      "Roll No\n",
      "14 Roll No\n",
      "15 Hamza Ahmed\n",
      "16 Ansari Roll\n",
      "17 Irfan Roll\n",
      "Mobile Number\n",
      "18 Mobile Number\n",
      "19 Syed Muhammad\n",
      "Roll No\n",
      "20 Roll No\n",
      "21 Abdul Sami\n",
      "22 Umair Taqi\n",
      "23 Atiq Raza\n",
      "Mobile No\n",
      "24 Mobile No\n",
      "25 FURQAN CR\n",
      "26 Muhammad Furqan\n",
      "27 Syed Salman\n",
      "Roll No\n",
      "28 Roll No\n",
      "29 Syed Muhammad\n",
      "30 Daniyal Azam\n",
      "31 Mehmood AI\n"
     ]
    }
   ],
   "source": [
    "# Cleaning Student Name list Data\n",
    "for index, i in enumerate(StudName):\n",
    "    if i.strip().lower() in ('roll no','mobile no','mobile number'):\n",
    "        print(StudName.pop(index))\n",
    "    print(index, i)"
   ]
  },
  {
   "cell_type": "code",
   "execution_count": null,
   "id": "07acd16b",
   "metadata": {},
   "outputs": [],
   "source": []
  }
 ],
 "metadata": {
  "kernelspec": {
   "display_name": "Python 3 (ipykernel)",
   "language": "python",
   "name": "python3"
  },
  "language_info": {
   "codemirror_mode": {
    "name": "ipython",
    "version": 3
   },
   "file_extension": ".py",
   "mimetype": "text/x-python",
   "name": "python",
   "nbconvert_exporter": "python",
   "pygments_lexer": "ipython3",
   "version": "3.9.12"
  }
 },
 "nbformat": 4,
 "nbformat_minor": 5
}
