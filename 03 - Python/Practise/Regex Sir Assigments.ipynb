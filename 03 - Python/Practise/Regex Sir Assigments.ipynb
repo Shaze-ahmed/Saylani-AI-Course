{
 "cells": [
  {
   "cell_type": "code",
   "execution_count": 1,
   "id": "2282c534",
   "metadata": {},
   "outputs": [
    {
     "name": "stdout",
     "output_type": "stream",
     "text": [
      "[11:05 pm, 05/08/2022] iQo: Iqbal Ahmed AI-46214 03453113993 iq.ahmed91@gmail.com\n",
      "[11:12 pm, 05/08/2022] Muhammad Saad AI: Muhammad Saad: AI46190 03043184681: sm.saad50@gmail.com\n",
      "[11:12 pm, 05/08/2022] Shahzad IBT: Shahzad Ahmed : AI-46165 - 03002303175 - shaze.ahmed@gmail.com\n",
      "[11:12 pm, 05/08/2022] +92 315 2935701: name: Sami rollno:AI- 40483 email: samikhan2872@gmail.com mobile-no:03152935701\n",
      "[11:13 pm, 05/08/2022] +92 334 2995610: Talha Mehfooz, AI-40211 email: khurshaiditm47@gmail.com , mobile: 03342995610\n",
      "[11:13 pm, 05/08/2022] +92 335 3271054: Muhammad Mohsin: AI-53993\n",
      "Email: mohsinsheikh0700@gmail.com\n",
      "No: 03353271054\n",
      "[11:13 pm, 05/08/2022] +92 345 2541450: Hidayat ur Rehman : AI-6546 email: abc@gmail.com\n",
      "[11:13 pm, 05/08/2022] +92 316 2688657: Muhammad Faizan: AI 40939\n",
      "faizanwaseem476@gmail.com\n",
      "[11:13 pm, 05/08/2022] +92 344 2226632: Name: Saad Ahmed\n",
      "RollNo: AI-47242\n",
      "Email: hello.saad96@gmail.com\n",
      "[11:13 pm, 05/08/2022] +92 313 1145255: Gulzar :\n",
      "AI-20145\n",
      "Email:hafizgulzar.alm1996@gmail.com\n",
      "Mobile no. 03131134244\n",
      "[11:13 pm, 05/08/2022] +92 323 2900066: Abdul Rasheed AI-40154\n",
      "email: abdulrasheed2511gmail.com\n",
      "[11:14 pm, 05/08/2022] +92 315 3727169: Muhammad Zeeshan : AI-400250 \n",
      "Email: abc@gmail.com\n",
      "Mobile no: 03153727169\n",
      "[11:14 pm, 05/08/2022] +92 342 3392795: Ahmed saleem :AI-44378\n",
      "Email: ahmedsaleem2122@gmail.com\n",
      "Mobile no:0342-3392795\n",
      "[11:14 pm, 05/08/2022] M. Ali Nasir CR AI: Name : Ali Nasir \n",
      "Roll No: 44365 \n",
      "NIC: 42101-9864676-7 \n",
      "Email: malinasir1997@gmail.com \n",
      "Mobile No: 0331-2147373\n",
      "[11:14 pm, 05/08/2022] +92 333 3120597: Name : Hamza Ahmed Ansari Roll number : AI-40591 Email : ibneshakeel2000@gmail.com Mobile number : 03333120597\n",
      "[11:14 pm, 05/08/2022] +92 316 1448439: name: Zubair\n",
      "roll no: AI- 40200 \n",
      "email: zubairrasheed0316@gmail.com \n",
      "mobile-no: 03161448439\n",
      "[11:14 pm, 05/08/2022] +92 315 2185186: Name: Irfan Roll Number: AI-45055 email: irfanmuhammadk786@gmail.com Mobile Number: 03152185186\n",
      "[11:15 pm, 05/08/2022] +92 312 2093412: Basharat Ali :AI-46716\n",
      "Email: basharatfarhad24@gmail.com\n",
      "Mobile no:03122093412\n",
      "[11:15 pm, 05/08/2022] +92 344 1802958: Name: Muhammad usama\n",
      "Roll no : AI-43985\n",
      "Mobile no : 03441802958\n",
      "Email : usamakh315@gmail.com\n",
      "[11:15 pm, 05/08/2022] +92 312 8525358: Faraz uddin : AI-44226- 03128525358 - asbausmuhammad92@gmail.com\n",
      "[11:15 pm, 05/08/2022] +92 334 3523966: Name: Syed Muhammad Mooazam , Roll No: AI-40222 , Mobile Number: +923343523966\n",
      "[11:15 pm, 05/08/2022] +92 324 2824117: Name : Abdul Sami  Roll number : AI-40352 Email : abdulsamiarain82@gmail.com Mobile number : 03242824117\n",
      "[11:16 pm, 05/08/2022] +92 312 2296999: Umair Taqi : AI-46155 - 03122296999 - umairtaqi48@gmail.com\n",
      "[11:16 pm, 05/08/2022] +92 323 2553599: Name: Atiq Raza\n",
      "ID : AI-42612\n",
      "Email : razaatiq05@gmail.com\n",
      "Mobile No: 03232553599\n",
      "[11:16 pm, 05/08/2022] +92 334 0378290: Ahsan Uddin\n",
      "AI-43505\n",
      "0334-0378290\n",
      "[11:16 pm, 05/08/2022] M. FURQAN CR AI: Name: Muhammad Furqan\n",
      "Roll no:AI-40277\n",
      "Email: furqansawati@gmail.com\n",
      "Mobile no:03120004695\n",
      "[11:17 pm, 05/08/2022] +92 306 2462926: Name: Syed Salman Ali , Roll No: AI-40969 , Mobile Number: +923062462926\n",
      "[11:17 pm, 05/08/2022] +92 309 2655755: Name: Syed Muhammad Daniyal Azam\n",
      "Roll number: AI-47456\n",
      "Num: 03092655755\n",
      "Email : daniyalazam19@gmail.com\n",
      "[11:17 pm, 05/08/2022] +92 302 8289423: Mehmood AI-41824 03028289423 mahmoodsuleman@hotmail.com"
     ]
    }
   ],
   "source": [
    "import re\n",
    "# Loading the Data from File\n",
    "with open(\"wchat.txt\") as file: \n",
    "    fdata = file.read()\n",
    "print(fdata, end=\"\")"
   ]
  },
  {
   "cell_type": "code",
   "execution_count": 2,
   "id": "83a7b957",
   "metadata": {},
   "outputs": [
    {
     "name": "stdout",
     "output_type": "stream",
     "text": [
      "0 AI-46214\n",
      "1 AI-46165\n",
      "2 AI-40211\n",
      "3 AI-53993\n",
      "4 AI-47242\n",
      "5 AI-20145\n",
      "6 AI-40154\n",
      "7 AI-40025\n",
      "8 AI-44378\n",
      "9 AI-40591\n",
      "10 AI-45055\n",
      "11 AI-46716\n",
      "12 AI-43985\n",
      "13 AI-44226\n",
      "14 AI-40222\n",
      "15 AI-40352\n",
      "16 AI-46155\n",
      "17 AI-42612\n",
      "18 AI-43505\n",
      "19 AI-40277\n",
      "20 AI-40969\n",
      "21 AI-47456\n",
      "22 AI-41824\n"
     ]
    }
   ],
   "source": [
    "# Getting the Roll Number from data\n",
    "RollNum = re.findall(\"([AI]+-\\d{5})\", fdata)\n",
    "for i, j in enumerate(RollNum):\n",
    "    print(i, j)"
   ]
  },
  {
   "cell_type": "code",
   "execution_count": 3,
   "id": "2be31406",
   "metadata": {},
   "outputs": [
    {
     "name": "stdout",
     "output_type": "stream",
     "text": [
      "0 Iqbal Ahmed\n",
      "1 Muhammad Mohsin\n",
      "2 Ali Nasir\n",
      "3 Syed Muhammad\n",
      "4 CR AI\n",
      "5 Irfan Roll\n",
      "6 Umair Taqi\n",
      "7 Muhammad Furqan\n",
      "8 Muhammad Zeeshan\n",
      "9 Atiq Raza\n",
      "10 Talha Mehfooz\n",
      "11 Ahsan Uddin\n",
      "12 Ansari Roll\n",
      "13 Saad Ahmed\n",
      "14 Muhammad Faizan\n",
      "15 Muhammad Saad\n",
      "16 Basharat Ali\n",
      "17 Roll No\n",
      "18 Abdul Rasheed\n",
      "19 Shahzad IBT\n",
      "20 Abdul Sami\n",
      "21 Mobile Number\n",
      "22 Mobile No\n",
      "23 Daniyal Azam\n",
      "24 Hamza Ahmed\n",
      "25 Syed Salman\n",
      "26 Mehmood AI\n",
      "27 Shahzad Ahmed\n",
      "28 FURQAN CR\n"
     ]
    }
   ],
   "source": [
    "# Getting the student name from data\n",
    "StudName = re.findall(r\"\\b[A-Z]\\w+\\s[A-Z]\\w+\", fdata)\n",
    "DistName = set(StudName)\n",
    "StudName = list(DistName)\n",
    "for i, j in enumerate(StudName):\n",
    "    print(i, j)"
   ]
  },
  {
   "cell_type": "code",
   "execution_count": 4,
   "id": "c8713219",
   "metadata": {},
   "outputs": [
    {
     "name": "stdout",
     "output_type": "stream",
     "text": [
      "0 Iqbal Ahmed\n",
      "1 Muhammad Mohsin\n",
      "2 Ali Nasir\n",
      "3 Syed Muhammad\n",
      "4 CR AI\n",
      "5 Irfan Roll\n",
      "6 Umair Taqi\n",
      "7 Muhammad Furqan\n",
      "8 Muhammad Zeeshan\n",
      "9 Atiq Raza\n",
      "10 Talha Mehfooz\n",
      "11 Ahsan Uddin\n",
      "12 Ansari Roll\n",
      "13 Saad Ahmed\n",
      "14 Muhammad Faizan\n",
      "15 Muhammad Saad\n",
      "16 Basharat Ali\n",
      "17 Roll No\n",
      "18 Shahzad IBT\n",
      "19 Abdul Sami\n",
      "20 Mobile Number\n",
      "21 Daniyal Azam\n",
      "22 Hamza Ahmed\n",
      "23 Syed Salman\n",
      "24 Mehmood AI\n",
      "25 Shahzad Ahmed\n",
      "26 FURQAN CR\n"
     ]
    }
   ],
   "source": [
    "# Cleaning Student Name from list\n",
    "for index, i in enumerate(StudName):\n",
    "    if i.strip().lower() in ('roll no','mobile no','mobile number'):\n",
    "        StudName.pop(index)\n",
    "    print(index, i)"
   ]
  },
  {
   "cell_type": "code",
   "execution_count": 5,
   "id": "07acd16b",
   "metadata": {},
   "outputs": [
    {
     "name": "stdout",
     "output_type": "stream",
     "text": [
      "0 iq.ahmed91@gmail.com\n",
      "1 mohsinsheikh0700@gmail.com\n",
      "2 irfanmuhammadk786@gmail.com\n",
      "3 abc@gmail.com\n",
      "4 basharatfarhad24@gmail.com\n",
      "5 samikhan2872@gmail.com\n",
      "6 khurshaiditm47@gmail.com\n",
      "7 abdulsamiarain82@gmail.com\n",
      "8 sm.saad50@gmail.com\n",
      "9 furqansawati@gmail.com\n",
      "10 zubairrasheed0316@gmail.com\n",
      "11 ahmedsaleem2122@gmail.com\n",
      "12 daniyalazam19@gmail.com\n",
      "13 hafizgulzar.alm1996@gmail.com\n",
      "14 umairtaqi48@gmail.com\n",
      "15 asbausmuhammad92@gmail.com\n",
      "16 shaze.ahmed@gmail.com\n",
      "17 razaatiq05@gmail.com\n",
      "18 usamakh315@gmail.com\n",
      "19 hello.saad96@gmail.com\n",
      "20 malinasir1997@gmail.com\n",
      "21 mahmoodsuleman@hotmail.com\n",
      "22 faizanwaseem476@gmail.com\n",
      "23 ibneshakeel2000@gmail.com\n"
     ]
    }
   ],
   "source": [
    "email = re.findall(\"[A-z0-9.]+@\\w+\\.\\w+\", fdata)\n",
    "email = list(set(email))\n",
    "for i, j in enumerate(email):\n",
    "    print(i, j)"
   ]
  },
  {
   "cell_type": "code",
   "execution_count": 6,
   "id": "8ee265e5",
   "metadata": {},
   "outputs": [
    {
     "name": "stdout",
     "output_type": "stream",
     "text": [
      "0 03453113993\n",
      "1 03043184681\n",
      "2 03002303175\n",
      "3 +92 315 2935701\n",
      "4 03152935701\n",
      "5 +92 334 2995610\n",
      "6 03342995610\n",
      "7 +92 335 3271054\n",
      "8 03353271054\n",
      "9 +92 345 2541450\n",
      "10 +92 316 2688657\n",
      "11 +92 344 2226632\n",
      "12 +92 313 1145255\n",
      "13 03131134244\n",
      "14 +92 323 2900066\n",
      "15 +92 315 3727169\n",
      "16 03153727169\n",
      "17 +92 342 3392795\n",
      "18 +92 333 3120597\n",
      "19 03333120597\n",
      "20 +92 316 1448439\n",
      "21 03161448439\n",
      "22 +92 315 2185186\n",
      "23 03152185186\n",
      "24 +92 312 2093412\n",
      "25 03122093412\n",
      "26 +92 344 1802958\n",
      "27 03441802958\n",
      "28 +92 312 8525358\n",
      "29 03128525358\n",
      "30 +92 334 3523966\n",
      "31 +92 324 2824117\n",
      "32 03242824117\n",
      "33 +92 312 2296999\n",
      "34 03122296999\n",
      "35 +92 323 2553599\n",
      "36 03232553599\n",
      "37 +92 334 0378290\n",
      "38 03120004695\n",
      "39 +92 306 2462926\n",
      "40 +92 309 2655755\n",
      "41 03092655755\n",
      "42 +92 302 8289423\n",
      "43 03028289423\n"
     ]
    }
   ],
   "source": [
    "tempMob = re.findall(r\"\\b03\\d{8,9}|\\+\\d*\\s\\d*\\s\\d*\", fdata)\n",
    "for i, j in enumerate(tempMob):\n",
    "    print(i, j)"
   ]
  },
  {
   "cell_type": "code",
   "execution_count": 7,
   "id": "89a63f8f",
   "metadata": {},
   "outputs": [
    {
     "name": "stdout",
     "output_type": "stream",
     "text": [
      "+92 312 2093412 0\n",
      "+92 323 2900066 1\n",
      "+92 309 2655755 2\n",
      "+92 334 2995610 3\n",
      "+92 300 2303175 4\n",
      "+92 302 8289423 5\n",
      "+92 342 3392795 6\n",
      "+92 315 2935701 7\n",
      "+92 345 3113993 8\n",
      "+92 313 1134244 9\n",
      "+92 344 1802958 10\n",
      "+92 312 8525358 11\n",
      "+92 304 3184681 12\n",
      "+92 345 2541450 13\n",
      "+92 344 2226632 14\n",
      "+92 306 2462926 15\n",
      "+92 312 0004695 16\n",
      "+92 334 0378290 17\n",
      "+92 335 3271054 18\n",
      "+92 316 1448439 19\n",
      "+92 334 3523966 20\n",
      "+92 333 3120597 21\n",
      "+92 315 3727169 22\n",
      "+92 324 2824117 23\n",
      "+92 313 1145255 24\n",
      "+92 312 2296999 25\n",
      "+92 315 2185186 26\n",
      "+92 323 2553599 27\n",
      "+92 316 2688657 28\n"
     ]
    }
   ],
   "source": [
    "# Cleanig Mobile Data\n",
    "mobile = []\n",
    "for i, j in enumerate(tempMob):\n",
    "    if j[0] == '+':\n",
    "        mobile.append(j)\n",
    "    else:\n",
    "        mobile.append(\"+92\"+' '+j[1:4]+' '+j[4:])\n",
    "mobile = list(set(mobile))\n",
    "for i, j in enumerate(mobile):\n",
    "    print(j, i)"
   ]
  },
  {
   "cell_type": "code",
   "execution_count": 8,
   "id": "07735b8a",
   "metadata": {},
   "outputs": [],
   "source": [
    "# Creatig Dictionary  \n",
    "DataDict = {'RollNum'   : RollNum,\n",
    "            'StudName'  : StudName,\n",
    "            'Mobile'    : mobile,\n",
    "            'Email'     : email}"
   ]
  },
  {
   "cell_type": "code",
   "execution_count": 9,
   "id": "53612d01",
   "metadata": {},
   "outputs": [
    {
     "data": {
      "text/plain": [
       "{'RollNum': 23, 'StudName': 27, 'Mobile': 29, 'Email': 24}"
      ]
     },
     "execution_count": 9,
     "metadata": {},
     "output_type": "execute_result"
    }
   ],
   "source": [
    "{k:len(v) for k,v in DataDict.items()}"
   ]
  },
  {
   "cell_type": "code",
   "execution_count": 16,
   "id": "a94dff20",
   "metadata": {},
   "outputs": [
    {
     "data": {
      "text/html": [
       "<div>\n",
       "<style scoped>\n",
       "    .dataframe tbody tr th:only-of-type {\n",
       "        vertical-align: middle;\n",
       "    }\n",
       "\n",
       "    .dataframe tbody tr th {\n",
       "        vertical-align: top;\n",
       "    }\n",
       "\n",
       "    .dataframe thead th {\n",
       "        text-align: right;\n",
       "    }\n",
       "</style>\n",
       "<table border=\"1\" class=\"dataframe\">\n",
       "  <thead>\n",
       "    <tr style=\"text-align: right;\">\n",
       "      <th></th>\n",
       "      <th>RollNum</th>\n",
       "      <th>StudName</th>\n",
       "      <th>Mobile</th>\n",
       "      <th>Email</th>\n",
       "    </tr>\n",
       "  </thead>\n",
       "  <tbody>\n",
       "    <tr>\n",
       "      <th>0</th>\n",
       "      <td>AI-46214</td>\n",
       "      <td>Iqbal Ahmed</td>\n",
       "      <td>+92 312 2093412</td>\n",
       "      <td>iq.ahmed91@gmail.com</td>\n",
       "    </tr>\n",
       "    <tr>\n",
       "      <th>1</th>\n",
       "      <td>AI-46165</td>\n",
       "      <td>Muhammad Mohsin</td>\n",
       "      <td>+92 323 2900066</td>\n",
       "      <td>mohsinsheikh0700@gmail.com</td>\n",
       "    </tr>\n",
       "    <tr>\n",
       "      <th>2</th>\n",
       "      <td>AI-40211</td>\n",
       "      <td>Ali Nasir</td>\n",
       "      <td>+92 309 2655755</td>\n",
       "      <td>irfanmuhammadk786@gmail.com</td>\n",
       "    </tr>\n",
       "    <tr>\n",
       "      <th>3</th>\n",
       "      <td>AI-53993</td>\n",
       "      <td>Syed Muhammad</td>\n",
       "      <td>+92 334 2995610</td>\n",
       "      <td>abc@gmail.com</td>\n",
       "    </tr>\n",
       "    <tr>\n",
       "      <th>4</th>\n",
       "      <td>AI-47242</td>\n",
       "      <td>CR AI</td>\n",
       "      <td>+92 300 2303175</td>\n",
       "      <td>basharatfarhad24@gmail.com</td>\n",
       "    </tr>\n",
       "  </tbody>\n",
       "</table>\n",
       "</div>"
      ],
      "text/plain": [
       "    RollNum         StudName           Mobile                        Email\n",
       "0  AI-46214      Iqbal Ahmed  +92 312 2093412         iq.ahmed91@gmail.com\n",
       "1  AI-46165  Muhammad Mohsin  +92 323 2900066   mohsinsheikh0700@gmail.com\n",
       "2  AI-40211        Ali Nasir  +92 309 2655755  irfanmuhammadk786@gmail.com\n",
       "3  AI-53993    Syed Muhammad  +92 334 2995610                abc@gmail.com\n",
       "4  AI-47242            CR AI  +92 300 2303175   basharatfarhad24@gmail.com"
      ]
     },
     "execution_count": 16,
     "metadata": {},
     "output_type": "execute_result"
    }
   ],
   "source": [
    "import pandas as pd\n",
    "df = pd.DataFrame({k:pd.Series(v) for k,v in DataDict.items()})\n",
    "df.head()"
   ]
  },
  {
   "cell_type": "code",
   "execution_count": null,
   "id": "6418f357",
   "metadata": {},
   "outputs": [],
   "source": []
  }
 ],
 "metadata": {
  "kernelspec": {
   "display_name": "Python 3 (ipykernel)",
   "language": "python",
   "name": "python3"
  },
  "language_info": {
   "codemirror_mode": {
    "name": "ipython",
    "version": 3
   },
   "file_extension": ".py",
   "mimetype": "text/x-python",
   "name": "python",
   "nbconvert_exporter": "python",
   "pygments_lexer": "ipython3",
   "version": "3.9.12"
  }
 },
 "nbformat": 4,
 "nbformat_minor": 5
}
