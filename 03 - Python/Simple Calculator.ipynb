{
 "cells": [
  {
   "cell_type": "code",
   "execution_count": 7,
   "id": "1be99337",
   "metadata": {},
   "outputs": [
    {
     "name": "stdout",
     "output_type": "stream",
     "text": [
      "5\n",
      "+\n",
      "5\n",
      "10\n",
      "\n",
      "------------------------------------------------ Calculator ---------------------------------------------\n",
      "------------------------------------- Design by SK - Batch 3 Saylani ------------------------------------\n",
      "Enter 1st Value: |  5  | ------- Enter Computational Operator: |+| -------  Enter 2nd Value: |  5  |                           \n",
      "-------------------------------------  Answer is = |   10   |----------------------------------------\n",
      "\n",
      "*  Multiplications\n",
      "/  Division       \n",
      "-  Substraction   \n",
      "+  Addition      \n",
      "** Power\n",
      "%  Modulus\n",
      "\n",
      "\n"
     ]
    }
   ],
   "source": [
    "a = int(input())\n",
    "c = input()\n",
    "b = int(input())\n",
    "global d\n",
    "\n",
    "cal = f'''\n",
    "------------------------------------------------ Calculator ---------------------------------------------\n",
    "------------------------------------- Design by SK - Batch 3 Saylani ------------------------------------\n",
    "Enter 1st Value: |  {a}  | ------- Enter Computational Operator: |{c}| -------  Enter 2nd Value: |  {b}  |                           \n",
    "-------------------------------------  Answer is = |   { d }   |----------------------------------------\n",
    "\n",
    "*  Multiplications\n",
    "/  Division       \n",
    "-  Substraction   \n",
    "+  Addition      \n",
    "** Power\n",
    "%  Modulus\n",
    "\n",
    "'''\n",
    "\n",
    "\n",
    "if c == '+':\n",
    "    d = (a+b)\n",
    "    print(d)   \n",
    "elif c == '-':\n",
    "    d = (a-b)\n",
    "    print(d)\n",
    "elif c == '*':\n",
    "    d = (a*b)\n",
    "    print(d)\n",
    "elif c == '/':\n",
    "    d = (a/b)\n",
    "    print(d)\n",
    "elif c == '%':\n",
    "    d = (a%b)\n",
    "    print(d)\n",
    "elif c == '**':\n",
    "    d = (a**b)\n",
    "    print(d)\n",
    "else:\n",
    "    print(\"Enter Correct Values\")\n",
    "    \n",
    "\n",
    "print(cal)"
   ]
  },
  {
   "cell_type": "code",
   "execution_count": null,
   "id": "459dc602",
   "metadata": {},
   "outputs": [],
   "source": []
  }
 ],
 "metadata": {
  "kernelspec": {
   "display_name": "Python 3 (ipykernel)",
   "language": "python",
   "name": "python3"
  },
  "language_info": {
   "codemirror_mode": {
    "name": "ipython",
    "version": 3
   },
   "file_extension": ".py",
   "mimetype": "text/x-python",
   "name": "python",
   "nbconvert_exporter": "python",
   "pygments_lexer": "ipython3",
   "version": "3.9.12"
  }
 },
 "nbformat": 4,
 "nbformat_minor": 5
}
