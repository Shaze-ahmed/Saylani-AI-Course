{
 "cells": [
  {
   "cell_type": "code",
   "execution_count": 8,
   "id": "0d251a64",
   "metadata": {},
   "outputs": [],
   "source": [
    "a, b = 0,0\n",
    "mydict = {}"
   ]
  },
  {
   "cell_type": "code",
   "execution_count": 10,
   "id": "d2023059",
   "metadata": {},
   "outputs": [
    {
     "name": "stdout",
     "output_type": "stream",
     "text": [
      "Enter Key Here !!200\n",
      "Enter the Value Here !!201\n"
     ]
    },
    {
     "data": {
      "text/plain": [
       "{100: 101, 200: 201}"
      ]
     },
     "execution_count": 10,
     "metadata": {},
     "output_type": "execute_result"
    }
   ],
   "source": [
    "a= int(input(\"Enter Key Here !!\"))\n",
    "b=int(input(\"Enter the Value Here !!\"))\n",
    "mydict.update({a : b})\n",
    "mydict"
   ]
  },
  {
   "cell_type": "code",
   "execution_count": null,
   "id": "7046880c",
   "metadata": {},
   "outputs": [],
   "source": []
  }
 ],
 "metadata": {
  "kernelspec": {
   "display_name": "Python 3 (ipykernel)",
   "language": "python",
   "name": "python3"
  },
  "language_info": {
   "codemirror_mode": {
    "name": "ipython",
    "version": 3
   },
   "file_extension": ".py",
   "mimetype": "text/x-python",
   "name": "python",
   "nbconvert_exporter": "python",
   "pygments_lexer": "ipython3",
   "version": "3.9.12"
  }
 },
 "nbformat": 4,
 "nbformat_minor": 5
}
