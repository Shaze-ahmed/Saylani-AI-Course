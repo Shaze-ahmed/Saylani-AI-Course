{
 "cells": [
  {
   "cell_type": "code",
   "execution_count": 1,
   "id": "3afa2ce9",
   "metadata": {},
   "outputs": [
    {
     "name": "stdout",
     "output_type": "stream",
     "text": [
      " Enter Student Name : Shahzad\n",
      "Enter Student Roll Number : Asdf\n",
      "Enter Batch Name : asdf\n",
      "Enter First Subject : match\n",
      "Enter the Obtained Marks of match : 80\n",
      "Enter First Subject : asdf\n",
      "Enter the Obtained Marks of asdf : 80\n",
      "Enter First Subject : asdf\n",
      "Enter the Obtained Marks of asdf : 43\n",
      "Enter First Subject : asdf\n",
      "Enter the Obtained Marks of asdf : 34\n",
      "Enter First Subject : asdf\n",
      "Enter the Obtained Marks of asdf : 50\n",
      "       Saylani Mass IT Training Program      \n",
      "\n",
      "          Teacher Name :      Sir Qasim\n",
      "          Student Name :      Shahzad\n",
      "          Roll Number :       Asdf\n",
      "          Batch Name :        asdf \n",
      "            \n",
      "Subject             Total Marks         Obtained Marks      Percentage\n",
      "---------------------------------------------------------------------\n",
      "match                 100                 80                  80%\n",
      "asdf                  100                 80                  80%\n",
      "asdf                  100                 43                  43%\n",
      "asdf                  100                 34                  34%\n",
      "asdf                  100                 50                  50%\n",
      "                    ------               -----               -----\n",
      "Grand Total           500                 287                 57.4%\n"
     ]
    }
   ],
   "source": [
    "v_head = \"This is the Title\"\n",
    "v_Institute = \"Saylani Mass IT Training Program\"\n",
    "v_instructor = \"Sir Qasim\"\n",
    "v_student = input(\" Enter Student Name : \")\n",
    "v_Rollnum = input(\"Enter Student Roll Number : \")\n",
    "v_batch = input(\"Enter Batch Name : \")\n",
    "v_subj = 5\n",
    "mySubj = []\n",
    "myRating = []\n",
    "v_totmarks = 0\n",
    "v_gotmarks = 0\n",
    "\n",
    "for x in range(v_subj): \n",
    "    mySubj.append(input(\"Enter First Subject : \"))\n",
    "    myRating.append(input(\"Enter the Obtained Marks of \" + mySubj[x]+ \" : \"))\n",
    "    v_gotmarks += int(myRating[x])\n",
    "    \n",
    "    v_totmarks = len(mySubj) * 100\n",
    "\n",
    "    \n",
    "p_output = (f\"\"\"\\n\\tTeacher Name : \\t{v_instructor}\\n\\tStudent Name : \\t{v_student}\\n\\tRoll Number : \\t{v_Rollnum}\\n\\tBatch Name : \\t{v_batch} \n",
    "            \\nSubject\\t\\tTotal Marks\\tObtained Marks\\tPercentage\\n---------------------------------------------------------------------\n",
    "\"\"\")\n",
    "for i in range(5):\n",
    "    p_output += (f\"\"\"{mySubj[i]}\\t\\t  100\\t\\t  {myRating[i]}\\t\\t  {myRating[i]}%\\n\"\"\")\n",
    "    \n",
    "p_output += (f\"\"\"\\t\\t------\\t\\t -----\\t\\t -----\\nGrand Total\\t  {v_totmarks}\\t\\t  {v_gotmarks}\\t\\t  {v_gotmarks/v_totmarks*100}%\"\"\")\n",
    "\n",
    "print(v_Institute.center(45))\n",
    "print(p_output.expandtabs(10))\n"
   ]
  },
  {
   "cell_type": "code",
   "execution_count": null,
   "id": "b6655108",
   "metadata": {},
   "outputs": [],
   "source": []
  }
 ],
 "metadata": {
  "kernelspec": {
   "display_name": "Python 3 (ipykernel)",
   "language": "python",
   "name": "python3"
  },
  "language_info": {
   "codemirror_mode": {
    "name": "ipython",
    "version": 3
   },
   "file_extension": ".py",
   "mimetype": "text/x-python",
   "name": "python",
   "nbconvert_exporter": "python",
   "pygments_lexer": "ipython3",
   "version": "3.9.12"
  }
 },
 "nbformat": 4,
 "nbformat_minor": 5
}
