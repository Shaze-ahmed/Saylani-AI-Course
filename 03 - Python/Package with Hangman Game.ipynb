{
 "cells": [
  {
   "cell_type": "code",
   "execution_count": 18,
   "id": "2ec9607b",
   "metadata": {},
   "outputs": [],
   "source": [
    "#pip install hangmangame_46165\n",
    "import hangmangame_46165.hangman as tt\n",
    "Obj = tt.HangmanGame()"
   ]
  },
  {
   "cell_type": "code",
   "execution_count": 19,
   "id": "217703c8",
   "metadata": {},
   "outputs": [
    {
     "name": "stdout",
     "output_type": "stream",
     "text": [
      "Select\tCategory Name\n",
      "------------------------------\n",
      "0\tCountries\n",
      "1\tCities\n",
      "2\tSports\n",
      "\n"
     ]
    }
   ],
   "source": [
    "#Default Categories\n",
    "Obj.printCategories()"
   ]
  },
  {
   "cell_type": "code",
   "execution_count": 25,
   "id": "5018f101",
   "metadata": {},
   "outputs": [
    {
     "name": "stdout",
     "output_type": "stream",
     "text": [
      "Select\tCategory Name\n",
      "------------------------------\n",
      "0\tCountries\n",
      "1\tCities\n",
      "2\tSports\n",
      "3\tIT Course\n",
      "\n"
     ]
    }
   ],
   "source": [
    "Obj.AddCategory('IT Course',['DataScience','','CloudComputing','Artificialintelligence'])\n",
    "Obj.printCategories()"
   ]
  },
  {
   "cell_type": "code",
   "execution_count": 26,
   "id": "bf41f904",
   "metadata": {},
   "outputs": [
    {
     "name": "stdout",
     "output_type": "stream",
     "text": [
      "Select\tCategory Name\n",
      "------------------------------\n",
      "0\tCountries\n",
      "1\tCities\n",
      "2\tSports\n",
      "3\tIT Course\n",
      "\n",
      "Select the Category for the Word !!3\n",
      "Enter the Lives you want !!! 5\n",
      "\n",
      "Current Word is :  _  _  _  _  _  _  _  _  _  _  _  _  _  _  _  _  _  _  _  _  _  _ (Cateogyr Hint):  IT Course\n",
      "Guess the Next Letter : c\n",
      "\n",
      "Current Word is :  _  _  _  _  _  _  C  _  _  _  _  _  _  _  _  _  _  _  _  _  C  _ (Cateogyr Hint):  IT Course\n",
      "Guess the Next Letter : s\n",
      "S is not exists, you left 4 live(s) remain !!!\n",
      "\n",
      "Current Word is :  _  _  _  _  _  _  C  _  _  _  _  _  _  _  _  _  _  _  _  _  C  _ (Cateogyr Hint):  IT Course\n",
      "Guess the Next Letter : a\n",
      "\n",
      "Current Word is :  A  _  _  _  _  _  C  _  A  _  _  _  _  _  _  _  _  _  _  _  C  _ (Cateogyr Hint):  IT Course\n",
      "Guess the Next Letter : r\n",
      "\n",
      "Current Word is :  A  R  _  _  _  _  C  _  A  _  _  _  _  _  _  _  _  _  _  _  C  _ (Cateogyr Hint):  IT Course\n",
      "Guess the Next Letter : t\n",
      "\n",
      "Current Word is :  A  R  T  _  _  _  C  _  A  _  _  _  T  _  _  _  _  _  _  _  C  _ (Cateogyr Hint):  IT Course\n",
      "Guess the Next Letter : f\n",
      "\n",
      "Current Word is :  A  R  T  _  F  _  C  _  A  _  _  _  T  _  _  _  _  _  _  _  C  _ (Cateogyr Hint):  IT Course\n",
      "Guess the Next Letter : i\n",
      "\n",
      "Current Word is :  A  R  T  I  F  I  C  I  A  _  I  _  T  _  _  _  I  _  _  _  C  _ (Cateogyr Hint):  IT Course\n",
      "Guess the Next Letter : n\n",
      "\n",
      "Current Word is :  A  R  T  I  F  I  C  I  A  _  I  N  T  _  _  _  I  _  _  N  C  _ (Cateogyr Hint):  IT Course\n",
      "Guess the Next Letter : g\n",
      "\n",
      "Current Word is :  A  R  T  I  F  I  C  I  A  _  I  N  T  _  _  _  I  G  _  N  C  _ (Cateogyr Hint):  IT Course\n",
      "Guess the Next Letter : e\n",
      "\n",
      "Current Word is :  A  R  T  I  F  I  C  I  A  _  I  N  T  E  _  _  I  G  E  N  C  E (Cateogyr Hint):  IT Course\n",
      "Guess the Next Letter : a\n",
      "A word is already Used !!!\n",
      "\n",
      "Current Word is :  A  R  T  I  F  I  C  I  A  _  I  N  T  E  _  _  I  G  E  N  C  E (Cateogyr Hint):  IT Course\n",
      "Guess the Next Letter : l\n",
      "\n",
      "Congratulation! You Guess the word ARTIFICIALINTELLIGENCE !!!!\n"
     ]
    }
   ],
   "source": [
    "Obj.HangMan()"
   ]
  },
  {
   "cell_type": "code",
   "execution_count": null,
   "id": "fc4b0b2c",
   "metadata": {},
   "outputs": [],
   "source": []
  }
 ],
 "metadata": {
  "kernelspec": {
   "display_name": "Python 3 (ipykernel)",
   "language": "python",
   "name": "python3"
  },
  "language_info": {
   "codemirror_mode": {
    "name": "ipython",
    "version": 3
   },
   "file_extension": ".py",
   "mimetype": "text/x-python",
   "name": "python",
   "nbconvert_exporter": "python",
   "pygments_lexer": "ipython3",
   "version": "3.9.12"
  }
 },
 "nbformat": 4,
 "nbformat_minor": 5
}
