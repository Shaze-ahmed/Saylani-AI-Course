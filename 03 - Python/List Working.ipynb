{
 "cells": [
  {
   "cell_type": "markdown",
   "id": "e5dce1fb",
   "metadata": {},
   "source": [
    "# List\n",
    "\n",
    "List is a collection which is ordered and changeable. Allows duplicate members."
   ]
  },
  {
   "cell_type": "code",
   "execution_count": 41,
   "id": "b7e695de",
   "metadata": {},
   "outputs": [
    {
     "name": "stdout",
     "output_type": "stream",
     "text": [
      "[1, 'Shahzad', 'Ahmed', 'HBL', 'Oracle']\n",
      "5\n",
      "<class 'list'>\n"
     ]
    }
   ],
   "source": [
    "mylist = [1, \"Shahzad\", \"Ahmed\", \"HBL\", \"Oracle\"]\n",
    "print(mylist)\n",
    "print(len(mylist))\n",
    "print(type(mylist))"
   ]
  },
  {
   "cell_type": "code",
   "execution_count": 29,
   "id": "f4d47c3f",
   "metadata": {},
   "outputs": [
    {
     "name": "stdout",
     "output_type": "stream",
     "text": [
      "1 [1, 'Shahzad', 'Ahmed', 'HBL']\n",
      "2 ['HBL', 'Oracle']\n",
      "3 ['Ahmed', 'HBL', 'Oracle']\n",
      "4 [1, 'Shahzad', 'Ahmed']\n",
      "5 ['Shahzad', 'Ahmed', 'HBL']\n",
      "6 ['Oracle', 'HBL', 'Ahmed', 'Shahzad', 1]\n",
      "7 ['Ahmed', 'HBL', 'Oracle']\n"
     ]
    }
   ],
   "source": [
    "print(1, mylist[:4])\n",
    "print(2, mylist[3:5])\n",
    "print(3, mylist[2:])\n",
    "print(4, mylist[:3])\n",
    "print(5, mylist[-4:-1])\n",
    "print(6, mylist[-1::-1])\n",
    "print(7, mylist[2:5])"
   ]
  },
  {
   "cell_type": "code",
   "execution_count": 31,
   "id": "86289c91",
   "metadata": {},
   "outputs": [
    {
     "name": "stdout",
     "output_type": "stream",
     "text": [
      "Yes, 'Ahmed' is in the list\n"
     ]
    }
   ],
   "source": [
    "if \"Ahmed\" in mylist:\n",
    "  print(\"Yes, 'Ahmed' is in the list\")"
   ]
  },
  {
   "cell_type": "code",
   "execution_count": 42,
   "id": "887a9656",
   "metadata": {},
   "outputs": [
    {
     "name": "stdout",
     "output_type": "stream",
     "text": [
      "[1, 'Shahzad', 'Ahmed', 'HBL', 'AI']\n"
     ]
    }
   ],
   "source": [
    "mylist[-1] = 'AI'\n",
    "print(mylist)"
   ]
  },
  {
   "cell_type": "code",
   "execution_count": 43,
   "id": "70656a95",
   "metadata": {},
   "outputs": [
    {
     "name": "stdout",
     "output_type": "stream",
     "text": [
      "[1, 'Shahzad', 'Ahmed', 'HBL', 'AI', 'Oracle']\n"
     ]
    }
   ],
   "source": [
    "mylist.append(\"Oracle\")\n",
    "print(mylist)"
   ]
  },
  {
   "cell_type": "code",
   "execution_count": 44,
   "id": "8b03c95f",
   "metadata": {},
   "outputs": [
    {
     "name": "stdout",
     "output_type": "stream",
     "text": [
      "[1, 'Shahzad', 'Ahmed', 'Khan', 'HBL', 'AI', 'Oracle']\n"
     ]
    }
   ],
   "source": [
    "mylist.insert(3, \"Khan\")\n",
    "print(mylist)"
   ]
  },
  {
   "cell_type": "code",
   "execution_count": 47,
   "id": "91b9ade8",
   "metadata": {},
   "outputs": [
    {
     "name": "stdout",
     "output_type": "stream",
     "text": [
      "['apple', 'banana', 'cherry']\n",
      "['mango', 'pineapple', 'papaya']\n",
      "['apple', 'banana', 'cherry', 'mango', 'pineapple', 'papaya']\n"
     ]
    }
   ],
   "source": [
    "thislist = [\"apple\", \"banana\", \"cherry\"]\n",
    "tropical = [\"mango\", \"pineapple\", \"papaya\"]\n",
    "print(thislist)\n",
    "print(tropical)\n",
    "thislist.extend(tropical)\n",
    "print(thislist)"
   ]
  },
  {
   "cell_type": "code",
   "execution_count": 48,
   "id": "9ee48415",
   "metadata": {},
   "outputs": [
    {
     "name": "stdout",
     "output_type": "stream",
     "text": [
      "['apple', 'banana', 'cherry', 'kiwi', 'orange']\n"
     ]
    }
   ],
   "source": [
    "thislist = [\"apple\", \"banana\", \"cherry\"]\n",
    "thistuple = (\"kiwi\", \"orange\")\n",
    "thislist.extend(thistuple)\n",
    "print(thislist)"
   ]
  },
  {
   "cell_type": "code",
   "execution_count": null,
   "id": "4cad029c",
   "metadata": {},
   "outputs": [],
   "source": [
    "thislist.remove(\"banana\") # Remove through Values\n",
    "thislist.pop(1) # Remove through Index and return removing values\n",
    "thislist.pop() # if donot spicy the index then remove the last item\n",
    "del thislist[0] # remove through index but dont return the value\n",
    "del thislist # to remore the complete list\n",
    "thislist.clear() # to remove the complete list\n",
    "print(thislist)"
   ]
  },
  {
   "cell_type": "code",
   "execution_count": 51,
   "id": "ef6de471",
   "metadata": {},
   "outputs": [
    {
     "name": "stdout",
     "output_type": "stream",
     "text": [
      "apple\n",
      "banana\n",
      "cherry\n",
      "kiwi\n",
      "orange\n",
      "------\n",
      "apple\n",
      "banana\n",
      "cherry\n",
      "kiwi\n",
      "orange\n"
     ]
    }
   ],
   "source": [
    "for x in thislist:\n",
    "  print(x)\n",
    "print('------')\n",
    "for i in range(len(thislist)):\n",
    "  print(thislist[i])"
   ]
  },
  {
   "cell_type": "code",
   "execution_count": 52,
   "id": "be2d8e3c",
   "metadata": {},
   "outputs": [
    {
     "name": "stdout",
     "output_type": "stream",
     "text": [
      "apple\n",
      "banana\n",
      "cherry\n",
      "kiwi\n",
      "orange\n"
     ]
    }
   ],
   "source": [
    "i = 0\n",
    "while i < len(thislist):\n",
    "  print(thislist[i])\n",
    "  i = i + 1"
   ]
  },
  {
   "cell_type": "code",
   "execution_count": 56,
   "id": "2e8e1490",
   "metadata": {},
   "outputs": [
    {
     "name": "stdout",
     "output_type": "stream",
     "text": [
      "apple\n",
      "banana\n",
      "cherry\n",
      "kiwi\n",
      "orange\n"
     ]
    },
    {
     "data": {
      "text/plain": [
       "[None, None, None, None, None]"
      ]
     },
     "execution_count": 56,
     "metadata": {},
     "output_type": "execute_result"
    }
   ],
   "source": [
    "[print(x) for x in thislist] # Comprehension list"
   ]
  },
  {
   "cell_type": "code",
   "execution_count": 57,
   "id": "2fc4b2a6",
   "metadata": {},
   "outputs": [
    {
     "name": "stdout",
     "output_type": "stream",
     "text": [
      "['apple', 'banana', 'mango']\n"
     ]
    }
   ],
   "source": [
    "fruits = [\"apple\", \"banana\", \"cherry\", \"kiwi\", \"mango\"]\n",
    "newlist = []\n",
    "for x in fruits:\n",
    "  if \"a\" in x:\n",
    "    newlist.append(x)\n",
    "print(newlist)"
   ]
  },
  {
   "cell_type": "code",
   "execution_count": 72,
   "id": "e9041f55",
   "metadata": {},
   "outputs": [
    {
     "name": "stdout",
     "output_type": "stream",
     "text": [
      "['apple', 'Banana', 'mango']\n"
     ]
    }
   ],
   "source": [
    "fruits = [\"apple\", \"Banana\", \"cherry\", \"kiwi\", \"mango\"]\n",
    "newlist = [x for x in fruits if \"a\" in x]\n",
    "print(newlist)"
   ]
  },
  {
   "cell_type": "code",
   "execution_count": 64,
   "id": "67411945",
   "metadata": {},
   "outputs": [
    {
     "name": "stdout",
     "output_type": "stream",
     "text": [
      "['apple', 'banana', 'cherry', 'kiwi', 'mango']\n",
      "['apple', 'orange', 'cherry', 'kiwi', 'mango']\n"
     ]
    }
   ],
   "source": [
    "#newlist = [x.upper() for x in fruits\n",
    "print(fruits)\n",
    "newlist = [x if x != \"banana\" else \"orange\" for x in fruits]\n",
    "print(newlist)"
   ]
  },
  {
   "cell_type": "code",
   "execution_count": 74,
   "id": "e44ee1f3",
   "metadata": {},
   "outputs": [
    {
     "name": "stdout",
     "output_type": "stream",
     "text": [
      "['Banana', 'apple', 'mango']\n",
      "['mango', 'apple', 'Banana']\n",
      "['apple', 'Banana', 'mango']\n",
      "['mango', 'Banana', 'apple']\n"
     ]
    }
   ],
   "source": [
    "newlist.sort()\n",
    "print(newlist)\n",
    "newlist.sort(reverse = True)\n",
    "print(newlist)\n",
    "newlist.sort(key = str.lower)\n",
    "print(newlist)\n",
    "newlist.reverse()\n",
    "print(newlist)"
   ]
  },
  {
   "cell_type": "code",
   "execution_count": 77,
   "id": "ec6fc5b9",
   "metadata": {},
   "outputs": [
    {
     "name": "stdout",
     "output_type": "stream",
     "text": [
      "[1, 'Shahzad', 'Ahmed', 'Khan', 'HBL', 'AI', 'Oracle']\n",
      "[1, 'Shahzad', 'Ahmed', 'Khan', 'HBL', 'AI', 'Oracle']\n"
     ]
    }
   ],
   "source": [
    "print(mylist)\n",
    "mylist2 = mylist # Shallow Copy\n",
    "print(mylist2)"
   ]
  },
  {
   "cell_type": "code",
   "execution_count": 82,
   "id": "0fb27160",
   "metadata": {},
   "outputs": [
    {
     "name": "stdout",
     "output_type": "stream",
     "text": [
      "[1, 'Shahzad', 'Ahmed', 'Khan', 'HBL', 'AI', 'Oracle']\n",
      "[1, 'Shahzad', 'Ahmed', 'Khan', 'HBL', 'AI', 'Oracle']\n"
     ]
    }
   ],
   "source": [
    "mylist[4] = 'HBL'\n",
    "print(mylist)\n",
    "print(mylist2)"
   ]
  },
  {
   "cell_type": "code",
   "execution_count": 85,
   "id": "6da19ddc",
   "metadata": {},
   "outputs": [
    {
     "name": "stdout",
     "output_type": "stream",
     "text": [
      "[1, 'Shahzad', 'Ahmed', 'Khan', 'HBL', 'AI', 'Oracle']\n",
      "[1, 'Shahzad', 'Ahmed', 'Khan', 'HBL', 'AI', 'Oracle']\n",
      "[1, 'Shahzad', 'Ahmed', 'Khan', 'UBL', 'AI', 'Oracle']\n",
      "[1, 'Shahzad', 'Ahmed', 'Khan', 'UBL', 'AI', 'Oracle']\n",
      "[1, 'Shahzad', 'Ahmed', 'Khan', 'HBL', 'AI', 'Oracle']\n"
     ]
    }
   ],
   "source": [
    "mylistc = mylist.copy()\n",
    "print(mylist)\n",
    "print(mylistc)\n",
    "mylist[4] = 'UBL'\n",
    "print(mylist)\n",
    "print(mylist2)\n",
    "print(mylistc)"
   ]
  },
  {
   "cell_type": "code",
   "execution_count": 87,
   "id": "f75b0f38",
   "metadata": {},
   "outputs": [
    {
     "name": "stdout",
     "output_type": "stream",
     "text": [
      "['a', 'b', 'c', 1, 2, 3]\n"
     ]
    }
   ],
   "source": [
    "list1 = [\"a\", \"b\", \"c\"]\n",
    "list2 = [1, 2, 3]\n",
    "list3 = list1 + list2\n",
    "print(list3)"
   ]
  },
  {
   "cell_type": "code",
   "execution_count": 2,
   "id": "4f450d63",
   "metadata": {},
   "outputs": [
    {
     "name": "stdout",
     "output_type": "stream",
     "text": [
      "['Shahzad', 'Ahmed', 'Khan']\n"
     ]
    }
   ],
   "source": [
    "n = \"Shahzad Ahmed Khan\"\n",
    "list = n.split();\n",
    "print(list)"
   ]
  },
  {
   "cell_type": "code",
   "execution_count": 37,
   "id": "cd032f86",
   "metadata": {},
   "outputs": [
    {
     "name": "stdout",
     "output_type": "stream",
     "text": [
      "['apple', 'watermelon', 'watermelon']\n"
     ]
    }
   ],
   "source": [
    "thislist = [\"apple\", \"watermelon\", \"cherry\", \"watermelon\"]\n",
    "thislist[1:3] = [\"watermelon\"]\n",
    "print(thislist)"
   ]
  },
  {
   "cell_type": "code",
   "execution_count": 88,
   "id": "6fe7137a",
   "metadata": {},
   "outputs": [
    {
     "name": "stdout",
     "output_type": "stream",
     "text": [
      "[[1, 'Shahzad', 'Ahmed', 'HBL', 'Oracle'], [2, 'Muhammad', 'Saad', 'ABL', 'BI'], [3, 'Iqbal', 'Ahmed', 'UBL', 'OAF']]\n"
     ]
    }
   ],
   "source": [
    "multilist = [[1, \"Shahzad\", \"Ahmed\", \"HBL\", \"Oracle\"],\n",
    "             [2, \"Muhammad\", \"Saad\", \"ABL\", \"BI\"],\n",
    "             [3, \"Iqbal\", \"Ahmed\", \"UBL\", \"OAF\"],\n",
    "            ]\n",
    "print(multilist)"
   ]
  },
  {
   "cell_type": "code",
   "execution_count": 102,
   "id": "a3661d64",
   "metadata": {},
   "outputs": [
    {
     "name": "stdout",
     "output_type": "stream",
     "text": [
      "['Shahzad', 'Ahmed']\n",
      "['Muhammad', 'Saad']\n",
      "['Iqbal', 'Ahmed']\n"
     ]
    }
   ],
   "source": [
    "for i in range(len(multilist)):\n",
    "    print(multilist[i][1:3])        "
   ]
  },
  {
   "cell_type": "code",
   "execution_count": 103,
   "id": "28f03771",
   "metadata": {},
   "outputs": [
    {
     "data": {
      "text/plain": [
       "['__add__',\n",
       " '__class__',\n",
       " '__class_getitem__',\n",
       " '__contains__',\n",
       " '__delattr__',\n",
       " '__delitem__',\n",
       " '__dir__',\n",
       " '__doc__',\n",
       " '__eq__',\n",
       " '__format__',\n",
       " '__ge__',\n",
       " '__getattribute__',\n",
       " '__getitem__',\n",
       " '__gt__',\n",
       " '__hash__',\n",
       " '__iadd__',\n",
       " '__imul__',\n",
       " '__init__',\n",
       " '__init_subclass__',\n",
       " '__iter__',\n",
       " '__le__',\n",
       " '__len__',\n",
       " '__lt__',\n",
       " '__mul__',\n",
       " '__ne__',\n",
       " '__new__',\n",
       " '__reduce__',\n",
       " '__reduce_ex__',\n",
       " '__repr__',\n",
       " '__reversed__',\n",
       " '__rmul__',\n",
       " '__setattr__',\n",
       " '__setitem__',\n",
       " '__sizeof__',\n",
       " '__str__',\n",
       " '__subclasshook__',\n",
       " 'append',\n",
       " 'clear',\n",
       " 'copy',\n",
       " 'count',\n",
       " 'extend',\n",
       " 'index',\n",
       " 'insert',\n",
       " 'pop',\n",
       " 'remove',\n",
       " 'reverse',\n",
       " 'sort']"
      ]
     },
     "execution_count": 103,
     "metadata": {},
     "output_type": "execute_result"
    }
   ],
   "source": [
    "dir(multilist)"
   ]
  },
  {
   "cell_type": "code",
   "execution_count": null,
   "id": "48248d99",
   "metadata": {},
   "outputs": [],
   "source": []
  }
 ],
 "metadata": {
  "kernelspec": {
   "display_name": "Python 3 (ipykernel)",
   "language": "python",
   "name": "python3"
  },
  "language_info": {
   "codemirror_mode": {
    "name": "ipython",
    "version": 3
   },
   "file_extension": ".py",
   "mimetype": "text/x-python",
   "name": "python",
   "nbconvert_exporter": "python",
   "pygments_lexer": "ipython3",
   "version": "3.9.12"
  }
 },
 "nbformat": 4,
 "nbformat_minor": 5
}
