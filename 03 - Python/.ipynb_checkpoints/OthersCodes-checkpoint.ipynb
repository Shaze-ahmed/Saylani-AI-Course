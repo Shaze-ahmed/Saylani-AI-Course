{
 "cells": [
  {
   "cell_type": "code",
   "execution_count": 1,
   "id": "601ac7f3",
   "metadata": {},
   "outputs": [],
   "source": [
    "labels = ['Country', 'City', 'Currency']\n",
    "sublist = [['England', 'London', 'GBP'], ['France', 'Paris', 'EUR'], ['Germany', 'Berlin', 'EUR']]\n",
    "\n",
    "def list_to_dict(x, y):\n",
    "  lists = zip(x, y)\n",
    "  new_dict = dict(lists)\n",
    "  return new_dict\n",
    "\n",
    "list_of_dicts = [list_to_dict(labels, items) for items in sublist]"
   ]
  },
  {
   "cell_type": "code",
   "execution_count": 2,
   "id": "59876f4b",
   "metadata": {},
   "outputs": [
    {
     "data": {
      "text/plain": [
       "[{'Country': 'England', 'City': 'London', 'Currency': 'GBP'},\n",
       " {'Country': 'France', 'City': 'Paris', 'Currency': 'EUR'},\n",
       " {'Country': 'Germany', 'City': 'Berlin', 'Currency': 'EUR'}]"
      ]
     },
     "execution_count": 2,
     "metadata": {},
     "output_type": "execute_result"
    }
   ],
   "source": [
    "list_of_dicts"
   ]
  },
  {
   "cell_type": "code",
   "execution_count": 5,
   "id": "5814b471",
   "metadata": {},
   "outputs": [
    {
     "name": "stdout",
     "output_type": "stream",
     "text": [
      "[('Country', ['England', 'London', 'GBP']), ('City', ['France', 'Paris', 'EUR']), ('Currency', ['Germany', 'Berlin', 'EUR'])]\n"
     ]
    }
   ],
   "source": [
    "print(list(zip(labels, sublist)))"
   ]
  },
  {
   "cell_type": "code",
   "execution_count": 7,
   "id": "df68233b",
   "metadata": {},
   "outputs": [
    {
     "name": "stdout",
     "output_type": "stream",
     "text": [
      "['Country', 'City', 'Currency'] ['England', 'London', 'GBP']\n",
      "['Country', 'City', 'Currency'] ['France', 'Paris', 'EUR']\n",
      "['Country', 'City', 'Currency'] ['Germany', 'Berlin', 'EUR']\n"
     ]
    }
   ],
   "source": [
    "for items in sublist:\n",
    "    print(labels, items)"
   ]
  },
  {
   "cell_type": "code",
   "execution_count": 14,
   "id": "19a1c8a2",
   "metadata": {},
   "outputs": [
    {
     "name": "stdout",
     "output_type": "stream",
     "text": [
      "[('Monday', 'WFH'), ('Tuesday', 'Office'), ('Wednesday', 'Office'), ('Thursday', 'WFH'), ('Friday', 'Office')]\n"
     ]
    }
   ],
   "source": [
    "work_days = ['Monday','Tuesday','Wednesday','Thursday','Friday']\n",
    "location = ['WFH','Office', 'Office','WFH','Office']\n",
    "print(list(*[zip(work_days,location)]))"
   ]
  },
  {
   "cell_type": "code",
   "execution_count": 15,
   "id": "4bbf4092",
   "metadata": {},
   "outputs": [
    {
     "name": "stdout",
     "output_type": "stream",
     "text": [
      "['ds_salaries.csv', 'Seattle2014.csv']\n"
     ]
    }
   ],
   "source": [
    "import glob\n",
    "print(glob.glob(\"*.csv\"))"
   ]
  },
  {
   "cell_type": "code",
   "execution_count": 17,
   "id": "b650aa15",
   "metadata": {},
   "outputs": [
    {
     "name": "stdout",
     "output_type": "stream",
     "text": [
      "[1, 3, 4, 2, 1]\n"
     ]
    }
   ],
   "source": [
    "data = [1,2,3,4,2,1]\n",
    "data.remove(2)\n",
    "print(data)"
   ]
  },
  {
   "cell_type": "code",
   "execution_count": 18,
   "id": "099f8d48",
   "metadata": {},
   "outputs": [],
   "source": [
    "s1 = {1, 2, 3, 4, 5}\n",
    "s2 = {5, 6, 7, 8 ,9}"
   ]
  },
  {
   "cell_type": "code",
   "execution_count": 26,
   "id": "6e6db9c9",
   "metadata": {},
   "outputs": [
    {
     "name": "stdout",
     "output_type": "stream",
     "text": [
      "{1, 2, 3, 4, 5, 6, 7, 8, 9}\n",
      "s1 diff is  {1, 2, 3, 4}\n",
      "s2 diff is  {8, 9, 6, 7}\n",
      "{5}\n",
      "{1, 2, 3, 4, 6, 7, 8, 9}\n"
     ]
    }
   ],
   "source": [
    "print(s1.union(s2))\n",
    "print('s1 diff is ', s1.difference(s2))\n",
    "print('s2 diff is ', s2.difference(s1))\n",
    "print(s1.intersection(s2))\n",
    "print(s1.symmetric_difference(s2))"
   ]
  },
  {
   "cell_type": "code",
   "execution_count": null,
   "id": "2e799652",
   "metadata": {},
   "outputs": [],
   "source": []
  }
 ],
 "metadata": {
  "kernelspec": {
   "display_name": "Python 3 (ipykernel)",
   "language": "python",
   "name": "python3"
  },
  "language_info": {
   "codemirror_mode": {
    "name": "ipython",
    "version": 3
   },
   "file_extension": ".py",
   "mimetype": "text/x-python",
   "name": "python",
   "nbconvert_exporter": "python",
   "pygments_lexer": "ipython3",
   "version": "3.9.12"
  }
 },
 "nbformat": 4,
 "nbformat_minor": 5
}
