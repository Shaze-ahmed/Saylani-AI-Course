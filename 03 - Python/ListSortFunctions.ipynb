{
 "cells": [
  {
   "cell_type": "code",
   "execution_count": 9,
   "id": "1af5a8eb",
   "metadata": {},
   "outputs": [],
   "source": [
    "def getminlistval(l):\n",
    "    val = l[0]\n",
    "    idx = 0\n",
    "    for y, i in enumerate(l):\n",
    "        if i < val:\n",
    "            val=i \n",
    "            idx = y\n",
    "    return(idx, val)\n",
    "\n",
    "def getmaxlistval(l):\n",
    "    val = l[0]\n",
    "    idx = 0\n",
    "    for y, i in enumerate(l):\n",
    "        if i > val:\n",
    "            val=i \n",
    "            idx = y\n",
    "    return(idx, val)\n",
    "  "
   ]
  },
  {
   "cell_type": "code",
   "execution_count": 8,
   "id": "b56eac0e",
   "metadata": {},
   "outputs": [
    {
     "name": "stdout",
     "output_type": "stream",
     "text": [
      "L =  [5, -8, 0, 20, 30, 40, -20, -1, 100, -2]\n",
      "lmin =  [-20, -8, -2, -1, 0, 5, 20, 30, 40, 100]\n",
      "lmax =  [100, 40, 30, 20, 5, 0, -1, -2, -8, -20]\n",
      "temp =  []\n"
     ]
    }
   ],
   "source": [
    "L = [5,-8,0,20,30,40,-20,-1,100,-2]\n",
    "lmax = []\n",
    "lmin = []\n",
    "\n",
    "j = 0\n",
    "lmin = []\n",
    "templ = L.copy()\n",
    "for i in range(len(templ)):\n",
    "    x, y = getminlistval(templ)\n",
    "    del templ[x]    \n",
    "    lmin.insert(j,y)\n",
    "    j+=1\n",
    "\n",
    "lmax=[]\n",
    "templ = L.copy()\n",
    "for i in range(len(templ)):\n",
    "    x, y = getmaxlistval(templ)\n",
    "    del templ[x]    \n",
    "    lmax.insert(j,y)\n",
    "    j+=1\n",
    "    \n",
    "print(\"L = \", L)\n",
    "print(\"lmin = \", lmin)\n",
    "print(\"lmax = \", lmax)\n",
    "print(\"temp = \", templ)"
   ]
  },
  {
   "cell_type": "code",
   "execution_count": 5,
   "id": "9d305175",
   "metadata": {},
   "outputs": [],
   "source": []
  },
  {
   "cell_type": "code",
   "execution_count": 214,
   "id": "b8a17a45",
   "metadata": {},
   "outputs": [],
   "source": [
    "def getlistval(l, type ='max'):\n",
    "    val = l[0]\n",
    "    idx = 0\n",
    "    if type.lower() == 'min':\n",
    "        for y, i in enumerate(l):\n",
    "            if i < val:\n",
    "                val=i \n",
    "                idx = y\n",
    "    else:\n",
    "        for y, i in enumerate(l):\n",
    "            if i > val:\n",
    "                val=i \n",
    "                idx = y\n",
    "    return(idx, val)"
   ]
  },
  {
   "cell_type": "code",
   "execution_count": 216,
   "id": "486a2db2",
   "metadata": {},
   "outputs": [
    {
     "name": "stdout",
     "output_type": "stream",
     "text": [
      "(8, 100)\n"
     ]
    }
   ],
   "source": [
    "print(getlistval(L, 'minn'))"
   ]
  },
  {
   "cell_type": "code",
   "execution_count": 36,
   "id": "0c1ce7da",
   "metadata": {},
   "outputs": [
    {
     "name": "stdout",
     "output_type": "stream",
     "text": [
      "-80 100\n"
     ]
    }
   ],
   "source": [
    "def GetListMValue(l, type='max'):\n",
    "    if type == 'max':\n",
    "        l.sort(reverse=True)        \n",
    "    elif type == 'min':\n",
    "        l.sort(reverse=False)\n",
    "    return l[0]\n",
    "    \n",
    "print(GetListMValue(L, 'min'), GetListMValue(L))            "
   ]
  },
  {
   "cell_type": "code",
   "execution_count": 48,
   "id": "69a5f37c",
   "metadata": {},
   "outputs": [],
   "source": [
    "L4 = [5,-8,0,20,30,40,-20,-1,100,-2]"
   ]
  },
  {
   "cell_type": "code",
   "execution_count": 49,
   "id": "16589752",
   "metadata": {},
   "outputs": [],
   "source": [
    "for i in range(len(L4)):\n",
    "    mv = L4[i]\n",
    "    mi = i\n",
    "    for j in range(i, len(L4)):\n",
    "        if L4[j]<mv:\n",
    "            mv=L4[j]\n",
    "            mi=j\n",
    "    ov = L4[i]\n",
    "    L4[i] = mv\n",
    "    L4[mi] = ov"
   ]
  },
  {
   "cell_type": "code",
   "execution_count": 54,
   "id": "f7f6a068",
   "metadata": {},
   "outputs": [
    {
     "name": "stdout",
     "output_type": "stream",
     "text": [
      "[-20, -8, -2, -1, 0, 5, 20, 30, 40, 100]\n",
      "[-20, -8, -2, -1, 0, 5, 20, 30, 40, 100]\n"
     ]
    }
   ],
   "source": [
    "print(L4)\n",
    "L5.sort()\n",
    "print(L5)"
   ]
  },
  {
   "cell_type": "code",
   "execution_count": 55,
   "id": "b598dbf8",
   "metadata": {},
   "outputs": [],
   "source": [
    "L = [5,-8,0,20,30,40,-20,-1,100,-2]"
   ]
  },
  {
   "cell_type": "code",
   "execution_count": 57,
   "id": "2db26257",
   "metadata": {},
   "outputs": [
    {
     "name": "stdout",
     "output_type": "stream",
     "text": [
      "[100, 40, 30, 20, 5, 0, -1, -2, -8, -20]\n"
     ]
    }
   ],
   "source": [
    "def getsortlist(L, sort=\"asc\"):\n",
    "    if sort.lower() == 'asc':\n",
    "        for i in range(len(L)):\n",
    "            mv = L[i]\n",
    "            mi = i\n",
    "            for j in range(i, len(L)):\n",
    "                if L[j]<mv:\n",
    "                    mv=L[j]\n",
    "                    mi=j\n",
    "            ov = L[i]\n",
    "            L[i] = mv\n",
    "            L[mi] = ov\n",
    "    else:\n",
    "        for i in range(len(L)):\n",
    "            mv = L[i]\n",
    "            mi = i\n",
    "            for j in range(i, len(L)):\n",
    "                if L[j]>mv:\n",
    "                    mv=L[j]\n",
    "                    mi=j\n",
    "            ov = L[i]\n",
    "            L[i] = mv\n",
    "            L[mi] = ov\n",
    "    \n",
    "getsortlist(L, 'desc')\n",
    "print(L)\n",
    "    "
   ]
  },
  {
   "cell_type": "code",
   "execution_count": null,
   "id": "e7bbc2e1",
   "metadata": {},
   "outputs": [],
   "source": []
  }
 ],
 "metadata": {
  "kernelspec": {
   "display_name": "Python 3 (ipykernel)",
   "language": "python",
   "name": "python3"
  },
  "language_info": {
   "codemirror_mode": {
    "name": "ipython",
    "version": 3
   },
   "file_extension": ".py",
   "mimetype": "text/x-python",
   "name": "python",
   "nbconvert_exporter": "python",
   "pygments_lexer": "ipython3",
   "version": "3.9.12"
  }
 },
 "nbformat": 4,
 "nbformat_minor": 5
}
