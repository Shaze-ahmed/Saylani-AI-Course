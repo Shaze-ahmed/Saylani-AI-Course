{
 "cells": [
  {
   "cell_type": "code",
   "execution_count": 1,
   "id": "5fc7f6c9",
   "metadata": {},
   "outputs": [],
   "source": [
    "def fibonacci(num1,num2):\n",
    "\n",
    "  fibonacci_list =[]\n",
    "\n",
    "  count = 0\n",
    "\n",
    "  num3 = int(input(\"Please enter a number between 2 and 15: \"))\n",
    "\n",
    "  fibonacci_list.append(num1)\n",
    "\n",
    "  fibonacci_list.append(num2)\n",
    "\n",
    "  # check if the number of terms is valid\n",
    "  if not (num3 >=2 and num3 <=15):\n",
    "    print(\"Please enter a number between 2 and 15\")\n",
    "  # if there is only one term, return n1\n",
    "  elif num3 == 1:\n",
    "    print(\"Fibonacci sequence upto\",num3,\":\")\n",
    "    print(num1)\n",
    "  # generate fibonacci sequence\n",
    "  else:\n",
    "    print(\"Fibonacci sequence: \\n\")\n",
    "\n",
    "    print(\"First 2 Numbers in the List: \" , fibonacci_list , '\\n')\n",
    "    #num3 +=1\n",
    "    while count < num3:\n",
    "        print(num1)\n",
    "        nth = num1 + num2\n",
    "        # update values\n",
    "        num1 = num2\n",
    "        num2 = nth\n",
    "        count += 1"
   ]
  },
  {
   "cell_type": "code",
   "execution_count": 6,
   "id": "4ab859ee",
   "metadata": {},
   "outputs": [
    {
     "name": "stdout",
     "output_type": "stream",
     "text": [
      "Please enter a number between 2 and 15: 10\n",
      "Fibonacci sequence: \n",
      "\n",
      "First 2 Numbers in the List:  [2, 2] \n",
      "\n",
      "2\n",
      "2\n",
      "4\n",
      "6\n",
      "10\n",
      "16\n",
      "26\n",
      "42\n",
      "68\n",
      "110\n"
     ]
    }
   ],
   "source": [
    "fibonacci(2,2)"
   ]
  },
  {
   "cell_type": "code",
   "execution_count": null,
   "id": "be56009a",
   "metadata": {},
   "outputs": [],
   "source": []
  }
 ],
 "metadata": {
  "kernelspec": {
   "display_name": "Python 3 (ipykernel)",
   "language": "python",
   "name": "python3"
  },
  "language_info": {
   "codemirror_mode": {
    "name": "ipython",
    "version": 3
   },
   "file_extension": ".py",
   "mimetype": "text/x-python",
   "name": "python",
   "nbconvert_exporter": "python",
   "pygments_lexer": "ipython3",
   "version": "3.9.12"
  }
 },
 "nbformat": 4,
 "nbformat_minor": 5
}
