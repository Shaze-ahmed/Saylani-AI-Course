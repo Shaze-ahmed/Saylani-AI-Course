{
 "cells": [
  {
   "cell_type": "code",
   "execution_count": 2,
   "id": "a485947c",
   "metadata": {},
   "outputs": [
    {
     "name": "stdout",
     "output_type": "stream",
     "text": [
      "Enter User Name : shah\n",
      "Password: ········\n",
      "Welcome to Shahzad Ahmed\n"
     ]
    }
   ],
   "source": [
    "import getpass\n",
    "\n",
    "list = [['shah','p1', 'Shahzad Ahmed'],\n",
    "        ['saad','p2', 'Muhamamd Saad'],\n",
    "        ['iqbal','p3', 'Iqbal Ahmed'],\n",
    "        ['ahmed','p4', 'Syed Ahmed']\n",
    "       ]\n",
    "\n",
    "out = 'Invalid User Name'\n",
    "uname = input(\"Enter User Name : \")\n",
    "upass = getpass.getpass(prompt='Password: ', stream=None) \n",
    "\n",
    "\n",
    "for lst in list:\n",
    "    if lst[0] == uname and lst[1] == upass:\n",
    "        out = \"Welcome to \" + lst[2]\n",
    "        \n",
    "print(out)"
   ]
  },
  {
   "cell_type": "code",
   "execution_count": 63,
   "id": "02c153b5",
   "metadata": {},
   "outputs": [
    {
     "name": "stdout",
     "output_type": "stream",
     "text": [
      "Enter Values : djo\n",
      "['d', 'j', 'o']\n",
      "[0, 2, 3]\n",
      "[3, 1, 2]\n"
     ]
    }
   ],
   "source": [
    "list32 = [['a','b', 'c','d'],\n",
    "        ['e','f', 'g','h'],\n",
    "        ['i','j', 'k','l'],\n",
    "        ['m','n', 'o','p']]\n",
    "ulist = []\n",
    "uind1 = []\n",
    "uind2 = []\n",
    "uindx = ()\n",
    "xname = input(\"Enter Values : \")\n",
    "\n",
    "for u in xname:\n",
    "    for indx1, lst1 in enumerate(list32):\n",
    "        for indx2, lst2 in enumerate(lst1):\n",
    "            if u == lst2:\n",
    "                ulist.append(u)\n",
    "                uind1.append(indx1)\n",
    "                uind2.append(indx2)\n",
    "            \n",
    "print(ulist)\n",
    "print(uind1)\n",
    "print(uind2)"
   ]
  },
  {
   "cell_type": "code",
   "execution_count": 2,
   "id": "72d585c6",
   "metadata": {},
   "outputs": [
    {
     "name": "stdout",
     "output_type": "stream",
     "text": [
      "Enter Values : qasim\n",
      "[['q', (4, 0)], ['a', (0, 0)], ['s', (4, 2)], ['i', (2, 0)], ['m', (3, 0)]]\n"
     ]
    }
   ],
   "source": [
    "list = [['a','b', 'c','d'],\n",
    "        ['e','f', 'g','h'],\n",
    "        ['i','j', 'k','l'],\n",
    "        ['m','n', 'o','p'],\n",
    "        ['q','r','s','t'],\n",
    "        ['u','v','w','x'],\n",
    "        ['y','z']]\n",
    "flist = []\n",
    "ulist = []\n",
    "uind1 = []\n",
    "uindx = []\n",
    "xname = input(\"Enter Values : \")\n",
    "\n",
    "if xname.isalpha():\n",
    "    for u in xname.lower():\n",
    "        for indx1, lst1 in enumerate(list):\n",
    "            for indx2, lst2 in enumerate(lst1):\n",
    "                if u == lst2:\n",
    "                    ulist.append(u)\n",
    "                    uind1.append(indx1)\n",
    "                    uind1.append(indx2)\n",
    "                    uindx = tuple(uind1)\n",
    "                    ulist.append(uindx)\n",
    "                    flist.append(ulist)\n",
    "                    ulist = []\n",
    "                    uind1 = []   \n",
    "    print(flist)\n",
    "else:\n",
    "    print(\"Invalid Entry\")\n"
   ]
  },
  {
   "cell_type": "code",
   "execution_count": 3,
   "id": "526c2c78",
   "metadata": {},
   "outputs": [
    {
     "ename": "SyntaxError",
     "evalue": "'return' outside function (630420363.py, line 1)",
     "output_type": "error",
     "traceback": [
      "\u001b[1;36m  Input \u001b[1;32mIn [3]\u001b[1;36m\u001b[0m\n\u001b[1;33m    return(tuple(1,2))\u001b[0m\n\u001b[1;37m    ^\u001b[0m\n\u001b[1;31mSyntaxError\u001b[0m\u001b[1;31m:\u001b[0m 'return' outside function\n"
     ]
    }
   ],
   "source": [
    "return(tuple(1,2))"
   ]
  },
  {
   "cell_type": "code",
   "execution_count": null,
   "id": "109f98af",
   "metadata": {},
   "outputs": [],
   "source": []
  }
 ],
 "metadata": {
  "kernelspec": {
   "display_name": "Python 3 (ipykernel)",
   "language": "python",
   "name": "python3"
  },
  "language_info": {
   "codemirror_mode": {
    "name": "ipython",
    "version": 3
   },
   "file_extension": ".py",
   "mimetype": "text/x-python",
   "name": "python",
   "nbconvert_exporter": "python",
   "pygments_lexer": "ipython3",
   "version": "3.9.12"
  }
 },
 "nbformat": 4,
 "nbformat_minor": 5
}
