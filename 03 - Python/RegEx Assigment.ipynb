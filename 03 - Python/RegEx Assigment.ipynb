{
 "cells": [
  {
   "cell_type": "code",
   "execution_count": 1,
   "id": "e9b26c9c",
   "metadata": {},
   "outputs": [],
   "source": [
    "with open(\"wchat.txt\") as file: \n",
    "    fdata = file.read()"
   ]
  },
  {
   "cell_type": "code",
   "execution_count": 2,
   "id": "66ec8f90",
   "metadata": {},
   "outputs": [
    {
     "name": "stdout",
     "output_type": "stream",
     "text": [
      "[11:05 pm, 05/08/2022] iQo: Iqbal Ahmed AI-46214 03453113993 iq.ahmed91@gmail.com\n",
      "[11:12 pm, 05/08/2022] Muhammad Saad AI: Muhammad Saad: AI46190 03043184681: sm.saad50@gmail.com\n",
      "[11:12 pm, 05/08/2022] Shahzad IBT: Shahzad Ahmed : AI-46165 - 03002303175 - shaze.ahmed@gmail.com\n",
      "[11:12 pm, 05/08/2022] +92 315 2935701: name: Sami rollno:AI- 40483 email: samikhan2872@gmail.com mobile-no:03152935701\n",
      "[11:13 pm, 05/08/2022] +92 334 2995610: Talha Mehfooz, AI-40211 email: khurshaiditm47@gmail.com , mobile: 03342995610\n",
      "[11:13 pm, 05/08/2022] +92 335 3271054: Muhammad Mohsin: AI-53993\n",
      "Email: mohsinsheikh0700@gmail.com\n",
      "No: 03353271054\n",
      "[11:13 pm, 05/08/2022] +92 345 2541450: Hidayat ur Rehman : AI-6546 email: abc@gmail.com\n",
      "[11:13 pm, 05/08/2022] +92 316 2688657: Muhammad Faizan: AI 40939\n",
      "faizanwaseem476@gmail.com\n",
      "[11:13 pm, 05/08/2022] +92 344 2226632: Name: Saad Ahmed\n",
      "RollNo: AI-47242\n",
      "Email: hello.saad96@gmail.com\n",
      "[11:13 pm, 05/08/2022] +92 313 1145255: Gulzar :\n",
      "AI-20145\n",
      "Email:hafizgulzar.alm1996@gmail.com\n",
      "Mobile no. 03131134244\n",
      "[11:13 pm, 05/08/2022] +92 323 2900066: Abdul Rasheed AI-40154\n",
      "email: abdulrasheed2511gmail.com\n",
      "[11:14 pm, 05/08/2022] +92 315 3727169: Muhammad Zeeshan : AI-400250 \n",
      "Email: abc@gmail.com\n",
      "Mobile no: 03153727169\n",
      "[11:14 pm, 05/08/2022] +92 342 3392795: Ahmed saleem :AI-44378\n",
      "Email: ahmedsaleem2122@gmail.com\n",
      "Mobile no:0342-3392795\n",
      "[11:14 pm, 05/08/2022] M. Ali Nasir CR AI: Name : Ali Nasir \n",
      "Roll No: 44365 \n",
      "NIC: 42101-9864676-7 \n",
      "Email: malinasir1997@gmail.com \n",
      "Mobile No: 0331-2147373\n",
      "[11:14 pm, 05/08/2022] +92 333 3120597: Name : Hamza Ahmed Ansari Roll number : AI-40591 Email : ibneshakeel2000@gmail.com Mobile number : 03333120597\n",
      "[11:14 pm, 05/08/2022] +92 316 1448439: name: Zubair\n",
      "roll no: AI- 40200 \n",
      "email: zubairrasheed0316@gmail.com \n",
      "mobile-no: 03161448439\n",
      "[11:14 pm, 05/08/2022] +92 315 2185186: Name: Irfan Roll Number: AI-45055 email: irfanmuhammadk786@gmail.com Mobile Number: 03152185186\n",
      "[11:15 pm, 05/08/2022] +92 312 2093412: Basharat Ali :AI-46716\n",
      "Email: basharatfarhad24@gmail.com\n",
      "Mobile no:03122093412\n",
      "[11:15 pm, 05/08/2022] +92 344 1802958: Name: Muhammad usama\n",
      "Roll no : AI-43985\n",
      "Mobile no : 03441802958\n",
      "Email : usamakh315@gmail.com\n",
      "[11:15 pm, 05/08/2022] +92 312 8525358: Faraz uddin : AI-44226- 03128525358 - asbausmuhammad92@gmail.com\n",
      "[11:15 pm, 05/08/2022] +92 334 3523966: Name: Syed Muhammad Mooazam , Roll No: AI-40222 , Mobile Number: +923343523966\n",
      "[11:15 pm, 05/08/2022] +92 324 2824117: Name : Abdul Sami  Roll number : AI-40352 Email : abdulsamiarain82@gmail.com Mobile number : 03242824117\n",
      "[11:16 pm, 05/08/2022] +92 312 2296999: Umair Taqi : AI-46155 - 03122296999 - umairtaqi48@gmail.com\n",
      "[11:16 pm, 05/08/2022] +92 323 2553599: Name: Atiq Raza\n",
      "ID : AI-42612\n",
      "Email : razaatiq05@gmail.com\n",
      "Mobile No: 03232553599\n",
      "[11:16 pm, 05/08/2022] +92 334 0378290: Ahsan Uddin\n",
      "AI-43505\n",
      "0334-0378290\n",
      "[11:16 pm, 05/08/2022] M. FURQAN CR AI: Name: Muhammad Furqan\n",
      "Roll no:AI-40277\n",
      "Email: furqansawati@gmail.com\n",
      "Mobile no:03120004695\n",
      "[11:17 pm, 05/08/2022] +92 306 2462926: Name: Syed Salman Ali , Roll No: AI-40969 , Mobile Number: +923062462926\n",
      "[11:17 pm, 05/08/2022] +92 309 2655755: Name: Syed Muhammad Daniyal Azam\n",
      "Roll number: AI-47456\n",
      "Num: 03092655755\n",
      "Email : daniyalazam19@gmail.com\n",
      "[11:17 pm, 05/08/2022] +92 302 8289423: Mehmood AI-41824 03028289423 mahmoodsuleman@hotmail.com"
     ]
    }
   ],
   "source": [
    "print(fdata, end=\"\")"
   ]
  },
  {
   "cell_type": "code",
   "execution_count": 3,
   "id": "d94be702",
   "metadata": {},
   "outputs": [],
   "source": [
    "import re"
   ]
  },
  {
   "cell_type": "code",
   "execution_count": 4,
   "id": "d94e7ba2",
   "metadata": {},
   "outputs": [
    {
     "name": "stdout",
     "output_type": "stream",
     "text": [
      "0 iq.ahmed91@gmail.com\n",
      "1 sm.saad50@gmail.com\n",
      "2 shaze.ahmed@gmail.com\n",
      "3 samikhan2872@gmail.com\n",
      "4 khurshaiditm47@gmail.com\n",
      "5 mohsinsheikh0700@gmail.com\n",
      "6 abc@gmail.com\n",
      "7 faizanwaseem476@gmail.com\n",
      "8 hello.saad96@gmail.com\n",
      "9 hafizgulzar.alm1996@gmail.com\n",
      "10 abc@gmail.com\n",
      "11 ahmedsaleem2122@gmail.com\n",
      "12 malinasir1997@gmail.com\n",
      "13 ibneshakeel2000@gmail.com\n",
      "14 zubairrasheed0316@gmail.com\n",
      "15 irfanmuhammadk786@gmail.com\n",
      "16 basharatfarhad24@gmail.com\n",
      "17 usamakh315@gmail.com\n",
      "18 asbausmuhammad92@gmail.com\n",
      "19 abdulsamiarain82@gmail.com\n",
      "20 umairtaqi48@gmail.com\n",
      "21 razaatiq05@gmail.com\n",
      "22 furqansawati@gmail.com\n",
      "23 daniyalazam19@gmail.com\n",
      "24 mahmoodsuleman@hotmail.com\n"
     ]
    }
   ],
   "source": [
    "email = re.findall(\"[A-z0-9.]+@\\w+\\.\\w+\", fdata)\n",
    "for i, j in enumerate(email):\n",
    "    print(i, j)"
   ]
  },
  {
   "cell_type": "code",
   "execution_count": 5,
   "id": "88b77e1c",
   "metadata": {},
   "outputs": [
    {
     "name": "stdout",
     "output_type": "stream",
     "text": [
      "0 AI-46214\n",
      "1 AI-46165\n",
      "2 AI-40211\n",
      "3 AI-53993\n",
      "4 AI-47242\n",
      "5 AI-20145\n",
      "6 AI-40154\n",
      "7 AI-40025\n",
      "8 AI-44378\n",
      "9 AI-40591\n",
      "10 AI-45055\n",
      "11 AI-46716\n",
      "12 AI-43985\n",
      "13 AI-44226\n",
      "14 AI-40222\n",
      "15 AI-40352\n",
      "16 AI-46155\n",
      "17 AI-42612\n",
      "18 AI-43505\n",
      "19 AI-40277\n",
      "20 AI-40969\n",
      "21 AI-47456\n",
      "22 AI-41824\n"
     ]
    }
   ],
   "source": [
    "roll = re.findall(\"([AI]+-\\d{5})\", fdata)\n",
    "for i, j in enumerate(roll):\n",
    "    print(i, j)"
   ]
  },
  {
   "cell_type": "code",
   "execution_count": 6,
   "id": "c4f5ac4f",
   "metadata": {},
   "outputs": [
    {
     "name": "stdout",
     "output_type": "stream",
     "text": [
      "0 03453113993\n",
      "1 03043184681\n",
      "2 03002303175\n",
      "3 +92 315 2935701\n",
      "4 03152935701\n",
      "5 +92 334 2995610\n",
      "6 03342995610\n",
      "7 +92 335 3271054\n",
      "8 03353271054\n",
      "9 +92 345 2541450\n",
      "10 +92 316 2688657\n",
      "11 +92 344 2226632\n",
      "12 +92 313 1145255\n",
      "13 03131134244\n",
      "14 +92 323 2900066\n",
      "15 +92 315 3727169\n",
      "16 03153727169\n",
      "17 +92 342 3392795\n",
      "18 +92 333 3120597\n",
      "19 03333120597\n",
      "20 +92 316 1448439\n",
      "21 03161448439\n",
      "22 +92 315 2185186\n",
      "23 03152185186\n",
      "24 +92 312 2093412\n",
      "25 03122093412\n",
      "26 +92 344 1802958\n",
      "27 03441802958\n",
      "28 +92 312 8525358\n",
      "29 03128525358\n",
      "30 +92 334 3523966\n",
      "31 +92 324 2824117\n",
      "32 03242824117\n",
      "33 +92 312 2296999\n",
      "34 03122296999\n",
      "35 +92 323 2553599\n",
      "36 03232553599\n",
      "37 +92 334 0378290\n",
      "38 03120004695\n",
      "39 +92 306 2462926\n",
      "40 +92 309 2655755\n",
      "41 03092655755\n",
      "42 +92 302 8289423\n",
      "43 03028289423\n"
     ]
    }
   ],
   "source": [
    "mob = re.findall(r\"\\b03\\d{8,9}|\\+\\d*\\s\\d*\\s\\d*\", fdata)\n",
    "for i, j in enumerate(mob):\n",
    "    print(i, j)"
   ]
  },
  {
   "cell_type": "code",
   "execution_count": 7,
   "id": "3379c449",
   "metadata": {},
   "outputs": [
    {
     "ename": "SyntaxError",
     "evalue": "unexpected character after line continuation character (3899710745.py, line 1)",
     "output_type": "error",
     "traceback": [
      "\u001b[1;36m  Input \u001b[1;32mIn [7]\u001b[1;36m\u001b[0m\n\u001b[1;33m    \\b03\\d*[-]?\\d*|\\+\\d*\\s\\d*\\s\\d*\u001b[0m\n\u001b[1;37m     ^\u001b[0m\n\u001b[1;31mSyntaxError\u001b[0m\u001b[1;31m:\u001b[0m unexpected character after line continuation character\n"
     ]
    }
   ],
   "source": [
    "\\b03\\d*[-]?\\d*|\\+\\d*\\s\\d*\\s\\d*"
   ]
  },
  {
   "cell_type": "code",
   "execution_count": null,
   "id": "cd1d1903",
   "metadata": {},
   "outputs": [],
   "source": [
    "# name = re.findall(r\"\\b[A-Z]\\w+\\s[A-Z]\\w+\", fdata)\n",
    "name = re.findall(r\"\\b[A-Z]\\w+\\s[A-Z]\\w+\", fdata)\n",
    "\n",
    "for i, j in enumerate(name):\n",
    "    print(i, j)"
   ]
  },
  {
   "cell_type": "code",
   "execution_count": null,
   "id": "73d03612",
   "metadata": {},
   "outputs": [],
   "source": [
    "wd = '''[11:05 pm, 05/08/2022] iQo: Iqbal Ahmed AI-46214 03453113993 iq.ahmed91@gmail.com\n",
    "[11:12 pm, 05/08/2022] Muhammad Saad AI: Muhammad Saad: AI46190 03043184681: sm.saad50@gmail.com\n",
    "[11:12 pm, 05/08/2022] Shahzad IBT: Shahzad Ahmed : AI-46165 - 03002303175 - shaze.ahmed@gmail.com\n",
    "[11:12 pm, 05/08/2022] +92 315 2935701: name: Sami rollno:AI- 40483 email: samikhan2872@gmail.com mobile-no:03152935701\n",
    "[11:13 pm, 05/08/2022] +92 334 2995610: Talha Mehfooz, AI-40211 email: khurshaiditm47@gmail.com , mobile: 03342995610\n",
    "[11:13 pm, 05/08/2022] +92 335 3271054: Muhammad Mohsin: AI-53993\n",
    "Email: mohsinsheikh0700@gmail.com\n",
    "No: 03353271054\n",
    "[11:13 pm, 05/08/2022] +92 345 2541450: Hidayat ur Rehman : AI-6546 email: abc@gmail.com\n",
    "[11:13 pm, 05/08/2022] +92 316 2688657: Muhammad Faizan: AI 40939\n",
    "faizanwaseem476@gmail.com\n",
    "[11:13 pm, 05/08/2022] +92 344 2226632: Name: Saad Ahmed'''"
   ]
  },
  {
   "cell_type": "code",
   "execution_count": null,
   "id": "7dfe458e",
   "metadata": {},
   "outputs": [],
   "source": [
    "print(wd, end='')"
   ]
  },
  {
   "cell_type": "code",
   "execution_count": null,
   "id": "03a3df43",
   "metadata": {},
   "outputs": [],
   "source": [
    "dem = re.findall(\"[A-z]*\\s[A-z\\b]+\", wd)\n",
    "print(dem)"
   ]
  },
  {
   "cell_type": "code",
   "execution_count": null,
   "id": "3560eac0",
   "metadata": {},
   "outputs": [],
   "source": [
    "# print(name)\n",
    "# print(roll)\n",
    "# print(mob)\n",
    "# print(email)\n",
    "# dictionary = dict(zip(list1, list2))\n",
    "x = 'Rollnum'\n",
    "mydict = dict(zip(x, roll))\n",
    "print(mydict)"
   ]
  },
  {
   "cell_type": "code",
   "execution_count": null,
   "id": "b8da83dd",
   "metadata": {},
   "outputs": [],
   "source": [
    "x = 'RollNum'\n",
    "mydict = {i:i for i in roll}"
   ]
  },
  {
   "cell_type": "code",
   "execution_count": null,
   "id": "56f97747",
   "metadata": {},
   "outputs": [],
   "source": [
    "print(mydict)"
   ]
  },
  {
   "cell_type": "code",
   "execution_count": null,
   "id": "33900dfe",
   "metadata": {},
   "outputs": [],
   "source": [
    "xx = dict()\n",
    "x = 'RollNum'\n",
    "for i in roll:\n",
    "    xx[x] = i"
   ]
  },
  {
   "cell_type": "code",
   "execution_count": null,
   "id": "48fccae9",
   "metadata": {},
   "outputs": [],
   "source": [
    "print(xx)"
   ]
  },
  {
   "cell_type": "code",
   "execution_count": null,
   "id": "641a076a",
   "metadata": {},
   "outputs": [],
   "source": [
    "testdict = {'RollNum':roll,\n",
    "            'name':name,\n",
    "            'mobile':mob,\n",
    "            'email':email}"
   ]
  },
  {
   "cell_type": "code",
   "execution_count": null,
   "id": "2c60a67b",
   "metadata": {},
   "outputs": [],
   "source": [
    "{k:len(v) for k,v in testdict.items()}"
   ]
  },
  {
   "cell_type": "code",
   "execution_count": null,
   "id": "6513919e",
   "metadata": {},
   "outputs": [],
   "source": [
    "df = pd.DataFrame({k:pd.Series(v) for k,v in testdict.items()})\n",
    "print(df)"
   ]
  },
  {
   "cell_type": "code",
   "execution_count": null,
   "id": "65e826ee",
   "metadata": {},
   "outputs": [],
   "source": [
    "import pandas as pd\n",
    "df = pd.DataFrame(testdict)"
   ]
  },
  {
   "cell_type": "code",
   "execution_count": null,
   "id": "a1f5c8f1",
   "metadata": {},
   "outputs": [],
   "source": [
    "print(df)"
   ]
  },
  {
   "cell_type": "code",
   "execution_count": null,
   "id": "d33a7380",
   "metadata": {},
   "outputs": [],
   "source": [
    "for ind, i in enumerate(name):\n",
    "    if i in ('Roll No','Mobile No','Mobile Number'):\n",
    "        print('here')\n",
    "        name.remove(i)\n",
    "    print(ind, i)"
   ]
  },
  {
   "cell_type": "code",
   "execution_count": null,
   "id": "cc82cab4",
   "metadata": {},
   "outputs": [],
   "source": []
  }
 ],
 "metadata": {
  "kernelspec": {
   "display_name": "Python 3 (ipykernel)",
   "language": "python",
   "name": "python3"
  },
  "language_info": {
   "codemirror_mode": {
    "name": "ipython",
    "version": 3
   },
   "file_extension": ".py",
   "mimetype": "text/x-python",
   "name": "python",
   "nbconvert_exporter": "python",
   "pygments_lexer": "ipython3",
   "version": "3.9.12"
  }
 },
 "nbformat": 4,
 "nbformat_minor": 5
}
