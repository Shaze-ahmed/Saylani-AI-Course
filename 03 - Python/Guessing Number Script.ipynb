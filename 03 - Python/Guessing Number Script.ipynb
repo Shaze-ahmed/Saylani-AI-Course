{
 "cells": [
  {
   "cell_type": "code",
   "execution_count": null,
   "id": "18c3bb71",
   "metadata": {},
   "outputs": [],
   "source": [
    "import random\n",
    "\n",
    "def UserGuessNumber(x):\n",
    "    rnumber = random.randint(1, x)\n",
    "    gnumber = 0\n",
    "    while gnumber != rnumber:        \n",
    "        gnumber = int(input(f'Please Guess the number between 1 and {x} : '))\n",
    "        \n",
    "        if gnumber < rnumber:            \n",
    "            print(f'Sorry, Guess Number {gnumber} is too Low!!!')\n",
    "        elif gnumber > rnumber:\n",
    "            print(f'Sorry, Guess Number {gnumber} is too High!!!')\n",
    "                  \n",
    "    print(f'Yoooooo!! You Guess the Number {rnumber} Correctly !!!')\n",
    "\n",
    "                  \n",
    "UserGuessNumber(10)\n",
    "                "
   ]
  },
  {
   "cell_type": "code",
   "execution_count": null,
   "id": "6c3e1995",
   "metadata": {},
   "outputs": [],
   "source": [
    "import random\n",
    "\n",
    "def ComputerGuessNumber(x):\n",
    "    low = 1\n",
    "    high = x\n",
    "    feedback = 'X'\n",
    "    \n",
    "    while feedback.upper() != 'C':        \n",
    "        if low != high:\n",
    "            gnumber = random.randint(low, high)\n",
    "        else:\n",
    "            gnumber -= 1\n",
    "            break\n",
    "        feedback = input(f'If {gnumber} is High !! Enter H , is Low !! Enter L or is Corrent !! Enter C : ')\n",
    "        if feedback.upper() == 'H':\n",
    "            high = gnumber -1\n",
    "        elif feedback.upper() == 'L':\n",
    "            low = gnumber + 1\n",
    "        \n",
    "    print()\n",
    "    print(f'Yooooo!!!!! Your Guess Number is {gnumber} !!!')\n",
    "\n",
    "ComputerGuessNumber(10)"
   ]
  },
  {
   "cell_type": "code",
   "execution_count": null,
   "id": "ef82d020",
   "metadata": {},
   "outputs": [],
   "source": []
  },
  {
   "cell_type": "code",
   "execution_count": null,
   "id": "ba8632f8",
   "metadata": {},
   "outputs": [],
   "source": []
  }
 ],
 "metadata": {
  "kernelspec": {
   "display_name": "Python 3 (ipykernel)",
   "language": "python",
   "name": "python3"
  },
  "language_info": {
   "codemirror_mode": {
    "name": "ipython",
    "version": 3
   },
   "file_extension": ".py",
   "mimetype": "text/x-python",
   "name": "python",
   "nbconvert_exporter": "python",
   "pygments_lexer": "ipython3",
   "version": "3.9.12"
  }
 },
 "nbformat": 4,
 "nbformat_minor": 5
}
