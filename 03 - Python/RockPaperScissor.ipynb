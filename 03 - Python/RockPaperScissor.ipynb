{
 "cells": [
  {
   "cell_type": "code",
   "execution_count": 16,
   "id": "68b98cd9",
   "metadata": {},
   "outputs": [
    {
     "data": {
      "text/plain": [
       "'\\nRock / Scissor = Rock Win  1 = Rock\\nPaper / Rock  = Paper Win   2 - Paper\\nScissor / Paper  = Scissor Win  3 - Scissor\\n'"
      ]
     },
     "execution_count": 16,
     "metadata": {},
     "output_type": "execute_result"
    }
   ],
   "source": [
    "import random\n",
    "Game = ['Rock','Paper',\"Scissor\"]\n",
    "'''\n",
    "Rock / Scissor = Rock Win  1 = Rock\n",
    "Paper / Rock  = Paper Win   2 - Paper\n",
    "Scissor / Paper  = Scissor Win  3 - Scissor\n",
    "'''"
   ]
  },
  {
   "cell_type": "code",
   "execution_count": 27,
   "id": "f0b64c78",
   "metadata": {},
   "outputs": [
    {
     "name": "stdout",
     "output_type": "stream",
     "text": [
      "Game Start!!! 1 -- Play Game  2 -- Exit Game 1\n",
      "\n",
      "Select 1 for Rock, 2 for Paper, 3 for Scissor1\n",
      "\n",
      "Computer Select :  Scissor\n",
      "You Select :  Rock\n",
      "You Won!!!!\n",
      "\n",
      "Select 1 for Rock, 2 for Paper, 3 for Scissor2\n",
      "\n",
      "Computer Select :  Rock\n",
      "You Select :  Paper\n",
      "You Won!!!!\n",
      "\n",
      "Select 1 for Rock, 2 for Paper, 3 for Scissor3\n",
      "\n",
      "Computer Select :  Rock\n",
      "You Select :  Scissor\n",
      "You Lose!!!\n",
      "\n",
      "Your Score :  2  and Computer Score :  1\n",
      "Hurry!!!! You Wan the Game !!!!\n",
      "Game Start!!! 1 -- Play Game  2 -- Exit Game 2\n"
     ]
    }
   ],
   "source": [
    "while True:\n",
    "    cCount = 0\n",
    "    uCount = 0\n",
    "    uOut = \"\"\n",
    "    ug = int(input('Game Start!!! 1 -- Play Game  2 -- Exit Game '''))\n",
    "    if ug == 1:\n",
    "        for x in range(1, 4):\n",
    "            print()\n",
    "            uSelect = int(input(\"Select 1 for Rock, 2 for Paper, 3 for Scissor\"))\n",
    "            print()\n",
    "            if uSelect==1:\n",
    "                userChoice = 'Rock'\n",
    "            elif uSelect ==2:\n",
    "                userChoice = 'Paper'\n",
    "            else:\n",
    "                userChoice = 'Scissor'\n",
    "            cChoice = random.choice(Game)\n",
    "            print(\"Computer Select : \", cChoice)\n",
    "            print(\"You Select : \",userChoice)\n",
    "            if userChoice==cChoice:                \n",
    "                print(\"Round is Draw!!!!\")\n",
    "                #cCount+=1\n",
    "                #uCount+=1\n",
    "            elif (userChoice == 'Rock' and cChoice == 'Scissor') or (userChoice == 'Paper' and cChoice == 'Rock') or (userChoice == 'Scissor' and cChoice == 'Paper'):\n",
    "                print(\"You Won!!!!\")\n",
    "                uCount+=1\n",
    "            else:\n",
    "                print(\"You Lose!!!\")\n",
    "                cCount+=1\n",
    "        \n",
    "        if uCount==cCount:\n",
    "            uOut= \"Game is Draw !!!!\"          \n",
    "        elif uCount>cCount:\n",
    "            uOut= \"Hurry!!!! You Won the Game !!!!\"\n",
    "            \n",
    "        else:\n",
    "            uOut= \"Ohhh!!! You Lose the Game !!!!\"\n",
    "                  \n",
    "        print()\n",
    "        print(\"Your Score : \", uCount, \" and Computer Score : \", cCount)\n",
    "        print(uOut)\n",
    "                 \n",
    "               \n",
    "            \n",
    "    else:\n",
    "        break"
   ]
  },
  {
   "cell_type": "code",
   "execution_count": null,
   "id": "ec661538",
   "metadata": {},
   "outputs": [],
   "source": []
  },
  {
   "cell_type": "code",
   "execution_count": null,
   "id": "7b0f445d",
   "metadata": {},
   "outputs": [],
   "source": []
  }
 ],
 "metadata": {
  "kernelspec": {
   "display_name": "Python 3 (ipykernel)",
   "language": "python",
   "name": "python3"
  },
  "language_info": {
   "codemirror_mode": {
    "name": "ipython",
    "version": 3
   },
   "file_extension": ".py",
   "mimetype": "text/x-python",
   "name": "python",
   "nbconvert_exporter": "python",
   "pygments_lexer": "ipython3",
   "version": "3.9.12"
  }
 },
 "nbformat": 4,
 "nbformat_minor": 5
}
