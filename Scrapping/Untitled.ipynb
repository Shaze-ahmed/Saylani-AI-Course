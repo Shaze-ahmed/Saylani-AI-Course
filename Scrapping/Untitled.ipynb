{
 "cells": [
  {
   "cell_type": "code",
   "execution_count": 1,
   "id": "e2a0c91b",
   "metadata": {},
   "outputs": [],
   "source": [
    "import requests\n",
    "from bs4 import BeautifulSoup as soup\n",
    "header = {'User-Agent': 'Mozilla/5.0 (Windows NT 10.0; WOW64) AppleWebKit/537.36 (KHTML, like Gecko) Chrome/83.0.4103.61 Safari/537.36'}\n",
    "#create a url list to scrape data from all pages\n",
    "url_list = []\n",
    "for i in range(1,26):\n",
    "  url_list.append('https://www.walmart.com/browse/personal-care/hand-soap/1005862_1001719?page=' + str(i))"
   ]
  },
  {
   "cell_type": "code",
   "execution_count": 2,
   "id": "42f41510",
   "metadata": {},
   "outputs": [
    {
     "data": {
      "text/html": [
       "<div>\n",
       "<style scoped>\n",
       "    .dataframe tbody tr th:only-of-type {\n",
       "        vertical-align: middle;\n",
       "    }\n",
       "\n",
       "    .dataframe tbody tr th {\n",
       "        vertical-align: top;\n",
       "    }\n",
       "\n",
       "    .dataframe thead th {\n",
       "        text-align: right;\n",
       "    }\n",
       "</style>\n",
       "<table border=\"1\" class=\"dataframe\">\n",
       "  <thead>\n",
       "    <tr style=\"text-align: right;\">\n",
       "      <th></th>\n",
       "      <th>Product_Name</th>\n",
       "      <th>Price</th>\n",
       "      <th>Rating</th>\n",
       "      <th>No_Of_Reviews</th>\n",
       "    </tr>\n",
       "  </thead>\n",
       "  <tbody>\n",
       "  </tbody>\n",
       "</table>\n",
       "</div>"
      ],
      "text/plain": [
       "Empty DataFrame\n",
       "Columns: [Product_Name, Price, Rating, No_Of_Reviews]\n",
       "Index: []"
      ]
     },
     "execution_count": 2,
     "metadata": {},
     "output_type": "execute_result"
    }
   ],
   "source": [
    "item_names = []\n",
    "price_list = []\n",
    "item_ratings = []\n",
    "item_reviews = []\n",
    "for url in url_list:\n",
    "  result = requests.get(url)\n",
    "  bsobj = soup(result.content,'lxml')\n",
    "  \n",
    "  product_name = bsobj.findAll('div',{'class':'search-result-product-title gridview'})\n",
    "  product_rating = bsobj.findAll('span',{'class':'seo-avg-rating'})\n",
    "  product_reviews = bsobj.findAll('span',{'class':'stars-reviews-count'})\n",
    "  product_price = bsobj.findAll('span',{'class':'price display-inline-block arrange-fit price price-main'})\n",
    "  for names,rating,reviews,price in zip(product_name,product_rating,product_reviews,product_price):\n",
    "    item_names.append(names.a.span.text.strip())\n",
    "    item_ratings.append(rating.text)\n",
    "    item_reviews.append(reviews.text.replace('ratings',''))\n",
    "    price_list.append(price.findAll('span',{'class':'visuallyhidden'})[0].text)\n",
    "# creating a dataframe \n",
    "import pandas as pd\n",
    "df = pd.DataFrame({'Product_Name':item_names, 'Price':price_list, 'Rating':item_ratings,'No_Of_Reviews':item_reviews}, columns=['Product_Name', 'Price', 'Rating', 'No_Of_Reviews'])\n",
    "df.head()"
   ]
  },
  {
   "cell_type": "code",
   "execution_count": 5,
   "id": "29acef87",
   "metadata": {},
   "outputs": [
    {
     "name": "stdout",
     "output_type": "stream",
     "text": [
      "Enter a city name: lahore\n",
      "An error occurred.\n"
     ]
    }
   ],
   "source": [
    "import requests\n",
    "\n",
    "API_KEY = \"f493235022f117443717201d55ff1d93\"\n",
    "BASE_URL = \"http://api.openweathermap.org/data/2.5/weather\"\n",
    "\n",
    "city = input(\"Enter a city name: \")\n",
    "request_url = f\"{BASE_URL}?appid={API_KEY}&q={city}\"\n",
    "response = requests.get(request_url)\n",
    "\n",
    "if response.status_code == 200:\n",
    "    data = response.json()\n",
    "    weather = data['weather'][0]['description']\n",
    "    temperature = round(data[\"main\"][\"temp\"] - 273.15, 2)\n",
    "\n",
    "    print(\"Weather:\", weather)\n",
    "    print(\"Temperature:\", temperature, \"celsius\")\n",
    "else:\n",
    "    print(\"An error occurred.\")"
   ]
  },
  {
   "cell_type": "code",
   "execution_count": null,
   "id": "4eac19db",
   "metadata": {},
   "outputs": [],
   "source": []
  },
  {
   "cell_type": "code",
   "execution_count": null,
   "id": "afe1670f",
   "metadata": {},
   "outputs": [],
   "source": []
  }
 ],
 "metadata": {
  "kernelspec": {
   "display_name": "Python 3 (ipykernel)",
   "language": "python",
   "name": "python3"
  },
  "language_info": {
   "codemirror_mode": {
    "name": "ipython",
    "version": 3
   },
   "file_extension": ".py",
   "mimetype": "text/x-python",
   "name": "python",
   "nbconvert_exporter": "python",
   "pygments_lexer": "ipython3",
   "version": "3.9.12"
  }
 },
 "nbformat": 4,
 "nbformat_minor": 5
}
