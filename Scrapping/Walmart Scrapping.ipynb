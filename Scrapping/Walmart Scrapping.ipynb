{
 "cells": [
  {
   "cell_type": "code",
   "execution_count": null,
   "id": "b8a05404",
   "metadata": {
    "scrolled": false
   },
   "outputs": [],
   "source": [
    "from bs4 import BeautifulSoup\n",
    "import requests\n",
    "\n",
    "url = 'https://www.walmart.com/browse/all-iphones/0/0/?_be_shelf_id=7778&_refineresult=true&facet=shelf_id%3A7778&redirectQuery=iphone&search_redirect=true&search_sort=100'\n",
    "result = requests.get(url)\n",
    "\n",
    "data = BeautifulSoup(result.content, \"lxml\")\n",
    "# doc =  BeautifulSoup(result.text, \"html.parser\")\n",
    " \n",
    "data"
   ]
  },
  {
   "cell_type": "code",
   "execution_count": 29,
   "id": "429bbf0c",
   "metadata": {},
   "outputs": [
    {
     "name": "stdout",
     "output_type": "stream",
     "text": [
      "[]\n"
     ]
    }
   ],
   "source": [
    "print(data.findAll('div', {'class':'relative'}))"
   ]
  },
  {
   "cell_type": "code",
   "execution_count": null,
   "id": "86f63e88",
   "metadata": {},
   "outputs": [],
   "source": [
    "<div class=\"\" data-testid=\"list-view\"><div class=\"\"><div class=\"h2 relative mb2\"></div><div class=\"relative\"><div class=\"relative overflow-hidden\" style=\"max-width:290px;height:0;padding-bottom:min(290px, 100%);align-self:center;width:min(290px, 100%)\"><span><button type=\"button\" data-automation-id=\"heart-item\" aria-label=\"Sign in to add to Favorites list, Verizon iPhone 13 Pro 128GB Silver\" class=\"bg-white pointer pa0 bn mt1 mr1 pa1 br4 absolute top-0 right-0 z-2\" style=\"width: 32px; height: 32px;\"><i class=\"ld ld-Heart  \" aria-hidden=\"true\" style=\"font-size: 1.5rem; vertical-align: -0.25em; padding-top: 1px;\"></i></button></span><img loading=\"lazy\" srcset=\"https://i5.walmartimages.com/asr/eda7a7a6-6e31-4b16-9e92-eb3d3ba321d4.cf136dbace62b8cd0dc0e9b9c21d68e6.jpeg?odnHeight=290&amp;odnWidth=290&amp;odnBg=FFFFFF 1x, https://i5.walmartimages.com/asr/eda7a7a6-6e31-4b16-9e92-eb3d3ba321d4.cf136dbace62b8cd0dc0e9b9c21d68e6.jpeg?odnHeight=580&amp;odnWidth=580&amp;odnBg=FFFFFF 2x\" width=\"\" height=\"\" class=\"absolute top-0 left-0\" data-testid=\"productTileImage\" alt=\"\" src=\"https://i5.walmartimages.com/asr/eda7a7a6-6e31-4b16-9e92-eb3d3ba321d4.cf136dbace62b8cd0dc0e9b9c21d68e6.jpeg?odnHeight=580&amp;odnWidth=580&amp;odnBg=FFFFFF\"></div><div class=\"z-2 absolute bottom--1\"><div class=\"relative dib\"><a class=\"w_AE w_AG w_AL pointer bn bg-blue hover-bg-dark-blue white sans-serif b ph2 flex items-center justify-center shadow-1 w-auto\" href=\"/ip/Verizon-iPhone-13-Pro-128GB-Silver/727929398\" aria-label=\"Options - Verizon iPhone 13 Pro 128GB Silver\"><span class=\"mh2\">Options</span></a></div></div></div><div class=\"mt5 mb1\" style=\"height:24px\" data-testid=\"variant-1VUR7NGIS58P\"></div></div><div class=\"\"><div data-automation-id=\"product-price\" class=\"flex flex-wrap justify-start items-center lh-title mb2 mb1-m\"><div class=\"b f5 f4-l black mr1 lh-copy\">From $26.37/month</div><div class=\"f6 f5-l normal dark-gray lh-title w-100 mt1\">for 36 months, 0% APR</div></div><span class=\"w_N\" style=\"-webkit-line-clamp:3;padding-bottom:0em;margin-bottom:-0em\"><span data-automation-id=\"product-title\" class=\"f6 f5-l normal dark-gray mb0 mt1 lh-title\">Verizon iPhone 13 Pro 128GB Silver</span></span><div class=\"mt2 flex items-center\"><span class=\"black inline-flex mr1\"><i class=\"ld ld-StarFill\" style=\"font-size:12px;vertical-align:-0.175em\" aria-hidden=\"true\"></i><i class=\"ld ld-StarFill\" style=\"font-size:12px;vertical-align:-0.175em\" aria-hidden=\"true\"></i><i class=\"ld ld-StarFill\" style=\"font-size:12px;vertical-align:-0.175em\" aria-hidden=\"true\"></i><i class=\"ld ld-StarFill\" style=\"font-size:12px;vertical-align:-0.175em\" aria-hidden=\"true\"></i><i class=\"ld ld-StarHalf\" style=\"font-size:12px;vertical-align:-0.175em\" aria-hidden=\"true\"></i></span><span class=\"sans-serif gray f7\" aria-hidden=\"true\">11</span><span class=\"w_Cq\">4.3 out of 5 Stars. 11 reviews</span></div><div class=\"mv2 flex items-center\"><div class=\"f7 mr1 blue b lh-copy\">Save with</div><img loading=\"lazy\" class=\"pr2 flex\" src=\"//i5.walmartimages.com/dfw/63fd9f59-ac39/29c6759d-7f14-49fa-bd3a-b870eb4fb8fb/v1/wplus-icon-blue.svg\" alt=\"Walmart Plus\" height=\"20\" width=\"20\"></div><div class=\"mt2 mb2\"><span class=\"w_FE w_FK w_FO mr1 mt1 ph1\">2-day shipping</span></div></div></div>"
   ]
  }
 ],
 "metadata": {
  "kernelspec": {
   "display_name": "Python 3 (ipykernel)",
   "language": "python",
   "name": "python3"
  },
  "language_info": {
   "codemirror_mode": {
    "name": "ipython",
    "version": 3
   },
   "file_extension": ".py",
   "mimetype": "text/x-python",
   "name": "python",
   "nbconvert_exporter": "python",
   "pygments_lexer": "ipython3",
   "version": "3.9.12"
  }
 },
 "nbformat": 4,
 "nbformat_minor": 5
}
