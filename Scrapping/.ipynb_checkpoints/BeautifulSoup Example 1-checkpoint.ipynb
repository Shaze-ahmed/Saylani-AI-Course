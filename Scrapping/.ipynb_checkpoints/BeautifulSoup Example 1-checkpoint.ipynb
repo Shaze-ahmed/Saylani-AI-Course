{
 "cells": [
  {
   "cell_type": "code",
   "execution_count": 1,
   "id": "e2f4527f",
   "metadata": {},
   "outputs": [],
   "source": [
    "from bs4 import BeautifulSoup\n",
    "import requests\n",
    "\n",
    "# HTML From File\n",
    "with open(\"index.html\", \"r\") as f:\n",
    "    doc = BeautifulSoup(f, \"html.parser\")"
   ]
  },
  {
   "cell_type": "code",
   "execution_count": 9,
   "id": "b67f72dc",
   "metadata": {},
   "outputs": [
    {
     "name": "stdout",
     "output_type": "stream",
     "text": [
      "Your Title Here\n"
     ]
    }
   ],
   "source": [
    "tag = doc.title.string\n",
    "print(tag)"
   ]
  },
  {
   "cell_type": "code",
   "execution_count": null,
   "id": "7a2b78de",
   "metadata": {},
   "outputs": [],
   "source": [
    "tags = doc.find_all(\"p\")[0]\n",
    "# tags = tags.find_all(\"b\"))\n",
    "print(tags)"
   ]
  },
  {
   "cell_type": "code",
   "execution_count": 18,
   "id": "a7d66190",
   "metadata": {},
   "outputs": [
    {
     "name": "stdout",
     "output_type": "stream",
     "text": [
      "1,249\n"
     ]
    }
   ],
   "source": [
    "url = \"https://www.newegg.ca/gigabyte-geforce-rtx-3080-ti-gv-n308tgaming-oc-12gd/p/N82E16814932436?Description=3080&cm_re=3080-_-14-932-436-_-Product\"\n",
    "\n",
    "result = requests.get(url)\n",
    "# print(result.text)\n",
    "doc = BeautifulSoup(result.text, \"html.parser\")\n",
    "# print(doc.prettify())\n",
    "\n",
    "prices = doc.find_all(text=\"$\")\n",
    "parent = prices[0].parent\n",
    "strong = parent.find(\"strong\")\n",
    "print(strong.string)"
   ]
  },
  {
   "cell_type": "code",
   "execution_count": null,
   "id": "c2080747",
   "metadata": {},
   "outputs": [],
   "source": []
  },
  {
   "cell_type": "code",
   "execution_count": null,
   "id": "007ff06f",
   "metadata": {},
   "outputs": [],
   "source": []
  }
 ],
 "metadata": {
  "kernelspec": {
   "display_name": "Python 3 (ipykernel)",
   "language": "python",
   "name": "python3"
  },
  "language_info": {
   "codemirror_mode": {
    "name": "ipython",
    "version": 3
   },
   "file_extension": ".py",
   "mimetype": "text/x-python",
   "name": "python",
   "nbconvert_exporter": "python",
   "pygments_lexer": "ipython3",
   "version": "3.9.12"
  }
 },
 "nbformat": 4,
 "nbformat_minor": 5
}
