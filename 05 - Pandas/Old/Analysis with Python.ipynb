{
 "cells": [
  {
   "cell_type": "code",
   "execution_count": 1,
   "metadata": {},
   "outputs": [],
   "source": [
    "from csv import reader"
   ]
  },
  {
   "cell_type": "code",
   "execution_count": 3,
   "metadata": {},
   "outputs": [],
   "source": [
    "moma = list(reader(open(\"artworks_clean.csv\", encoding = \"utf-8\")))"
   ]
  },
  {
   "cell_type": "code",
   "execution_count": 4,
   "metadata": {},
   "outputs": [],
   "source": [
    "moma = moma[1:]"
   ]
  },
  {
   "cell_type": "code",
   "execution_count": 5,
   "metadata": {},
   "outputs": [
    {
     "data": {
      "text/plain": [
       "[['Dress MacLeod from Tartan Sets',\n",
       "  'Sarah Charlesworth',\n",
       "  'American',\n",
       "  '1947',\n",
       "  '2013',\n",
       "  'Female',\n",
       "  '1986',\n",
       "  'Prints & Illustrated Books'],\n",
       " ['Duplicate of plate from folio 11 verso (supplementary suite, plate 4) from ARDICIA',\n",
       "  'Pablo Palazuelo',\n",
       "  'Spanish',\n",
       "  '1916',\n",
       "  '2007',\n",
       "  'Male',\n",
       "  '1978',\n",
       "  'Prints & Illustrated Books'],\n",
       " ['Tailpiece (page 55) from SAGESSE',\n",
       "  'Maurice Denis',\n",
       "  'French',\n",
       "  '1870',\n",
       "  '1943',\n",
       "  'Male',\n",
       "  '1900',\n",
       "  'Prints & Illustrated Books']]"
      ]
     },
     "execution_count": 5,
     "metadata": {},
     "output_type": "execute_result"
    }
   ],
   "source": [
    "moma[0:3]"
   ]
  },
  {
   "cell_type": "code",
   "execution_count": 8,
   "metadata": {},
   "outputs": [],
   "source": [
    "def conver_int(date):\n",
    "    if date != \"\":\n",
    "        return int(date)"
   ]
  },
  {
   "cell_type": "code",
   "execution_count": 9,
   "metadata": {},
   "outputs": [],
   "source": [
    "for i in moma:\n",
    "    i[3] = conver_int(i[3])\n",
    "    i[4] = conver_int(i[4])\n",
    "    i[6] = conver_int(i[6])\n",
    "    "
   ]
  },
  {
   "cell_type": "code",
   "execution_count": 10,
   "metadata": {},
   "outputs": [],
   "source": [
    "age = []\n",
    "\n",
    "for i in moma:\n",
    "    birth = i[3]\n",
    "    death = i[4]\n",
    "    if type(birth) == int and type(death) == int:\n",
    "        age.append(death- birth)\n",
    "    else:\n",
    "        age.append(0)"
   ]
  },
  {
   "cell_type": "code",
   "execution_count": 13,
   "metadata": {},
   "outputs": [],
   "source": [
    "final_age = []\n",
    "\n",
    "for i in age:\n",
    "    if i > 20:\n",
    "        final_age.append(i)\n",
    "    else:\n",
    "        final_age.append(\"unknown\")"
   ]
  },
  {
   "cell_type": "code",
   "execution_count": 15,
   "metadata": {},
   "outputs": [],
   "source": [
    "decade = []\n",
    "\n",
    "for i in final_age:\n",
    "    if i == \"unknown\":\n",
    "        decade.append(i)\n",
    "    else:\n",
    "        i = str(i)\n",
    "        i = i[:-1]\n",
    "        i = i +\"0s\"\n",
    "        decade.append(i)"
   ]
  },
  {
   "cell_type": "code",
   "execution_count": 17,
   "metadata": {},
   "outputs": [],
   "source": [
    "decade_dic = {}\n",
    "\n",
    "for i in decade:\n",
    "    if i not in decade_dic:\n",
    "        decade_dic[i] = 1\n",
    "    else:\n",
    "        decade_dic[i] += 1"
   ]
  },
  {
   "cell_type": "code",
   "execution_count": 18,
   "metadata": {},
   "outputs": [
    {
     "data": {
      "text/plain": [
       "{'60s': 1269,\n",
       " '90s': 1816,\n",
       " '70s': 2929,\n",
       " '80s': 3180,\n",
       " '50s': 610,\n",
       " 'unknown': 6243,\n",
       " '40s': 420,\n",
       " '30s': 152,\n",
       " '20s': 16,\n",
       " '100s': 56}"
      ]
     },
     "execution_count": 18,
     "metadata": {},
     "output_type": "execute_result"
    }
   ],
   "source": [
    "decade_dic"
   ]
  },
  {
   "cell_type": "code",
   "execution_count": null,
   "metadata": {},
   "outputs": [],
   "source": []
  }
 ],
 "metadata": {
  "kernelspec": {
   "display_name": "Python 3",
   "language": "python",
   "name": "python3"
  },
  "language_info": {
   "codemirror_mode": {
    "name": "ipython",
    "version": 3
   },
   "file_extension": ".py",
   "mimetype": "text/x-python",
   "name": "python",
   "nbconvert_exporter": "python",
   "pygments_lexer": "ipython3",
   "version": "3.7.4"
  }
 },
 "nbformat": 4,
 "nbformat_minor": 2
}
