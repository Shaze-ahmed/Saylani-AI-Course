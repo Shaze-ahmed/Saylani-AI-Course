{
 "cells": [
  {
   "cell_type": "code",
   "execution_count": null,
   "metadata": {
    "colab": {
     "base_uri": "https://localhost:8080/",
     "height": 314
    },
    "id": "ms42HpuYxYOb",
    "outputId": "4e95c8f3-ff42-4685-d2f7-5a2f9c843eb9"
   },
   "outputs": [],
   "source": [
    "pip install --upgrade xlrd"
   ]
  },
  {
   "cell_type": "code",
   "execution_count": null,
   "metadata": {
    "id": "viXhjbt3yLiC"
   },
   "outputs": [],
   "source": [
    "import pandas as pd"
   ]
  },
  {
   "cell_type": "code",
   "execution_count": null,
   "metadata": {
    "colab": {
     "base_uri": "https://localhost:8080/",
     "height": 956
    },
    "id": "IWABKVSHyUut",
    "outputId": "54b50e03-214d-47ec-f109-15daa3a7f82e"
   },
   "outputs": [],
   "source": [
    "igloo = pd.read_excel(\"IGLOO.xls\")\n",
    "igloo\n",
    "# igloo.to_excel('saved_file.xlsx')\n",
    "# igloo"
   ]
  },
  {
   "cell_type": "code",
   "execution_count": 6,
   "metadata": {},
   "outputs": [
    {
     "data": {
      "text/html": [
       "<div>\n",
       "<style scoped>\n",
       "    .dataframe tbody tr th:only-of-type {\n",
       "        vertical-align: middle;\n",
       "    }\n",
       "\n",
       "    .dataframe tbody tr th {\n",
       "        vertical-align: top;\n",
       "    }\n",
       "\n",
       "    .dataframe thead th {\n",
       "        text-align: right;\n",
       "    }\n",
       "</style>\n",
       "<table border=\"1\" class=\"dataframe\">\n",
       "  <thead>\n",
       "    <tr style=\"text-align: right;\">\n",
       "      <th></th>\n",
       "      <th>SalesDate</th>\n",
       "      <th>SalesQTY</th>\n",
       "      <th>SalesAmount</th>\n",
       "      <th>ProductCategory</th>\n",
       "      <th>ProductSubCategory</th>\n",
       "      <th>ProductName</th>\n",
       "      <th>StoreName</th>\n",
       "      <th>StoreRegion</th>\n",
       "      <th>StoreProvince</th>\n",
       "      <th>StoreZone</th>\n",
       "      <th>StoreArea</th>\n",
       "      <th>Unnamed: 11</th>\n",
       "      <th>PaymentTerms</th>\n",
       "      <th>SalesMan</th>\n",
       "      <th>Route</th>\n",
       "    </tr>\n",
       "  </thead>\n",
       "  <tbody>\n",
       "    <tr>\n",
       "      <th>0</th>\n",
       "      <td>2016-09-01</td>\n",
       "      <td>3</td>\n",
       "      <td>716.33</td>\n",
       "      <td>ICE CREAMS</td>\n",
       "      <td>MOMENT TUB</td>\n",
       "      <td>STRABERY CHEESE CAKE MOMENT</td>\n",
       "      <td>QADRI SUPER MARKET</td>\n",
       "      <td>KARACHI</td>\n",
       "      <td>SINDH</td>\n",
       "      <td>ZONE-C</td>\n",
       "      <td>C.P BARAR SOCIETY</td>\n",
       "      <td>NaN</td>\n",
       "      <td>Credit (114)</td>\n",
       "      <td>ABDUL RAUF(R.S.O)</td>\n",
       "      <td>ORANGI TOWN</td>\n",
       "    </tr>\n",
       "    <tr>\n",
       "      <th>1</th>\n",
       "      <td>2016-09-01</td>\n",
       "      <td>10</td>\n",
       "      <td>2387.78</td>\n",
       "      <td>ICE CREAMS</td>\n",
       "      <td>MOMENT TUB</td>\n",
       "      <td>CHOC FUDGE BROWNI MOMENT</td>\n",
       "      <td>QADRI SUPER MARKET</td>\n",
       "      <td>KARACHI</td>\n",
       "      <td>SINDH</td>\n",
       "      <td>ZONE-C</td>\n",
       "      <td>C.P BARAR SOCIETY</td>\n",
       "      <td>NaN</td>\n",
       "      <td>Credit (114)</td>\n",
       "      <td>ABDUL RAUF(R.S.O)</td>\n",
       "      <td>ORANGI TOWN</td>\n",
       "    </tr>\n",
       "    <tr>\n",
       "      <th>2</th>\n",
       "      <td>2016-01-01</td>\n",
       "      <td>50</td>\n",
       "      <td>1042.05</td>\n",
       "      <td>CONES</td>\n",
       "      <td>2 IN 1 CONE</td>\n",
       "      <td>KING CONE 2/1 (1X25)</td>\n",
       "      <td>NAGINA STORE</td>\n",
       "      <td>KARACHI</td>\n",
       "      <td>SINDH</td>\n",
       "      <td>ZONE-C</td>\n",
       "      <td>K.P.T HOSPITAL</td>\n",
       "      <td>NaN</td>\n",
       "      <td>Credit (114)</td>\n",
       "      <td>ABDUL RAUF(R.S.O)</td>\n",
       "      <td>ORANGI TOWN</td>\n",
       "    </tr>\n",
       "    <tr>\n",
       "      <th>3</th>\n",
       "      <td>2016-01-01</td>\n",
       "      <td>32</td>\n",
       "      <td>666.91</td>\n",
       "      <td>CUPS</td>\n",
       "      <td>CLASSIC CUP</td>\n",
       "      <td>MANGO CLASSIC CUP (1X16)</td>\n",
       "      <td>NAGINA STORE</td>\n",
       "      <td>KARACHI</td>\n",
       "      <td>SINDH</td>\n",
       "      <td>ZONE-C</td>\n",
       "      <td>K.P.T HOSPITAL</td>\n",
       "      <td>NaN</td>\n",
       "      <td>Credit (114)</td>\n",
       "      <td>ABDUL RAUF(R.S.O)</td>\n",
       "      <td>ORANGI TOWN</td>\n",
       "    </tr>\n",
       "    <tr>\n",
       "      <th>4</th>\n",
       "      <td>2016-02-01</td>\n",
       "      <td>24</td>\n",
       "      <td>343.06</td>\n",
       "      <td>CUPS</td>\n",
       "      <td>CHEER CUP</td>\n",
       "      <td>CHEER VANILA CUP (1X24)</td>\n",
       "      <td>NAGINA STORE</td>\n",
       "      <td>KARACHI</td>\n",
       "      <td>SINDH</td>\n",
       "      <td>ZONE-C</td>\n",
       "      <td>K.P.T HOSPITAL</td>\n",
       "      <td>NaN</td>\n",
       "      <td>Credit (114)</td>\n",
       "      <td>ABDUL RAUF(R.S.O)</td>\n",
       "      <td>ORANGI TOWN</td>\n",
       "    </tr>\n",
       "  </tbody>\n",
       "</table>\n",
       "</div>"
      ],
      "text/plain": [
       "   SalesDate  SalesQTY  SalesAmount ProductCategory ProductSubCategory  \\\n",
       "0 2016-09-01         3       716.33      ICE CREAMS         MOMENT TUB   \n",
       "1 2016-09-01        10      2387.78      ICE CREAMS         MOMENT TUB   \n",
       "2 2016-01-01        50      1042.05           CONES        2 IN 1 CONE   \n",
       "3 2016-01-01        32       666.91            CUPS        CLASSIC CUP   \n",
       "4 2016-02-01        24       343.06            CUPS          CHEER CUP   \n",
       "\n",
       "                   ProductName           StoreName StoreRegion StoreProvince  \\\n",
       "0  STRABERY CHEESE CAKE MOMENT  QADRI SUPER MARKET     KARACHI         SINDH   \n",
       "1     CHOC FUDGE BROWNI MOMENT  QADRI SUPER MARKET     KARACHI         SINDH   \n",
       "2         KING CONE 2/1 (1X25)        NAGINA STORE     KARACHI         SINDH   \n",
       "3     MANGO CLASSIC CUP (1X16)        NAGINA STORE     KARACHI         SINDH   \n",
       "4      CHEER VANILA CUP (1X24)        NAGINA STORE     KARACHI         SINDH   \n",
       "\n",
       "  StoreZone          StoreArea  Unnamed: 11  PaymentTerms           SalesMan  \\\n",
       "0    ZONE-C  C.P BARAR SOCIETY          NaN  Credit (114)  ABDUL RAUF(R.S.O)   \n",
       "1    ZONE-C  C.P BARAR SOCIETY          NaN  Credit (114)  ABDUL RAUF(R.S.O)   \n",
       "2    ZONE-C     K.P.T HOSPITAL          NaN  Credit (114)  ABDUL RAUF(R.S.O)   \n",
       "3    ZONE-C     K.P.T HOSPITAL          NaN  Credit (114)  ABDUL RAUF(R.S.O)   \n",
       "4    ZONE-C     K.P.T HOSPITAL          NaN  Credit (114)  ABDUL RAUF(R.S.O)   \n",
       "\n",
       "         Route  \n",
       "0  ORANGI TOWN  \n",
       "1  ORANGI TOWN  \n",
       "2  ORANGI TOWN  \n",
       "3  ORANGI TOWN  \n",
       "4  ORANGI TOWN  "
      ]
     },
     "execution_count": 6,
     "metadata": {},
     "output_type": "execute_result"
    }
   ],
   "source": [
    "igloo.head()"
   ]
  },
  {
   "cell_type": "code",
   "execution_count": null,
   "metadata": {
    "colab": {
     "base_uri": "https://localhost:8080/",
     "height": 572
    },
    "id": "W_8g1JbQeOy9",
    "outputId": "763fb4e7-9d2d-4153-8f5b-cd34d3d21564"
   },
   "outputs": [],
   "source": [
    "product_df = pd.DataFrame(igloo, columns= ['ProductCategory','ProductName','ProductSubCategory'])\n",
    "product_df.insert(0,'productid',range(1,1+len(product_df)))\n",
    "product_df\n",
    "with pd.ExcelWriter(\"newfile_1.xlsx\") as writer:\n",
    "    igloo.to_excel(writer, \"igloo\")\n",
    "    product_df.to_excel(writer, \"product_df\")\n",
    "    (store_df).to_excel(writer, \"store_df\")\n",
    "    (sales_df).to_excel(writer, \"sales_df\")\n",
    "    (salesman_df).to_excel(writer, \"salesman_df\")\n",
    "\n",
    "product_df\n"
   ]
  },
  {
   "cell_type": "code",
   "execution_count": null,
   "metadata": {},
   "outputs": [],
   "source": [
    "product_df"
   ]
  },
  {
   "cell_type": "code",
   "execution_count": null,
   "metadata": {
    "colab": {
     "base_uri": "https://localhost:8080/",
     "height": 693
    },
    "id": "VTl7EANswemW",
    "outputId": "88f26078-3901-4f84-8beb-6f609af5a6d4"
   },
   "outputs": [],
   "source": [
    "store_df = pd.DataFrame(igloo, columns = ['StoreName','StoreRegion','StoreProvince','StoreZone','StoreArea'])\n",
    "store_df.insert(0,'storeid',range(1,1+len(store_df)))\n",
    "store_df"
   ]
  },
  {
   "cell_type": "code",
   "execution_count": null,
   "metadata": {
    "colab": {
     "base_uri": "https://localhost:8080/",
     "height": 468
    },
    "id": "_aZMqShLIETP",
    "outputId": "14508eef-f916-4740-ec71-788e6a90d458"
   },
   "outputs": [],
   "source": [
    "sales_df = pd.DataFrame(igloo, columns = [\"SalesDate\",\"SalesQuantity\",\"SalesAmount\"])\n",
    "sales_df.insert(0,'product_id',range(1,1+len(sales_df)))\n",
    "sales_df.insert(0,'store_id',range(1,1+len(sales_df)))\n",
    "sales_df.insert(0,'salesman_id',range(1,1+len(sales_df)))\n",
    "\n",
    "sales_df\n"
   ]
  },
  {
   "cell_type": "code",
   "execution_count": null,
   "metadata": {
    "colab": {
     "base_uri": "https://localhost:8080/",
     "height": 424
    },
    "id": "1gypXk4-V5FQ",
    "outputId": "7c805a00-a7ec-4e64-8907-e4c35fe05162"
   },
   "outputs": [],
   "source": [
    "salesman_df= pd.DataFrame(igloo, columns = [\"Salesman\",\"Route\",\"PaymentTerm\"])\n",
    "salesman_df.insert(0,'salesman_id',range(1,1+len(salesman_df)))\n",
    "salesman_df"
   ]
  },
  {
   "cell_type": "code",
   "execution_count": null,
   "metadata": {},
   "outputs": [],
   "source": [
    "store_df = pd.DataFrame(igloo, columns = ['StoreName','StoreRegion','StoreProvince','StoreZone','StoreArea'])\n",
    "store_df.insert(0,'storeid',range(1,1+len(store_df)))\n",
    "store_df"
   ]
  },
  {
   "cell_type": "code",
   "execution_count": null,
   "metadata": {},
   "outputs": [],
   "source": [
    "igloo['StoreName'].count()"
   ]
  },
  {
   "cell_type": "code",
   "execution_count": null,
   "metadata": {},
   "outputs": [],
   "source": [
    "store_df = igloo.iloc[:,6:10]\n",
    "store_df.drop_duplicates(inplace=True)\n",
    "store_df.insert(0,'storeid',range(1,1+len(store_df)))\n",
    "print(store_df)"
   ]
  },
  {
   "cell_type": "code",
   "execution_count": null,
   "metadata": {},
   "outputs": [],
   "source": [
    "store_df = igloo.iloc[:,6:10]\n",
    "store_df.drop_duplicates(inplace=True)\n",
    "# store_df.insert(0,'storeid',range(1,1+len(store_df)))\n",
    "print(store_df)"
   ]
  },
  {
   "cell_type": "code",
   "execution_count": null,
   "metadata": {},
   "outputs": [],
   "source": [
    "store_df.reset_index(drop=True)\n",
    "store_df"
   ]
  },
  {
   "cell_type": "code",
   "execution_count": null,
   "metadata": {},
   "outputs": [],
   "source": [
    "df2.insert(0,'storeid',range(1,1+len(df2)))\n",
    "df2"
   ]
  },
  {
   "cell_type": "code",
   "execution_count": null,
   "metadata": {},
   "outputs": [],
   "source": [
    "store_df = pd.DataFrame(igloo.drop_duplicates(inplace=True), columns = ['StoreName','StoreRegion','StoreProvince','StoreZone','StoreArea'])\n",
    "store_df.insert(0,'storeid',range(1,1+len(store_df)))\n",
    "store_df"
   ]
  },
  {
   "cell_type": "code",
   "execution_count": null,
   "metadata": {},
   "outputs": [],
   "source": []
  },
  {
   "cell_type": "code",
   "execution_count": null,
   "metadata": {},
   "outputs": [],
   "source": [
    "import numpy as np\n",
    "technologies = {\n",
    "    'Courses':[\"Spark\",\"PySpark\",\"Python\",\"pandas\",\"Python\",\"Spark\",\"pandas\"],\n",
    "    'Fee' :[20000,25000,22000,30000,22000,20000,30000],\n",
    "    'Duration':['31days','40days','35days','50days','35days','30days','50days'],\n",
    "    'Discount':[1000,2300,1200,2000,1200,1000,2000]\n",
    "              }\n",
    "df = pd.DataFrame(technologies)\n",
    "print(df)"
   ]
  },
  {
   "cell_type": "code",
   "execution_count": null,
   "metadata": {},
   "outputs": [],
   "source": [
    "df2 = df.drop_duplicates()\n",
    "print(df2)\n",
    "\n",
    "# Using DataFrame.drop_duplicates() to keep first duplicate row\n",
    "df2 = df.drop_duplicates(keep='first')\n",
    "print(df2)"
   ]
  },
  {
   "cell_type": "code",
   "execution_count": null,
   "metadata": {},
   "outputs": [],
   "source": [
    "product_df = pd.DataFrame(igloo, columns= ['ProductCategory','ProductName','ProductSubCategory'])\n",
    "product_df.insert(0,'productid',range(1,1+len(product_df)))\n",
    "product_df"
   ]
  },
  {
   "cell_type": "code",
   "execution_count": 10,
   "metadata": {},
   "outputs": [
    {
     "data": {
      "text/html": [
       "<div>\n",
       "<style scoped>\n",
       "    .dataframe tbody tr th:only-of-type {\n",
       "        vertical-align: middle;\n",
       "    }\n",
       "\n",
       "    .dataframe tbody tr th {\n",
       "        vertical-align: top;\n",
       "    }\n",
       "\n",
       "    .dataframe thead th {\n",
       "        text-align: right;\n",
       "    }\n",
       "</style>\n",
       "<table border=\"1\" class=\"dataframe\">\n",
       "  <thead>\n",
       "    <tr style=\"text-align: right;\">\n",
       "      <th></th>\n",
       "      <th>productid</th>\n",
       "      <th>ProductCategory</th>\n",
       "      <th>ProductName</th>\n",
       "      <th>ProductSubCategory</th>\n",
       "    </tr>\n",
       "  </thead>\n",
       "  <tbody>\n",
       "    <tr>\n",
       "      <th>0</th>\n",
       "      <td>1</td>\n",
       "      <td>ICE CREAMS</td>\n",
       "      <td>STRABERY CHEESE CAKE MOMENT</td>\n",
       "      <td>MOMENT TUB</td>\n",
       "    </tr>\n",
       "    <tr>\n",
       "      <th>1</th>\n",
       "      <td>2</td>\n",
       "      <td>ICE CREAMS</td>\n",
       "      <td>CHOC FUDGE BROWNI MOMENT</td>\n",
       "      <td>MOMENT TUB</td>\n",
       "    </tr>\n",
       "  </tbody>\n",
       "</table>\n",
       "</div>"
      ],
      "text/plain": [
       "   productid ProductCategory                  ProductName ProductSubCategory\n",
       "0          1      ICE CREAMS  STRABERY CHEESE CAKE MOMENT         MOMENT TUB\n",
       "1          2      ICE CREAMS     CHOC FUDGE BROWNI MOMENT         MOMENT TUB"
      ]
     },
     "execution_count": 10,
     "metadata": {},
     "output_type": "execute_result"
    }
   ],
   "source": [
    "product_df.head(2)"
   ]
  },
  {
   "cell_type": "code",
   "execution_count": 12,
   "metadata": {},
   "outputs": [
    {
     "data": {
      "text/html": [
       "<div>\n",
       "<style scoped>\n",
       "    .dataframe tbody tr th:only-of-type {\n",
       "        vertical-align: middle;\n",
       "    }\n",
       "\n",
       "    .dataframe tbody tr th {\n",
       "        vertical-align: top;\n",
       "    }\n",
       "\n",
       "    .dataframe thead th {\n",
       "        text-align: right;\n",
       "    }\n",
       "</style>\n",
       "<table border=\"1\" class=\"dataframe\">\n",
       "  <thead>\n",
       "    <tr style=\"text-align: right;\">\n",
       "      <th></th>\n",
       "      <th>productid</th>\n",
       "      <th>ProductCategory</th>\n",
       "      <th>ProductName</th>\n",
       "      <th>ProductSubCategory</th>\n",
       "    </tr>\n",
       "  </thead>\n",
       "  <tbody>\n",
       "    <tr>\n",
       "      <th>0</th>\n",
       "      <td>1</td>\n",
       "      <td>ICE CREAMS</td>\n",
       "      <td>STRABERY CHEESE CAKE MOMENT</td>\n",
       "      <td>MOMENT TUB</td>\n",
       "    </tr>\n",
       "    <tr>\n",
       "      <th>349</th>\n",
       "      <td>350</td>\n",
       "      <td>ICE CREAMS</td>\n",
       "      <td>STRABERY CHEESE CAKE MOMENT</td>\n",
       "      <td>MOMENT TUB</td>\n",
       "    </tr>\n",
       "    <tr>\n",
       "      <th>975</th>\n",
       "      <td>976</td>\n",
       "      <td>ICE CREAMS</td>\n",
       "      <td>STRABERY CHEESE CAKE MOMENT</td>\n",
       "      <td>MOMENT TUB</td>\n",
       "    </tr>\n",
       "    <tr>\n",
       "      <th>4236</th>\n",
       "      <td>4237</td>\n",
       "      <td>ICE CREAMS</td>\n",
       "      <td>STRABERY CHEESE CAKE MOMENT</td>\n",
       "      <td>MOMENT TUB</td>\n",
       "    </tr>\n",
       "    <tr>\n",
       "      <th>4868</th>\n",
       "      <td>4869</td>\n",
       "      <td>ICE CREAMS</td>\n",
       "      <td>STRABERY CHEESE CAKE MOMENT</td>\n",
       "      <td>MOMENT TUB</td>\n",
       "    </tr>\n",
       "    <tr>\n",
       "      <th>...</th>\n",
       "      <td>...</td>\n",
       "      <td>...</td>\n",
       "      <td>...</td>\n",
       "      <td>...</td>\n",
       "    </tr>\n",
       "    <tr>\n",
       "      <th>48518</th>\n",
       "      <td>48519</td>\n",
       "      <td>ICE CREAMS</td>\n",
       "      <td>STRABERY CHEESE CAKE MOMENT</td>\n",
       "      <td>MOMENT TUB</td>\n",
       "    </tr>\n",
       "    <tr>\n",
       "      <th>52237</th>\n",
       "      <td>52238</td>\n",
       "      <td>ICE CREAMS</td>\n",
       "      <td>STRABERY CHEESE CAKE MOMENT</td>\n",
       "      <td>MOMENT TUB</td>\n",
       "    </tr>\n",
       "    <tr>\n",
       "      <th>52856</th>\n",
       "      <td>52857</td>\n",
       "      <td>ICE CREAMS</td>\n",
       "      <td>STRABERY CHEESE CAKE MOMENT</td>\n",
       "      <td>MOMENT TUB</td>\n",
       "    </tr>\n",
       "    <tr>\n",
       "      <th>53314</th>\n",
       "      <td>53315</td>\n",
       "      <td>ICE CREAMS</td>\n",
       "      <td>STRABERY CHEESE CAKE MOMENT</td>\n",
       "      <td>MOMENT TUB</td>\n",
       "    </tr>\n",
       "    <tr>\n",
       "      <th>54410</th>\n",
       "      <td>54411</td>\n",
       "      <td>ICE CREAMS</td>\n",
       "      <td>STRABERY CHEESE CAKE MOMENT</td>\n",
       "      <td>MOMENT TUB</td>\n",
       "    </tr>\n",
       "  </tbody>\n",
       "</table>\n",
       "<p>68 rows × 4 columns</p>\n",
       "</div>"
      ],
      "text/plain": [
       "       productid ProductCategory                  ProductName  \\\n",
       "0              1      ICE CREAMS  STRABERY CHEESE CAKE MOMENT   \n",
       "349          350      ICE CREAMS  STRABERY CHEESE CAKE MOMENT   \n",
       "975          976      ICE CREAMS  STRABERY CHEESE CAKE MOMENT   \n",
       "4236        4237      ICE CREAMS  STRABERY CHEESE CAKE MOMENT   \n",
       "4868        4869      ICE CREAMS  STRABERY CHEESE CAKE MOMENT   \n",
       "...          ...             ...                          ...   \n",
       "48518      48519      ICE CREAMS  STRABERY CHEESE CAKE MOMENT   \n",
       "52237      52238      ICE CREAMS  STRABERY CHEESE CAKE MOMENT   \n",
       "52856      52857      ICE CREAMS  STRABERY CHEESE CAKE MOMENT   \n",
       "53314      53315      ICE CREAMS  STRABERY CHEESE CAKE MOMENT   \n",
       "54410      54411      ICE CREAMS  STRABERY CHEESE CAKE MOMENT   \n",
       "\n",
       "      ProductSubCategory  \n",
       "0             MOMENT TUB  \n",
       "349           MOMENT TUB  \n",
       "975           MOMENT TUB  \n",
       "4236          MOMENT TUB  \n",
       "4868          MOMENT TUB  \n",
       "...                  ...  \n",
       "48518         MOMENT TUB  \n",
       "52237         MOMENT TUB  \n",
       "52856         MOMENT TUB  \n",
       "53314         MOMENT TUB  \n",
       "54410         MOMENT TUB  \n",
       "\n",
       "[68 rows x 4 columns]"
      ]
     },
     "execution_count": 12,
     "metadata": {},
     "output_type": "execute_result"
    }
   ],
   "source": [
    "product_df[product_df['ProductName'] == 'STRABERY CHEESE CAKE MOMENT']"
   ]
  },
  {
   "cell_type": "code",
   "execution_count": null,
   "metadata": {},
   "outputs": [],
   "source": [
    "igloo.merge(product_df, how='inner', on='ProductName')[['col1','col2']]"
   ]
  },
  {
   "cell_type": "code",
   "execution_count": null,
   "metadata": {},
   "outputs": [],
   "source": [
    "def GetProductID(Pname):\n",
    "    return df_product[df_product['ProductName']==Pname]['ProductID']"
   ]
  }
 ],
 "metadata": {
  "colab": {
   "collapsed_sections": [],
   "provenance": []
  },
  "kernelspec": {
   "display_name": "Python 3 (ipykernel)",
   "language": "python",
   "name": "python3"
  },
  "language_info": {
   "codemirror_mode": {
    "name": "ipython",
    "version": 3
   },
   "file_extension": ".py",
   "mimetype": "text/x-python",
   "name": "python",
   "nbconvert_exporter": "python",
   "pygments_lexer": "ipython3",
   "version": "3.9.12"
  }
 },
 "nbformat": 4,
 "nbformat_minor": 1
}
