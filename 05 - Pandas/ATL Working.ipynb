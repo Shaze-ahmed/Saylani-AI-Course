{
 "cells": [
  {
   "cell_type": "code",
   "execution_count": 1,
   "id": "3181dba7",
   "metadata": {},
   "outputs": [],
   "source": [
    "import numpy as np\n",
    "import pandas as pd"
   ]
  },
  {
   "cell_type": "code",
   "execution_count": 22,
   "id": "f8ca0a28",
   "metadata": {},
   "outputs": [],
   "source": [
    "fbrList = pd.read_excel('ATL.xlsx', index_col='SR_NO')\n",
    "# atl.set_index('SR_NO', inplace=True)\n",
    "# # atl.reset_index(inplace=True)\n",
    "# atl.columns = atl.columns.str.lower()"
   ]
  },
  {
   "cell_type": "code",
   "execution_count": 23,
   "id": "a5b0bd00",
   "metadata": {},
   "outputs": [
    {
     "name": "stdout",
     "output_type": "stream",
     "text": [
      "<class 'pandas.core.frame.DataFrame'>\n",
      "Int64Index: 100000 entries, 1 to 100000\n",
      "Data columns (total 3 columns):\n",
      " #   Column         Non-Null Count   Dtype \n",
      "---  ------         --------------   ----- \n",
      " 0   NTN            100000 non-null  object\n",
      " 1   NAME           99800 non-null   object\n",
      " 2   BUSINESS_NAME  31540 non-null   object\n",
      "dtypes: object(3)\n",
      "memory usage: 3.1+ MB\n"
     ]
    }
   ],
   "source": [
    "fbrList.info()"
   ]
  },
  {
   "cell_type": "code",
   "execution_count": 30,
   "id": "b6d5f67e",
   "metadata": {},
   "outputs": [],
   "source": [
    "fbrNTN = np.array(fbrList[fbrList.NTN.apply(len) == 9]['NTN'])"
   ]
  },
  {
   "cell_type": "code",
   "execution_count": 36,
   "id": "71405bc7",
   "metadata": {},
   "outputs": [],
   "source": [
    "fbrCNIC = np.array(fbrList[fbrList.NTN.apply(len) == 13]['NTN'])"
   ]
  },
  {
   "cell_type": "code",
   "execution_count": 42,
   "id": "5f6cdb14",
   "metadata": {},
   "outputs": [
    {
     "data": {
      "text/html": [
       "<div>\n",
       "<style scoped>\n",
       "    .dataframe tbody tr th:only-of-type {\n",
       "        vertical-align: middle;\n",
       "    }\n",
       "\n",
       "    .dataframe tbody tr th {\n",
       "        vertical-align: top;\n",
       "    }\n",
       "\n",
       "    .dataframe thead th {\n",
       "        text-align: right;\n",
       "    }\n",
       "</style>\n",
       "<table border=\"1\" class=\"dataframe\">\n",
       "  <thead>\n",
       "    <tr style=\"text-align: right;\">\n",
       "      <th></th>\n",
       "      <th>vendor</th>\n",
       "      <th>cnic</th>\n",
       "      <th>cat</th>\n",
       "    </tr>\n",
       "    <tr>\n",
       "      <th>sno</th>\n",
       "      <th></th>\n",
       "      <th></th>\n",
       "      <th></th>\n",
       "    </tr>\n",
       "  </thead>\n",
       "  <tbody>\n",
       "    <tr>\n",
       "      <th>1</th>\n",
       "      <td>267</td>\n",
       "      <td>NaN</td>\n",
       "      <td>0829298-1</td>\n",
       "    </tr>\n",
       "    <tr>\n",
       "      <th>2</th>\n",
       "      <td>277</td>\n",
       "      <td>NaN</td>\n",
       "      <td>0709890-1</td>\n",
       "    </tr>\n",
       "    <tr>\n",
       "      <th>3</th>\n",
       "      <td>2</td>\n",
       "      <td>NaN</td>\n",
       "      <td>0786481-7</td>\n",
       "    </tr>\n",
       "    <tr>\n",
       "      <th>4</th>\n",
       "      <td>23</td>\n",
       "      <td>NaN</td>\n",
       "      <td>2793009-2</td>\n",
       "    </tr>\n",
       "    <tr>\n",
       "      <th>5</th>\n",
       "      <td>25</td>\n",
       "      <td>NaN</td>\n",
       "      <td>3675788-8</td>\n",
       "    </tr>\n",
       "  </tbody>\n",
       "</table>\n",
       "</div>"
      ],
      "text/plain": [
       "     vendor cnic        cat\n",
       "sno                        \n",
       "1       267  NaN  0829298-1\n",
       "2       277  NaN  0709890-1\n",
       "3         2  NaN  0786481-7\n",
       "4        23  NaN  2793009-2\n",
       "5        25  NaN  3675788-8"
      ]
     },
     "execution_count": 42,
     "metadata": {},
     "output_type": "execute_result"
    }
   ],
   "source": [
    "hblList = pd.read_excel('VendorList.xlsx')\n",
    "hblList.columns = ['sno','vendor','cnic','cat']\n",
    "hblList.set_index('sno', inplace=True)\n",
    "hblList.head()"
   ]
  },
  {
   "cell_type": "code",
   "execution_count": 55,
   "id": "9042cde9",
   "metadata": {},
   "outputs": [
    {
     "ename": "AttributeError",
     "evalue": "'DataFrame' object has no attribute 'unique_values'",
     "output_type": "error",
     "traceback": [
      "\u001b[1;31m---------------------------------------------------------------------------\u001b[0m",
      "\u001b[1;31mAttributeError\u001b[0m                            Traceback (most recent call last)",
      "Input \u001b[1;32mIn [55]\u001b[0m, in \u001b[0;36m<cell line: 1>\u001b[1;34m()\u001b[0m\n\u001b[1;32m----> 1\u001b[0m \u001b[43mhblList\u001b[49m\u001b[43m[\u001b[49m\u001b[43m[\u001b[49m\u001b[38;5;124;43m'\u001b[39;49m\u001b[38;5;124;43mcnic\u001b[39;49m\u001b[38;5;124;43m'\u001b[39;49m\u001b[43m]\u001b[49m\u001b[43m]\u001b[49m\u001b[38;5;241;43m.\u001b[39;49m\u001b[43munique_values\u001b[49m\n",
      "File \u001b[1;32m~\\Anaconda3\\lib\\site-packages\\pandas\\core\\generic.py:5575\u001b[0m, in \u001b[0;36mNDFrame.__getattr__\u001b[1;34m(self, name)\u001b[0m\n\u001b[0;32m   5568\u001b[0m \u001b[38;5;28;01mif\u001b[39;00m (\n\u001b[0;32m   5569\u001b[0m     name \u001b[38;5;129;01mnot\u001b[39;00m \u001b[38;5;129;01min\u001b[39;00m \u001b[38;5;28mself\u001b[39m\u001b[38;5;241m.\u001b[39m_internal_names_set\n\u001b[0;32m   5570\u001b[0m     \u001b[38;5;129;01mand\u001b[39;00m name \u001b[38;5;129;01mnot\u001b[39;00m \u001b[38;5;129;01min\u001b[39;00m \u001b[38;5;28mself\u001b[39m\u001b[38;5;241m.\u001b[39m_metadata\n\u001b[0;32m   5571\u001b[0m     \u001b[38;5;129;01mand\u001b[39;00m name \u001b[38;5;129;01mnot\u001b[39;00m \u001b[38;5;129;01min\u001b[39;00m \u001b[38;5;28mself\u001b[39m\u001b[38;5;241m.\u001b[39m_accessors\n\u001b[0;32m   5572\u001b[0m     \u001b[38;5;129;01mand\u001b[39;00m \u001b[38;5;28mself\u001b[39m\u001b[38;5;241m.\u001b[39m_info_axis\u001b[38;5;241m.\u001b[39m_can_hold_identifiers_and_holds_name(name)\n\u001b[0;32m   5573\u001b[0m ):\n\u001b[0;32m   5574\u001b[0m     \u001b[38;5;28;01mreturn\u001b[39;00m \u001b[38;5;28mself\u001b[39m[name]\n\u001b[1;32m-> 5575\u001b[0m \u001b[38;5;28;01mreturn\u001b[39;00m \u001b[38;5;28;43mobject\u001b[39;49m\u001b[38;5;241;43m.\u001b[39;49m\u001b[38;5;21;43m__getattribute__\u001b[39;49m\u001b[43m(\u001b[49m\u001b[38;5;28;43mself\u001b[39;49m\u001b[43m,\u001b[49m\u001b[43m \u001b[49m\u001b[43mname\u001b[49m\u001b[43m)\u001b[49m\n",
      "\u001b[1;31mAttributeError\u001b[0m: 'DataFrame' object has no attribute 'unique_values'"
     ]
    }
   ],
   "source": [
    "hblList[['cnic']].unique_values"
   ]
  },
  {
   "cell_type": "code",
   "execution_count": null,
   "id": "8644075b",
   "metadata": {},
   "outputs": [],
   "source": []
  },
  {
   "cell_type": "code",
   "execution_count": 21,
   "id": "7fb2a8dd",
   "metadata": {},
   "outputs": [
    {
     "ename": "NameError",
     "evalue": "name 'fbrList' is not defined",
     "output_type": "error",
     "traceback": [
      "\u001b[1;31m---------------------------------------------------------------------------\u001b[0m",
      "\u001b[1;31mNameError\u001b[0m                                 Traceback (most recent call last)",
      "Input \u001b[1;32mIn [21]\u001b[0m, in \u001b[0;36m<cell line: 1>\u001b[1;34m()\u001b[0m\n\u001b[1;32m----> 1\u001b[0m \u001b[43mfbrList\u001b[49m\u001b[38;5;241m.\u001b[39mcount()\n",
      "\u001b[1;31mNameError\u001b[0m: name 'fbrList' is not defined"
     ]
    }
   ],
   "source": [
    "fbrList.count()"
   ]
  },
  {
   "cell_type": "code",
   "execution_count": null,
   "id": "d6bcb933",
   "metadata": {},
   "outputs": [],
   "source": [
    "atl.info()"
   ]
  },
  {
   "cell_type": "code",
   "execution_count": null,
   "id": "d5b7d8e5",
   "metadata": {},
   "outputs": [],
   "source": [
    "# df_cnic = atl[atl['ntn'].apply(len) != 9]"
   ]
  },
  {
   "cell_type": "code",
   "execution_count": null,
   "id": "9c17580a",
   "metadata": {},
   "outputs": [],
   "source": [
    "df_ntn.info()"
   ]
  },
  {
   "cell_type": "code",
   "execution_count": null,
   "id": "2fd97ef4",
   "metadata": {},
   "outputs": [],
   "source": [
    "df_cnic.info()"
   ]
  },
  {
   "cell_type": "code",
   "execution_count": null,
   "id": "ca01d6ad",
   "metadata": {},
   "outputs": [],
   "source": [
    "df_ntn"
   ]
  },
  {
   "cell_type": "code",
   "execution_count": null,
   "id": "d0314f51",
   "metadata": {},
   "outputs": [],
   "source": [
    "df_cnic[df_cnic.ntn.apply(len) != 13]"
   ]
  },
  {
   "cell_type": "code",
   "execution_count": null,
   "id": "2be8b4b5",
   "metadata": {},
   "outputs": [],
   "source": [
    "bank_ntn = np.array(df_ntn.ntn)\n",
    "bank_cnic = np.array(df_cnic.ntn)"
   ]
  },
  {
   "cell_type": "code",
   "execution_count": null,
   "id": "0ac0ff00",
   "metadata": {},
   "outputs": [],
   "source": [
    "np.in1d(bank_ntn, bank_cnic)"
   ]
  },
  {
   "cell_type": "code",
   "execution_count": null,
   "id": "922d9e69",
   "metadata": {},
   "outputs": [],
   "source": [
    "bank_cnic"
   ]
  },
  {
   "cell_type": "code",
   "execution_count": null,
   "id": "8cbdb637",
   "metadata": {},
   "outputs": [],
   "source": [
    "atl.count()"
   ]
  },
  {
   "cell_type": "code",
   "execution_count": null,
   "id": "5a63206e",
   "metadata": {},
   "outputs": [],
   "source": []
  }
 ],
 "metadata": {
  "kernelspec": {
   "display_name": "Python 3 (ipykernel)",
   "language": "python",
   "name": "python3"
  },
  "language_info": {
   "codemirror_mode": {
    "name": "ipython",
    "version": 3
   },
   "file_extension": ".py",
   "mimetype": "text/x-python",
   "name": "python",
   "nbconvert_exporter": "python",
   "pygments_lexer": "ipython3",
   "version": "3.9.12"
  }
 },
 "nbformat": 4,
 "nbformat_minor": 5
}
