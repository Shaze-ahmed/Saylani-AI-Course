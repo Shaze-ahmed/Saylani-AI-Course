{
 "cells": [
  {
   "cell_type": "code",
   "execution_count": 1,
   "id": "9cdc50cb",
   "metadata": {},
   "outputs": [],
   "source": [
    "import numpy as np\n",
    "import pandas as pd\n",
    "# import os"
   ]
  },
  {
   "cell_type": "code",
   "execution_count": null,
   "id": "387bd4af",
   "metadata": {},
   "outputs": [],
   "source": [
    "import urllib\n",
    "outfilename = \"test.xls\"\n",
    "url_of_file = \"https://www.fbr.gov.pk/Downloads/?id=3901&Type=Docs\"\n",
    "urllib.request.urlretrieve(url_of_file, outfilename) "
   ]
  },
  {
   "cell_type": "code",
   "execution_count": 2,
   "id": "3588416b",
   "metadata": {},
   "outputs": [],
   "source": [
    "# # Select the directory to download File\n",
    "# download_dir = '../../ATL'\n",
    "# # change working directory to download directory\n",
    "# os.chdir(download_dir) \n",
    "# print(os.getcwd())"
   ]
  },
  {
   "cell_type": "code",
   "execution_count": null,
   "id": "80ae11bd",
   "metadata": {},
   "outputs": [],
   "source": [
    "import urllib\n",
    "outfilename = \"test.xlsx\"\n",
    "url_of_file = \"https://www.fbr.gov.pk/Downloads/?id=3901&Type=Docs\"\n",
    "urllib.request.urlretrieve(url_of_file, outfilename) "
   ]
  },
  {
   "cell_type": "code",
   "execution_count": 5,
   "id": "27ea07fd",
   "metadata": {},
   "outputs": [
    {
     "name": "stdout",
     "output_type": "stream",
     "text": [
      "['Part1', 'Part2', 'Part3', 'Part4', 'Part5', 'Part6', 'Part7', 'Part8', 'Part9']\n",
      "CPU times: total: 33min 2s\n",
      "Wall time: 33min 52s\n"
     ]
    }
   ],
   "source": [
    "%%time\n",
    "for filename in os.listdir ('./'):\n",
    "    if filename.endswith ('ATL_IT.xlsx'):\n",
    "        fileDate= pd.to_datetime(filename[0:8])\n",
    "        \n",
    "        xls =pd.ExcelFile(filename)\n",
    "        print(xls.sheet_names)\n",
    "\n",
    "        fbrList = pd.read_excel(filename)\n",
    "        for items in xls.sheet_names[1:]:\n",
    "            dfTemp = pd.read_excel(filename,sheet_name=items)\n",
    "            fbrList = pd.concat([fbrList,dfTemp])"
   ]
  },
  {
   "cell_type": "code",
   "execution_count": null,
   "id": "d7565f9d",
   "metadata": {},
   "outputs": [],
   "source": [
    "fbrList.head()"
   ]
  },
  {
   "cell_type": "code",
   "execution_count": null,
   "id": "02ac754e",
   "metadata": {},
   "outputs": [],
   "source": [
    "def GetVendorFilerStatus(vList):\n",
    "    mydict = {}\n",
    "    nicList = [cnic.replace('-','') for cnic in vList if len(cnic) > 10]\n",
    "    ntnList = [ntn for ntn in vList if len(ntn) < 10]\n",
    "    for i in nicList:\n",
    "        try:\n",
    "            mydict[fbrList[fbrList['NTN'] == i].iloc[0, 1]] = 'Filer'\n",
    "        except IndexError:\n",
    "            mydict[i] = 'NonFiler'\n",
    "            \n",
    "    for i in ntnList:\n",
    "        try:\n",
    "            mydict[fbrList[fbrList['NTN'] == i].iloc[0, 1]] = 'Filer'\n",
    "        except IndexError:\n",
    "            mydict[i] = 'NonFiler'\n",
    "            \n",
    "    return mydict"
   ]
  }
 ],
 "metadata": {
  "kernelspec": {
   "display_name": "Python 3 (ipykernel)",
   "language": "python",
   "name": "python3"
  },
  "language_info": {
   "codemirror_mode": {
    "name": "ipython",
    "version": 3
   },
   "file_extension": ".py",
   "mimetype": "text/x-python",
   "name": "python",
   "nbconvert_exporter": "python",
   "pygments_lexer": "ipython3",
   "version": "3.9.12"
  }
 },
 "nbformat": 4,
 "nbformat_minor": 5
}
