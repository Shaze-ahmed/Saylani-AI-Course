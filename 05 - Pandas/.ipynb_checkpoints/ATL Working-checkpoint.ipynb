{
 "cells": [
  {
   "cell_type": "code",
   "execution_count": 72,
   "id": "3181dba7",
   "metadata": {},
   "outputs": [],
   "source": [
    "import numpy as np\n",
    "import pandas as pd"
   ]
  },
  {
   "cell_type": "code",
   "execution_count": 190,
   "id": "1fa196a8",
   "metadata": {},
   "outputs": [
    {
     "name": "stdout",
     "output_type": "stream",
     "text": [
      "<class 'pandas.core.frame.DataFrame'>\n",
      "Int64Index: 6151 entries, 1 to 6151\n",
      "Data columns (total 3 columns):\n",
      " #   Column  Non-Null Count  Dtype \n",
      "---  ------  --------------  ----- \n",
      " 0   vendor  6151 non-null   int64 \n",
      " 1   cnic    3706 non-null   object\n",
      " 2   vat     3858 non-null   object\n",
      "dtypes: int64(1), object(2)\n",
      "memory usage: 192.2+ KB\n"
     ]
    }
   ],
   "source": [
    "hblList = pd.read_excel('../../VendorList.xlsx')\n",
    "hblList.columns = ['sno','vendor','cnic','vat']\n",
    "hblList.set_index('sno', inplace=True)\n",
    "hblList.info()"
   ]
  },
  {
   "cell_type": "code",
   "execution_count": 256,
   "id": "01390a2a",
   "metadata": {},
   "outputs": [
    {
     "name": "stdout",
     "output_type": "stream",
     "text": [
      "HBL NTN Array Size : 3737, HBL CNIC Array Size : 3639, Total HBL array Size : 7376\n"
     ]
    }
   ],
   "source": [
    "HblVat = np.array(hblList[hblList['vat'].str.len() == 9]['vat'].str.replace('-',''))\n",
    "HblCnic = np.array(hblList[hblList['cnic'].str.len() == 15]['cnic'].str.replace('-',''))\n",
    "print('HBL NTN Array Size : {}, HBL CNIC Array Size : {}, Total HBL array Size : {}' \\\n",
    "      .format(HblVat.size, HblCnic.size, HblVat.size + HblCnic.size))"
   ]
  },
  {
   "cell_type": "code",
   "execution_count": 98,
   "id": "f36eaea4",
   "metadata": {},
   "outputs": [
    {
     "name": "stdout",
     "output_type": "stream",
     "text": [
      "['Part1', 'Part2', 'Part3', 'Part4', 'Part5', 'Part6', 'Part7', 'Part8', 'Part9']\n"
     ]
    }
   ],
   "source": [
    "fbrFileName = \"../../ATL.xlsx\"\n",
    "xls =pd.ExcelFile(fbrFileName)\n",
    "print(xls.sheet_names)\n",
    "\n",
    "fbrList = pd.read_excel(fbrFileName)\n",
    "for items in xls.sheet_names[1:]:\n",
    "    dfTemp = pd.read_excel(fbrFileName,sheet_name=items)\n",
    "    fbrList = pd.concat([fbrList,dfTemp])"
   ]
  },
  {
   "cell_type": "code",
   "execution_count": 99,
   "id": "a32ced7a",
   "metadata": {},
   "outputs": [
    {
     "name": "stdout",
     "output_type": "stream",
     "text": [
      "<class 'pandas.core.frame.DataFrame'>\n",
      "Int64Index: 3318595 entries, 0 to 118594\n",
      "Data columns (total 4 columns):\n",
      " #   Column         Dtype \n",
      "---  ------         ----- \n",
      " 0   SR_NO          int64 \n",
      " 1   NTN            object\n",
      " 2   NAME           object\n",
      " 3   BUSINESS_NAME  object\n",
      "dtypes: int64(1), object(3)\n",
      "memory usage: 126.6+ MB\n"
     ]
    }
   ],
   "source": [
    "fbrList.info()"
   ]
  },
  {
   "cell_type": "code",
   "execution_count": 198,
   "id": "12ec45d7",
   "metadata": {},
   "outputs": [
    {
     "name": "stdout",
     "output_type": "stream",
     "text": [
      "NTN Array Size : 191206, CNIC Array Size : 3121756, Total array Size : 3312962\n"
     ]
    }
   ],
   "source": [
    "FbrVat = np.array(fbrList[fbrList['NTN'].str.len() == 9]['NTN'].str.replace('-',''))\n",
    "FbrCnic = np.array(fbrList[fbrList['NTN'].str.len() == 13]['NTN'].str.replace('-',''))\n",
    "print('NTN Array Size : {}, CNIC Array Size : {}, Total array Size : {}' \\\n",
    "      .format(FbrVat.size, FbrCnic.size, FbrVat.size + FbrCnic.size))"
   ]
  },
  {
   "cell_type": "code",
   "execution_count": 197,
   "id": "74bd39ef",
   "metadata": {},
   "outputs": [
    {
     "name": "stdout",
     "output_type": "stream",
     "text": [
      "CPU times: total: 21.1 s\n",
      "Wall time: 21.2 s\n"
     ]
    }
   ],
   "source": [
    "%%time\n",
    "# Vat wise total Filer List\n",
    "HblFilerVal = np.array(HblVat[np.in1d(HblVat,FbrVat)])"
   ]
  },
  {
   "cell_type": "code",
   "execution_count": 199,
   "id": "6d73aef3",
   "metadata": {},
   "outputs": [
    {
     "name": "stdout",
     "output_type": "stream",
     "text": [
      "CPU times: total: 4min 7s\n",
      "Wall time: 4min 9s\n"
     ]
    }
   ],
   "source": [
    "%%time\n",
    "# CNIC wise total Filer List\n",
    "HblFilerCnic = np.array(HblCnic[np.in1d(HblCnic,FbrCnic)])"
   ]
  },
  {
   "cell_type": "code",
   "execution_count": 254,
   "id": "7c2b86d7",
   "metadata": {},
   "outputs": [
    {
     "name": "stdout",
     "output_type": "stream",
     "text": [
      " \t\tAs per FBR List for First week of August 2022\n",
      "\n",
      "    \t\tFiler\t\tNon Filer\tTotal\n",
      "----------------------------------------------------------------------\n",
      "    NTN\t\t 1578\t\t 2159\t\t 3737\n",
      "    CNIC\t 2215\t\t 1424\t\t 3639\n",
      "----------------------------------------------------------------------    \n",
      "    \t\t 3793\t\t 3583\t\t 7376\n",
      "----------------------------------------------------------------------\n",
      "    \n"
     ]
    }
   ],
   "source": [
    "print(''' \\t\\tAs per FBR List for First week of August 2022\\n\n",
    "    \\t\\tFiler\\t\\tNon Filer\\tTotal\\n{}\n",
    "    NTN\\t\\t {}\\t\\t {}\\t\\t {}\n",
    "    CNIC\\t {}\\t\\t {}\\t\\t {}\\n{}    \n",
    "    \\t\\t {}\\t\\t {}\\t\\t {}\\n{}\n",
    "    '''\n",
    "          .format('-'* 70, HblFilerVal.size, HblVat.size-HblFilerVal.size, HblVat.size,\\\n",
    "                  HblFilerCnic.size, HblCnic.size - HblFilerCnic.size,HblCnic.size,\\\n",
    "                 '-'* 70, HblFilerVal.size+HblFilerCnic.size,(HblVat.size-HblFilerVal.size)\\\n",
    "                  +(HblCnic.size - HblFilerCnic.size), HblVat.size+HblCnic.size,'-'* 70))"
   ]
  },
  {
   "cell_type": "code",
   "execution_count": null,
   "id": "bdcef6ac",
   "metadata": {},
   "outputs": [],
   "source": []
  },
  {
   "cell_type": "code",
   "execution_count": null,
   "id": "313a6161",
   "metadata": {},
   "outputs": [],
   "source": []
  },
  {
   "cell_type": "code",
   "execution_count": null,
   "id": "e4fcfd49",
   "metadata": {},
   "outputs": [],
   "source": []
  },
  {
   "cell_type": "code",
   "execution_count": 95,
   "id": "f8ca0a28",
   "metadata": {},
   "outputs": [],
   "source": [
    "# fbrFileName = \"../../VendorList.xlsx\"\n",
    "# fbrList = pd.read_excel(fbrFileName)\n",
    "# fbrList.set_index('SR_NO', inplace=True)\n",
    "fbrList.reset_index(inplace=True)\n",
    "fbrList.columns = fbrList.columns.str.lower()"
   ]
  },
  {
   "cell_type": "code",
   "execution_count": 90,
   "id": "50149dfa",
   "metadata": {},
   "outputs": [
    {
     "data": {
      "text/html": [
       "<div>\n",
       "<style scoped>\n",
       "    .dataframe tbody tr th:only-of-type {\n",
       "        vertical-align: middle;\n",
       "    }\n",
       "\n",
       "    .dataframe tbody tr th {\n",
       "        vertical-align: top;\n",
       "    }\n",
       "\n",
       "    .dataframe thead th {\n",
       "        text-align: right;\n",
       "    }\n",
       "</style>\n",
       "<table border=\"1\" class=\"dataframe\">\n",
       "  <thead>\n",
       "    <tr style=\"text-align: right;\">\n",
       "      <th></th>\n",
       "      <th>level_0</th>\n",
       "      <th>index</th>\n",
       "      <th></th>\n",
       "      <th>vendor_id</th>\n",
       "      <th>tca_sync_num_1099</th>\n",
       "      <th>tca_sync_vat_reg_num</th>\n",
       "    </tr>\n",
       "  </thead>\n",
       "  <tbody>\n",
       "    <tr>\n",
       "      <th>0</th>\n",
       "      <td>0</td>\n",
       "      <td>0</td>\n",
       "      <td>1</td>\n",
       "      <td>267</td>\n",
       "      <td>NaN</td>\n",
       "      <td>0829298-1</td>\n",
       "    </tr>\n",
       "    <tr>\n",
       "      <th>1</th>\n",
       "      <td>1</td>\n",
       "      <td>1</td>\n",
       "      <td>2</td>\n",
       "      <td>277</td>\n",
       "      <td>NaN</td>\n",
       "      <td>0709890-1</td>\n",
       "    </tr>\n",
       "    <tr>\n",
       "      <th>2</th>\n",
       "      <td>2</td>\n",
       "      <td>2</td>\n",
       "      <td>3</td>\n",
       "      <td>2</td>\n",
       "      <td>NaN</td>\n",
       "      <td>0786481-7</td>\n",
       "    </tr>\n",
       "    <tr>\n",
       "      <th>3</th>\n",
       "      <td>3</td>\n",
       "      <td>3</td>\n",
       "      <td>4</td>\n",
       "      <td>23</td>\n",
       "      <td>NaN</td>\n",
       "      <td>2793009-2</td>\n",
       "    </tr>\n",
       "    <tr>\n",
       "      <th>4</th>\n",
       "      <td>4</td>\n",
       "      <td>4</td>\n",
       "      <td>5</td>\n",
       "      <td>25</td>\n",
       "      <td>NaN</td>\n",
       "      <td>3675788-8</td>\n",
       "    </tr>\n",
       "  </tbody>\n",
       "</table>\n",
       "</div>"
      ],
      "text/plain": [
       "   level_0  index       vendor_id tca_sync_num_1099 tca_sync_vat_reg_num\n",
       "0        0      0    1        267               NaN            0829298-1\n",
       "1        1      1    2        277               NaN            0709890-1\n",
       "2        2      2    3          2               NaN            0786481-7\n",
       "3        3      3    4         23               NaN            2793009-2\n",
       "4        4      4    5         25               NaN            3675788-8"
      ]
     },
     "execution_count": 90,
     "metadata": {},
     "output_type": "execute_result"
    }
   ],
   "source": [
    "fbrNTN = np.array(fbrList[fbrList.NTN.apply(len) == 9]['NTN'])\n",
    "fbrCNIC = np.array(fbrList[fbrList.NTN.apply(len) == 13]['NTN'])"
   ]
  },
  {
   "cell_type": "code",
   "execution_count": 78,
   "id": "a5b0bd00",
   "metadata": {},
   "outputs": [
    {
     "data": {
      "text/plain": [
       "['Part1', 'Part2']"
      ]
     },
     "execution_count": 78,
     "metadata": {},
     "output_type": "execute_result"
    }
   ],
   "source": []
  },
  {
   "cell_type": "code",
   "execution_count": null,
   "id": "b6d5f67e",
   "metadata": {},
   "outputs": [],
   "source": [
    "fbrNTN = np.array(fbrList[fbrList.NTN.apply(len) == 9]['NTN'])\n",
    "fbrCNIC = np.array(fbrList[fbrList.NTN.apply(len) == 13]['NTN'])"
   ]
  },
  {
   "cell_type": "code",
   "execution_count": 36,
   "id": "71405bc7",
   "metadata": {},
   "outputs": [],
   "source": []
  },
  {
   "cell_type": "code",
   "execution_count": 42,
   "id": "5f6cdb14",
   "metadata": {},
   "outputs": [
    {
     "data": {
      "text/html": [
       "<div>\n",
       "<style scoped>\n",
       "    .dataframe tbody tr th:only-of-type {\n",
       "        vertical-align: middle;\n",
       "    }\n",
       "\n",
       "    .dataframe tbody tr th {\n",
       "        vertical-align: top;\n",
       "    }\n",
       "\n",
       "    .dataframe thead th {\n",
       "        text-align: right;\n",
       "    }\n",
       "</style>\n",
       "<table border=\"1\" class=\"dataframe\">\n",
       "  <thead>\n",
       "    <tr style=\"text-align: right;\">\n",
       "      <th></th>\n",
       "      <th>vendor</th>\n",
       "      <th>cnic</th>\n",
       "      <th>cat</th>\n",
       "    </tr>\n",
       "    <tr>\n",
       "      <th>sno</th>\n",
       "      <th></th>\n",
       "      <th></th>\n",
       "      <th></th>\n",
       "    </tr>\n",
       "  </thead>\n",
       "  <tbody>\n",
       "    <tr>\n",
       "      <th>1</th>\n",
       "      <td>267</td>\n",
       "      <td>NaN</td>\n",
       "      <td>0829298-1</td>\n",
       "    </tr>\n",
       "    <tr>\n",
       "      <th>2</th>\n",
       "      <td>277</td>\n",
       "      <td>NaN</td>\n",
       "      <td>0709890-1</td>\n",
       "    </tr>\n",
       "    <tr>\n",
       "      <th>3</th>\n",
       "      <td>2</td>\n",
       "      <td>NaN</td>\n",
       "      <td>0786481-7</td>\n",
       "    </tr>\n",
       "    <tr>\n",
       "      <th>4</th>\n",
       "      <td>23</td>\n",
       "      <td>NaN</td>\n",
       "      <td>2793009-2</td>\n",
       "    </tr>\n",
       "    <tr>\n",
       "      <th>5</th>\n",
       "      <td>25</td>\n",
       "      <td>NaN</td>\n",
       "      <td>3675788-8</td>\n",
       "    </tr>\n",
       "  </tbody>\n",
       "</table>\n",
       "</div>"
      ],
      "text/plain": [
       "     vendor cnic        cat\n",
       "sno                        \n",
       "1       267  NaN  0829298-1\n",
       "2       277  NaN  0709890-1\n",
       "3         2  NaN  0786481-7\n",
       "4        23  NaN  2793009-2\n",
       "5        25  NaN  3675788-8"
      ]
     },
     "execution_count": 42,
     "metadata": {},
     "output_type": "execute_result"
    }
   ],
   "source": [
    "hblList = pd.read_excel('VendorList.xlsx')\n",
    "hblList.columns = ['sno','vendor','cnic','cat']\n",
    "hblList.set_index('sno', inplace=True)\n",
    "hblList.head()"
   ]
  },
  {
   "cell_type": "code",
   "execution_count": null,
   "id": "8644075b",
   "metadata": {},
   "outputs": [],
   "source": []
  },
  {
   "cell_type": "code",
   "execution_count": null,
   "id": "d6bcb933",
   "metadata": {},
   "outputs": [],
   "source": [
    "hblList['cnic_length'] = hblList['cnic'].str.len()\n",
    "hblList['vat_length'] = hblList['vat'].str.len()\n",
    "hblList.head()"
   ]
  },
  {
   "cell_type": "code",
   "execution_count": null,
   "id": "d0314f51",
   "metadata": {},
   "outputs": [],
   "source": [
    "df_cnic[df_cnic.ntn.apply(len) != 13]"
   ]
  },
  {
   "cell_type": "code",
   "execution_count": null,
   "id": "2be8b4b5",
   "metadata": {},
   "outputs": [],
   "source": [
    "bank_ntn = np.array(df_ntn.ntn)\n",
    "bank_cnic = np.array(df_cnic.ntn)"
   ]
  },
  {
   "cell_type": "code",
   "execution_count": null,
   "id": "0ac0ff00",
   "metadata": {},
   "outputs": [],
   "source": [
    "np.in1d(bank_ntn, bank_cnic)"
   ]
  },
  {
   "cell_type": "code",
   "execution_count": null,
   "id": "922d9e69",
   "metadata": {},
   "outputs": [],
   "source": [
    "def CleanText(value):\n",
    "    if '-' in value:\n",
    "        return value.split('-')[0]+value.split('-')[1]\n",
    "    \n",
    "print(CleanText(aa))\n",
    "\n",
    "CleanText(hblList.iloc[:, 2])\n",
    "hblList[\"vat\"].agg(CleanText)\n",
    "# hblList.head()"
   ]
  },
  {
   "cell_type": "code",
   "execution_count": null,
   "id": "8cbdb637",
   "metadata": {},
   "outputs": [],
   "source": [
    "hblList['vat'].str.replace('-', '')"
   ]
  },
  {
   "cell_type": "code",
   "execution_count": null,
   "id": "5a63206e",
   "metadata": {},
   "outputs": [],
   "source": [
    "hblVatList = hblList[hblList['vat_length'] == 9]['vat']\n",
    "hblCnicList = hblList[hblList['cnic_length'] == 15]['cnic']"
   ]
  },
  {
   "cell_type": "code",
   "execution_count": null,
   "id": "b1fbd455",
   "metadata": {},
   "outputs": [],
   "source": [
    "aa = '0829298-1'\n",
    "if '-' in aa:\n",
    "    print(aa.split('-')[0]+aa.split('-')[1] )\n",
    "else:\n",
    "    print('y')"
   ]
  },
  {
   "cell_type": "code",
   "execution_count": null,
   "id": "ba52a80d",
   "metadata": {},
   "outputs": [],
   "source": [
    "hblList.loc[:,'vat']"
   ]
  }
 ],
 "metadata": {
  "kernelspec": {
   "display_name": "Python 3 (ipykernel)",
   "language": "python",
   "name": "python3"
  },
  "language_info": {
   "codemirror_mode": {
    "name": "ipython",
    "version": 3
   },
   "file_extension": ".py",
   "mimetype": "text/x-python",
   "name": "python",
   "nbconvert_exporter": "python",
   "pygments_lexer": "ipython3",
   "version": "3.9.12"
  }
 },
 "nbformat": 4,
 "nbformat_minor": 5
}
