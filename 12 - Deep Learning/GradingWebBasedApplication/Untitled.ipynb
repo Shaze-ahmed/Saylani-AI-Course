{
 "cells": [
  {
   "cell_type": "code",
   "execution_count": 1,
   "id": "37ec2394",
   "metadata": {},
   "outputs": [],
   "source": [
    "import streamlit as st\n",
    "import numpy as np\n",
    "import pandas as pd\n",
    "from tensorflow.keras.models import Sequential\n",
    "from tensorflow.keras.layers import Dense\n",
    "from tensorflow.keras.optimizers import Adam, SGD\n",
    "import tensorflow as tf"
   ]
  },
  {
   "cell_type": "code",
   "execution_count": 2,
   "id": "59bc3ecd",
   "metadata": {},
   "outputs": [
    {
     "name": "stderr",
     "output_type": "stream",
     "text": [
      "2022-11-29 21:31:47.466 \n",
      "  \u001b[33m\u001b[1mWarning:\u001b[0m to view this Streamlit app on a browser, run it with the following\n",
      "  command:\n",
      "\n",
      "    streamlit run C:\\Users\\shaze\\anaconda3\\lib\\site-packages\\ipykernel_launcher.py [ARGUMENTS]\n"
     ]
    },
    {
     "data": {
      "text/plain": [
       "DeltaGenerator(_root_container=0, _provided_cursor=None, _parent=None, _block_type=None, _form_data=None)"
      ]
     },
     "execution_count": 2,
     "metadata": {},
     "output_type": "execute_result"
    }
   ],
   "source": [
    "st.title(\"Grading Application\")"
   ]
  },
  {
   "cell_type": "code",
   "execution_count": 3,
   "id": "df7b4d34",
   "metadata": {},
   "outputs": [],
   "source": [
    "with st.form(\"my_form\"):\n",
    "   st.write(\"Grading Application\")\n",
    "   s1 = st.number_input(\"Subjec1:\")\n",
    "   s2 = st.number_input(\"Subjec2:\")\n",
    "   s3 = st.number_input(\"Subjec3:\")\n",
    "   s4 = st.number_input(\"Subjec4:\")\n",
    "   s5 = st.number_input(\"Subjec5:\")\n",
    "   # Every form must have a submit button.\n",
    "   submitted = st.form_submit_button(\"Predict Grade\")\n",
    "   \n",
    "   if submitted:\n",
    "       st.write(\"Total Marsk\" , 500, \"Obtained Marks\", s1+s2+s3+s4+s5)\n",
    "       x = [[s1,s2,s3,s4,s5]]# input\n",
    "       output = labels.take(np.argmax(m1.predict(x), axis=1))\n",
    "       st.write(\"Predicted Grade:\",output)\n",
    "\n",
    "st.write(\"Outside the form\")"
   ]
  },
  {
   "cell_type": "code",
   "execution_count": null,
   "id": "3f86d022",
   "metadata": {},
   "outputs": [],
   "source": []
  }
 ],
 "metadata": {
  "kernelspec": {
   "display_name": "Python 3 (ipykernel)",
   "language": "python",
   "name": "python3"
  },
  "language_info": {
   "codemirror_mode": {
    "name": "ipython",
    "version": 3
   },
   "file_extension": ".py",
   "mimetype": "text/x-python",
   "name": "python",
   "nbconvert_exporter": "python",
   "pygments_lexer": "ipython3",
   "version": "3.9.12"
  }
 },
 "nbformat": 4,
 "nbformat_minor": 5
}
